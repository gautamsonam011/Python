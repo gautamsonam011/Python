{
 "cells": [
  {
   "cell_type": "markdown",
   "id": "38b8a209",
   "metadata": {},
   "source": [
    "# Exception Handle"
   ]
  },
  {
   "cell_type": "code",
   "execution_count": 4,
   "id": "cbe95d50",
   "metadata": {},
   "outputs": [
    {
     "name": "stdout",
     "output_type": "stream",
     "text": [
      "This operation is not perform\n"
     ]
    }
   ],
   "source": [
    "try:\n",
    "    div = 5/0\n",
    "    print(div)\n",
    "except ArithmeticError:\n",
    "    print(\"This operation is not perform\")\n",
    "else:\n",
    "    print(\"Thanks\")\n",
    "    "
   ]
  },
  {
   "cell_type": "code",
   "execution_count": 5,
   "id": "30a269cb",
   "metadata": {},
   "outputs": [
    {
     "name": "stdout",
     "output_type": "stream",
     "text": [
      "2.5\n",
      "Thanks\n"
     ]
    }
   ],
   "source": [
    "try:\n",
    "    div = 5/2\n",
    "    print(div)\n",
    "except ArithmeticError:\n",
    "    print(\"This operation is not perform\")\n",
    "else:\n",
    "    print(\"Thanks\")"
   ]
  },
  {
   "cell_type": "code",
   "execution_count": 7,
   "id": "adaaaf1a",
   "metadata": {},
   "outputs": [
    {
     "name": "stdout",
     "output_type": "stream",
     "text": [
      "2.5\n",
      "Thanks\n",
      "This blog is always Execute\n"
     ]
    }
   ],
   "source": [
    "# Finally\n",
    "\n",
    "try:\n",
    "    div = 5/2\n",
    "    print(div)\n",
    "except ArithmeticError:\n",
    "    print(\"This operation is not perform\")\n",
    "else:\n",
    "    print(\"Thanks\")\n",
    "finally:\n",
    "    print(\"This blog is always Execute\")\n"
   ]
  },
  {
   "cell_type": "markdown",
   "id": "1c208086",
   "metadata": {},
   "source": [
    "# ArithmeticError"
   ]
  },
  {
   "cell_type": "code",
   "execution_count": 10,
   "id": "3bd8c105",
   "metadata": {},
   "outputs": [
    {
     "name": "stdout",
     "output_type": "stream",
     "text": [
      "Arithmetic exception raised\n"
     ]
    }
   ],
   "source": [
    "try:\n",
    "    sum = 3/0\n",
    "    print(sum)\n",
    "except ArithmeticError:\n",
    "    print(\"Arithmetic exception raised\")\n",
    "else:\n",
    "    print(\"Success\")"
   ]
  },
  {
   "cell_type": "code",
   "execution_count": 11,
   "id": "090caf81",
   "metadata": {},
   "outputs": [
    {
     "name": "stdout",
     "output_type": "stream",
     "text": [
      "1.5\n",
      "Success\n"
     ]
    }
   ],
   "source": [
    "try:\n",
    "    div = 3/2\n",
    "    print(div)\n",
    "except ArithmeticError:\n",
    "    print(\"Arithmetic exception raised\")\n",
    "else:\n",
    "    print(\"Success\")"
   ]
  },
  {
   "cell_type": "markdown",
   "id": "a1c61835",
   "metadata": {},
   "source": [
    "# ImportError"
   ]
  },
  {
   "cell_type": "code",
   "execution_count": 13,
   "id": "d5b7d1d5",
   "metadata": {},
   "outputs": [
    {
     "name": "stdout",
     "output_type": "stream",
     "text": [
      "Import valid module\n"
     ]
    }
   ],
   "source": [
    "try:\n",
    "    import This\n",
    "except ImportError:\n",
    "    print(\"Import valid module\")"
   ]
  },
  {
   "cell_type": "markdown",
   "id": "b96a25c1",
   "metadata": {},
   "source": [
    "# NameError"
   ]
  },
  {
   "cell_type": "code",
   "execution_count": 14,
   "id": "bde969fa",
   "metadata": {},
   "outputs": [
    {
     "ename": "NameError",
     "evalue": "name 'b' is not defined",
     "output_type": "error",
     "traceback": [
      "\u001b[1;31m---------------------------------------------------------------------------\u001b[0m",
      "\u001b[1;31mNameError\u001b[0m                                 Traceback (most recent call last)",
      "Cell \u001b[1;32mIn[14], line 2\u001b[0m\n\u001b[0;32m      1\u001b[0m a \u001b[38;5;241m=\u001b[39m \u001b[38;5;124m\"\u001b[39m\u001b[38;5;124mHey\u001b[39m\u001b[38;5;124m\"\u001b[39m\n\u001b[1;32m----> 2\u001b[0m \u001b[38;5;28mprint\u001b[39m(\u001b[43mb\u001b[49m)\n",
      "\u001b[1;31mNameError\u001b[0m: name 'b' is not defined"
     ]
    }
   ],
   "source": [
    "a = \"Hey\"\n",
    "print(b)"
   ]
  },
  {
   "cell_type": "code",
   "execution_count": 15,
   "id": "9b77074b",
   "metadata": {},
   "outputs": [
    {
     "name": "stdout",
     "output_type": "stream",
     "text": [
      "Caught NameError\n"
     ]
    }
   ],
   "source": [
    "try:\n",
    "    a = \"Hii\"\n",
    "    print(b)\n",
    "except NameError:\n",
    "    print(\"Caught NameError\")"
   ]
  },
  {
   "cell_type": "markdown",
   "id": "435891cc",
   "metadata": {},
   "source": [
    "# KeyError"
   ]
  },
  {
   "cell_type": "code",
   "execution_count": 17,
   "id": "7ae70274",
   "metadata": {},
   "outputs": [
    {
     "ename": "KeyError",
     "evalue": "'d'",
     "output_type": "error",
     "traceback": [
      "\u001b[1;31m---------------------------------------------------------------------------\u001b[0m",
      "\u001b[1;31mKeyError\u001b[0m                                  Traceback (most recent call last)",
      "Cell \u001b[1;32mIn[17], line 2\u001b[0m\n\u001b[0;32m      1\u001b[0m abc \u001b[38;5;241m=\u001b[39m {\u001b[38;5;124m'\u001b[39m\u001b[38;5;124ma\u001b[39m\u001b[38;5;124m'\u001b[39m:\u001b[38;5;241m1\u001b[39m,\u001b[38;5;124m'\u001b[39m\u001b[38;5;124mb\u001b[39m\u001b[38;5;124m'\u001b[39m:\u001b[38;5;241m2\u001b[39m,\u001b[38;5;124m'\u001b[39m\u001b[38;5;124mc\u001b[39m\u001b[38;5;124m'\u001b[39m:\u001b[38;5;241m3\u001b[39m,}\n\u001b[1;32m----> 2\u001b[0m \u001b[38;5;28mprint\u001b[39m(\u001b[43mabc\u001b[49m\u001b[43m[\u001b[49m\u001b[38;5;124;43m'\u001b[39;49m\u001b[38;5;124;43md\u001b[39;49m\u001b[38;5;124;43m'\u001b[39;49m\u001b[43m]\u001b[49m)\n",
      "\u001b[1;31mKeyError\u001b[0m: 'd'"
     ]
    }
   ],
   "source": [
    "abc = {'a':1,'b':2,'c':3,}\n",
    "print(abc['d'])"
   ]
  },
  {
   "cell_type": "code",
   "execution_count": 18,
   "id": "74cfdeb0",
   "metadata": {},
   "outputs": [
    {
     "name": "stdout",
     "output_type": "stream",
     "text": [
      "Caught KeyboardInterrupt\n"
     ]
    }
   ],
   "source": [
    "try:\n",
    "    dict = {'name':'Sona','age':23,'address':'Delhi'}\n",
    "    print(dict['salary'])\n",
    "except KeyError:\n",
    "    print(\"Caught KeyboardInterrupt\")"
   ]
  },
  {
   "cell_type": "markdown",
   "id": "b85972cc",
   "metadata": {},
   "source": [
    "# File Handling:-\n",
    "# Open a File"
   ]
  },
  {
   "cell_type": "code",
   "execution_count": 21,
   "id": "84971241",
   "metadata": {},
   "outputs": [],
   "source": [
    "f = open(\"Set.txt\")     # open file in current directory\n",
    "#f = open(\"c:/desktop/Read.txt\") # specifying full path"
   ]
  },
  {
   "cell_type": "code",
   "execution_count": 22,
   "id": "dbc83e02",
   "metadata": {},
   "outputs": [],
   "source": [
    "with open(\"List.txt\",'w') as f:\n",
    "    f.write(\"welcome to \\n\")\n",
    "    f.write(\"Here\\n\\n\")\n",
    "    f.write(\"Delhi\")"
   ]
  },
  {
   "cell_type": "code",
   "execution_count": null,
   "id": "2296eeab",
   "metadata": {},
   "outputs": [],
   "source": []
  }
 ],
 "metadata": {
  "kernelspec": {
   "display_name": "Python 3 (ipykernel)",
   "language": "python",
   "name": "python3"
  },
  "language_info": {
   "codemirror_mode": {
    "name": "ipython",
    "version": 3
   },
   "file_extension": ".py",
   "mimetype": "text/x-python",
   "name": "python",
   "nbconvert_exporter": "python",
   "pygments_lexer": "ipython3",
   "version": "3.11.1"
  }
 },
 "nbformat": 4,
 "nbformat_minor": 5
}
