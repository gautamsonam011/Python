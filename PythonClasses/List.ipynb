{
 "cells": [
  {
   "cell_type": "markdown",
   "id": "9e2f064f",
   "metadata": {},
   "source": [
    "# List:-"
   ]
  },
  {
   "cell_type": "code",
   "execution_count": 1,
   "id": "3ce6b907",
   "metadata": {},
   "outputs": [
    {
     "name": "stdout",
     "output_type": "stream",
     "text": [
      "[]\n"
     ]
    },
    {
     "data": {
      "text/plain": [
       "list"
      ]
     },
     "execution_count": 1,
     "metadata": {},
     "output_type": "execute_result"
    }
   ],
   "source": [
    "# Empty list\n",
    "\n",
    "l = []\n",
    "print(l)\n",
    "type(l)"
   ]
  },
  {
   "cell_type": "code",
   "execution_count": 2,
   "id": "419f3011",
   "metadata": {},
   "outputs": [
    {
     "name": "stdout",
     "output_type": "stream",
     "text": [
      "[2, 3, 4, 54, 13]\n"
     ]
    }
   ],
   "source": [
    "l = [2,3,4,54,13]\n",
    "print(l)"
   ]
  },
  {
   "cell_type": "code",
   "execution_count": 3,
   "id": "6d2777cd",
   "metadata": {},
   "outputs": [
    {
     "name": "stdout",
     "output_type": "stream",
     "text": [
      "['a', 'b', '56']\n"
     ]
    }
   ],
   "source": [
    "l = [\"a\",\"b\",\"56\"]\n",
    "print(l)"
   ]
  },
  {
   "cell_type": "code",
   "execution_count": 4,
   "id": "bdcee429",
   "metadata": {},
   "outputs": [
    {
     "name": "stdout",
     "output_type": "stream",
     "text": [
      "[23, 35, 65, 'python', 'ML', 89.76, -45]\n"
     ]
    }
   ],
   "source": [
    "l = [23,35,65,'python',\"ML\",89.76,-45]\n",
    "print(l)"
   ]
  },
  {
   "cell_type": "code",
   "execution_count": 6,
   "id": "ceec3052",
   "metadata": {},
   "outputs": [
    {
     "name": "stdout",
     "output_type": "stream",
     "text": [
      "37\n"
     ]
    }
   ],
   "source": [
    "# Access Element Of List\n",
    "\n",
    "l = ['fg',45,37,7.8]\n",
    "print(l[2])"
   ]
  },
  {
   "cell_type": "code",
   "execution_count": 7,
   "id": "a9d3fef4",
   "metadata": {},
   "outputs": [
    {
     "name": "stdout",
     "output_type": "stream",
     "text": [
      "hello\n"
     ]
    }
   ],
   "source": [
    "list1 = [34,23,[34,\"hello\"],86,True]\n",
    "print(list1[2][1])"
   ]
  },
  {
   "cell_type": "code",
   "execution_count": 8,
   "id": "053d517b",
   "metadata": {},
   "outputs": [],
   "source": [
    "# Slicing Of List\n",
    "list1 = [34,23,34,\"hello\",86,True]"
   ]
  },
  {
   "cell_type": "code",
   "execution_count": 9,
   "id": "d6e31e4a",
   "metadata": {},
   "outputs": [
    {
     "name": "stdout",
     "output_type": "stream",
     "text": [
      "[34, 23, 34]\n"
     ]
    }
   ],
   "source": [
    "print(list1[:3])"
   ]
  },
  {
   "cell_type": "code",
   "execution_count": 10,
   "id": "0b1b2252",
   "metadata": {},
   "outputs": [
    {
     "name": "stdout",
     "output_type": "stream",
     "text": [
      "[86, True]\n"
     ]
    }
   ],
   "source": [
    "print(list1[4:])"
   ]
  },
  {
   "cell_type": "code",
   "execution_count": 11,
   "id": "39b58133",
   "metadata": {},
   "outputs": [
    {
     "name": "stdout",
     "output_type": "stream",
     "text": [
      "[34, 23, 34, 'hello', 86, True]\n"
     ]
    }
   ],
   "source": [
    "print(list1[:])"
   ]
  },
  {
   "cell_type": "code",
   "execution_count": 12,
   "id": "9c62bee6",
   "metadata": {},
   "outputs": [
    {
     "name": "stdout",
     "output_type": "stream",
     "text": [
      "[34, 'hello']\n"
     ]
    }
   ],
   "source": [
    "print(list1[2:4])"
   ]
  },
  {
   "cell_type": "code",
   "execution_count": 13,
   "id": "aae70d7d",
   "metadata": {},
   "outputs": [
    {
     "name": "stdout",
     "output_type": "stream",
     "text": [
      "1\n",
      "2\n",
      "3\n",
      "4\n",
      "5\n"
     ]
    }
   ],
   "source": [
    "# Iterating in List:------>\n",
    "list1 = [1,2,3,4,5]\n",
    "for a in list1:\n",
    "    print(a)"
   ]
  },
  {
   "cell_type": "markdown",
   "id": "414b7cd1",
   "metadata": {},
   "source": [
    "# List Methods:-"
   ]
  },
  {
   "cell_type": "code",
   "execution_count": 14,
   "id": "e6d70da8",
   "metadata": {},
   "outputs": [
    {
     "name": "stdout",
     "output_type": "stream",
     "text": [
      "[1, 2, 3, 4, 5, 40]\n"
     ]
    }
   ],
   "source": [
    "# append()----> The append() method adds a single item to the existing list.\n",
    "# Syntax:-\n",
    "#list.append(item)\n",
    "\n",
    "l = [1,2,3,4,5]\n",
    "l.append(40)\n",
    "print(l)"
   ]
  },
  {
   "cell_type": "code",
   "execution_count": 15,
   "id": "f0870ea3",
   "metadata": {},
   "outputs": [
    {
     "name": "stdout",
     "output_type": "stream",
     "text": [
      "[1, 2, 3, 4, 5, 6, 7, 8, 9, 10]\n"
     ]
    }
   ],
   "source": [
    "# extend()----> The extend() method adds items to list.\n",
    "# Syntax:-\n",
    "#      list1.extend(list2)\n",
    "\n",
    "list1 = [1,2,3,4,5]\n",
    "list1.extend([6,7,8,9,10])\n",
    "print(list1)"
   ]
  },
  {
   "cell_type": "code",
   "execution_count": 16,
   "id": "1c374bd3",
   "metadata": {},
   "outputs": [
    {
     "name": "stdout",
     "output_type": "stream",
     "text": [
      "[1, 2, 67, 3]\n"
     ]
    }
   ],
   "source": [
    "# insert()---->\n",
    "lst = [1,2,3]\n",
    "lst.insert(2,67)\n",
    "print(lst)"
   ]
  },
  {
   "cell_type": "code",
   "execution_count": 17,
   "id": "2f677e59",
   "metadata": {},
   "outputs": [
    {
     "name": "stdout",
     "output_type": "stream",
     "text": [
      "[1, 2, 4, 5]\n"
     ]
    }
   ],
   "source": [
    "# remove()--------->\n",
    "\n",
    "l = [1,2,3,4,5]\n",
    "l.remove(3)\n",
    "print(l)"
   ]
  },
  {
   "cell_type": "code",
   "execution_count": 18,
   "id": "875c312a",
   "metadata": {},
   "outputs": [
    {
     "ename": "ValueError",
     "evalue": "list.remove(x): x not in list",
     "output_type": "error",
     "traceback": [
      "\u001b[1;31m---------------------------------------------------------------------------\u001b[0m",
      "\u001b[1;31mValueError\u001b[0m                                Traceback (most recent call last)",
      "Cell \u001b[1;32mIn[18], line 2\u001b[0m\n\u001b[0;32m      1\u001b[0m l \u001b[38;5;241m=\u001b[39m [\u001b[38;5;241m1\u001b[39m,\u001b[38;5;241m2\u001b[39m,\u001b[38;5;241m3\u001b[39m,\u001b[38;5;241m4\u001b[39m,\u001b[38;5;241m5\u001b[39m,\u001b[38;5;241m643\u001b[39m,\u001b[38;5;241m22\u001b[39m]\n\u001b[1;32m----> 2\u001b[0m \u001b[43ml\u001b[49m\u001b[38;5;241;43m.\u001b[39;49m\u001b[43mremove\u001b[49m\u001b[43m(\u001b[49m\u001b[38;5;241;43m35\u001b[39;49m\u001b[43m)\u001b[49m\n\u001b[0;32m      3\u001b[0m \u001b[38;5;28mprint\u001b[39m(l)\n",
      "\u001b[1;31mValueError\u001b[0m: list.remove(x): x not in list"
     ]
    }
   ],
   "source": [
    "l = [1,2,3,4,5,643,22]\n",
    "l.remove(35)\n",
    "print(l)"
   ]
  },
  {
   "cell_type": "code",
   "execution_count": 19,
   "id": "fe2d5040",
   "metadata": {},
   "outputs": [
    {
     "name": "stdout",
     "output_type": "stream",
     "text": [
      "[23, 45, 67, 'python', -45]\n"
     ]
    }
   ],
   "source": [
    "# pop()--------------->\n",
    "\n",
    "l = [23,45,67,23,'python',-45]\n",
    "l.pop(3)\n",
    "print(l)"
   ]
  },
  {
   "cell_type": "code",
   "execution_count": 20,
   "id": "c512b47a",
   "metadata": {},
   "outputs": [
    {
     "name": "stdout",
     "output_type": "stream",
     "text": [
      "[]\n"
     ]
    }
   ],
   "source": [
    "# clear()-------->\n",
    "list = [23,45,77,89]\n",
    "list.clear()\n",
    "print(list)"
   ]
  },
  {
   "cell_type": "code",
   "execution_count": null,
   "id": "8ef392d4",
   "metadata": {},
   "outputs": [],
   "source": []
  }
 ],
 "metadata": {
  "kernelspec": {
   "display_name": "Python 3 (ipykernel)",
   "language": "python",
   "name": "python3"
  },
  "language_info": {
   "codemirror_mode": {
    "name": "ipython",
    "version": 3
   },
   "file_extension": ".py",
   "mimetype": "text/x-python",
   "name": "python",
   "nbconvert_exporter": "python",
   "pygments_lexer": "ipython3",
   "version": "3.11.1"
  }
 },
 "nbformat": 4,
 "nbformat_minor": 5
}
