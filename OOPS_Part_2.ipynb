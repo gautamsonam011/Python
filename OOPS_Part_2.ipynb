{
 "cells": [
  {
   "cell_type": "markdown",
   "id": "0225045c",
   "metadata": {},
   "source": [
    "# Encapsulation:- \n",
    "#1:- This is hide data from user.\n",
    "#Three access modifiers :-\n",
    "#1:- Public\n",
    "#2:- Private\n",
    "#3:- Protected"
   ]
  },
  {
   "cell_type": "code",
   "execution_count": 1,
   "id": "b7679f7d",
   "metadata": {},
   "outputs": [
    {
     "data": {
      "text/plain": [
       "4"
      ]
     },
     "execution_count": 1,
     "metadata": {},
     "output_type": "execute_result"
    }
   ],
   "source": [
    "class x:\n",
    "    def fun(self,a):\n",
    "        return a\n",
    "s = x()\n",
    "s.fun(4)"
   ]
  },
  {
   "cell_type": "code",
   "execution_count": 2,
   "id": "2a933153",
   "metadata": {},
   "outputs": [
    {
     "data": {
      "text/plain": [
       "10"
      ]
     },
     "execution_count": 2,
     "metadata": {},
     "output_type": "execute_result"
    }
   ],
   "source": [
    "# Public------------->\n",
    "class add:\n",
    "    def fun(self,a,b):\n",
    "        return a+b\n",
    "a = add()\n",
    "a.fun(4,6)\n",
    "        "
   ]
  },
  {
   "cell_type": "code",
   "execution_count": 4,
   "id": "bcb59641",
   "metadata": {},
   "outputs": [
    {
     "data": {
      "text/plain": [
       "10"
      ]
     },
     "execution_count": 4,
     "metadata": {},
     "output_type": "execute_result"
    }
   ],
   "source": [
    "class add1:\n",
    "    def fun(self,a,b):\n",
    "        return a+b\n",
    "    def fun1(self,c):\n",
    "        return c\n",
    "a = add1()\n",
    "a.fun(4,6)"
   ]
  },
  {
   "cell_type": "code",
   "execution_count": 5,
   "id": "e431118a",
   "metadata": {},
   "outputs": [
    {
     "data": {
      "text/plain": [
       "4"
      ]
     },
     "execution_count": 5,
     "metadata": {},
     "output_type": "execute_result"
    }
   ],
   "source": [
    "a.fun1(4)"
   ]
  },
  {
   "cell_type": "code",
   "execution_count": 6,
   "id": "7aa44108",
   "metadata": {},
   "outputs": [
    {
     "data": {
      "text/plain": [
       "10"
      ]
     },
     "execution_count": 6,
     "metadata": {},
     "output_type": "execute_result"
    }
   ],
   "source": [
    "# Private-------------------->\n",
    "class add1:\n",
    "    def fun(self,a,b):\n",
    "        return a+b\n",
    "    def __fun1(self,c):    # fun1 is private\n",
    "        return c\n",
    "a = add1()\n",
    "a.fun(4,6)"
   ]
  },
  {
   "cell_type": "code",
   "execution_count": 7,
   "id": "0d6dd1a4",
   "metadata": {},
   "outputs": [
    {
     "ename": "AttributeError",
     "evalue": "'add1' object has no attribute 'fun1'",
     "output_type": "error",
     "traceback": [
      "\u001b[1;31m---------------------------------------------------------------------------\u001b[0m",
      "\u001b[1;31mAttributeError\u001b[0m                            Traceback (most recent call last)",
      "Cell \u001b[1;32mIn[7], line 1\u001b[0m\n\u001b[1;32m----> 1\u001b[0m \u001b[43ma\u001b[49m\u001b[38;5;241;43m.\u001b[39;49m\u001b[43mfun1\u001b[49m(\u001b[38;5;241m6\u001b[39m)\n",
      "\u001b[1;31mAttributeError\u001b[0m: 'add1' object has no attribute 'fun1'"
     ]
    }
   ],
   "source": [
    "a.fun1(6)"
   ]
  },
  {
   "cell_type": "code",
   "execution_count": 10,
   "id": "e06aaef0",
   "metadata": {},
   "outputs": [
    {
     "data": {
      "text/plain": [
       "10"
      ]
     },
     "execution_count": 10,
     "metadata": {},
     "output_type": "execute_result"
    }
   ],
   "source": [
    "class add2:\n",
    "    def fun(self,a,b):\n",
    "        return a+b\n",
    "    def __fun2__(self,c):    # __fun2__ is public\n",
    "        return c\n",
    "a = add2()\n",
    "a.fun(4,6)"
   ]
  },
  {
   "cell_type": "code",
   "execution_count": 12,
   "id": "c5ded967",
   "metadata": {},
   "outputs": [
    {
     "data": {
      "text/plain": [
       "9"
      ]
     },
     "execution_count": 12,
     "metadata": {},
     "output_type": "execute_result"
    }
   ],
   "source": [
    "a.__fun2__(9)"
   ]
  },
  {
   "cell_type": "code",
   "execution_count": 22,
   "id": "636ff93b",
   "metadata": {},
   "outputs": [
    {
     "data": {
      "text/plain": [
       "<__main__.add2 at 0x17f340d2050>"
      ]
     },
     "execution_count": 22,
     "metadata": {},
     "output_type": "execute_result"
    }
   ],
   "source": [
    "class x:\n",
    "    def fun(self,__a):\n",
    "        return a\n",
    "s = x()\n",
    "s.fun(6)\n",
    "    "
   ]
  },
  {
   "cell_type": "code",
   "execution_count": 15,
   "id": "fdb4ec44",
   "metadata": {},
   "outputs": [
    {
     "data": {
      "text/plain": [
       "5"
      ]
     },
     "execution_count": 15,
     "metadata": {},
     "output_type": "execute_result"
    }
   ],
   "source": [
    "class x:\n",
    "    def fun1(self,__a):\n",
    "        return __a\n",
    "s = x()\n",
    "s.fun1(5)"
   ]
  },
  {
   "cell_type": "code",
   "execution_count": 23,
   "id": "97f57885",
   "metadata": {},
   "outputs": [
    {
     "data": {
      "text/plain": [
       "10"
      ]
     },
     "execution_count": 23,
     "metadata": {},
     "output_type": "execute_result"
    }
   ],
   "source": [
    "class pri:\n",
    "    a = 10\n",
    "    __b = 8\n",
    "c = pri()\n",
    "c.a"
   ]
  },
  {
   "cell_type": "code",
   "execution_count": 24,
   "id": "bd27281e",
   "metadata": {},
   "outputs": [
    {
     "ename": "AttributeError",
     "evalue": "'pri' object has no attribute '__b'",
     "output_type": "error",
     "traceback": [
      "\u001b[1;31m---------------------------------------------------------------------------\u001b[0m",
      "\u001b[1;31mAttributeError\u001b[0m                            Traceback (most recent call last)",
      "Cell \u001b[1;32mIn[24], line 1\u001b[0m\n\u001b[1;32m----> 1\u001b[0m \u001b[43mc\u001b[49m\u001b[38;5;241;43m.\u001b[39;49m\u001b[43m__b\u001b[49m\n",
      "\u001b[1;31mAttributeError\u001b[0m: 'pri' object has no attribute '__b'"
     ]
    }
   ],
   "source": [
    "c.__b"
   ]
  },
  {
   "cell_type": "code",
   "execution_count": 26,
   "id": "34e6c84a",
   "metadata": {},
   "outputs": [
    {
     "ename": "AttributeError",
     "evalue": "'privatefun' object has no attribute 'func'",
     "output_type": "error",
     "traceback": [
      "\u001b[1;31m---------------------------------------------------------------------------\u001b[0m",
      "\u001b[1;31mAttributeError\u001b[0m                            Traceback (most recent call last)",
      "Cell \u001b[1;32mIn[26], line 5\u001b[0m\n\u001b[0;32m      3\u001b[0m         \u001b[38;5;28;01mreturn\u001b[39;00m a\u001b[38;5;241m+\u001b[39mb\n\u001b[0;32m      4\u001b[0m p \u001b[38;5;241m=\u001b[39m privatefun()\n\u001b[1;32m----> 5\u001b[0m \u001b[43mp\u001b[49m\u001b[38;5;241;43m.\u001b[39;49m\u001b[43mfunc\u001b[49m(\u001b[38;5;241m5\u001b[39m,\u001b[38;5;241m7\u001b[39m)\n",
      "\u001b[1;31mAttributeError\u001b[0m: 'privatefun' object has no attribute 'func'"
     ]
    }
   ],
   "source": [
    "class privatefun:\n",
    "    def __func(self,a,b):\n",
    "        return a+b\n",
    "p = privatefun()\n",
    "p.func(5,7)"
   ]
  },
  {
   "cell_type": "code",
   "execution_count": 28,
   "id": "f90c0004",
   "metadata": {},
   "outputs": [
    {
     "data": {
      "text/plain": [
       "12"
      ]
     },
     "execution_count": 28,
     "metadata": {},
     "output_type": "execute_result"
    }
   ],
   "source": [
    "class privatefun:\n",
    "    def func(self,__a,__b):  # private variable does not support in fun\n",
    "        return __a+__b\n",
    "p = privatefun()\n",
    "p.func(5,7)"
   ]
  },
  {
   "cell_type": "code",
   "execution_count": 29,
   "id": "fa5fbe27",
   "metadata": {},
   "outputs": [
    {
     "data": {
      "text/plain": [
       "11"
      ]
     },
     "execution_count": 29,
     "metadata": {},
     "output_type": "execute_result"
    }
   ],
   "source": [
    "# Protected mode------------------>\n",
    "\n",
    "class fun:\n",
    "    def fun(self,a,b):\n",
    "        return a+b\n",
    "    def _fun1(self,c):\n",
    "        return c\n",
    "f = fun()\n",
    "f.fun(4,7)"
   ]
  },
  {
   "cell_type": "code",
   "execution_count": 30,
   "id": "f9b4d68d",
   "metadata": {},
   "outputs": [
    {
     "data": {
      "text/plain": [
       "8"
      ]
     },
     "execution_count": 30,
     "metadata": {},
     "output_type": "execute_result"
    }
   ],
   "source": [
    "f._fun1(8)"
   ]
  },
  {
   "cell_type": "code",
   "execution_count": 31,
   "id": "f25f4f1a",
   "metadata": {},
   "outputs": [
    {
     "ename": "AttributeError",
     "evalue": "'fun' object has no attribute 'fun1'",
     "output_type": "error",
     "traceback": [
      "\u001b[1;31m---------------------------------------------------------------------------\u001b[0m",
      "\u001b[1;31mAttributeError\u001b[0m                            Traceback (most recent call last)",
      "Cell \u001b[1;32mIn[31], line 1\u001b[0m\n\u001b[1;32m----> 1\u001b[0m \u001b[43mf\u001b[49m\u001b[38;5;241;43m.\u001b[39;49m\u001b[43mfun1\u001b[49m(\u001b[38;5;241m3\u001b[39m)\n",
      "\u001b[1;31mAttributeError\u001b[0m: 'fun' object has no attribute 'fun1'"
     ]
    }
   ],
   "source": [
    "f.fun1(3)"
   ]
  },
  {
   "cell_type": "code",
   "execution_count": 34,
   "id": "6c0f6d3c",
   "metadata": {},
   "outputs": [
    {
     "data": {
      "text/plain": [
       "62.0"
      ]
     },
     "execution_count": 34,
     "metadata": {},
     "output_type": "execute_result"
    }
   ],
   "source": [
    "# wap to find the average marks of a student in 3 subjects using inheritance.\n",
    "# and for finding the avg marks make a function for avg marks\n",
    "# and try to the output of the code.\n",
    "\n",
    "class student:\n",
    "    def __init__(self,mark1,mark2):\n",
    "        self.mark1 = mark1\n",
    "        self.mark2 = mark2\n",
    "    \n",
    "class student2(student):\n",
    "    def __init__(self,mark1,mark2,mark3):\n",
    "        super().__init__(mark1,mark2)\n",
    "        self.mark3 = mark3\n",
    "       \n",
    "    def avrg(self,):\n",
    "        avrg = (self.mark1+self.mark2+self.mark3)/2\n",
    "        return avrg\n",
    "        \n",
    "s = student2(34,25,65)\n",
    "s.avrg()"
   ]
  },
  {
   "cell_type": "code",
   "execution_count": null,
   "id": "1577403c",
   "metadata": {},
   "outputs": [],
   "source": []
  }
 ],
 "metadata": {
  "kernelspec": {
   "display_name": "Python 3 (ipykernel)",
   "language": "python",
   "name": "python3"
  },
  "language_info": {
   "codemirror_mode": {
    "name": "ipython",
    "version": 3
   },
   "file_extension": ".py",
   "mimetype": "text/x-python",
   "name": "python",
   "nbconvert_exporter": "python",
   "pygments_lexer": "ipython3",
   "version": "3.11.1"
  }
 },
 "nbformat": 4,
 "nbformat_minor": 5
}
