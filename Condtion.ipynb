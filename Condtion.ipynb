{
 "cells": [
  {
   "cell_type": "code",
   "execution_count": 3,
   "id": "6eff26f2",
   "metadata": {},
   "outputs": [
    {
     "name": "stdout",
     "output_type": "stream",
     "text": [
      "Rectangle\n"
     ]
    }
   ],
   "source": [
    "# Take values of length and breadth of a rectangle\n",
    "# from user and check if it is square or not.\n",
    "\n",
    "l = 6\n",
    "b = 4\n",
    "a = 2\n",
    "area_of_rect = l*b\n",
    "area_of_sq = a**2\n",
    "\n",
    "if area_of_rect == area_of_sq:\n",
    "    print(\"Square\")\n",
    "else:\n",
    "    print(\"Rectangle\")"
   ]
  },
  {
   "cell_type": "code",
   "execution_count": 4,
   "id": "f4e44458",
   "metadata": {},
   "outputs": [
    {
     "name": "stdout",
     "output_type": "stream",
     "text": [
      "Square\n"
     ]
    }
   ],
   "source": [
    "l = 2\n",
    "b = 2\n",
    "a = 2\n",
    "area_of_rect = l*b\n",
    "area_of_sq = a**2\n",
    "\n",
    "if area_of_rect == area_of_sq:\n",
    "    print(\"Square\")\n",
    "else:\n",
    "    print(\"Rectangle\")"
   ]
  },
  {
   "cell_type": "code",
   "execution_count": 7,
   "id": "f614f466",
   "metadata": {},
   "outputs": [
    {
     "name": "stdout",
     "output_type": "stream",
     "text": [
      "Enter the marks:67\n",
      "Grad B\n"
     ]
    }
   ],
   "source": [
    "# A school has following rules for grading system.\n",
    "# a. Below 25 -F\n",
    "# b. 25 to 45 -E\n",
    "# c. 45 to 50 -D\n",
    "# d. 50 to 60 -C\n",
    "# e. 60 to 80 -B\n",
    "# f. Above 80 -A\n",
    "# Ask user to enter marks and print the corresponding grad.\n",
    "\n",
    "mark = int(input(\"Enter the marks:\"))\n",
    "if mark >0 and mark<=25:\n",
    "    print(\"Grad F\")\n",
    "elif mark >25 and mark<=45:\n",
    "    print(\"Grad E\")\n",
    "elif mark >45 and mark <=50:\n",
    "    print(\"Grad D\")\n",
    "elif mark >50 and mark <=60:\n",
    "    print(\"Grad C\")\n",
    "elif mark >60 and mark <=80:\n",
    "    print(\"Grad B\")\n",
    "elif mark>80:\n",
    "    print(\"Grad A\")\n",
    "else:\n",
    "    print(\"No Found Grad\")"
   ]
  },
  {
   "cell_type": "code",
   "execution_count": 10,
   "id": "99dadb5a",
   "metadata": {},
   "outputs": [
    {
     "name": "stdout",
     "output_type": "stream",
     "text": [
      "Enter the number:79\n",
      "Not found\n"
     ]
    }
   ],
   "source": [
    "# Write a program fizz and buzz where the condition is if the number is\n",
    "# divisible by 3 print fizz but the number is divisible by 5 then print buzz\n",
    "# and if the number is divisible by both 3 & 2 but not by 5\n",
    "# then print fizzbuzz.\n",
    "\n",
    "num = int(input(\"Enter the number:\"))\n",
    "if num %3 ==0:\n",
    "    print(\"Fizz\")\n",
    "elif num%5 == 0:\n",
    "    print(\"Buzz\")\n",
    "elif num%3 == 0 and num%2 ==0 and num%5 != 0:\n",
    "    print(\"Fizzbuzz\")\n",
    "else:\n",
    "    print(\"Not found\")\n",
    "    "
   ]
  },
  {
   "cell_type": "code",
   "execution_count": 14,
   "id": "2f98ab34",
   "metadata": {},
   "outputs": [
    {
     "name": "stdout",
     "output_type": "stream",
     "text": [
      "Enter the number:6\n",
      "Fizzbuzz\n"
     ]
    }
   ],
   "source": [
    "num = int(input(\"Enter the number:\"))\n",
    "if num%3 == 0 and num%2 ==0 and num%5 != 0:\n",
    "    print(\"Fizzbuzz\")\n",
    "elif num %3 ==0:\n",
    "    print(\"Fizz\")\n",
    "elif num%5 == 0:\n",
    "    print(\"Buzz\")\n",
    "else:\n",
    "    print(\"Not found\")"
   ]
  },
  {
   "cell_type": "code",
   "execution_count": 16,
   "id": "5ebf0631",
   "metadata": {},
   "outputs": [
    {
     "name": "stdout",
     "output_type": "stream",
     "text": [
      "34.0\n",
      "Not Allowed\n"
     ]
    }
   ],
   "source": [
    "# A student will not be allowed to sit in exam \n",
    "# if his/her attendance is less than 75%. Take following input from user\n",
    "# Number of classes held number of classes attended and print\n",
    "# percentage of class attended is student is allowed to sit in exam or not.\n",
    "\n",
    "class_held = 100\n",
    "class_attend = 34\n",
    "per_of_class_attend = (class_attend/class_held)*100\n",
    "print(per_of_class_attend)\n",
    "if per_of_class_attend>75:\n",
    "    print(\"Allowed\")\n",
    "else:\n",
    "    print(\"Not Allowed\")"
   ]
  },
  {
   "cell_type": "code",
   "execution_count": 22,
   "id": "60830a48",
   "metadata": {},
   "outputs": [
    {
     "name": "stdout",
     "output_type": "stream",
     "text": [
      "Enter the number:6\n",
      "Winning\n"
     ]
    }
   ],
   "source": [
    "# Write a program to guess the number from the range 1-9 your is winning number is 6.\n",
    "\n",
    "num = int(input(\"Enter the number:\"))\n",
    "if num < 6:\n",
    "    print(\"Use High Number\")\n",
    "elif num > 6:\n",
    "    print(\"Use Low Number\")\n",
    "else:\n",
    "    print(\"Winning\")"
   ]
  },
  {
   "cell_type": "code",
   "execution_count": null,
   "id": "4852970c",
   "metadata": {},
   "outputs": [],
   "source": []
  }
 ],
 "metadata": {
  "kernelspec": {
   "display_name": "Python 3 (ipykernel)",
   "language": "python",
   "name": "python3"
  },
  "language_info": {
   "codemirror_mode": {
    "name": "ipython",
    "version": 3
   },
   "file_extension": ".py",
   "mimetype": "text/x-python",
   "name": "python",
   "nbconvert_exporter": "python",
   "pygments_lexer": "ipython3",
   "version": "3.11.1"
  }
 },
 "nbformat": 4,
 "nbformat_minor": 5
}
