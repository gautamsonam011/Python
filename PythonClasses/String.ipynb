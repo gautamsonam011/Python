{
 "cells": [
  {
   "cell_type": "code",
   "execution_count": 1,
   "id": "964446db",
   "metadata": {},
   "outputs": [
    {
     "name": "stdout",
     "output_type": "stream",
     "text": [
      "o\n"
     ]
    }
   ],
   "source": [
    "str = \"veronica\"\n",
    "\n",
    "print(str[3])"
   ]
  },
  {
   "cell_type": "code",
   "execution_count": 4,
   "id": "354cbf2e",
   "metadata": {},
   "outputs": [
    {
     "name": "stdout",
     "output_type": "stream",
     "text": [
      "o\n"
     ]
    }
   ],
   "source": [
    "str = \"veronica\"\n",
    "print(str[-5])"
   ]
  },
  {
   "cell_type": "markdown",
   "id": "851a2296",
   "metadata": {},
   "source": [
    "# Slicing in String"
   ]
  },
  {
   "cell_type": "code",
   "execution_count": 5,
   "id": "339ead87",
   "metadata": {},
   "outputs": [],
   "source": [
    "x = \"Welcome To Here\""
   ]
  },
  {
   "cell_type": "code",
   "execution_count": 6,
   "id": "78560f52",
   "metadata": {},
   "outputs": [
    {
     "name": "stdout",
     "output_type": "stream",
     "text": [
      "lcome To Here\n"
     ]
    }
   ],
   "source": [
    "print(x[2:])"
   ]
  },
  {
   "cell_type": "code",
   "execution_count": 7,
   "id": "b5e6e047",
   "metadata": {},
   "outputs": [
    {
     "name": "stdout",
     "output_type": "stream",
     "text": [
      "Welcome\n"
     ]
    }
   ],
   "source": [
    "print(x[:7])"
   ]
  },
  {
   "cell_type": "code",
   "execution_count": 8,
   "id": "f14891a0",
   "metadata": {},
   "outputs": [
    {
     "name": "stdout",
     "output_type": "stream",
     "text": [
      "lcom\n"
     ]
    }
   ],
   "source": [
    "print(x[2:6])"
   ]
  },
  {
   "cell_type": "code",
   "execution_count": 9,
   "id": "653153e7",
   "metadata": {},
   "outputs": [
    {
     "name": "stdout",
     "output_type": "stream",
     "text": [
      "o Her\n"
     ]
    }
   ],
   "source": [
    "print(x[-6:-1])"
   ]
  },
  {
   "cell_type": "code",
   "execution_count": 10,
   "id": "1f4e6cc2",
   "metadata": {},
   "outputs": [
    {
     "name": "stdout",
     "output_type": "stream",
     "text": [
      "o Here\n"
     ]
    }
   ],
   "source": [
    "print(x[-6:])"
   ]
  },
  {
   "cell_type": "code",
   "execution_count": 11,
   "id": "a2a7b68a",
   "metadata": {},
   "outputs": [
    {
     "name": "stdout",
     "output_type": "stream",
     "text": [
      "Welcome To He\n"
     ]
    }
   ],
   "source": [
    "print(x[:-2])"
   ]
  },
  {
   "cell_type": "code",
   "execution_count": 12,
   "id": "460b86e1",
   "metadata": {},
   "outputs": [
    {
     "name": "stdout",
     "output_type": "stream",
     "text": [
      "Hello!World\n"
     ]
    }
   ],
   "source": [
    "str1 = 'Hello!'\n",
    "str2 = 'World'\n",
    "\n",
    "str3 = str1+str2\n",
    "print(str3)"
   ]
  },
  {
   "cell_type": "code",
   "execution_count": 13,
   "id": "e77b4644",
   "metadata": {},
   "outputs": [
    {
     "name": "stdout",
     "output_type": "stream",
     "text": [
      "Hello!World\n"
     ]
    }
   ],
   "source": [
    "str1 = 'Hello!'\n",
    "str2 = 'World'\n",
    "\n",
    "str3 = str1 + str2\n",
    "print(str3)"
   ]
  },
  {
   "cell_type": "code",
   "execution_count": 14,
   "id": "1f91faf2",
   "metadata": {},
   "outputs": [
    {
     "name": "stdout",
     "output_type": "stream",
     "text": [
      "4\n"
     ]
    }
   ],
   "source": [
    "#  Iterating using String:-\n",
    "\n",
    "a = \"Welcome wwww\"\n",
    "count = 0\n",
    "for i in a:\n",
    "    if (i == 'w'):\n",
    "        count+=1\n",
    "print(count)"
   ]
  },
  {
   "cell_type": "code",
   "execution_count": 15,
   "id": "121ffbf5",
   "metadata": {},
   "outputs": [
    {
     "name": "stdout",
     "output_type": "stream",
     "text": [
      "True\n"
     ]
    }
   ],
   "source": [
    "# String Membership test------->\n",
    "\n",
    "print('a' in 'apple')"
   ]
  },
  {
   "cell_type": "code",
   "execution_count": 16,
   "id": "62b6657d",
   "metadata": {},
   "outputs": [
    {
     "name": "stdout",
     "output_type": "stream",
     "text": [
      "False\n"
     ]
    }
   ],
   "source": [
    "print('b' in 'apple')"
   ]
  },
  {
   "cell_type": "code",
   "execution_count": 17,
   "id": "8e97e26d",
   "metadata": {},
   "outputs": [
    {
     "name": "stdout",
     "output_type": "stream",
     "text": [
      "True\n"
     ]
    }
   ],
   "source": [
    "print('b' not in 'apple')"
   ]
  },
  {
   "cell_type": "markdown",
   "id": "a9479fce",
   "metadata": {},
   "source": [
    "# Break Statement"
   ]
  },
  {
   "cell_type": "code",
   "execution_count": 19,
   "id": "9d8db557",
   "metadata": {},
   "outputs": [
    {
     "name": "stdout",
     "output_type": "stream",
     "text": [
      "1\n",
      "2\n",
      "3\n",
      "4\n",
      "Out of loop\n"
     ]
    }
   ],
   "source": [
    "num = 0\n",
    "for a in range(10):\n",
    "    num = a+1\n",
    "    if num == 5:\n",
    "        break\n",
    "    print(num)\n",
    "print(\"Out of loop\")"
   ]
  },
  {
   "cell_type": "code",
   "execution_count": 21,
   "id": "3ddfd3e9",
   "metadata": {},
   "outputs": [
    {
     "name": "stdout",
     "output_type": "stream",
     "text": [
      "1\n",
      "2\n",
      "3\n",
      "4\n",
      "6\n",
      "7\n",
      "8\n",
      "9\n",
      "10\n",
      "Out of loop\n"
     ]
    }
   ],
   "source": [
    "num = 0\n",
    "for a in range(10):\n",
    "    num = a+1\n",
    "    if num == 5:\n",
    "        continue\n",
    "    print(num)\n",
    "print(\"Out of loop\")"
   ]
  },
  {
   "cell_type": "code",
   "execution_count": 1,
   "id": "ecccf5d5",
   "metadata": {},
   "outputs": [
    {
     "name": "stdout",
     "output_type": "stream",
     "text": [
      "welcome to you\n"
     ]
    }
   ],
   "source": [
    "# lower()\n",
    "\n",
    "a = \"WELCOME TO YOU\"\n",
    "print(a.lower())"
   ]
  },
  {
   "cell_type": "code",
   "execution_count": 2,
   "id": "e68a7bad",
   "metadata": {},
   "outputs": [
    {
     "name": "stdout",
     "output_type": "stream",
     "text": [
      "True\n",
      "False\n"
     ]
    }
   ],
   "source": [
    "# isalpha()\n",
    "a = \"Hello\"\n",
    "b = \"hey! Guys\"\n",
    "print(a.isalpha())\n",
    "print(b.isalpha())"
   ]
  },
  {
   "cell_type": "code",
   "execution_count": 3,
   "id": "e34f2693",
   "metadata": {},
   "outputs": [
    {
     "name": "stdout",
     "output_type": "stream",
     "text": [
      "True\n",
      "False\n"
     ]
    }
   ],
   "source": [
    "# isdigit()\n",
    "a = '67634'\n",
    "b = \"78 37\"\n",
    "print(a.isdigit())\n",
    "print(b.isdigit())"
   ]
  },
  {
   "cell_type": "code",
   "execution_count": 4,
   "id": "d6222114",
   "metadata": {},
   "outputs": [
    {
     "name": "stdout",
     "output_type": "stream",
     "text": [
      "Jhjuyjh tech\n"
     ]
    }
   ],
   "source": [
    "# capitalize()\n",
    "a = \"jhjUYJH Tech\"\n",
    "print(a.capitalize())"
   ]
  },
  {
   "cell_type": "code",
   "execution_count": 5,
   "id": "0a2c24b9",
   "metadata": {},
   "outputs": [
    {
     "name": "stdout",
     "output_type": "stream",
     "text": [
      "3\n",
      "0\n"
     ]
    }
   ],
   "source": [
    "# count()\n",
    "a = \"welcome tech\"\n",
    "b = 'e'\n",
    "c = 'q'\n",
    "print(a.count(b))\n",
    "print(a.count(c))"
   ]
  },
  {
   "cell_type": "code",
   "execution_count": 10,
   "id": "1b1612f2",
   "metadata": {},
   "outputs": [
    {
     "name": "stdout",
     "output_type": "stream",
     "text": [
      "0\n",
      "5\n"
     ]
    }
   ],
   "source": [
    "# index()\n",
    "a = \"Hey! Guys\"\n",
    "b = \"Hey\"\n",
    "c = 'G'\n",
    "print(a.index(b))\n",
    "print(a.index(c))"
   ]
  },
  {
   "cell_type": "code",
   "execution_count": null,
   "id": "75c91f6e",
   "metadata": {},
   "outputs": [],
   "source": []
  }
 ],
 "metadata": {
  "kernelspec": {
   "display_name": "Python 3 (ipykernel)",
   "language": "python",
   "name": "python3"
  },
  "language_info": {
   "codemirror_mode": {
    "name": "ipython",
    "version": 3
   },
   "file_extension": ".py",
   "mimetype": "text/x-python",
   "name": "python",
   "nbconvert_exporter": "python",
   "pygments_lexer": "ipython3",
   "version": "3.11.1"
  }
 },
 "nbformat": 4,
 "nbformat_minor": 5
}
