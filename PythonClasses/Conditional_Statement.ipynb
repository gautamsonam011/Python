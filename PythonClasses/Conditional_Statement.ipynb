{
 "cells": [
  {
   "cell_type": "markdown",
   "id": "dbd81e7b",
   "metadata": {},
   "source": [
    "# If Statement:-"
   ]
  },
  {
   "cell_type": "code",
   "execution_count": null,
   "id": "f5f58ad9",
   "metadata": {},
   "outputs": [],
   "source": [
    "# Syntax\n",
    "# if(condition):\n",
    "#    \"statement\""
   ]
  },
  {
   "cell_type": "code",
   "execution_count": 1,
   "id": "90d9164b",
   "metadata": {},
   "outputs": [
    {
     "name": "stdout",
     "output_type": "stream",
     "text": [
      "A is greater than b\n"
     ]
    }
   ],
   "source": [
    "a = 123\n",
    "b = 35\n",
    "if a > b:\n",
    "    print(\"A is greater than b\")"
   ]
  },
  {
   "cell_type": "code",
   "execution_count": 3,
   "id": "4e2f84e2",
   "metadata": {},
   "outputs": [
    {
     "name": "stdout",
     "output_type": "stream",
     "text": [
      "Enter the 1th number:-4\n",
      "Enter the 2th number:-6\n",
      "Enter your operation\n",
      "                        + for addition\n",
      "                        - for sub\n",
      "                        * for mul\n",
      "                        / div +\n",
      "10\n"
     ]
    }
   ],
   "source": [
    "num1 = eval(input(\"Enter the 1th number:-\"))\n",
    "num2 = eval(input(\"Enter the 2th number:-\"))\n",
    "\n",
    "operation = input(\"\"\"Enter your operation\n",
    "                        + for addition\n",
    "                        - for sub\n",
    "                        * for mul\n",
    "                        / div \"\"\")\n",
    "if operation == '+':\n",
    "    print(num1+num2)\n",
    "if operation == '-':\n",
    "    print(num1-num2)\n",
    "if operation == '*':\n",
    "    print(num1*num2)\n",
    "if operation == '/':\n",
    "    print(num1/num2)"
   ]
  },
  {
   "cell_type": "markdown",
   "id": "ac2f1082",
   "metadata": {},
   "source": [
    "# If-else Statement"
   ]
  },
  {
   "cell_type": "code",
   "execution_count": null,
   "id": "18a8bf9a",
   "metadata": {},
   "outputs": [],
   "source": [
    "#Syntax:-\n",
    "\n",
    "#if (condition):\n",
    "#        statement\n",
    "#else:\n",
    "#       statement\n",
    "\n"
   ]
  },
  {
   "cell_type": "code",
   "execution_count": 4,
   "id": "ab3978d8",
   "metadata": {},
   "outputs": [
    {
     "name": "stdout",
     "output_type": "stream",
     "text": [
      "Enter the number4\n",
      "4 is a even number\n"
     ]
    }
   ],
   "source": [
    "# write a prgram to find even and odd.\n",
    "\n",
    "num = int(input(\"Enter the number\"))\n",
    "if num%2 == 0:\n",
    "    print(num,\"is a even number\")\n",
    "else:\n",
    "    print(num,\"is a odd number\")"
   ]
  },
  {
   "cell_type": "code",
   "execution_count": 5,
   "id": "f53b75df",
   "metadata": {},
   "outputs": [
    {
     "name": "stdout",
     "output_type": "stream",
     "text": [
      "Enter the number13\n",
      "13 is a odd number\n"
     ]
    }
   ],
   "source": [
    "num = int(input(\"Enter the number\"))\n",
    "if num%2 == 0:\n",
    "    print(num,\"is a even number\")\n",
    "else:\n",
    "    print(num,\"is a odd number\")"
   ]
  },
  {
   "cell_type": "code",
   "execution_count": null,
   "id": "61656401",
   "metadata": {},
   "outputs": [],
   "source": [
    "# Syntax:-\n",
    "\n",
    "# if (condition):\n",
    "#    statement\n",
    "# elif (condition):\n",
    "#    statement\n",
    "# else:\n",
    "#    statement"
   ]
  },
  {
   "cell_type": "code",
   "execution_count": 6,
   "id": "1ac6675b",
   "metadata": {},
   "outputs": [
    {
     "name": "stdout",
     "output_type": "stream",
     "text": [
      "Enter the 1th number:-3\n",
      "Enter the 2th number:-5\n",
      "Enter your operation\n",
      "                        + for addition\n",
      "                        - for sub\n",
      "                        * for mul\n",
      "                        / div /\n",
      "0.6\n"
     ]
    }
   ],
   "source": [
    "num1 = eval(input(\"Enter the 1th number:-\"))\n",
    "num2 = eval(input(\"Enter the 2th number:-\"))\n",
    "\n",
    "operation = input(\"\"\"Enter your operation\n",
    "                        + for addition\n",
    "                        - for sub\n",
    "                        * for mul\n",
    "                        / div \"\"\")\n",
    "if operation == '+':\n",
    "    print(num1+num2)\n",
    "elif operation == '-':\n",
    "    print(num1-num2)\n",
    "elif operation == '*':\n",
    "    print(num1*num2)\n",
    "elif operation == '/':\n",
    "    print(num1/num2)\n",
    "else:\n",
    "    print(\"Enter a valid operation\")"
   ]
  },
  {
   "cell_type": "code",
   "execution_count": null,
   "id": "270e38ab",
   "metadata": {},
   "outputs": [],
   "source": []
  }
 ],
 "metadata": {
  "kernelspec": {
   "display_name": "Python 3 (ipykernel)",
   "language": "python",
   "name": "python3"
  },
  "language_info": {
   "codemirror_mode": {
    "name": "ipython",
    "version": 3
   },
   "file_extension": ".py",
   "mimetype": "text/x-python",
   "name": "python",
   "nbconvert_exporter": "python",
   "pygments_lexer": "ipython3",
   "version": "3.11.1"
  }
 },
 "nbformat": 4,
 "nbformat_minor": 5
}
