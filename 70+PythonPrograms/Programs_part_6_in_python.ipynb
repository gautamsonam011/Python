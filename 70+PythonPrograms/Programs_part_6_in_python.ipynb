{
 "cells": [
  {
   "cell_type": "code",
   "execution_count": 1,
   "id": "cc747d21",
   "metadata": {},
   "outputs": [
    {
     "name": "stdout",
     "output_type": "stream",
     "text": [
      "Enter anything here:Hello! How are you??\n",
      "Hello How are you\n"
     ]
    }
   ],
   "source": [
    "punc = \"&$@#@!><()]{}][]~??!!\"\n",
    "string = input(\"Enter anything here:\")\n",
    "\n",
    "empty_str = \"\"\n",
    "\n",
    "for i in string:\n",
    "    if i not in punc:\n",
    "        empty_str = empty_str + i\n",
    "        \n",
    "print(empty_str)"
   ]
  },
  {
   "cell_type": "markdown",
   "id": "b5c7d2f0",
   "metadata": {},
   "source": [
    "# 38:- Multiply Two Matrices"
   ]
  },
  {
   "cell_type": "code",
   "execution_count": 3,
   "id": "24f6f058",
   "metadata": {},
   "outputs": [
    {
     "name": "stdout",
     "output_type": "stream",
     "text": [
      "[30, 42, 23]\n",
      "[72, 102, 65]\n",
      "[67, 93, 50]\n"
     ]
    }
   ],
   "source": [
    "# Write a program to multiply two matrices.\n",
    "\n",
    "A = [[1,2,3],\n",
    "    [4,5,6],\n",
    "    [2,4,7]]\n",
    "B = [[5,7,9],\n",
    "    [2,4,1],\n",
    "    [7,9,4]]\n",
    "\n",
    "result = [[0,0,0],\n",
    "         [0,0,0],\n",
    "         [0,0,0]]\n",
    "for i in range(len(A)):\n",
    "    for j in range(len(B[0])):\n",
    "        for k in range(len(B)):\n",
    "            result[i][j] += A[i][k]*B[k][j]\n",
    "for i in result:\n",
    "    print(i)"
   ]
  },
  {
   "cell_type": "markdown",
   "id": "83b3e0c4",
   "metadata": {},
   "source": [
    "# 39:- Sort Words"
   ]
  },
  {
   "cell_type": "code",
   "execution_count": 7,
   "id": "8c0860be",
   "metadata": {},
   "outputs": [
    {
     "name": "stdout",
     "output_type": "stream",
     "text": [
      "and\n",
      "fire\n",
      "goblet\n",
      "harry\n",
      "of\n",
      "potter\n",
      "the\n"
     ]
    }
   ],
   "source": [
    "# Write a program to sort words in alphabetic order (ABC),\n",
    "\n",
    "a = \"Harry Potter and the Goblet of Fire\"\n",
    "\n",
    "w = a.split()\n",
    "for i in range(len(w)):\n",
    "    w[i] = w[i].lower()\n",
    "    \n",
    "w.sort()\n",
    "for i in w:\n",
    "    print(i)\n"
   ]
  },
  {
   "cell_type": "markdown",
   "id": "47941cc5",
   "metadata": {},
   "source": [
    "# 40:-"
   ]
  },
  {
   "cell_type": "code",
   "execution_count": 8,
   "id": "8111af75",
   "metadata": {},
   "outputs": [
    {
     "name": "stdout",
     "output_type": "stream",
     "text": [
      "The Union is {1, 2, 3, 4, 5, 6, 7, 8, 9}\n",
      "The Intersection is {2, 3, 4, 5, 6, 8, 9}\n",
      "The Difference is {1}\n",
      "The Symmetric difference is {1, 7}\n"
     ]
    }
   ],
   "source": [
    "# Python program to Illustrate different set operations.\n",
    "A = {1,2,3,4,5,6,8,9}\n",
    "B = {2,4,5,3,6,7,8,9}\n",
    "\n",
    "print(\"The Union is\", A|B)\n",
    "\n",
    "print(\"The Intersection is\", A&B)\n",
    "\n",
    "print(\"The Difference is\",A-B)\n",
    "\n",
    "print(\"The Symmetric difference is\", A^B)\n"
   ]
  },
  {
   "cell_type": "markdown",
   "id": "3a5f5bf4",
   "metadata": {},
   "source": [
    "# 41:-"
   ]
  },
  {
   "cell_type": "code",
   "execution_count": 3,
   "id": "f5a0a287",
   "metadata": {
    "scrolled": true
   },
   "outputs": [
    {
     "name": "stdout",
     "output_type": "stream",
     "text": [
      "harry potter and the prisoner of azkaban\n",
      "{'a': 0, 'e': 0, 'i': 0, 'o': 0, 'u': 0}\n",
      "{'a': 5, 'e': 3, 'i': 1, 'o': 3, 'u': 0}\n"
     ]
    }
   ],
   "source": [
    "# Write a python program to count the number of Each vowel.\n",
    "\n",
    "# Using Dictionary:-\n",
    "\n",
    "a = \"Harry Potter and the Prisoner of Azkaban\"\n",
    "\n",
    "vowels = \"aeiou\"\n",
    "a = a.casefold()\n",
    "print(a)\n",
    "\n",
    "count = {}.fromkeys(vowels,0)\n",
    "print(count)\n",
    "for char in a:\n",
    "    if char in count:\n",
    "        count[char] += 1\n",
    "print(count)        "
   ]
  },
  {
   "cell_type": "code",
   "execution_count": 4,
   "id": "b6e0a58a",
   "metadata": {},
   "outputs": [
    {
     "name": "stdout",
     "output_type": "stream",
     "text": [
      "{'a': 5, 'e': 3, 'i': 1, 'o': 3, 'u': 0}\n"
     ]
    }
   ],
   "source": [
    "# Using List and Dictionary Comprehension--->\n",
    "a = \"Harry Potter and the Prisoner of Azkaban\"\n",
    "\n",
    "vowels = \"aeiou\"\n",
    "a = a.casefold()\n",
    "count = {key:sum([1 for char in a if char == key]) for key in vowels}\n",
    "print(count)"
   ]
  },
  {
   "cell_type": "markdown",
   "id": "58216b50",
   "metadata": {},
   "source": [
    "# 42:- Size of an Image"
   ]
  },
  {
   "cell_type": "code",
   "execution_count": null,
   "id": "9e1da4f2",
   "metadata": {},
   "outputs": [],
   "source": []
  },
  {
   "cell_type": "code",
   "execution_count": 10,
   "id": "d71b7263",
   "metadata": {},
   "outputs": [
    {
     "name": "stdout",
     "output_type": "stream",
     "text": [
      "592 X 1280\n"
     ]
    }
   ],
   "source": [
    "# Python program to find the size (resolution) of an Image.\n",
    "\n",
    "import PIL\n",
    "from PIL import Image\n",
    "img = PIL.Image.open(\"C:/Users/Sonam Gautam/OneDrive\\Pictures/WhatsApp Image 2023-04-16 at 23.06.53.jpg\")\n",
    "width, height = img.size\n",
    "print(width,\"X\",height)"
   ]
  },
  {
   "cell_type": "markdown",
   "id": "b4bcce62",
   "metadata": {},
   "source": [
    "# 43:- Merge two dictionaries"
   ]
  },
  {
   "cell_type": "code",
   "execution_count": 6,
   "id": "315297dd",
   "metadata": {},
   "outputs": [
    {
     "name": "stdout",
     "output_type": "stream",
     "text": [
      "{'John': 86, 'Lisa': 57, 'Peter': 87}\n"
     ]
    }
   ],
   "source": [
    "# Python program to merge two dictionaries.\n",
    "\n",
    "#Using Operator\n",
    "dict1 = {\"John\":86,\"Lisa\":75}\n",
    "dict2 = {\"Lisa\":57,\"Peter\":87}\n",
    "print(dict1|dict2)"
   ]
  },
  {
   "cell_type": "code",
   "execution_count": 7,
   "id": "5df88119",
   "metadata": {},
   "outputs": [
    {
     "name": "stdout",
     "output_type": "stream",
     "text": [
      "{'John': 86, 'Lisa': 57, 'Peter': 87}\n"
     ]
    }
   ],
   "source": [
    "#Using ** Operator\n",
    "dict1 = {\"John\":86,\"Lisa\":75}\n",
    "dict2 = {\"Lisa\":57,\"Peter\":87}\n",
    "print({**dict1,**dict2})"
   ]
  },
  {
   "cell_type": "code",
   "execution_count": 9,
   "id": "2234b864",
   "metadata": {},
   "outputs": [
    {
     "name": "stdout",
     "output_type": "stream",
     "text": [
      "{'Lisa': 75, 'Peter': 87, 'John': 86}\n"
     ]
    }
   ],
   "source": [
    "#Using copy() and update() Operator\n",
    "dict1 = {\"John\":86,\"Lisa\":75}\n",
    "dict2 = {\"Lisa\":57,\"Peter\":87}\n",
    "dict3 = dict2.copy()\n",
    "dict3.update(dict1)\n",
    "print(dict3)"
   ]
  },
  {
   "cell_type": "markdown",
   "id": "f6e0a2c0",
   "metadata": {},
   "source": [
    "# 44:- Safely create a nested dictionary"
   ]
  },
  {
   "cell_type": "code",
   "execution_count": 12,
   "id": "31af8ca9",
   "metadata": {},
   "outputs": [
    {
     "ename": "FileExistsError",
     "evalue": "[WinError 183] Cannot create a file when that file already exists: 'C:\\\\Users\\\\Sonam Gautam\\\\AppData\\\\Local\\\\Programs\\\\Python\\\\Python311\\\\new_dict\\\\demo_dict'",
     "output_type": "error",
     "traceback": [
      "\u001b[1;31m---------------------------------------------------------------------------\u001b[0m",
      "\u001b[1;31mFileExistsError\u001b[0m                           Traceback (most recent call last)",
      "Cell \u001b[1;32mIn[12], line 4\u001b[0m\n\u001b[0;32m      1\u001b[0m \u001b[38;5;66;03m# Write a program to safely create a nested dictionary.\u001b[39;00m\n\u001b[0;32m      3\u001b[0m \u001b[38;5;28;01mfrom\u001b[39;00m \u001b[38;5;21;01mpathlib\u001b[39;00m \u001b[38;5;28;01mimport\u001b[39;00m Path\n\u001b[1;32m----> 4\u001b[0m \u001b[43mPath\u001b[49m\u001b[43m(\u001b[49m\u001b[38;5;124;43m\"\u001b[39;49m\u001b[38;5;124;43mC:/Users/Sonam Gautam/AppData/Local/Programs/Python/Python311/new_dict/demo_dict\u001b[39;49m\u001b[38;5;124;43m\"\u001b[39;49m\u001b[43m)\u001b[49m\u001b[38;5;241;43m.\u001b[39;49m\u001b[43mmkdir\u001b[49m\u001b[43m(\u001b[49m\u001b[43mparents\u001b[49m\u001b[43m \u001b[49m\u001b[38;5;241;43m=\u001b[39;49m\u001b[43m \u001b[49m\u001b[38;5;28;43;01mTrue\u001b[39;49;00m\u001b[43m)\u001b[49m\n",
      "File \u001b[1;32m~\\AppData\\Local\\Programs\\Python\\Python311\\Lib\\pathlib.py:1116\u001b[0m, in \u001b[0;36mPath.mkdir\u001b[1;34m(self, mode, parents, exist_ok)\u001b[0m\n\u001b[0;32m   1112\u001b[0m \u001b[38;5;250m\u001b[39m\u001b[38;5;124;03m\"\"\"\u001b[39;00m\n\u001b[0;32m   1113\u001b[0m \u001b[38;5;124;03mCreate a new directory at this given path.\u001b[39;00m\n\u001b[0;32m   1114\u001b[0m \u001b[38;5;124;03m\"\"\"\u001b[39;00m\n\u001b[0;32m   1115\u001b[0m \u001b[38;5;28;01mtry\u001b[39;00m:\n\u001b[1;32m-> 1116\u001b[0m     \u001b[43mos\u001b[49m\u001b[38;5;241;43m.\u001b[39;49m\u001b[43mmkdir\u001b[49m\u001b[43m(\u001b[49m\u001b[38;5;28;43mself\u001b[39;49m\u001b[43m,\u001b[49m\u001b[43m \u001b[49m\u001b[43mmode\u001b[49m\u001b[43m)\u001b[49m\n\u001b[0;32m   1117\u001b[0m \u001b[38;5;28;01mexcept\u001b[39;00m \u001b[38;5;167;01mFileNotFoundError\u001b[39;00m:\n\u001b[0;32m   1118\u001b[0m     \u001b[38;5;28;01mif\u001b[39;00m \u001b[38;5;129;01mnot\u001b[39;00m parents \u001b[38;5;129;01mor\u001b[39;00m \u001b[38;5;28mself\u001b[39m\u001b[38;5;241m.\u001b[39mparent \u001b[38;5;241m==\u001b[39m \u001b[38;5;28mself\u001b[39m:\n",
      "\u001b[1;31mFileExistsError\u001b[0m: [WinError 183] Cannot create a file when that file already exists: 'C:\\\\Users\\\\Sonam Gautam\\\\AppData\\\\Local\\\\Programs\\\\Python\\\\Python311\\\\new_dict\\\\demo_dict'"
     ]
    }
   ],
   "source": [
    "# Write a program to safely create a nested dictionary.\n",
    "\n",
    "from pathlib import Path\n",
    "Path(\"C:/Users/Sonam Gautam/AppData/Local/Programs/Python/Python311/new_dict/demo_dict\").mkdir(parents = True)\n",
    "\n"
   ]
  },
  {
   "cell_type": "markdown",
   "id": "8ff852d6",
   "metadata": {},
   "source": [
    "# 45:-"
   ]
  },
  {
   "cell_type": "code",
   "execution_count": 13,
   "id": "5244dec5",
   "metadata": {},
   "outputs": [
    {
     "name": "stdout",
     "output_type": "stream",
     "text": [
      "1 - 34\n",
      "2 - 5\n",
      "3 - 61\n",
      "4 - 34\n",
      "5 - 56\n"
     ]
    }
   ],
   "source": [
    "# Write a program accessing index of list using for loop in python.\n",
    "\n",
    "# 1:-Using Enumerate Method:--\n",
    "\n",
    "l = [34,5,61,34,56]\n",
    "for index, value in enumerate(l,start = 1):\n",
    "    print(index,\"-\",value)"
   ]
  },
  {
   "cell_type": "code",
   "execution_count": 16,
   "id": "591ddfd6",
   "metadata": {},
   "outputs": [
    {
     "name": "stdout",
     "output_type": "stream",
     "text": [
      "98\n",
      "0 23\n",
      "1 56\n",
      "2 87\n",
      "3 98\n",
      "4 35\n"
     ]
    }
   ],
   "source": [
    "# 2:- Not Using Enumerate Method:--->\n",
    "\n",
    "l = [23,56,87,98,35]\n",
    "\n",
    "print(l[3])\n",
    "\n",
    "for index in range(len(l)):\n",
    "    value = l[index]\n",
    "    print(index, value)"
   ]
  },
  {
   "cell_type": "markdown",
   "id": "169f7d8f",
   "metadata": {},
   "source": [
    "# 46:-Slicing on list"
   ]
  },
  {
   "cell_type": "code",
   "execution_count": 18,
   "id": "24f9d819",
   "metadata": {},
   "outputs": [
    {
     "name": "stdout",
     "output_type": "stream",
     "text": [
      "Joe\n"
     ]
    }
   ],
   "source": [
    "# What is slicing on list in python.\n",
    "l = [\"Joe\",\"Rachel\",578,4397,45.6]\n",
    "\n",
    "print(l[0])"
   ]
  },
  {
   "cell_type": "code",
   "execution_count": 19,
   "id": "a71f32e8",
   "metadata": {},
   "outputs": [
    {
     "name": "stdout",
     "output_type": "stream",
     "text": [
      "['Rachel', 578]\n"
     ]
    }
   ],
   "source": [
    "l = [\"Joe\",\"Rachel\",578,4397,45.6]\n",
    "print(l[1:3])"
   ]
  },
  {
   "cell_type": "code",
   "execution_count": 20,
   "id": "48e3f04a",
   "metadata": {},
   "outputs": [
    {
     "data": {
      "text/plain": [
       "['Joe', 'Rachel', 578, 4397, 45.6]"
      ]
     },
     "execution_count": 20,
     "metadata": {},
     "output_type": "execute_result"
    }
   ],
   "source": [
    "l"
   ]
  },
  {
   "cell_type": "code",
   "execution_count": 21,
   "id": "da23f7b8",
   "metadata": {},
   "outputs": [
    {
     "name": "stdout",
     "output_type": "stream",
     "text": [
      "4397\n"
     ]
    }
   ],
   "source": [
    "print(l[3])"
   ]
  },
  {
   "cell_type": "code",
   "execution_count": 23,
   "id": "f7f95380",
   "metadata": {},
   "outputs": [
    {
     "name": "stdout",
     "output_type": "stream",
     "text": [
      "['Joe', 'Rachel']\n"
     ]
    }
   ],
   "source": [
    "print(l[:2])"
   ]
  },
  {
   "cell_type": "code",
   "execution_count": 24,
   "id": "3f7a3747",
   "metadata": {},
   "outputs": [
    {
     "name": "stdout",
     "output_type": "stream",
     "text": [
      "[578, 4397, 45.6]\n"
     ]
    }
   ],
   "source": [
    "print(l[2:])"
   ]
  },
  {
   "cell_type": "code",
   "execution_count": 25,
   "id": "b045612a",
   "metadata": {},
   "outputs": [
    {
     "name": "stdout",
     "output_type": "stream",
     "text": [
      "[45.6, 4397, 578, 'Rachel', 'Joe']\n"
     ]
    }
   ],
   "source": [
    "print(l[::-1])"
   ]
  },
  {
   "cell_type": "code",
   "execution_count": 26,
   "id": "d5d34cc7",
   "metadata": {},
   "outputs": [
    {
     "name": "stdout",
     "output_type": "stream",
     "text": [
      "['Joe', 578, 45.6]\n"
     ]
    }
   ],
   "source": [
    "print(l[::2])"
   ]
  },
  {
   "cell_type": "code",
   "execution_count": 27,
   "id": "cc1027e6",
   "metadata": {},
   "outputs": [
    {
     "name": "stdout",
     "output_type": "stream",
     "text": [
      "['Joe', 'Rachel', 578, 4397, 45.6]\n"
     ]
    }
   ],
   "source": [
    "print(l[::])"
   ]
  },
  {
   "cell_type": "markdown",
   "id": "5af32ae3",
   "metadata": {},
   "source": [
    "# 47:-"
   ]
  },
  {
   "cell_type": "code",
   "execution_count": 29,
   "id": "614757d9",
   "metadata": {},
   "outputs": [
    {
     "name": "stdout",
     "output_type": "stream",
     "text": [
      "{'Rachel': 'Ross', 'Monica': 'Chandler', 'Phoebe': 'Joe'}\n",
      "Rachel - Ross\n",
      "Monica - Chandler\n",
      "Phoebe - Joe\n"
     ]
    }
   ],
   "source": [
    "# Write a program to iterate over dictionaries using for loop.\n",
    "\n",
    "friends = {\"Rachel\":\"Ross\",\"Monica\":\"Chandler\",\"Phoebe\":\"Joe\"}\n",
    "print(friends)\n",
    "\n",
    "# With items---->\n",
    "\n",
    "for key,value in friends.items():\n",
    "    print(key,\"-\",value)"
   ]
  },
  {
   "cell_type": "code",
   "execution_count": 30,
   "id": "e1077e2c",
   "metadata": {},
   "outputs": [
    {
     "name": "stdout",
     "output_type": "stream",
     "text": [
      "Rachel - Ross\n",
      "Monica - Chandler\n",
      "Phoebe - Joe\n"
     ]
    }
   ],
   "source": [
    "# With Keys---->\n",
    "\n",
    "for key in friends:\n",
    "    print(key,\"-\",friends[key])"
   ]
  },
  {
   "cell_type": "code",
   "execution_count": 32,
   "id": "dce7e311",
   "metadata": {},
   "outputs": [
    {
     "name": "stdout",
     "output_type": "stream",
     "text": [
      "Rachel\n",
      "Monica\n",
      "Phoebe\n",
      "This is values Ross\n",
      "This is values Chandler\n",
      "This is values Joe\n"
     ]
    }
   ],
   "source": [
    "# with keys and values---->\n",
    "\n",
    "for key in friends.keys():\n",
    "    print(key)\n",
    "    \n",
    "for i in friends.values():\n",
    "    print(\"This is values\",i)"
   ]
  },
  {
   "cell_type": "markdown",
   "id": "6453b6c4",
   "metadata": {},
   "source": [
    "# 48:- Sort a Dictionary by value"
   ]
  },
  {
   "cell_type": "code",
   "execution_count": 33,
   "id": "9cae1ca0",
   "metadata": {},
   "outputs": [
    {
     "name": "stdout",
     "output_type": "stream",
     "text": [
      "[('John', 25), ('Sid', 37), ('Lisa', 56)]\n"
     ]
    }
   ],
   "source": [
    "# Write a program to sort a dictionary by value.\n",
    "\n",
    "marks = {\"John\":25,\"Lisa\":56,\"Sid\":37}\n",
    "\n",
    "# Sort the dictionary Based on values\n",
    "\n",
    "sv = sorted(marks.items(),key = lambda x :x[1])\n",
    "print(sv)"
   ]
  },
  {
   "cell_type": "code",
   "execution_count": 34,
   "id": "87ceab95",
   "metadata": {},
   "outputs": [
    {
     "name": "stdout",
     "output_type": "stream",
     "text": [
      "[25, 37, 56]\n"
     ]
    }
   ],
   "source": [
    "# Sort only the values--->\n",
    "\n",
    "v = sorted(marks.values())\n",
    "print(v)"
   ]
  },
  {
   "cell_type": "markdown",
   "id": "86cb899a",
   "metadata": {},
   "source": [
    "# 49:-"
   ]
  },
  {
   "cell_type": "code",
   "execution_count": 36,
   "id": "9c7dfc76",
   "metadata": {},
   "outputs": [
    {
     "name": "stdout",
     "output_type": "stream",
     "text": [
      "True\n"
     ]
    }
   ],
   "source": [
    "# How to check if a list is Empty in Python.\n",
    "\n",
    "# Using boolean operation:-\n",
    "print(bool([3,5,6]))"
   ]
  },
  {
   "cell_type": "code",
   "execution_count": 37,
   "id": "3c53b4ba",
   "metadata": {},
   "outputs": [
    {
     "name": "stdout",
     "output_type": "stream",
     "text": [
      "False\n"
     ]
    }
   ],
   "source": [
    "print(bool([]))"
   ]
  },
  {
   "cell_type": "code",
   "execution_count": 38,
   "id": "8aa42a15",
   "metadata": {},
   "outputs": [
    {
     "name": "stdout",
     "output_type": "stream",
     "text": [
      "The list is Empty\n"
     ]
    }
   ],
   "source": [
    "my_list = []\n",
    "if not my_list:\n",
    "    print(\"The list is Empty\")"
   ]
  },
  {
   "cell_type": "code",
   "execution_count": 40,
   "id": "0c8f2507",
   "metadata": {},
   "outputs": [
    {
     "name": "stdout",
     "output_type": "stream",
     "text": [
      "0\n",
      "The list is empty\n"
     ]
    }
   ],
   "source": [
    "# Using len() function:-\n",
    "\n",
    "my_list = []\n",
    "print(len(my_list))\n",
    "if len(my_list)==0:\n",
    "    print(\"The list is empty\")"
   ]
  },
  {
   "cell_type": "code",
   "execution_count": 41,
   "id": "6528ff56",
   "metadata": {},
   "outputs": [],
   "source": [
    "# Using []\n",
    "\n",
    "my_list = [45,67,14]\n",
    "if my_list == []:\n",
    "    print(\"The list is empty\")"
   ]
  },
  {
   "cell_type": "markdown",
   "id": "bf4548fb",
   "metadata": {},
   "source": [
    "# 50:- Exception Handling:-"
   ]
  },
  {
   "cell_type": "code",
   "execution_count": 3,
   "id": "873e08b8",
   "metadata": {},
   "outputs": [
    {
     "name": "stdout",
     "output_type": "stream",
     "text": [
      "Enter something here:iu\n",
      "Enter a number here:87\n",
      "can only concatenate str (not \"int\") to str\n",
      "Thank You!\n"
     ]
    }
   ],
   "source": [
    "# Write a program to catch multiple exception handling in python.\n",
    "\n",
    "string = input(\"Enter something here:\")\n",
    "try:\n",
    "    num = int(input(\"Enter a number here:\"))\n",
    "\n",
    "    print(string+num)\n",
    "except (ValueError,TypeError) as a:\n",
    "    print(a)\n",
    "print(\"Thank You!\")    "
   ]
  },
  {
   "cell_type": "markdown",
   "id": "ea32c86a",
   "metadata": {},
   "source": [
    "# 51:- Copy Contents of one file:"
   ]
  },
  {
   "cell_type": "code",
   "execution_count": 5,
   "id": "3471d6e7",
   "metadata": {},
   "outputs": [
    {
     "ename": "SyntaxError",
     "evalue": "invalid syntax (1771644085.py, line 5)",
     "output_type": "error",
     "traceback": [
      "\u001b[1;36m  Cell \u001b[1;32mIn[5], line 5\u001b[1;36m\u001b[0m\n\u001b[1;33m    copyfile(C:/Users/Sonam Gautam/Downloads/PythonClasses/String.txt,C:/Users/Sonam Gautam/Downloads/PythonClasses/List(2).txt)\u001b[0m\n\u001b[1;37m              ^\u001b[0m\n\u001b[1;31mSyntaxError\u001b[0m\u001b[1;31m:\u001b[0m invalid syntax\n"
     ]
    }
   ],
   "source": [
    "# How to copy contents of one file to another file using python codes.\n",
    "\n",
    "from shutil import copyfile\n",
    "\n",
    "copyfile(C:/Users/Sonam Gautam/Downloads/PythonClasses/String.txt,C:/Users/Sonam Gautam/Downloads/PythonClasses/List(2).txt)\n",
    "\n"
   ]
  },
  {
   "cell_type": "markdown",
   "id": "860b6a4d",
   "metadata": {},
   "source": [
    "# 52:- Concatenate two List "
   ]
  },
  {
   "cell_type": "code",
   "execution_count": 6,
   "id": "b0fc2c61",
   "metadata": {},
   "outputs": [
    {
     "name": "stdout",
     "output_type": "stream",
     "text": [
      "[2, 3, 4, 5, 'a', 'h', 3, 6, 8, 3, 'gf', 'hello']\n"
     ]
    }
   ],
   "source": [
    "# write a program to concatenate two list using python codes.\n",
    "\n",
    "# Using + operator:-\n",
    "\n",
    "l1 = [2,3,4,5,\"a\",'h']\n",
    "l2 = [3,6,8,3,\"gf\",\"hello\"]\n",
    "l12 = l1+l2\n",
    "print(l12)"
   ]
  },
  {
   "cell_type": "code",
   "execution_count": 7,
   "id": "83c83f09",
   "metadata": {},
   "outputs": [
    {
     "name": "stdout",
     "output_type": "stream",
     "text": [
      "{2, 3, 4, 5, 6, 'hello', 8, 'a', 'h', 'gf'}\n"
     ]
    }
   ],
   "source": [
    "# Using with Unique Values:-\n",
    "l1 = [2,3,4,5,\"a\",'h']\n",
    "l2 = [3,6,8,3,\"gf\",\"hello\"]\n",
    "\n",
    "l12 = set(l1+l2)\n",
    "print(l12)\n"
   ]
  },
  {
   "cell_type": "code",
   "execution_count": 8,
   "id": "28e6973d",
   "metadata": {},
   "outputs": [
    {
     "name": "stdout",
     "output_type": "stream",
     "text": [
      "[2, 3, 4, 5, 6, 'hello', 8, 'a', 'h', 'gf']\n"
     ]
    }
   ],
   "source": [
    "l13 = list(l12)\n",
    "print(l13)"
   ]
  },
  {
   "cell_type": "code",
   "execution_count": 9,
   "id": "e01bbedd",
   "metadata": {},
   "outputs": [
    {
     "name": "stdout",
     "output_type": "stream",
     "text": [
      "[1, 2, 3, 5, 'Hello', 6, 7, 8, 'Python', 'H']\n"
     ]
    }
   ],
   "source": [
    "# Using Extend() function:-\n",
    "l1 = [1,2,3,5,\"Hello\"]\n",
    "l2 = [6,7,8,\"Python\",\"H\"]\n",
    "l1.extend(l2)\n",
    "print(l1)"
   ]
  },
  {
   "cell_type": "markdown",
   "id": "5f60d23e",
   "metadata": {},
   "source": [
    "# 53:-"
   ]
  },
  {
   "cell_type": "code",
   "execution_count": 10,
   "id": "9f3f3083",
   "metadata": {},
   "outputs": [
    {
     "name": "stdout",
     "output_type": "stream",
     "text": [
      "Enter a key here:Guy\n",
      "It is present here\n"
     ]
    }
   ],
   "source": [
    "# Python program to check if a key is already present in a dictionary.\n",
    "\n",
    "friends = {\"Rachel\":\"Ross\",\"Guy\":\"Hello\"}\n",
    "\n",
    "name = input(\"Enter a key here:\")\n",
    "\n",
    "if name in friends.keys():\n",
    "    print(\"It is present here\")"
   ]
  },
  {
   "cell_type": "markdown",
   "id": "746010bc",
   "metadata": {},
   "source": [
    "# 54:-"
   ]
  },
  {
   "cell_type": "code",
   "execution_count": 13,
   "id": "132be755",
   "metadata": {},
   "outputs": [
    {
     "name": "stdout",
     "output_type": "stream",
     "text": [
      "<class 'str'>\n",
      "47683\n"
     ]
    }
   ],
   "source": [
    "# Write a program to parse a string to a float or integer using python codes.\n",
    "\n",
    "# Parse String into Integer:-\n",
    "\n",
    "string = \"47683\"\n",
    "print(type(string))\n",
    "print(string)"
   ]
  },
  {
   "cell_type": "code",
   "execution_count": 14,
   "id": "96d3fd49",
   "metadata": {},
   "outputs": [
    {
     "name": "stdout",
     "output_type": "stream",
     "text": [
      "47683\n"
     ]
    },
    {
     "data": {
      "text/plain": [
       "int"
      ]
     },
     "execution_count": 14,
     "metadata": {},
     "output_type": "execute_result"
    }
   ],
   "source": [
    "int_str = int(string)\n",
    "print(int_str)\n",
    "type(int_str)"
   ]
  },
  {
   "cell_type": "code",
   "execution_count": 15,
   "id": "386c4241",
   "metadata": {},
   "outputs": [
    {
     "name": "stdout",
     "output_type": "stream",
     "text": [
      "<class 'str'>\n"
     ]
    }
   ],
   "source": [
    "# Parse String into Float:-\n",
    "\n",
    "string = \"345.86\"\n",
    "print(type(string))"
   ]
  },
  {
   "cell_type": "code",
   "execution_count": 16,
   "id": "2ef18689",
   "metadata": {},
   "outputs": [
    {
     "name": "stdout",
     "output_type": "stream",
     "text": [
      "345.86\n"
     ]
    },
    {
     "data": {
      "text/plain": [
       "float"
      ]
     },
     "execution_count": 16,
     "metadata": {},
     "output_type": "execute_result"
    }
   ],
   "source": [
    "float_str = float(string)\n",
    "print(float_str)\n",
    "type(float_str)"
   ]
  },
  {
   "cell_type": "code",
   "execution_count": 17,
   "id": "c40f9370",
   "metadata": {},
   "outputs": [
    {
     "name": "stdout",
     "output_type": "stream",
     "text": [
      "<class 'str'>\n",
      "643\n"
     ]
    },
    {
     "data": {
      "text/plain": [
       "int"
      ]
     },
     "execution_count": 17,
     "metadata": {},
     "output_type": "execute_result"
    }
   ],
   "source": [
    "# Parse String Float Numeral into Integer:-\n",
    "\n",
    "string = \"643.85\"\n",
    "print(type(string))\n",
    "str_float_int = int(float(string))\n",
    "print(str_float_int)\n",
    "type(str_float_int)"
   ]
  },
  {
   "cell_type": "markdown",
   "id": "afe070ba",
   "metadata": {},
   "source": [
    "# 55:- To covert to DateTime "
   ]
  },
  {
   "cell_type": "code",
   "execution_count": 19,
   "id": "774a7d53",
   "metadata": {},
   "outputs": [
    {
     "name": "stdout",
     "output_type": "stream",
     "text": [
      "1998-10-14 19:15:00\n",
      "<class 'datetime.datetime'>\n"
     ]
    }
   ],
   "source": [
    "# Write a python program to convert string to DateTime using python codes.\n",
    "\n",
    "# Using Datetime Module:-\n",
    "\n",
    "from datetime import datetime\n",
    "\n",
    "date = \"Oct 14 1998 7:15PM\"\n",
    "\n",
    "date_time = datetime.strptime(date, \"%b %d %Y %I:%M%p\")\n",
    "print(date_time)\n",
    "print(type(date_time))"
   ]
  },
  {
   "cell_type": "code",
   "execution_count": 20,
   "id": "10e881dc",
   "metadata": {},
   "outputs": [
    {
     "name": "stdout",
     "output_type": "stream",
     "text": [
      "1998-10-31 15:45:00\n",
      "<class 'datetime.datetime'>\n"
     ]
    }
   ],
   "source": [
    "# Using dateutil Module:-\n",
    "\n",
    "from dateutil import parser\n",
    "\n",
    "date_time = parser.parse(\"Oct 31 1998 3:45PM\")\n",
    "\n",
    "print(date_time)\n",
    "print(type(date_time))"
   ]
  },
  {
   "cell_type": "markdown",
   "id": "6625ca8a",
   "metadata": {},
   "source": [
    "# 56:-"
   ]
  },
  {
   "cell_type": "code",
   "execution_count": 25,
   "id": "b21d3b5d",
   "metadata": {},
   "outputs": [
    {
     "name": "stdout",
     "output_type": "stream",
     "text": [
      "45.8\n"
     ]
    }
   ],
   "source": [
    "# Write a program to get the last element of the list.\n",
    "\n",
    "list = [7,8,96,23,\"Python\",\"ML\",True,45.8]\n",
    "print(list[-1])"
   ]
  },
  {
   "cell_type": "markdown",
   "id": "616f4f1a",
   "metadata": {},
   "source": [
    "# 57:- Get a Substring of a string"
   ]
  },
  {
   "cell_type": "code",
   "execution_count": 27,
   "id": "8eb5d471",
   "metadata": {},
   "outputs": [
    {
     "name": "stdout",
     "output_type": "stream",
     "text": [
      "Hy u\n"
     ]
    }
   ],
   "source": [
    "# Write a python program to get a substring of a string.\n",
    "\n",
    "a = \"Hey! Guys, Welcome To You\"\n",
    "\n",
    "print(a[0:7:2])"
   ]
  },
  {
   "cell_type": "code",
   "execution_count": 28,
   "id": "3c81f8f5",
   "metadata": {},
   "outputs": [
    {
     "name": "stdout",
     "output_type": "stream",
     "text": [
      "Welcom\n"
     ]
    }
   ],
   "source": [
    "print(a[-14:-8])"
   ]
  },
  {
   "cell_type": "markdown",
   "id": "908925f0",
   "metadata": {},
   "source": [
    "# 58:-"
   ]
  },
  {
   "cell_type": "code",
   "execution_count": 31,
   "id": "ec9d0dcd",
   "metadata": {},
   "outputs": [
    {
     "name": "stdout",
     "output_type": "stream",
     "text": [
      "He is Harry potter and his friend\n"
     ]
    }
   ],
   "source": [
    "# Write a python program to print output without a newline.\n",
    "\n",
    "print(\"He is Harry potter\", end = \" \")\n",
    "print(\"and his friend\")\n"
   ]
  },
  {
   "cell_type": "markdown",
   "id": "4c981d83",
   "metadata": {},
   "source": [
    "# 59:-"
   ]
  },
  {
   "cell_type": "code",
   "execution_count": 32,
   "id": "85842d9f",
   "metadata": {},
   "outputs": [
    {
     "name": "stdout",
     "output_type": "stream",
     "text": [
      "break is a keyword in python\n",
      "john is not keyword in python\n",
      "three is not keyword in python\n",
      "continue is a keyword in python\n"
     ]
    }
   ],
   "source": [
    "# Write a program to check if a string is a valid keyword or not.\n",
    "\n",
    "import keyword\n",
    "\n",
    "words = [\"break\",\"john\",\"three\",\"continue\"]\n",
    "\n",
    "for i in range(len(words)):\n",
    "    if keyword.iskeyword(words[i]):\n",
    "        print(words[i],\"is a keyword in python\")\n",
    "    else:\n",
    "        print(words[i],\"is not keyword in python\")"
   ]
  },
  {
   "cell_type": "code",
   "execution_count": 33,
   "id": "ca0945dd",
   "metadata": {},
   "outputs": [
    {
     "name": "stdout",
     "output_type": "stream",
     "text": [
      "['False', 'None', 'True', 'and', 'as', 'assert', 'async', 'await', 'break', 'class', 'continue', 'def', 'del', 'elif', 'else', 'except', 'finally', 'for', 'from', 'global', 'if', 'import', 'in', 'is', 'lambda', 'nonlocal', 'not', 'or', 'pass', 'raise', 'return', 'try', 'while', 'with', 'yield']\n"
     ]
    }
   ],
   "source": [
    "print(keyword.kwlist)"
   ]
  },
  {
   "cell_type": "code",
   "execution_count": 34,
   "id": "5e200314",
   "metadata": {},
   "outputs": [
    {
     "ename": "SyntaxError",
     "evalue": "invalid syntax (1213399965.py, line 1)",
     "output_type": "error",
     "traceback": [
      "\u001b[1;36m  Cell \u001b[1;32mIn[34], line 1\u001b[1;36m\u001b[0m\n\u001b[1;33m    break = 45\u001b[0m\n\u001b[1;37m          ^\u001b[0m\n\u001b[1;31mSyntaxError\u001b[0m\u001b[1;31m:\u001b[0m invalid syntax\n"
     ]
    }
   ],
   "source": [
    "break = 45\n",
    "print(break)"
   ]
  },
  {
   "cell_type": "markdown",
   "id": "fb3f0677",
   "metadata": {},
   "source": [
    "# 60:- Iterators with Function"
   ]
  },
  {
   "cell_type": "code",
   "execution_count": 40,
   "id": "42322466",
   "metadata": {},
   "outputs": [
    {
     "name": "stdout",
     "output_type": "stream",
     "text": [
      "1\n",
      "2\n",
      "3\n",
      "4\n",
      "5\n"
     ]
    }
   ],
   "source": [
    "# Write a python program iterators with function.\n",
    "\n",
    "nums = [1,2,3,4,5,67,8]\n",
    "\n",
    "#for i in nums:\n",
    "#    print(i)\n",
    "\n",
    "iterate = iter(nums)\n",
    "print(iterate.__next__())\n",
    "print(iterate.__next__())\n",
    "print(iterate.__next__())\n",
    "print(iterate.__next__())\n",
    "print(iterate.__next__())"
   ]
  },
  {
   "cell_type": "code",
   "execution_count": 41,
   "id": "c7aec0ce",
   "metadata": {},
   "outputs": [
    {
     "name": "stdout",
     "output_type": "stream",
     "text": [
      "67\n"
     ]
    }
   ],
   "source": [
    "print(iterate.__next__())"
   ]
  },
  {
   "cell_type": "code",
   "execution_count": 42,
   "id": "83101787",
   "metadata": {},
   "outputs": [
    {
     "name": "stdout",
     "output_type": "stream",
     "text": [
      "8\n"
     ]
    }
   ],
   "source": [
    "print(iterate.__next__())"
   ]
  },
  {
   "cell_type": "code",
   "execution_count": 46,
   "id": "11827af9",
   "metadata": {},
   "outputs": [
    {
     "name": "stdout",
     "output_type": "stream",
     "text": [
      "j\n",
      "d\n",
      "g\n",
      "h\n"
     ]
    }
   ],
   "source": [
    "string = \"jdghakjnmcv\"\n",
    "\n",
    "iterate = iter(string)\n",
    "print(iterate.__next__())\n",
    "print(iterate.__next__())\n",
    "print(iterate.__next__())\n",
    "print(iterate.__next__())"
   ]
  },
  {
   "cell_type": "code",
   "execution_count": 47,
   "id": "5a78d70e",
   "metadata": {},
   "outputs": [
    {
     "name": "stdout",
     "output_type": "stream",
     "text": [
      "1\n",
      "2\n",
      "3\n",
      "4\n",
      "5\n"
     ]
    }
   ],
   "source": [
    "class Fantastic_Five:\n",
    "    def __init__(self):\n",
    "        self.num = 1\n",
    "    \n",
    "    def __iter__(self):\n",
    "        return self\n",
    "    \n",
    "    def __next__(self):\n",
    "        if self.num <= 5:\n",
    "            value = self.num\n",
    "            self.num += 1\n",
    "            return value\n",
    "        else:\n",
    "            raise StopIteration\n",
    "            \n",
    "FF = Fantastic_Five()\n",
    "\n",
    "for i in FF:\n",
    "    print(i)"
   ]
  },
  {
   "cell_type": "markdown",
   "id": "50d2b43d",
   "metadata": {},
   "source": [
    "# 61:-List Comprehension"
   ]
  },
  {
   "cell_type": "code",
   "execution_count": 2,
   "id": "9ebef96a",
   "metadata": {},
   "outputs": [
    {
     "name": "stdout",
     "output_type": "stream",
     "text": [
      "['SHIV', 'HULK', 'THOR', 'VISION']\n"
     ]
    }
   ],
   "source": [
    "# Write a python program with list comprehension.\n",
    "\n",
    "a = [\"shiv\",\"hulk\",\"thor\",\"vision\"]\n",
    "\n",
    "# for i in a:\n",
    "#    print(i.upper())\n",
    "\n",
    "new_list = [i.upper() for i in a]\n",
    "print(new_list)"
   ]
  },
  {
   "cell_type": "code",
   "execution_count": 3,
   "id": "7be4c79b",
   "metadata": {},
   "outputs": [
    {
     "name": "stdout",
     "output_type": "stream",
     "text": [
      "[0, 1, 2, 3, 4, 5, 6, 7, 8, 9]\n"
     ]
    }
   ],
   "source": [
    "m = [i for i in range(10)]\n",
    "print(m)"
   ]
  },
  {
   "cell_type": "code",
   "execution_count": 4,
   "id": "abdc1217",
   "metadata": {},
   "outputs": [
    {
     "name": "stdout",
     "output_type": "stream",
     "text": [
      "[1, 2, 3, 4, 5, 6, 7, 8, 9, 10]\n"
     ]
    }
   ],
   "source": [
    "m = [i for i in range(1,11)]\n",
    "print(m)"
   ]
  },
  {
   "cell_type": "code",
   "execution_count": 5,
   "id": "24b0877f",
   "metadata": {},
   "outputs": [
    {
     "name": "stdout",
     "output_type": "stream",
     "text": [
      "['SHIV', 'HULK', 'THOR', 'VISION', 2, 4, 6]\n"
     ]
    }
   ],
   "source": [
    "k = [1,2,3,4,5,6,7]\n",
    "for i in k:\n",
    "    if i % 2 == 0:\n",
    "        new_list.append(i)\n",
    "print(new_list)"
   ]
  },
  {
   "cell_type": "code",
   "execution_count": 6,
   "id": "2e25fd87",
   "metadata": {},
   "outputs": [
    {
     "name": "stdout",
     "output_type": "stream",
     "text": [
      "[0, 2, 4, 6, 8]\n"
     ]
    }
   ],
   "source": [
    "m = [i for i in range(10) if i%2==0]\n",
    "print(m)"
   ]
  },
  {
   "cell_type": "code",
   "execution_count": 12,
   "id": "e0483808",
   "metadata": {},
   "outputs": [
    {
     "name": "stdout",
     "output_type": "stream",
     "text": [
      "[None, <generator object <genexpr> at 0x000001238FDA6400>]\n"
     ]
    }
   ],
   "source": [
    "list = [new_list.append(i),(i for i in range(1,11) if i%2==0)]\n",
    "print(list)"
   ]
  },
  {
   "cell_type": "markdown",
   "id": "423309ca",
   "metadata": {},
   "source": [
    "# 62:- Text to Speech"
   ]
  },
  {
   "cell_type": "code",
   "execution_count": 1,
   "id": "d0d9a9f0",
   "metadata": {},
   "outputs": [
    {
     "name": "stdout",
     "output_type": "stream",
     "text": [
      "Enter something here:Hello\n"
     ]
    },
    {
     "name": "stderr",
     "output_type": "stream",
     "text": [
      "\n",
      "    Error 263 for command:\n",
      "        open Welcome.mp3\n",
      "    The specified device is not open or is not recognized by MCI.\n",
      "\n",
      "    Error 263 for command:\n",
      "        close Welcome.mp3\n",
      "    The specified device is not open or is not recognized by MCI.\n",
      "Failed to close the file: Welcome.mp3\n"
     ]
    },
    {
     "ename": "PlaysoundException",
     "evalue": "\n    Error 263 for command:\n        open Welcome.mp3\n    The specified device is not open or is not recognized by MCI.",
     "output_type": "error",
     "traceback": [
      "\u001b[1;31m---------------------------------------------------------------------------\u001b[0m",
      "\u001b[1;31mPlaysoundException\u001b[0m                        Traceback (most recent call last)",
      "Cell \u001b[1;32mIn[1], line 7\u001b[0m\n\u001b[0;32m      5\u001b[0m sound \u001b[38;5;241m=\u001b[39m gtts\u001b[38;5;241m.\u001b[39mgTTS(text,lang \u001b[38;5;241m=\u001b[39m \u001b[38;5;124m\"\u001b[39m\u001b[38;5;124men\u001b[39m\u001b[38;5;124m\"\u001b[39m)\n\u001b[0;32m      6\u001b[0m sound\u001b[38;5;241m.\u001b[39msave(\u001b[38;5;124m\"\u001b[39m\u001b[38;5;124mWelcome.mp3\u001b[39m\u001b[38;5;124m\"\u001b[39m)\n\u001b[1;32m----> 7\u001b[0m \u001b[43mplaysound\u001b[49m\u001b[38;5;241;43m.\u001b[39;49m\u001b[43mplaysound\u001b[49m\u001b[43m(\u001b[49m\u001b[38;5;124;43m\"\u001b[39;49m\u001b[38;5;124;43mWelcome.mp3\u001b[39;49m\u001b[38;5;124;43m\"\u001b[39;49m\u001b[43m)\u001b[49m\n",
      "File \u001b[1;32m~\\AppData\\Local\\Programs\\Python\\Python311\\Lib\\site-packages\\playsound.py:72\u001b[0m, in \u001b[0;36m_playsoundWin\u001b[1;34m(sound, block)\u001b[0m\n\u001b[0;32m     70\u001b[0m \u001b[38;5;28;01mtry\u001b[39;00m:\n\u001b[0;32m     71\u001b[0m     logger\u001b[38;5;241m.\u001b[39mdebug(\u001b[38;5;124m'\u001b[39m\u001b[38;5;124mStarting\u001b[39m\u001b[38;5;124m'\u001b[39m)\n\u001b[1;32m---> 72\u001b[0m     \u001b[43mwinCommand\u001b[49m\u001b[43m(\u001b[49m\u001b[38;5;124;43mu\u001b[39;49m\u001b[38;5;124;43m'\u001b[39;49m\u001b[38;5;124;43mopen \u001b[39;49m\u001b[38;5;132;43;01m{}\u001b[39;49;00m\u001b[38;5;124;43m'\u001b[39;49m\u001b[38;5;241;43m.\u001b[39;49m\u001b[43mformat\u001b[49m\u001b[43m(\u001b[49m\u001b[43msound\u001b[49m\u001b[43m)\u001b[49m\u001b[43m)\u001b[49m\n\u001b[0;32m     73\u001b[0m     winCommand(\u001b[38;5;124mu\u001b[39m\u001b[38;5;124m'\u001b[39m\u001b[38;5;124mplay \u001b[39m\u001b[38;5;132;01m{}\u001b[39;00m\u001b[38;5;132;01m{}\u001b[39;00m\u001b[38;5;124m'\u001b[39m\u001b[38;5;241m.\u001b[39mformat(sound, \u001b[38;5;124m'\u001b[39m\u001b[38;5;124m wait\u001b[39m\u001b[38;5;124m'\u001b[39m \u001b[38;5;28;01mif\u001b[39;00m block \u001b[38;5;28;01melse\u001b[39;00m \u001b[38;5;124m'\u001b[39m\u001b[38;5;124m'\u001b[39m))\n\u001b[0;32m     74\u001b[0m     logger\u001b[38;5;241m.\u001b[39mdebug(\u001b[38;5;124m'\u001b[39m\u001b[38;5;124mReturning\u001b[39m\u001b[38;5;124m'\u001b[39m)\n",
      "File \u001b[1;32m~\\AppData\\Local\\Programs\\Python\\Python311\\Lib\\site-packages\\playsound.py:64\u001b[0m, in \u001b[0;36m_playsoundWin.<locals>.winCommand\u001b[1;34m(*command)\u001b[0m\n\u001b[0;32m     60\u001b[0m     exceptionMessage \u001b[38;5;241m=\u001b[39m (\u001b[38;5;124m'\u001b[39m\u001b[38;5;130;01m\\n\u001b[39;00m\u001b[38;5;124m    Error \u001b[39m\u001b[38;5;124m'\u001b[39m \u001b[38;5;241m+\u001b[39m \u001b[38;5;28mstr\u001b[39m(errorCode) \u001b[38;5;241m+\u001b[39m \u001b[38;5;124m'\u001b[39m\u001b[38;5;124m for command:\u001b[39m\u001b[38;5;124m'\u001b[39m\n\u001b[0;32m     61\u001b[0m                         \u001b[38;5;124m'\u001b[39m\u001b[38;5;130;01m\\n\u001b[39;00m\u001b[38;5;124m        \u001b[39m\u001b[38;5;124m'\u001b[39m \u001b[38;5;241m+\u001b[39m command\u001b[38;5;241m.\u001b[39mdecode(\u001b[38;5;124m'\u001b[39m\u001b[38;5;124mutf-16\u001b[39m\u001b[38;5;124m'\u001b[39m) \u001b[38;5;241m+\u001b[39m\n\u001b[0;32m     62\u001b[0m                         \u001b[38;5;124m'\u001b[39m\u001b[38;5;130;01m\\n\u001b[39;00m\u001b[38;5;124m    \u001b[39m\u001b[38;5;124m'\u001b[39m \u001b[38;5;241m+\u001b[39m errorBuffer\u001b[38;5;241m.\u001b[39mraw\u001b[38;5;241m.\u001b[39mdecode(\u001b[38;5;124m'\u001b[39m\u001b[38;5;124mutf-16\u001b[39m\u001b[38;5;124m'\u001b[39m)\u001b[38;5;241m.\u001b[39mrstrip(\u001b[38;5;124m'\u001b[39m\u001b[38;5;130;01m\\0\u001b[39;00m\u001b[38;5;124m'\u001b[39m))\n\u001b[0;32m     63\u001b[0m     logger\u001b[38;5;241m.\u001b[39merror(exceptionMessage)\n\u001b[1;32m---> 64\u001b[0m     \u001b[38;5;28;01mraise\u001b[39;00m PlaysoundException(exceptionMessage)\n\u001b[0;32m     65\u001b[0m \u001b[38;5;28;01mreturn\u001b[39;00m buf\u001b[38;5;241m.\u001b[39mvalue\n",
      "\u001b[1;31mPlaysoundException\u001b[0m: \n    Error 263 for command:\n        open Welcome.mp3\n    The specified device is not open or is not recognized by MCI."
     ]
    }
   ],
   "source": [
    "import gtts\n",
    "import playsound\n",
    "\n",
    "text = input(\"Enter something here:\")\n",
    "sound = gtts.gTTS(text,lang = \"en\")\n",
    "sound.save(\"Welcome.mp3\")\n",
    "playsound.playsound(\"Welcome.mp3\")"
   ]
  },
  {
   "cell_type": "markdown",
   "id": "c40478df",
   "metadata": {},
   "source": [
    "# 63:-"
   ]
  },
  {
   "cell_type": "code",
   "execution_count": 3,
   "id": "144258af",
   "metadata": {},
   "outputs": [
    {
     "name": "stdout",
     "output_type": "stream",
     "text": [
      "Good Job\n"
     ]
    }
   ],
   "source": [
    "# Write a python program to 15 tips and tricks a better code.\n",
    "\n",
    "# 1:- Shorthand if satement------>\n",
    "marks = 80\n",
    "\n",
    "if marks == 90 or marks == 80 or marks == 95:\n",
    "    print(\"Good Job\")\n",
    "    \n",
    "if 80 in [90,45,78]:\n",
    "    print(\"Good Job!\")"
   ]
  },
  {
   "cell_type": "code",
   "execution_count": 5,
   "id": "40a733cf",
   "metadata": {},
   "outputs": [
    {
     "name": "stdout",
     "output_type": "stream",
     "text": [
      "Good Job!\n",
      "God Job!\n"
     ]
    }
   ],
   "source": [
    "# 2:- Shorthand if-else Statement---->\n",
    "\n",
    "marks = 78\n",
    "\n",
    "if marks > 90:\n",
    "    print(\"Excellent Work\")\n",
    "else:\n",
    "    print(\"Good Job!\")\n",
    "print(\"Excellent Work\") if marks > 90 else print(\"God Job!\")"
   ]
  },
  {
   "cell_type": "code",
   "execution_count": 7,
   "id": "cc6e6dda",
   "metadata": {},
   "outputs": [
    {
     "name": "stdout",
     "output_type": "stream",
     "text": [
      "[86, 112, 178, 84, 46]\n",
      "Using comprehension [86, 112, 178, 84, 46]\n"
     ]
    }
   ],
   "source": [
    "# 3:- List Comprehensions:--->\n",
    "\n",
    "l = [43,56,89,42,23]\n",
    "\n",
    "a = []\n",
    "for i in l:\n",
    "    a.append(i*2)\n",
    "print(a)\n",
    "\n",
    "x = [i*2 for i in l]\n",
    "print(\"Using comprehension\",x)"
   ]
  },
  {
   "cell_type": "code",
   "execution_count": 9,
   "id": "19e96426",
   "metadata": {},
   "outputs": [
    {
     "name": "stdout",
     "output_type": "stream",
     "text": [
      "0 43\n",
      "1 56\n",
      "2 89\n",
      "3 42\n",
      "4 23\n",
      "Enumerate: (0, 43)\n",
      "Enumerate: (1, 56)\n",
      "Enumerate: (2, 89)\n",
      "Enumerate: (3, 42)\n",
      "Enumerate: (4, 23)\n"
     ]
    }
   ],
   "source": [
    "# 4:-Using Enumerate Function\n",
    "\n",
    "l = [43,56,89,42,23]\n",
    "index = 0\n",
    "for i in l:\n",
    "    print(index,i)\n",
    "    index += 1\n",
    "    \n",
    "for i in enumerate(l):\n",
    "    print(\"Enumerate:\",i)"
   ]
  },
  {
   "cell_type": "code",
   "execution_count": 12,
   "id": "248c4a79",
   "metadata": {},
   "outputs": [
    {
     "name": "stdout",
     "output_type": "stream",
     "text": [
      "90677990\n",
      "90,677,990\n"
     ]
    }
   ],
   "source": [
    "# 5:- Using as separators--->\n",
    "\n",
    "num1 = 90_67_45_34\n",
    "num2 = 34_56\n",
    "\n",
    "sum = (num1+num2)\n",
    "print(sum)\n",
    "\n",
    "print(f'{sum:,}')"
   ]
  },
  {
   "cell_type": "code",
   "execution_count": 14,
   "id": "f64274f3",
   "metadata": {},
   "outputs": [
    {
     "name": "stdout",
     "output_type": "stream",
     "text": [
      "16\n",
      "Lambda 16\n"
     ]
    }
   ],
   "source": [
    "# 6:- Lambda Function:--->\n",
    "\n",
    "def square(x):\n",
    "    return x*x\n",
    "\n",
    "print(square(4))\n",
    "\n",
    "a = lambda b: b**2\n",
    "print(\"Lambda\",a(4))\n",
    "    "
   ]
  },
  {
   "cell_type": "code",
   "execution_count": 15,
   "id": "fdfb4fcb",
   "metadata": {},
   "outputs": [
    {
     "name": "stdout",
     "output_type": "stream",
     "text": [
      "Joe has scored 90 marks in math\n",
      "Chandler has scored 60 marks in art\n",
      "Ross has scored 50 marks in biology\n",
      "Phoebe has scored 95 marks in psychology\n"
     ]
    }
   ],
   "source": [
    "# 7:- Using Zip Function--->\n",
    "\n",
    "print(\"Joe has scored 90 marks in math\")\n",
    "print(\"Chandler has scored 60 marks in art\")\n",
    "print(\"Ross has scored 50 marks in biology\")\n",
    "print(\"Phoebe has scored 95 marks in psychology\")\n",
    "\n"
   ]
  },
  {
   "cell_type": "code",
   "execution_count": 19,
   "id": "74259b2c",
   "metadata": {},
   "outputs": [
    {
     "name": "stdout",
     "output_type": "stream",
     "text": [
      "['Joe', 'Chandler', 'Ross', 'Phoebe'] has scored [90, 60, 50, 95] in ['math', 'art', 'biology', 'psychology']\n"
     ]
    }
   ],
   "source": [
    "names = [\"Joe\",\"Chandler\",\"Ross\",\"Phoebe\"]\n",
    "marks = [90,60,50,95]\n",
    "subjects = [\"math\",\"art\",\"biology\",\"psychology\"]\n",
    "print(f'{names} has scored {marks} in {subjects}')"
   ]
  },
  {
   "cell_type": "code",
   "execution_count": 20,
   "id": "e8d01657",
   "metadata": {},
   "outputs": [
    {
     "name": "stdout",
     "output_type": "stream",
     "text": [
      "Joe has scored 90 in math\n",
      "Chandler has scored 60 in art\n",
      "Ross has scored 50 in biology\n",
      "Phoebe has scored 95 in psychology\n"
     ]
    }
   ],
   "source": [
    "for name,mark,subject in zip(names,marks,subjects):\n",
    "    print(name,\"has scored\",mark,\"in\",subject)"
   ]
  },
  {
   "cell_type": "code",
   "execution_count": 22,
   "id": "d020094e",
   "metadata": {},
   "outputs": [
    {
     "name": "stdout",
     "output_type": "stream",
     "text": [
      "Enter username:sonamdj\n",
      "Enter password········\n",
      "Login Successfully\n"
     ]
    }
   ],
   "source": [
    "# 8:- Protect passwords in terminal-------->\n",
    "from getpass import getpass\n",
    "\n",
    "username = input(\"Enter username:\")\n",
    "#password = input(\"Enter password\")\n",
    "password = getpass(\"Enter password\")\n",
    "\n",
    "print(\"Login Successfully\")"
   ]
  },
  {
   "cell_type": "code",
   "execution_count": 23,
   "id": "f8a7cfbb",
   "metadata": {},
   "outputs": [
    {
     "name": "stdout",
     "output_type": "stream",
     "text": [
      "[34, 56, 24, 56, 78, 97]\n",
      "{97, 34, 78, 56, 24}\n"
     ]
    }
   ],
   "source": [
    "# 9:- Using sets to sort the unique values---->\n",
    "\n",
    "l = [34,56,24,56,78,97]\n",
    "\n",
    "print(l)\n",
    "\n",
    "my_set = set(l)\n",
    "print(my_set)"
   ]
  },
  {
   "cell_type": "code",
   "execution_count": 24,
   "id": "c1325934",
   "metadata": {},
   "outputs": [
    {
     "name": "stdout",
     "output_type": "stream",
     "text": [
      "my name is  Ayushi\n",
      "My name is Ayushi\n"
     ]
    }
   ],
   "source": [
    "# 10:- Format string with f string--->\n",
    "\n",
    "name = \"Ayushi\"\n",
    "\n",
    "print(\"my name is \",name)\n",
    "print(f'My name is {name}')"
   ]
  },
  {
   "cell_type": "code",
   "execution_count": 25,
   "id": "f5bcdb35",
   "metadata": {},
   "outputs": [
    {
     "name": "stdout",
     "output_type": "stream",
     "text": [
      "The addtion of  23 and 45 is 68\n",
      "The addition of 23 and 45 is 68\n"
     ]
    }
   ],
   "source": [
    "n1 = 23\n",
    "n2 = 45\n",
    "\n",
    "print(\"The addtion of \", n1,\"and\",n2,\"is\",n1+n2)\n",
    "print(f'The addition of {n1} and {n2} is {n1+n2}')"
   ]
  },
  {
   "cell_type": "code",
   "execution_count": 26,
   "id": "fb521c3b",
   "metadata": {},
   "outputs": [
    {
     "name": "stdout",
     "output_type": "stream",
     "text": [
      "[34, 54, 56, 65, 70, 78, 89]\n"
     ]
    }
   ],
   "source": [
    "# 10:- Using sorted to sort the complex iterables--->\n",
    "\n",
    "l = [34,56,78,65,89,70,54]\n",
    "\n",
    "dl = [{\"name\":\"Ross\",\"marks\":67},\n",
    "     {\"name\":\"Joe\",\"marks\":56}]\n",
    "\n",
    "sorted_list = sorted(l)\n",
    "print(sorted_list)"
   ]
  },
  {
   "cell_type": "code",
   "execution_count": 27,
   "id": "e18c71b1",
   "metadata": {},
   "outputs": [
    {
     "name": "stdout",
     "output_type": "stream",
     "text": [
      "[89, 78, 70, 65, 56, 54, 34]\n"
     ]
    }
   ],
   "source": [
    "sorted_list = sorted(l,reverse=True)\n",
    "print(sorted_list)"
   ]
  },
  {
   "cell_type": "code",
   "execution_count": 28,
   "id": "a2f14297",
   "metadata": {},
   "outputs": [],
   "source": [
    "dl = [{\"name\":\"Ross\",\"marks\":67},\n",
    "     {\"name\":\"Joe\",\"marks\":56}]\n",
    "sorted_data = sorted(dl,key = lambda x:x[\"marks\"])"
   ]
  },
  {
   "cell_type": "code",
   "execution_count": 30,
   "id": "319a6caa",
   "metadata": {},
   "outputs": [
    {
     "name": "stdout",
     "output_type": "stream",
     "text": [
      "[{'name': 'Joe', 'marks': 56}, {'name': 'Ross', 'marks': 67}]\n",
      "{'name': 'Joe', 'marks': 56}\n",
      "{'name': 'Ross', 'marks': 67}\n"
     ]
    }
   ],
   "source": [
    "print(sorted_data)\n",
    "\n",
    "for i in sorted_data:\n",
    "    print(i)"
   ]
  },
  {
   "cell_type": "code",
   "execution_count": 32,
   "id": "5bc4435f",
   "metadata": {},
   "outputs": [
    {
     "name": "stdout",
     "output_type": "stream",
     "text": [
      "{'Name': 'Ross', 'Marks': 56, 'Hobby': 'Singing'}\n"
     ]
    }
   ],
   "source": [
    "# 11:- Merge Dictionaries using ** ------>\n",
    "\n",
    "dict1 = {\"Name\":\"Ross\",\"Marks\":56}\n",
    "dict2 = {\"Hobby\":\"Singing\"}\n",
    "\n",
    "dict = {**dict1,**dict2}\n",
    "print(dict)"
   ]
  },
  {
   "cell_type": "code",
   "execution_count": 35,
   "id": "3a01bf9d",
   "metadata": {},
   "outputs": [
    {
     "name": "stdout",
     "output_type": "stream",
     "text": [
      "45\n",
      "67\n",
      "89\n"
     ]
    }
   ],
   "source": [
    "# 12:- Unpacking using _ and * variable-->\n",
    "\n",
    "a,b,c = (45,67,89)\n",
    "print(a)\n",
    "print(b)\n",
    "print(c)"
   ]
  },
  {
   "cell_type": "code",
   "execution_count": 37,
   "id": "582d6e6c",
   "metadata": {},
   "outputs": [
    {
     "name": "stdout",
     "output_type": "stream",
     "text": [
      "45\n",
      "67\n",
      "[89, 90, 6, 45, 76]\n"
     ]
    }
   ],
   "source": [
    "a,b,*c = (45,67,89,90,6,45,76)\n",
    "print(a)\n",
    "print(b)\n",
    "print(c)"
   ]
  },
  {
   "cell_type": "code",
   "execution_count": 38,
   "id": "cdf93767",
   "metadata": {},
   "outputs": [
    {
     "name": "stdout",
     "output_type": "stream",
     "text": [
      "45\n",
      "67\n"
     ]
    }
   ],
   "source": [
    "a,b,*_ = (45,67,89,90,6,45,76)\n",
    "print(a)\n",
    "print(b)\n",
    "#print(c)"
   ]
  },
  {
   "cell_type": "code",
   "execution_count": 46,
   "id": "8d607eb2",
   "metadata": {},
   "outputs": [
    {
     "ename": "TypeError",
     "evalue": "'int' object is not callable",
     "output_type": "error",
     "traceback": [
      "\u001b[1;31m---------------------------------------------------------------------------\u001b[0m",
      "\u001b[1;31mTypeError\u001b[0m                                 Traceback (most recent call last)",
      "Cell \u001b[1;32mIn[46], line 6\u001b[0m\n\u001b[0;32m      2\u001b[0m \u001b[38;5;28;01mimport\u001b[39;00m \u001b[38;5;21;01msys\u001b[39;00m\n\u001b[0;32m      4\u001b[0m l \u001b[38;5;241m=\u001b[39m [i \u001b[38;5;28;01mfor\u001b[39;00m i \u001b[38;5;129;01min\u001b[39;00m \u001b[38;5;28mrange\u001b[39m(\u001b[38;5;241m90056\u001b[39m)]\n\u001b[1;32m----> 6\u001b[0m \u001b[38;5;28mprint\u001b[39m(\u001b[38;5;28;43msum\u001b[39;49m\u001b[43m(\u001b[49m\u001b[43ml\u001b[49m\u001b[43m)\u001b[49m)\n\u001b[0;32m      7\u001b[0m \u001b[38;5;28mprint\u001b[39m(sys\u001b[38;5;241m.\u001b[39mgetsizeof(l),\u001b[38;5;124m\"\u001b[39m\u001b[38;5;124mbytes\u001b[39m\u001b[38;5;124m\"\u001b[39m)\n\u001b[0;32m      9\u001b[0m g \u001b[38;5;241m=\u001b[39m (j \u001b[38;5;28;01mfor\u001b[39;00m j \u001b[38;5;129;01min\u001b[39;00m \u001b[38;5;28mrange\u001b[39m(\u001b[38;5;241m6800\u001b[39m))\n",
      "\u001b[1;31mTypeError\u001b[0m: 'int' object is not callable"
     ]
    }
   ],
   "source": [
    "# 13:- Generators to save the memory----->\n",
    "import sys\n",
    "\n",
    "l = [i for i in range(90056)]\n",
    "\n",
    "print(sum(l))\n",
    "print(sys.getsizeof(l),\"bytes\")\n",
    "\n",
    "g = (j for j in range(6800))\n",
    "print(sum(g))\n",
    "print(sys.getsizeof(g),\"bytes\")"
   ]
  },
  {
   "cell_type": "code",
   "execution_count": 43,
   "id": "5d3543be",
   "metadata": {
    "scrolled": true
   },
   "outputs": [
    {
     "name": "stdout",
     "output_type": "stream",
     "text": [
      "\n",
      "\n",
      "\n",
      "\n",
      "\n",
      "\n",
      "\n",
      "Welcome\n"
     ]
    }
   ],
   "source": [
    "# 14:- Using .join to Concatenate string--->\n",
    "l = \"Welcome\"\n",
    "a = \"\"\n",
    "for i in l:\n",
    "    a += \"\"\n",
    "    print(a)\n",
    "    \n",
    "b = \"\".join(l)\n",
    "print(b)"
   ]
  },
  {
   "cell_type": "markdown",
   "id": "fcd11faa",
   "metadata": {},
   "source": [
    "# 64:-Voice Trans"
   ]
  },
  {
   "cell_type": "code",
   "execution_count": null,
   "id": "822f8adb",
   "metadata": {},
   "outputs": [],
   "source": [
    "# pip install googletrans\n",
    "# pip install speech_recognition\n",
    "# pip install gTTs\n",
    "# pip install playsound\n",
    "\n",
    "import googletrans\n",
    "import speech_recognition\n",
    "import gtts\n",
    "import playsound\n",
    "\n",
    "recognizer = speech_recognition.Recognizer()\n",
    "\n",
    "with speech_recognition.Microphone() as source:\n",
    "    print(\"speak now\")\n",
    "    voice = recognizer.listen(source)\n",
    "    text = recognizer.recognize_google(voice,lenguage=\"fr\")\n",
    "\n",
    "    print(text)\n",
    "\n",
    "translator = googletrans.Translator()\n",
    "translation = translator.translate(text,dest=\"fr\")\n",
    "print(translation.text)\n",
    "\n",
    "converted_audio = gtts.gTTs(translation.text, lang = \"fr\")\n",
    "converted_audio.save(\"hello.mp3\")\n",
    "playsound.playsound(\"hello.mp3\")\n",
    "\n",
    "#print(googletrans.LANGUAGE)\n"
   ]
  },
  {
   "cell_type": "markdown",
   "id": "cc689b72",
   "metadata": {},
   "source": [
    "# 65:- Shorthand"
   ]
  },
  {
   "cell_type": "code",
   "execution_count": 5,
   "id": "f0dc2d06",
   "metadata": {},
   "outputs": [
    {
     "name": "stdout",
     "output_type": "stream",
     "text": [
      "enter a number here:24\n",
      "even\n"
     ]
    }
   ],
   "source": [
    "# If and If-Else statement using python.\n",
    "\n",
    "num = int(input(\"enter a number here:\"))\n",
    "\n",
    "if num%2 == 0:\n",
    "    print(\"even\")\n"
   ]
  },
  {
   "cell_type": "code",
   "execution_count": 7,
   "id": "5a25ee98",
   "metadata": {},
   "outputs": [
    {
     "name": "stdout",
     "output_type": "stream",
     "text": [
      "enter a number here:46\n",
      "even\n"
     ]
    }
   ],
   "source": [
    "# ShortHand if statement\n",
    "num = int(input(\"enter a number here:\"))\n",
    "if num % 2 ==0: print(\"even\")"
   ]
  },
  {
   "cell_type": "code",
   "execution_count": 8,
   "id": "0445c18b",
   "metadata": {},
   "outputs": [
    {
     "name": "stdout",
     "output_type": "stream",
     "text": [
      "enter a number here:77\n",
      "odd\n"
     ]
    }
   ],
   "source": [
    "# if-else statement\n",
    "num = int(input(\"enter a number here:\"))\n",
    "\n",
    "if num % 2 == 0:\n",
    "    print(\"even\")\n",
    "else:\n",
    "    print(\"odd\")"
   ]
  },
  {
   "cell_type": "code",
   "execution_count": 9,
   "id": "0860eda4",
   "metadata": {},
   "outputs": [
    {
     "name": "stdout",
     "output_type": "stream",
     "text": [
      "enter a number here:44\n",
      "even\n"
     ]
    }
   ],
   "source": [
    "# Shothand if-else statement:---->\n",
    "num = int(input(\"enter a number here:\"))\n",
    "print(\"even\") if num % 2 == 0 else print(\"odd\")"
   ]
  },
  {
   "cell_type": "markdown",
   "id": "550118d2",
   "metadata": {},
   "source": [
    "# 66:- AudioBook"
   ]
  },
  {
   "cell_type": "code",
   "execution_count": null,
   "id": "bb885607",
   "metadata": {},
   "outputs": [],
   "source": [
    "# Libraries:-\n",
    "# pip install pyttsx3\n",
    "# pip install PyPDF2\n",
    "\n",
    "import pyttsx3\n",
    "import PyPDF2\n",
    "\n",
    "file = open(\"Climate_change.pdf\",mode = \"rb\")\n",
    "pdf_reader = PyPDF2.PdfFileReader(file)\n",
    "pages = pdf_reader.numPages\n",
    "print(pages)\n",
    "\n",
    "melo = pyttsx3.init()\n",
    "\n",
    "for in range(2,pages):\n",
    "    page = pdf_reader.getPage(2)\n",
    "    \n",
    "\n",
    "#page = pdf_reader.getPage(6) # use for one page read\n",
    "    text = page.extractText()\n",
    "    melo.say(\"text\")\n",
    "\n",
    "    melo.runAndWait()"
   ]
  },
  {
   "cell_type": "markdown",
   "id": "153c9f79",
   "metadata": {},
   "source": [
    "# 67:- Rock Paper Scissors"
   ]
  },
  {
   "cell_type": "code",
   "execution_count": null,
   "id": "5a440f86",
   "metadata": {},
   "outputs": [],
   "source": [
    "# Rock Paper Scissors: Build a Game Using Python Code.\n",
    "\n",
    "import random\n",
    "\n",
    "print(\"~~~~~~~~~~~~~Welcome to RPS~~~~~~~~~~~~~~~~~~\")\n",
    "\n",
    "user_score = 0\n",
    "comp_score = 0\n",
    "ties = 0\n",
    "name = input(\"Enter your name here:\")\n",
    "print(\"\"\"\n",
    "Winning Rules:\n",
    "\n",
    "1. Paper vs Rock---> Paper\n",
    "2. Rock vs Scissors---> Rock\n",
    "3. Scissors vs Paper---> Scissors\n",
    "\"\"\")"
   ]
  },
  {
   "cell_type": "code",
   "execution_count": null,
   "id": "b79ceb3e",
   "metadata": {},
   "outputs": [],
   "source": []
  },
  {
   "cell_type": "markdown",
   "id": "9d42c106",
   "metadata": {},
   "source": [
    "# 75:-"
   ]
  },
  {
   "cell_type": "code",
   "execution_count": null,
   "id": "9e6865ce",
   "metadata": {},
   "outputs": [],
   "source": []
  },
  {
   "cell_type": "code",
   "execution_count": 54,
   "id": "2fac7c67",
   "metadata": {},
   "outputs": [
    {
     "name": "stdout",
     "output_type": "stream",
     "text": [
      "['John 89\\n', 'Mahi 86']\n"
     ]
    }
   ],
   "source": [
    "# Write a program to read a file line by line into a list.\n",
    "\n",
    "# Using readlines()\n",
    "\n",
    "f = open(\"file.txt\",\"r\")\n",
    "lines = f.readlines()\n",
    "print(lines)"
   ]
  },
  {
   "cell_type": "code",
   "execution_count": 55,
   "id": "83f6f7b1",
   "metadata": {},
   "outputs": [
    {
     "name": "stdout",
     "output_type": "stream",
     "text": [
      "['John 89', 'Mahi 86']\n"
     ]
    }
   ],
   "source": [
    "new_lines = [x.strip() for x in lines]\n",
    "print(new_lines)"
   ]
  },
  {
   "cell_type": "code",
   "execution_count": null,
   "id": "28ba4b50",
   "metadata": {},
   "outputs": [],
   "source": [
    "new_lines = [x.strip() for x in lines]\n",
    "print(new_lines)"
   ]
  },
  {
   "cell_type": "markdown",
   "id": "0de6bbd7",
   "metadata": {},
   "source": [
    "# 76:-"
   ]
  },
  {
   "cell_type": "code",
   "execution_count": 52,
   "id": "eba5b841",
   "metadata": {},
   "outputs": [
    {
     "name": "stdout",
     "output_type": "stream",
     "text": [
      "{'John': 85, 'Lisa': 477, 'David': 46}\n",
      "{'Lisa': 477, 'David': 46}\n"
     ]
    }
   ],
   "source": [
    "# Write a program to delete an element from a dictionary using python program.\n",
    "\n",
    "# Using del statement:-\n",
    "\n",
    "marks = {\"John\":85,\"Lisa\":477,\"David\":46}\n",
    "print(marks)\n",
    "\n",
    "del marks[\"John\"]\n",
    "print(marks)"
   ]
  },
  {
   "cell_type": "code",
   "execution_count": 53,
   "id": "62ff6dcd",
   "metadata": {},
   "outputs": [
    {
     "name": "stdout",
     "output_type": "stream",
     "text": [
      "{'David': 46}\n"
     ]
    }
   ],
   "source": [
    "# Using Pop function:-\n",
    "pop_item = marks.pop(\"Lisa\")\n",
    "print(marks)"
   ]
  },
  {
   "cell_type": "markdown",
   "id": "f15085ca",
   "metadata": {},
   "source": [
    "# 77:-"
   ]
  },
  {
   "cell_type": "code",
   "execution_count": 50,
   "id": "15268c3a",
   "metadata": {},
   "outputs": [
    {
     "name": "stdout",
     "output_type": "stream",
     "text": [
      "Enter something here:7.9\n",
      "True\n"
     ]
    }
   ],
   "source": [
    "# Write a program to check if a string is a number(float).\n",
    "\n",
    "num = input(\"Enter something here:\")\n",
    "def float_check(num):\n",
    "    try:\n",
    "        float(num)\n",
    "        return True\n",
    "    except:\n",
    "        return False\n",
    "print(float_check(num))"
   ]
  },
  {
   "cell_type": "code",
   "execution_count": null,
   "id": "c8c9c4cb",
   "metadata": {},
   "outputs": [],
   "source": []
  }
 ],
 "metadata": {
  "kernelspec": {
   "display_name": "Python 3 (ipykernel)",
   "language": "python",
   "name": "python3"
  },
  "language_info": {
   "codemirror_mode": {
    "name": "ipython",
    "version": 3
   },
   "file_extension": ".py",
   "mimetype": "text/x-python",
   "name": "python",
   "nbconvert_exporter": "python",
   "pygments_lexer": "ipython3",
   "version": "3.11.1"
  }
 },
 "nbformat": 4,
 "nbformat_minor": 5
}
