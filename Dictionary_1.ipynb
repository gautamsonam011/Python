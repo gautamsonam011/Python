{
 "cells": [
  {
   "cell_type": "markdown",
   "id": "09640d2f",
   "metadata": {},
   "source": [
    "# Dictionary:-"
   ]
  },
  {
   "cell_type": "code",
   "execution_count": 1,
   "id": "0d2f29b1",
   "metadata": {},
   "outputs": [
    {
     "name": "stdout",
     "output_type": "stream",
     "text": [
      "{'name': 'euireiu', 'age': 53}\n"
     ]
    },
    {
     "data": {
      "text/plain": [
       "dict"
      ]
     },
     "execution_count": 1,
     "metadata": {},
     "output_type": "execute_result"
    }
   ],
   "source": [
    "# Pairs of key and value:-\n",
    "x = {\n",
    "    'name':'euireiu',\n",
    "    'age':53\n",
    "}\n",
    "print(x)\n",
    "type(x)"
   ]
  },
  {
   "cell_type": "code",
   "execution_count": 2,
   "id": "393c8092",
   "metadata": {},
   "outputs": [
    {
     "name": "stdout",
     "output_type": "stream",
     "text": [
      "{'name': 'Neha', 'age': 90, 'marks': 56}\n"
     ]
    },
    {
     "data": {
      "text/plain": [
       "dict"
      ]
     },
     "execution_count": 2,
     "metadata": {},
     "output_type": "execute_result"
    }
   ],
   "source": [
    "x = {\n",
    "    'name':'Neha',\n",
    "    'age':90,\n",
    "    'marks':56\n",
    "}\n",
    "print(x)\n",
    "type(x)"
   ]
  },
  {
   "cell_type": "code",
   "execution_count": 3,
   "id": "fb5f789c",
   "metadata": {},
   "outputs": [
    {
     "ename": "SyntaxError",
     "evalue": "':' expected after dictionary key (301819667.py, line 2)",
     "output_type": "error",
     "traceback": [
      "\u001b[1;36m  Cell \u001b[1;32mIn[3], line 2\u001b[1;36m\u001b[0m\n\u001b[1;33m    'name':'neha','priya',\u001b[0m\n\u001b[1;37m                        ^\u001b[0m\n\u001b[1;31mSyntaxError\u001b[0m\u001b[1;31m:\u001b[0m ':' expected after dictionary key\n"
     ]
    }
   ],
   "source": [
    "x = {\n",
    "    'name':'neha','priya',\n",
    "    'age':45,\n",
    "    'marks':46\n",
    "}\n",
    "print(x)"
   ]
  },
  {
   "cell_type": "code",
   "execution_count": 4,
   "id": "73b31111",
   "metadata": {},
   "outputs": [
    {
     "name": "stdout",
     "output_type": "stream",
     "text": [
      "{'name': ['neha', 'priya'], 'age': (45, 56), 'marks': (46, 78)}\n"
     ]
    }
   ],
   "source": [
    "x = {\n",
    "    'name':['neha','priya'],\n",
    "    'age':(45,56),\n",
    "    'marks':(46,78)\n",
    "}\n",
    "print(x)"
   ]
  },
  {
   "cell_type": "code",
   "execution_count": 5,
   "id": "0c8af5fb",
   "metadata": {},
   "outputs": [
    {
     "data": {
      "text/plain": [
       "dict"
      ]
     },
     "execution_count": 5,
     "metadata": {},
     "output_type": "execute_result"
    }
   ],
   "source": [
    "type(x)"
   ]
  },
  {
   "cell_type": "code",
   "execution_count": 6,
   "id": "e9761efc",
   "metadata": {},
   "outputs": [
    {
     "data": {
      "text/plain": [
       "['neha', 'priya']"
      ]
     },
     "execution_count": 6,
     "metadata": {},
     "output_type": "execute_result"
    }
   ],
   "source": [
    "x['name']"
   ]
  },
  {
   "cell_type": "code",
   "execution_count": 8,
   "id": "81d17225",
   "metadata": {},
   "outputs": [
    {
     "data": {
      "text/plain": [
       "'priya'"
      ]
     },
     "execution_count": 8,
     "metadata": {},
     "output_type": "execute_result"
    }
   ],
   "source": [
    "x['name'][1]"
   ]
  },
  {
   "cell_type": "code",
   "execution_count": 9,
   "id": "cccd7128",
   "metadata": {},
   "outputs": [
    {
     "name": "stdout",
     "output_type": "stream",
     "text": [
      "{'a': 23}\n"
     ]
    },
    {
     "data": {
      "text/plain": [
       "dict"
      ]
     },
     "execution_count": 9,
     "metadata": {},
     "output_type": "execute_result"
    }
   ],
   "source": [
    "# unindexed\n",
    "# ordered\n",
    "# a kind of slicing is possible with key, but not with index\n",
    "# mutable\n",
    "\n",
    "x = {\n",
    "    'a':23\n",
    "}\n",
    "print(x)\n",
    "type(x)"
   ]
  },
  {
   "cell_type": "code",
   "execution_count": 10,
   "id": "05425281",
   "metadata": {},
   "outputs": [
    {
     "data": {
      "text/plain": [
       "23"
      ]
     },
     "execution_count": 10,
     "metadata": {},
     "output_type": "execute_result"
    }
   ],
   "source": [
    "x['a']"
   ]
  },
  {
   "cell_type": "code",
   "execution_count": 12,
   "id": "77f78ee2",
   "metadata": {},
   "outputs": [
    {
     "name": "stdout",
     "output_type": "stream",
     "text": [
      "{'a': 100}\n"
     ]
    }
   ],
   "source": [
    "x['a'] = 100\n",
    "print(x)"
   ]
  },
  {
   "cell_type": "code",
   "execution_count": 13,
   "id": "bb488b9a",
   "metadata": {},
   "outputs": [
    {
     "name": "stdout",
     "output_type": "stream",
     "text": [
      "{'a': 200}\n"
     ]
    }
   ],
   "source": [
    "x['a'] = 200\n",
    "print(x)"
   ]
  },
  {
   "cell_type": "code",
   "execution_count": 16,
   "id": "32086b6d",
   "metadata": {},
   "outputs": [
    {
     "data": {
      "text/plain": [
       "'Priyanka'"
      ]
     },
     "execution_count": 16,
     "metadata": {},
     "output_type": "execute_result"
    }
   ],
   "source": [
    "x = {\n",
    "    'name':['Neha',('Priya','Priyanka'),'Kirti'],\n",
    "    'age':(34,56,24,43),\n",
    "    'marks':(2,3,1,5)\n",
    "}\n",
    "x['name'][1][1]"
   ]
  },
  {
   "cell_type": "code",
   "execution_count": 20,
   "id": "46972e84",
   "metadata": {},
   "outputs": [
    {
     "name": "stdout",
     "output_type": "stream",
     "text": [
      "{'name': 'A', 'age': 23, 0: 1}\n"
     ]
    }
   ],
   "source": [
    "x = {\n",
    "    'name':'A',\n",
    "    'age':23,\n",
    "    0:1\n",
    "}\n",
    "print(x)"
   ]
  },
  {
   "cell_type": "code",
   "execution_count": 21,
   "id": "e321c0bc",
   "metadata": {},
   "outputs": [
    {
     "name": "stdout",
     "output_type": "stream",
     "text": [
      "{'name': 'A', 'age': 23, 0: '1'}\n"
     ]
    }
   ],
   "source": [
    "x = {\n",
    "    'name':'A',\n",
    "    'age':23,\n",
    "    0:1,\n",
    "    0:\"1\"\n",
    "}\n",
    "print(x)"
   ]
  },
  {
   "cell_type": "code",
   "execution_count": 22,
   "id": "0eee3b42",
   "metadata": {},
   "outputs": [
    {
     "name": "stdout",
     "output_type": "stream",
     "text": [
      "{'name': 'A', 'age': 23, 0: '1', '0': 'Hello'}\n"
     ]
    }
   ],
   "source": [
    "x = {\n",
    "    'name':'A',\n",
    "    'age':23,\n",
    "    0:1,\n",
    "    0:\"1\",\n",
    "    '0':'Hello'\n",
    "}\n",
    "print(x)"
   ]
  },
  {
   "cell_type": "code",
   "execution_count": 23,
   "id": "7d4392c4",
   "metadata": {},
   "outputs": [
    {
     "name": "stdout",
     "output_type": "stream",
     "text": [
      "{'name': 'A', 'age': 23, 0: '1', '0': 'Hello', 1: 0}\n"
     ]
    }
   ],
   "source": [
    "x = {\n",
    "    'name':'A',\n",
    "    'age':23,\n",
    "    0:1,\n",
    "    0:\"1\",\n",
    "    '0':'Hello',\n",
    "    1:0\n",
    "}\n",
    "print(x)"
   ]
  },
  {
   "cell_type": "code",
   "execution_count": 24,
   "id": "30cd0ff9",
   "metadata": {},
   "outputs": [
    {
     "name": "stdout",
     "output_type": "stream",
     "text": [
      "{'name': 'A', 'age': 23, 0: '1', '0': 'Hello', 1: '0'}\n"
     ]
    }
   ],
   "source": [
    "x = {\n",
    "    'name':'A',\n",
    "    'age':23,\n",
    "    0:1,\n",
    "    0:\"1\",\n",
    "    '0':'Hello',\n",
    "    1:0,\n",
    "    1:'0'\n",
    "}\n",
    "print(x)"
   ]
  },
  {
   "cell_type": "code",
   "execution_count": 30,
   "id": "be4e0f7e",
   "metadata": {},
   "outputs": [
    {
     "name": "stdout",
     "output_type": "stream",
     "text": [
      "{'name': 'sckv', 'age': 34, 'y': {'marks': 45, 'roll': 36}}\n"
     ]
    }
   ],
   "source": [
    "# Write a program to make dict inside a dict.\n",
    "\n",
    "x = {\n",
    "    'name':'sckv',\n",
    "    'age':34,\n",
    "    \n",
    "    'y':{\n",
    "        'marks':45,\n",
    "        'roll':36\n",
    "    }\n",
    "}\n",
    "print(x)"
   ]
  },
  {
   "cell_type": "code",
   "execution_count": 32,
   "id": "effae357",
   "metadata": {},
   "outputs": [
    {
     "data": {
      "text/plain": [
       "45986"
      ]
     },
     "execution_count": 32,
     "metadata": {},
     "output_type": "execute_result"
    }
   ],
   "source": [
    "# Write a program to slice salary from dict.\n",
    "x = {\n",
    "    0:'5',\n",
    "    1:8,\n",
    "    'b':{\n",
    "        'name':3746,\n",
    "        'salary':45986\n",
    "    }\n",
    "}\n",
    "x['b']['salary']"
   ]
  }
 ],
 "metadata": {
  "kernelspec": {
   "display_name": "Python 3 (ipykernel)",
   "language": "python",
   "name": "python3"
  },
  "language_info": {
   "codemirror_mode": {
    "name": "ipython",
    "version": 3
   },
   "file_extension": ".py",
   "mimetype": "text/x-python",
   "name": "python",
   "nbconvert_exporter": "python",
   "pygments_lexer": "ipython3",
   "version": "3.11.1"
  }
 },
 "nbformat": 4,
 "nbformat_minor": 5
}
