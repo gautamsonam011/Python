{
 "cells": [
  {
   "cell_type": "code",
   "execution_count": 4,
   "id": "5d04e604",
   "metadata": {},
   "outputs": [
    {
     "name": "stdout",
     "output_type": "stream",
     "text": [
      "Max 78\n"
     ]
    }
   ],
   "source": [
    "# Python program to swap two elements in a list.\n",
    "# Maximum of numbers in a list\n",
    "# Minimum of numbers in list.\n",
    "# Reversing a list \n",
    "# Sum of number digits in list\n",
    "# Multiply all numbers in the list\n",
    "# Python program to find second largest number in a list.\n",
    "# Python program to count Even and Odd numbers in a list.\n",
    "# Python program to print positive numbers in a list.\n",
    "# Python program to print negative numbers in a list.\n",
    "# Wap to check a string is palindrome or not\n",
    "\n",
    "#Max----------------------------->\n",
    "x = [1,2,3,4,5,34,56,78,42,12,4]\n",
    "y = 0\n",
    "for i in x:\n",
    "    if i>y:\n",
    "        y = i\n",
    "print(\"Max\",y)\n",
    "        "
   ]
  },
  {
   "cell_type": "code",
   "execution_count": 15,
   "id": "10820e40",
   "metadata": {},
   "outputs": [
    {
     "name": "stdout",
     "output_type": "stream",
     "text": [
      "Min -6\n"
     ]
    }
   ],
   "source": [
    "# Min-------------------->\n",
    "\n",
    "x = [1,2,3,4,5,34,56,78,42,12,4,-6]\n",
    "y = 0\n",
    "for i in x:\n",
    "    if i<y:\n",
    "        y = i\n",
    "print(\"Min\",y)"
   ]
  },
  {
   "cell_type": "code",
   "execution_count": 16,
   "id": "cc5a8bbb",
   "metadata": {},
   "outputs": [
    {
     "name": "stdout",
     "output_type": "stream",
     "text": [
      "7\n"
     ]
    }
   ],
   "source": [
    "# Min----------------->\n",
    "\n",
    "x = [33,56,54,56,43,32,21,22,10,7]\n",
    "y = x[0]\n",
    "for i in x:\n",
    "    if i<y:\n",
    "        y = i\n",
    "print(y)"
   ]
  },
  {
   "cell_type": "code",
   "execution_count": 17,
   "id": "247c30c7",
   "metadata": {},
   "outputs": [
    {
     "data": {
      "text/plain": [
       "[7, 10, 22, 21, 32, 43, 56, 54, 56, 33]"
      ]
     },
     "execution_count": 17,
     "metadata": {},
     "output_type": "execute_result"
    }
   ],
   "source": [
    "# Reverse--------------------->\n",
    "\n",
    "x = [33,56,54,56,43,32,21,22,10,7]\n",
    "x[::-1]"
   ]
  },
  {
   "cell_type": "code",
   "execution_count": 18,
   "id": "514edfde",
   "metadata": {},
   "outputs": [
    {
     "data": {
      "text/plain": [
       "[33, 56, 54, 56, 43, 32, 21, 22, 10, 7]"
      ]
     },
     "execution_count": 18,
     "metadata": {},
     "output_type": "execute_result"
    }
   ],
   "source": [
    "x"
   ]
  },
  {
   "cell_type": "code",
   "execution_count": 19,
   "id": "f627b287",
   "metadata": {},
   "outputs": [
    {
     "name": "stdout",
     "output_type": "stream",
     "text": [
      "[33, 56, 54, 56, 43, 32, 21, 22, 10, 7]\n"
     ]
    }
   ],
   "source": [
    "# Sum-------------------->\n",
    "print(x)"
   ]
  },
  {
   "cell_type": "code",
   "execution_count": 20,
   "id": "23a23acd",
   "metadata": {},
   "outputs": [
    {
     "name": "stdout",
     "output_type": "stream",
     "text": [
      "334\n"
     ]
    }
   ],
   "source": [
    "x = [33,56,54,56,43,32,21,22,10,7]\n",
    "y = 0\n",
    "for i in x:\n",
    "    y = y+i\n",
    "print(y)\n",
    "    "
   ]
  },
  {
   "cell_type": "code",
   "execution_count": 23,
   "id": "f0d8d73f",
   "metadata": {},
   "outputs": [
    {
     "name": "stdout",
     "output_type": "stream",
     "text": [
      "120\n"
     ]
    }
   ],
   "source": [
    "# Multiply-------------------------->\n",
    "#x = [33,56,54,56,43,32,21,22,10,7]\n",
    "x = [1,2,3,4,5]\n",
    "y = 1\n",
    "for i in x:\n",
    "    y = y*i\n",
    "print(y)"
   ]
  },
  {
   "cell_type": "code",
   "execution_count": null,
   "id": "6f1caa67",
   "metadata": {},
   "outputs": [],
   "source": [
    "# Find second largest number--------------------->\n"
   ]
  },
  {
   "cell_type": "code",
   "execution_count": 25,
   "id": "678a8b99",
   "metadata": {},
   "outputs": [
    {
     "name": "stdout",
     "output_type": "stream",
     "text": [
      "Even---> 34\n",
      "Even---> 56\n",
      "Odd------> 23\n",
      "Even---> 12\n",
      "Even---> 34\n",
      "Even---> 6\n",
      "Odd------> 87\n",
      "Even---> 98\n",
      "Odd------> 45\n",
      "Even number count is---------> 6\n",
      "Odd number count is---------> 3\n"
     ]
    }
   ],
   "source": [
    "# To Count Even and Odd--------------->\n",
    "x = [34,56,23,12,34,6,87,98,45]\n",
    "count_even = 0\n",
    "count_odd = 0\n",
    "for i in x:\n",
    "    if i%2 == 0:\n",
    "        print(\"Even--->\",i)\n",
    "        count_even = count_even+1\n",
    "    else:\n",
    "        print(\"Odd------>\",i)\n",
    "        count_odd = count_odd+1\n",
    "print(\"Even number count is--------->\",count_even)\n",
    "print(\"Odd number count is--------->\",count_odd)\n",
    "        "
   ]
  },
  {
   "cell_type": "code",
   "execution_count": 26,
   "id": "b70bb508",
   "metadata": {},
   "outputs": [
    {
     "name": "stdout",
     "output_type": "stream",
     "text": [
      "Positive numbers: 3\n",
      "Positive numbers: 23\n",
      "Positive numbers: 56\n",
      "Positive numbers: 67\n",
      "Positive numbers: 87\n"
     ]
    }
   ],
   "source": [
    "# To print positive numbers----------->\n",
    "x = [3,23,56,67,87,-98,-34]\n",
    "y =0\n",
    "for i in x:\n",
    "    if i > y:\n",
    "        print(\"Positive numbers:\",i)"
   ]
  },
  {
   "cell_type": "code",
   "execution_count": 27,
   "id": "bf8778ff",
   "metadata": {},
   "outputs": [
    {
     "name": "stdout",
     "output_type": "stream",
     "text": [
      "Negative: -98\n",
      "Negative: -34\n"
     ]
    }
   ],
   "source": [
    "# To print negative numbers----------->\n",
    "\n",
    "x = [3,23,56,67,87,-98,-34]\n",
    "y = 0\n",
    "for i in x:\n",
    "    if i<y:\n",
    "        print(\"Negative:\",i)"
   ]
  },
  {
   "cell_type": "code",
   "execution_count": 32,
   "id": "50ab96ca",
   "metadata": {},
   "outputs": [
    {
     "name": "stdout",
     "output_type": "stream",
     "text": [
      "nitin\n"
     ]
    }
   ],
   "source": [
    "# To check palindrome or not------------------>\n",
    "x = \"nitin\"\n",
    "y =''\n",
    "for i in x:\n",
    "    y = i+y\n",
    "print(y)\n"
   ]
  },
  {
   "cell_type": "code",
   "execution_count": 31,
   "id": "23411e36",
   "metadata": {},
   "outputs": [
    {
     "name": "stdout",
     "output_type": "stream",
     "text": [
      "olleh\n"
     ]
    }
   ],
   "source": [
    "x = \"hello\"\n",
    "y =''\n",
    "for i in x:\n",
    "    y = i+y\n",
    "print(y)"
   ]
  },
  {
   "cell_type": "code",
   "execution_count": 33,
   "id": "a9f2141e",
   "metadata": {},
   "outputs": [
    {
     "name": "stdout",
     "output_type": "stream",
     "text": [
      "Not Palindrome\n"
     ]
    }
   ],
   "source": [
    "x = \"hello\"\n",
    "y =''\n",
    "for i in x:\n",
    "    y = i+y\n",
    "if x == y:\n",
    "    print(\"Palindrome\")\n",
    "else:\n",
    "    print(\"Not Palindrome\")"
   ]
  },
  {
   "cell_type": "code",
   "execution_count": 34,
   "id": "4647815c",
   "metadata": {},
   "outputs": [
    {
     "name": "stdout",
     "output_type": "stream",
     "text": [
      "Palindrome\n"
     ]
    }
   ],
   "source": [
    "x = \"nitin\"\n",
    "y =''\n",
    "for i in x:\n",
    "    y = i+y\n",
    "if x == y:\n",
    "    print(\"Palindrome\")\n",
    "else:\n",
    "    print(\"Not Palindrome\")"
   ]
  }
 ],
 "metadata": {
  "kernelspec": {
   "display_name": "Python 3 (ipykernel)",
   "language": "python",
   "name": "python3"
  },
  "language_info": {
   "codemirror_mode": {
    "name": "ipython",
    "version": 3
   },
   "file_extension": ".py",
   "mimetype": "text/x-python",
   "name": "python",
   "nbconvert_exporter": "python",
   "pygments_lexer": "ipython3",
   "version": "3.11.1"
  }
 },
 "nbformat": 4,
 "nbformat_minor": 5
}
