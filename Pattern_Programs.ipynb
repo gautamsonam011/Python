{
 "cells": [
  {
   "cell_type": "code",
   "execution_count": 27,
   "id": "4204d232",
   "metadata": {},
   "outputs": [
    {
     "name": "stdout",
     "output_type": "stream",
     "text": [
      "               *   \n",
      "             *   *   \n",
      "           *   *   *   \n",
      "         *   *   *   *   \n",
      "       *   *   *   *   *   \n",
      "     *   *   *   *   *   *   \n",
      "   *   *   *   *   *   *   *   \n"
     ]
    }
   ],
   "source": [
    "size =7\n",
    "for i in range(0,size):\n",
    "    for j in range(0,size-i):\n",
    "        print(\" \",end=\" \")\n",
    "    for k in range(0,i+1):\n",
    "        print(\" * \",end=\" \")\n",
    "    print(\" \")"
   ]
  },
  {
   "cell_type": "code",
   "execution_count": 30,
   "id": "8be996a6",
   "metadata": {},
   "outputs": [
    {
     "name": "stdout",
     "output_type": "stream",
     "text": [
      "\r\n",
      " *  \r\n",
      " *   *  \r\n",
      " *   *   *  \r\n",
      " *   *   *   *  \r\n",
      " *   *   *   *   *  \r\n"
     ]
    }
   ],
   "source": [
    "rows = 6\n",
    "for i in range(1,rows+1):\n",
    "    for j in range(1,i):\n",
    "        print(\" * \",end=\" \")\n",
    "    print(\"\\r\")"
   ]
  },
  {
   "cell_type": "code",
   "execution_count": 32,
   "id": "db5727bc",
   "metadata": {},
   "outputs": [
    {
     "name": "stdout",
     "output_type": "stream",
     "text": [
      " * \n",
      " *  * \n",
      " *  *  * \n",
      " *  *  *  * \n",
      " *  *  *  *  * \n",
      " *  *  *  *  *  * \n",
      " *  *  *  *  *  *  * \n"
     ]
    }
   ],
   "source": [
    "rows = 7\n",
    "for j in range(1,rows+1):\n",
    "    print(\" * \"*j)"
   ]
  },
  {
   "cell_type": "code",
   "execution_count": 34,
   "id": "6c6d6264",
   "metadata": {},
   "outputs": [
    {
     "name": "stdout",
     "output_type": "stream",
     "text": [
      "Enter the rows6\n",
      "            *  \n",
      "          * *  \n",
      "        * * *  \n",
      "      * * * *  \n",
      "    * * * * *  \n",
      "  * * * * * *  \n"
     ]
    }
   ],
   "source": [
    "n = int(input(\"Enter the rows\"))\n",
    "for i in range(0,n):\n",
    "    for j in range(0,n-i):\n",
    "        print(\" \",end=\" \")\n",
    "    for k in range(0,i+1):\n",
    "        print(\"*\",end=\" \")\n",
    "    print(\" \")"
   ]
  },
  {
   "cell_type": "code",
   "execution_count": 36,
   "id": "d1a0cdb5",
   "metadata": {},
   "outputs": [
    {
     "name": "stdout",
     "output_type": "stream",
     "text": [
      "* * * * * * \n",
      "* * * * * \n",
      "* * * * \n",
      "* * * \n",
      "* * \n",
      "* \n",
      "\n"
     ]
    }
   ],
   "source": [
    "rows = 6\n",
    "for i in range(rows+1,0,-1):\n",
    "    for j in range(0,i-1):\n",
    "        print(\"*\",end=\" \")\n",
    "    print(\"\")"
   ]
  },
  {
   "cell_type": "code",
   "execution_count": 50,
   "id": "2b7b33b2",
   "metadata": {},
   "outputs": [
    {
     "name": "stdout",
     "output_type": "stream",
     "text": [
      "* \r\n",
      "* * \r\n",
      "* * * \r\n",
      "* * * * \r\n",
      "* * * * * \r\n",
      "* * * * \r\n",
      "* * * \r\n",
      "* * \r\n",
      "* \r\n",
      "\r\n"
     ]
    }
   ],
   "source": [
    "n = 5\n",
    "for i in range(0,n):\n",
    "    for j in range(0,i+1):\n",
    "        print(\"*\",end=\" \")\n",
    "        \n",
    "    print(\"\\r\")\n",
    "for i in range(n,0,-1):\n",
    "    for j in range(0,i-1):\n",
    "        print(\"*\",end=\" \")\n",
    "    print(\"\\r\")"
   ]
  },
  {
   "cell_type": "code",
   "execution_count": 47,
   "id": "a3cd74ba",
   "metadata": {},
   "outputs": [
    {
     "name": "stdout",
     "output_type": "stream",
     "text": [
      "* \r\n",
      "* * \r\n",
      "* * * \r\n",
      "* * * * \r\n",
      "* * * * * \r\n",
      "* * * * \r\n",
      "* * * \r\n",
      "* * \r\n",
      "* \r\n",
      "\r\n"
     ]
    }
   ],
   "source": [
    "rows = 5\n",
    "for i in range(0, rows):\n",
    "    for j in range(0, i + 1):\n",
    "        print(\"*\", end=' ')\n",
    "    \n",
    "    print(\"\\r\")\n",
    "for i in range(rows, 0, -1):\n",
    "    for j in range(0, i - 1):\n",
    "        print(\"*\", end=' ')\n",
    "    print(\"\\r\")"
   ]
  },
  {
   "cell_type": "code",
   "execution_count": 61,
   "id": "c4e431cc",
   "metadata": {},
   "outputs": [
    {
     "name": "stdout",
     "output_type": "stream",
     "text": [
      "         *  *  *  *  *  * \n",
      "          *  *  *  *  * \n",
      "           *  *  *  * \n",
      "            *  *  * \n",
      "             *  * \n",
      "              * \n"
     ]
    }
   ],
   "source": [
    "n = 5\n",
    "k = 2 * rows - 2\n",
    "for i in range(rows, -1, -1):\n",
    "    for j in range(k, 0, -1):\n",
    "        print(end=\" \")\n",
    "    k = k + 1\n",
    "    for j in range(0, i + 1):\n",
    "        print(\" *\", end=\" \")\n",
    "    print(\"\")"
   ]
  },
  {
   "cell_type": "code",
   "execution_count": 62,
   "id": "75cc3250",
   "metadata": {},
   "outputs": [
    {
     "name": "stdout",
     "output_type": "stream",
     "text": [
      "*  \n",
      "* *  \n",
      "* * *  \n",
      "* * * *  \n",
      "* * * * *  \n",
      "* * * * * *  \n",
      " \n",
      "* * * * * *  \n",
      "* * * * *  \n",
      "* * * *  \n",
      "* * *  \n",
      "* *  \n",
      "*  \n",
      " \n"
     ]
    }
   ],
   "source": [
    "rows = 6\n",
    "for i in range(0,rows):\n",
    "    for j in range(0,i+1):\n",
    "        print(\"*\",end = \" \")\n",
    "    print(\" \")\n",
    "    \n",
    "print(\" \")\n",
    "for i in range(rows+1, 0,-1):\n",
    "    for j in range(0,i-1):\n",
    "        print(\"*\",end = \" \")\n",
    "    print(\" \")"
   ]
  },
  {
   "cell_type": "code",
   "execution_count": 3,
   "id": "f417323d",
   "metadata": {},
   "outputs": [
    {
     "name": "stdout",
     "output_type": "stream",
     "text": [
      "        * \n",
      "       * * \n",
      "      * * * \n",
      "     * * * * \n",
      "    * * * * * \n",
      "   * * * * * * \n",
      "    * * * * * \n",
      "     * * * * \n",
      "      * * * \n",
      "       * * \n",
      "        * \n"
     ]
    }
   ],
   "source": [
    "rows = 5\n",
    "k = 2*rows-2\n",
    "for i in range(0,rows):\n",
    "    for j in range(0,k):\n",
    "        print(end=\" \")\n",
    "    k = k-1\n",
    "    for j in range(0,i+1):\n",
    "        print(\"* \",end=\"\")\n",
    "    print(\"\")\n",
    "\n",
    "k = rows-2\n",
    "\n",
    "for i in range(rows, -1,-1):\n",
    "    for j in range(k, 0,-1):\n",
    "        print(end = \" \")\n",
    "    k = k+1\n",
    "    for j in range(0,i+1):\n",
    "        print(\"* \",end=\"\")\n",
    "    print(\"\")\n",
    "        "
   ]
  },
  {
   "cell_type": "code",
   "execution_count": 4,
   "id": "d4a0e8c6",
   "metadata": {},
   "outputs": [
    {
     "name": "stdout",
     "output_type": "stream",
     "text": [
      "**************\n",
      "******__******\n",
      "*****____*****\n",
      "****______****\n",
      "***________***\n",
      "**__________**\n",
      "*____________*\n"
     ]
    }
   ],
   "source": [
    "rows = 14\n",
    "print(\"*\"*rows,end=\"\\n\")\n",
    "i = (rows//2)-1\n",
    "j = 2\n",
    "while i!=0:\n",
    "    while j <= (rows - 2):\n",
    "        print(\"*\"*i,end=\"\")\n",
    "        print(\"_\"*j,end=\"\")\n",
    "        print(\"*\"*i,end=\"\\n\")\n",
    "        i = i-1\n",
    "        j = j+2"
   ]
  },
  {
   "cell_type": "code",
   "execution_count": 5,
   "id": "7278338f",
   "metadata": {},
   "outputs": [
    {
     "name": "stdout",
     "output_type": "stream",
     "text": [
      "1 * 2 * 3 * 4 \n",
      "\n",
      "1 * 2 * 3 \n",
      "\n",
      "1 * 2 \n",
      "\n",
      "1 \n",
      "\n"
     ]
    }
   ],
   "source": [
    "rows = 4\n",
    "for i in range(0,rows):\n",
    "    c = 1\n",
    "    print(c,end = \" \")\n",
    "    for j in range(rows-i-1,0,-1):\n",
    "        print(\"*\",end=\" \")\n",
    "        c = c+1\n",
    "        print(c, end= \" \")\n",
    "    print(\"\\n\")"
   ]
  },
  {
   "cell_type": "code",
   "execution_count": 6,
   "id": "614ab381",
   "metadata": {},
   "outputs": [
    {
     "name": "stdout",
     "output_type": "stream",
     "text": [
      "Print Alphabets and Letters pattern in Python:-\n",
      "A  \n",
      "B C  \n",
      "D E F  \n",
      "G H I J  \n",
      "K L M N O  \n",
      "P Q R S T U  \n",
      "V W X Y Z [ \\  \n"
     ]
    }
   ],
   "source": [
    "print(\"Print Alphabets and Letters pattern in Python:-\")\n",
    "asciiNumber = 65\n",
    "for i in range(0,7):\n",
    "    for j in range(0, i+1):\n",
    "        character = chr(asciiNumber)\n",
    "        print(character,end = \" \")\n",
    "        asciiNumber += 1\n",
    "    print(\" \")"
   ]
  },
  {
   "cell_type": "code",
   "execution_count": 7,
   "id": "751f8ed6",
   "metadata": {},
   "outputs": [
    {
     "name": "stdout",
     "output_type": "stream",
     "text": [
      "P\n",
      "Py\n",
      "Pyt\n",
      "Pyth\n",
      "Pytho\n",
      "Python\n"
     ]
    }
   ],
   "source": [
    "word = \"Python\"\n",
    "x = \"\"\n",
    "for i in word:\n",
    "    x += i\n",
    "    print(x)"
   ]
  },
  {
   "cell_type": "code",
   "execution_count": 9,
   "id": "d238df59",
   "metadata": {},
   "outputs": [
    {
     "name": "stdout",
     "output_type": "stream",
     "text": [
      "            A  \n",
      "           B C  \n",
      "          D E F  \n",
      "         G H I J  \n",
      "        K L M N O  \n",
      "       P Q R S T U  \n",
      "      V W X Y Z [ \\  \n"
     ]
    }
   ],
   "source": [
    "size = 7\n",
    "asciiNumber = 65\n",
    "m = (2*size) - 2\n",
    "for i in range(0,size):\n",
    "    for j in range(0,m):\n",
    "        print(end = \" \")\n",
    "    m = m-1\n",
    "    for j in range(0, i+1):\n",
    "        character = chr(asciiNumber)\n",
    "        print(character, end = \" \")\n",
    "        asciiNumber += 1\n",
    "    print(\" \")"
   ]
  },
  {
   "cell_type": "code",
   "execution_count": 10,
   "id": "bfa69045",
   "metadata": {},
   "outputs": [
    {
     "name": "stdout",
     "output_type": "stream",
     "text": [
      "  ***  \n",
      " *   * \n",
      " *   * \n",
      " ***** \n",
      " *   * \n",
      " *   * \n",
      " *   * \n",
      "\n"
     ]
    }
   ],
   "source": [
    "result_str = \"\"\n",
    "for row in range(0,7):\n",
    "    for column in range(0,7):\n",
    "        if(((column == 1 or column == 5) and row!=0) or ((row == 0 or row == 3) and (column >1 and column <5))):\n",
    "            result_str = result_str+\"*\"\n",
    "        else:\n",
    "            result_str = result_str+\" \"\n",
    "    result_str = result_str+\"\\n\"\n",
    "print(result_str)"
   ]
  },
  {
   "cell_type": "code",
   "execution_count": 11,
   "id": "595d7570",
   "metadata": {},
   "outputs": [
    {
     "name": "stdout",
     "output_type": "stream",
     "text": [
      " ****  \n",
      " *   * \n",
      " *   * \n",
      " *   * \n",
      " *   * \n",
      " *   * \n",
      " ****  \n",
      "\n"
     ]
    }
   ],
   "source": [
    "r = \"\"\n",
    "for i in range(0,7):\n",
    "    for j in range(0,7):\n",
    "        if(j == 1 or ((i == 0 or i == 6)and (j >1 and j<5)) or(j == 5 and i != 0 and i!=6)):\n",
    "            r = r+\"*\"\n",
    "            \n",
    "        else:\n",
    "            r = r+\" \"\n",
    "    r = r+\"\\n\"\n",
    "print(r)\n",
    "            "
   ]
  },
  {
   "cell_type": "code",
   "execution_count": 13,
   "id": "b7d2f995",
   "metadata": {},
   "outputs": [
    {
     "name": "stdout",
     "output_type": "stream",
     "text": [
      " ***** \n",
      " *     \n",
      " *     \n",
      " ****  \n",
      " *     \n",
      " *     \n",
      " ***** \n",
      "\n"
     ]
    }
   ],
   "source": [
    "r = \"\"\n",
    "for i in range(0,7):\n",
    "    for j in range(0,7):\n",
    "        if (j == 1 or ((i ==0 or i == 6) and (j>1 and j<6)) or (i == 3 and j>1 and j<5)):\n",
    "            r = r+\"*\"\n",
    "        else:\n",
    "            r = r+\" \"\n",
    "    r = r+\"\\n\"\n",
    "print(r)"
   ]
  },
  {
   "cell_type": "code",
   "execution_count": 15,
   "id": "6c332936",
   "metadata": {},
   "outputs": [
    {
     "name": "stdout",
     "output_type": "stream",
     "text": [
      "  ***  \n",
      " *   * \n",
      " *     \n",
      " * *** \n",
      " *   * \n",
      " *   * \n",
      "  ***  \n",
      "\n"
     ]
    }
   ],
   "source": [
    "n = \"\"\n",
    "for i in range(0,7):\n",
    "    for j in range(0,7):\n",
    "        if((j == 1 and i != 0 and i!=6) or ((i == 0 or i == 6) and j>1 and j<5) or (i == 3 and j >2 and j <6) or (j == 5 and i!=0 and i!=2 and i!=6)):\n",
    "            n =n+\"*\"\n",
    "        else:\n",
    "            n = n+\" \"\n",
    "    n = n+\"\\n\"\n",
    "print(n)"
   ]
  },
  {
   "cell_type": "code",
   "execution_count": 16,
   "id": "919fd64b",
   "metadata": {},
   "outputs": [
    {
     "name": "stdout",
     "output_type": "stream",
     "text": [
      " *     \n",
      " *     \n",
      " *     \n",
      " *     \n",
      " *     \n",
      " *     \n",
      " ***** \n",
      "\n"
     ]
    }
   ],
   "source": [
    "n = \"\"\n",
    "for i in range(0,7):\n",
    "    for j in range(0,7):\n",
    "        if (j == 1 or (i == 6 and j!=0 and j < 6)):\n",
    "            n = n+\"*\"\n",
    "        else:\n",
    "            n = n+\" \"\n",
    "    n = n+\"\\n\"\n",
    "print(n)"
   ]
  },
  {
   "cell_type": "code",
   "execution_count": 20,
   "id": "220db6a0",
   "metadata": {},
   "outputs": [
    {
     "name": "stdout",
     "output_type": "stream",
     "text": [
      " *   * \n",
      " *   * \n",
      " ** ** \n",
      " * * * \n",
      " *   * \n",
      " *   * \n",
      " *   * \n",
      "\n"
     ]
    }
   ],
   "source": [
    "r = \"\"\n",
    "for i in range(0,7):\n",
    "    for j in range(0,7):\n",
    "        if(j == 1 or j == 5 or (i == 2 and (j == 2 or j == 4)) or (i == 3 and j == 3)):\n",
    "            r = r+\"*\"\n",
    "        else:\n",
    "            r = r+\" \"\n",
    "    r = r+\"\\n\"\n",
    "print(r)"
   ]
  },
  {
   "cell_type": "code",
   "execution_count": 23,
   "id": "0b120c4e",
   "metadata": {},
   "outputs": [
    {
     "name": "stdout",
     "output_type": "stream",
     "text": [
      "  ****  \n",
      " *    * \n",
      " *    * \n",
      " *    * \n",
      " *    * \n",
      " *    * \n",
      " *    * \n",
      "  ****  \n",
      "\n"
     ]
    }
   ],
   "source": [
    "r = \"\"\n",
    "for i in range(0,8):\n",
    "    for j in range(0,8):\n",
    "        if(((j == 1 or j == 6) and i!=0 and i!=7) or ((i == 0 or i == 7) and j >1 and j <6)):\n",
    "            r = r+\"*\"\n",
    "        else:\n",
    "            r = r+\" \"\n",
    "    r = r+\"\\n\"\n",
    "print(r)"
   ]
  },
  {
   "cell_type": "code",
   "execution_count": 24,
   "id": "cfaae21e",
   "metadata": {},
   "outputs": [
    {
     "name": "stdout",
     "output_type": "stream",
     "text": [
      " ****  \n",
      " *   * \n",
      " *   * \n",
      " ****  \n",
      " *     \n",
      " *     \n",
      " *     \n",
      "\n"
     ]
    }
   ],
   "source": [
    "n = \"\"\n",
    "for i in range(0,7):\n",
    "    for j in range(0,7):\n",
    "        if (j == 1 or ((i == 0 or i == 3) and j > 0 and j < 5)or ((j == 5 or j == 1) and (i == 1 or i == 2))):\n",
    "            n = n+\"*\"\n",
    "        else:\n",
    "            n = n+\" \"\n",
    "    n = n+\"\\n\"\n",
    "print(n)"
   ]
  },
  {
   "cell_type": "code",
   "execution_count": 25,
   "id": "948c72a7",
   "metadata": {},
   "outputs": [
    {
     "name": "stdout",
     "output_type": "stream",
     "text": [
      " ****  \n",
      " *   * \n",
      " *   * \n",
      " ****  \n",
      " * *   \n",
      " *  *  \n",
      " *   * \n",
      "\n"
     ]
    }
   ],
   "source": [
    "r = \"\"\n",
    "for i in range(0,7):\n",
    "    for j in range(0,7):\n",
    "        if (j == 1 or ((i == 0 or i == 3) and j > 1 and j <5) or (j == 5 and i != 0 and i < 3) or (j == i-1 and i >2)):\n",
    "            r = r+\"*\"\n",
    "        else:\n",
    "            r = r+\" \"\n",
    "    r = r+\"\\n\"\n",
    "print(r)"
   ]
  },
  {
   "cell_type": "code",
   "execution_count": 26,
   "id": "f69ec6ff",
   "metadata": {},
   "outputs": [
    {
     "name": "stdout",
     "output_type": "stream",
     "text": [
      "  **** \n",
      " *     \n",
      " *     \n",
      "  ***  \n",
      "     * \n",
      "     * \n",
      " ****  \n",
      "\n"
     ]
    }
   ],
   "source": [
    "result = \"\"   \n",
    "for row in range(0,7):    \n",
    "    for column in range(0,7):     \n",
    "        if (((row == 0 or row == 3 or row == 6) and column > 1 and column < 5) or (column == 1 and (row == 1 or row == 2 or row == 6)) or (column == 5 and (row == 0 or row == 4 or row == 5))):  \n",
    "            result = result+\"*\"    \n",
    "        else:      \n",
    "            result = result+\" \"    \n",
    "    result = result+\"\\n\"    \n",
    "print(result)\n"
   ]
  },
  {
   "cell_type": "code",
   "execution_count": 27,
   "id": "7d87c942",
   "metadata": {},
   "outputs": [
    {
     "name": "stdout",
     "output_type": "stream",
     "text": [
      "ooooooooooooooooo\n",
      "ooooooooooooooooo\n",
      "ooooooooooooooooo\n",
      "oooo\n",
      "oooo\n",
      "oooo\n",
      "ooooooooooooooooo\n",
      "ooooooooooooooooo\n",
      "ooooooooooooooooo\n",
      "             oooo\n",
      "             oooo\n",
      "             oooo\n",
      "ooooooooooooooooo\n",
      "ooooooooooooooooo\n",
      "ooooooooooooooooo\n",
      "\n"
     ]
    }
   ],
   "source": [
    "row=15    \n",
    "col=18   \n",
    "result_str = \"\"    \n",
    "for i in range(1,row+1):    \n",
    "    if((i<=3)or(i>=7 and i<=9)or(i>=13 and i<=15)):    \n",
    "        for j in range(1,col):    \n",
    "            result_str=result_str+\"o\"    \n",
    "        result_str=result_str+\"\\n\"    \n",
    "    elif(i>=4 and i<=6):    \n",
    "        for j in range(1,5):    \n",
    "            result_str=result_str+\"o\"    \n",
    "        result_str=result_str+\"\\n\"    \n",
    "    else:    \n",
    "        for j in range(1,14):    \n",
    "            result_str=result_str+\" \"    \n",
    "        for j in range(1,5):    \n",
    "            result_str=result_str+\"o\"    \n",
    "        result_str=result_str+\"\\n\"    \n",
    "print(result_str);"
   ]
  },
  {
   "cell_type": "code",
   "execution_count": 29,
   "id": "02ae9d7b",
   "metadata": {},
   "outputs": [
    {
     "name": "stdout",
     "output_type": "stream",
     "text": [
      " *****\n",
      "   *  \n",
      "   *  \n",
      "   *  \n",
      "   *  \n",
      "   *  \n",
      "\n"
     ]
    }
   ],
   "source": [
    "n = \"\"\n",
    "for i in range(0,6):\n",
    "    for j in range(0,6):\n",
    "        if (j == 3 or (i == 0 and j >0 and j <= 6)):\n",
    "            n = n+\"*\"\n",
    "        else:\n",
    "            n = n+\" \"\n",
    "    n = n+\"\\n\"\n",
    "print(n)"
   ]
  },
  {
   "cell_type": "code",
   "execution_count": 35,
   "id": "6849cfab",
   "metadata": {},
   "outputs": [
    {
     "name": "stdout",
     "output_type": "stream",
     "text": [
      " *    * \n",
      " *    * \n",
      " *    * \n",
      " *    * \n",
      " *    * \n",
      " *    * \n",
      " *    * \n",
      "  ***** \n",
      "\n"
     ]
    }
   ],
   "source": [
    "r = \"\"\n",
    "for i in range(0,8):\n",
    "    for j in range(0,8):\n",
    "        if (((j == 1 or j == 6) and i != 7) or (i == 7 and j > 1 and j < 7)):\n",
    "            r = r+\"*\"\n",
    "        else:\n",
    "            r = r+\" \"\n",
    "    r = r+\"\\n\"\n",
    "print(r)"
   ]
  },
  {
   "cell_type": "code",
   "execution_count": 44,
   "id": "e69c499a",
   "metadata": {},
   "outputs": [
    {
     "name": "stdout",
     "output_type": "stream",
     "text": [
      " *   * \n",
      " *   * \n",
      "  * *  \n",
      "   *   \n",
      "  * *  \n",
      " *   * \n",
      " *   * \n",
      "\n"
     ]
    }
   ],
   "source": [
    "re = \"\"   \n",
    "for row in range(0,7):    \n",
    "    for column in range(0,7):     \n",
    "        if (((column == 1 or column == 5) and (row > 4 or row < 2)) or row == column and column > 0 and column < 6 or (column == 2 and row == 4) or (column == 4 and row == 2)):  \n",
    "            re = re+\"*\"    \n",
    "        else:      \n",
    "            re = re+\" \"    \n",
    "    re = re+\"\\n\"    \n",
    "print(re);"
   ]
  },
  {
   "cell_type": "code",
   "execution_count": 45,
   "id": "d3e94c4a",
   "metadata": {},
   "outputs": [
    {
     "name": "stdout",
     "output_type": "stream",
     "text": [
      "*******\n",
      "     * \n",
      "    *  \n",
      "   *   \n",
      "  *    \n",
      " *     \n",
      "*******\n",
      "\n"
     ]
    }
   ],
   "source": [
    "r =\"\";    \n",
    "for row in range(0,7):    \n",
    "    for column in range(0,7):     \n",
    "        if (((row == 0 or row == 6) and column >= 0 and column <= 6) or row+column==6):  \n",
    "            r = r+\"*\"    \n",
    "        else:      \n",
    "            r = r+\" \"    \n",
    "    r = r+\"\\n\"    \n",
    "print(r);"
   ]
  },
  {
   "cell_type": "code",
   "execution_count": null,
   "id": "53e980fc",
   "metadata": {},
   "outputs": [],
   "source": []
  }
 ],
 "metadata": {
  "kernelspec": {
   "display_name": "Python 3 (ipykernel)",
   "language": "python",
   "name": "python3"
  },
  "language_info": {
   "codemirror_mode": {
    "name": "ipython",
    "version": 3
   },
   "file_extension": ".py",
   "mimetype": "text/x-python",
   "name": "python",
   "nbconvert_exporter": "python",
   "pygments_lexer": "ipython3",
   "version": "3.11.1"
  }
 },
 "nbformat": 4,
 "nbformat_minor": 5
}
