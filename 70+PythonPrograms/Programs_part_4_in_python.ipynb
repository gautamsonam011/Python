{
 "cells": [
  {
   "cell_type": "code",
   "execution_count": 1,
   "id": "6cd86251",
   "metadata": {},
   "outputs": [
    {
     "name": "stdout",
     "output_type": "stream",
     "text": [
      "7 X 1 = 7\n",
      "7 X 2 = 14\n",
      "7 X 3 = 21\n",
      "7 X 4 = 28\n",
      "7 X 5 = 35\n",
      "7 X 6 = 42\n",
      "7 X 7 = 49\n",
      "7 X 8 = 56\n",
      "7 X 9 = 63\n",
      "7 X 10 = 70\n"
     ]
    }
   ],
   "source": [
    "n = 7\n",
    "i = 1\n",
    "while i <= 10:\n",
    "    print(n,\"X\",i,\"=\",n*i)\n",
    "    i = i+1"
   ]
  },
  {
   "cell_type": "code",
   "execution_count": 2,
   "id": "30b37cfc",
   "metadata": {},
   "outputs": [
    {
     "name": "stdout",
     "output_type": "stream",
     "text": [
      "Enter the number:12\n",
      "12 X 1 = 12\n",
      "12 X 2 = 24\n",
      "12 X 3 = 36\n",
      "12 X 4 = 48\n",
      "12 X 5 = 60\n",
      "12 X 6 = 72\n",
      "12 X 7 = 84\n",
      "12 X 8 = 96\n",
      "12 X 9 = 108\n",
      "12 X 10 = 120\n"
     ]
    }
   ],
   "source": [
    "n = int(input(\"Enter the number:\"))\n",
    "i = 1\n",
    "while i <= 10:\n",
    "    print(n,\"X\",i,\"=\",n*i)\n",
    "    i = i+1"
   ]
  },
  {
   "cell_type": "markdown",
   "id": "642e0b52",
   "metadata": {},
   "source": [
    "# 17:- Fibonacci Sequence"
   ]
  },
  {
   "cell_type": "code",
   "execution_count": 3,
   "id": "2ad49167",
   "metadata": {},
   "outputs": [
    {
     "name": "stdout",
     "output_type": "stream",
     "text": [
      "Enter a number to obtain fibonacci sequence:7\n",
      "0\n",
      "1\n",
      "1\n",
      "2\n",
      "3\n",
      "5\n",
      "8\n",
      "13\n",
      "21\n"
     ]
    }
   ],
   "source": [
    "# Write a program to print fibonacci sequence in python.\n",
    "# 0,1,1,2,3,4,5,8\n",
    "a = 0\n",
    "b = 1\n",
    "num = int(input(\"Enter a number to obtain fibonacci sequence:\")\n",
    "    )\n",
    "\n",
    "if num == 1:\n",
    "    print(a)\n",
    "else:\n",
    "    print(a)\n",
    "    print(b)\n",
    "    for i in range(1,num+1):\n",
    "        c = a+b\n",
    "        a = b\n",
    "        b = c\n",
    "        print(c)"
   ]
  },
  {
   "cell_type": "code",
   "execution_count": 4,
   "id": "8d7683dd",
   "metadata": {},
   "outputs": [
    {
     "name": "stdout",
     "output_type": "stream",
     "text": [
      "Enter a number to obtain fibonacci sequence:7\n",
      "0\n",
      "1\n",
      "1\n",
      "2\n",
      "3\n",
      "5\n",
      "8\n"
     ]
    }
   ],
   "source": [
    "a = 0\n",
    "b = 1\n",
    "num = int(input(\"Enter a number to obtain fibonacci sequence:\")\n",
    "    )\n",
    "\n",
    "if num == 1:\n",
    "    print(a)\n",
    "else:\n",
    "    print(a)\n",
    "    print(b)\n",
    "    for i in range(2,num):\n",
    "        c = a+b\n",
    "        a = b\n",
    "        b = c\n",
    "        print(c)"
   ]
  },
  {
   "cell_type": "markdown",
   "id": "7ac98f8f",
   "metadata": {},
   "source": [
    "# 18:-Armstrong Or Not"
   ]
  },
  {
   "cell_type": "code",
   "execution_count": null,
   "id": "97d3e3a3",
   "metadata": {},
   "outputs": [],
   "source": [
    "# Write a program to check if the number is armstrong or not.\n",
    "\n",
    "#153 = (1*1*1)+(5*5*5)+(3*3*3)\n",
    "#    = 1+125+27\n",
    "#    = 153\n",
    "# user input = 153\n",
    "# sum = 0\n",
    "# temp = num\n",
    "# digit = temp% 10 = 3\n",
    "# cube = digit ** 3\n",
    "# sum = sum+cube\n",
    "# floatDivision = temp//10\n",
    "\n",
    "num = int(input(\"Enter a number here:\"))\n",
    "\n",
    "sum = 0\n",
    "temp = num\n",
    "\n",
    "while temp > 0:\n",
    "    digit = temp%10\n",
    "    cube = digit**3\n",
    "    sum = sum + cube\n",
    "    temp //=10\n",
    "    \n",
    "    \n",
    "if sum == num:\n",
    "    print(\"It is an armstrong number\")\n",
    "else:\n",
    "    print(\"It is not an armstrong number\")\n",
    "        "
   ]
  },
  {
   "cell_type": "code",
   "execution_count": 1,
   "id": "30b2f77d",
   "metadata": {},
   "outputs": [
    {
     "name": "stdout",
     "output_type": "stream",
     "text": [
      "Enter number of terms here:5\n",
      "[1, 2, 4, 8, 16, 32]\n",
      "The value of 2 raised to power 0 is 1\n",
      "The value of 2 raised to power 1 is 2\n",
      "The value of 2 raised to power 2 is 4\n",
      "The value of 2 raised to power 3 is 8\n",
      "The value of 2 raised to power 4 is 16\n",
      "The value of 2 raised to power 5 is 32\n"
     ]
    }
   ],
   "source": [
    "# 21:- python program to display powers of 2 using anonymous function.\n",
    "nterms = int(input(\"Enter number of terms here:\"))\n",
    "\n",
    "result = list(map(lambda x : 2**x,range(nterms+1)))\n",
    "print(result)\n",
    "\n",
    "for i in range(nterms+1):\n",
    "    print(\"The value of 2 raised to power\",i,\"is\",result[i])"
   ]
  },
  {
   "cell_type": "markdown",
   "id": "a7df7185",
   "metadata": {},
   "source": [
    "# 22:- "
   ]
  },
  {
   "cell_type": "code",
   "execution_count": 2,
   "id": "56a48a1a",
   "metadata": {},
   "outputs": [
    {
     "name": "stdout",
     "output_type": "stream",
     "text": [
      "Ther numbers divisible by 13 are:\n",
      "13\n",
      "26\n",
      "39\n",
      "52\n",
      "65\n",
      "78\n",
      "91\n"
     ]
    }
   ],
   "source": [
    "# Python program to find numbers divisible by another number.\n",
    "\n",
    "# using loop\n",
    "\n",
    "print(\"Ther numbers divisible by 13 are:\")\n",
    "for i in range(1,100):\n",
    "    if i % 13 == 0:\n",
    "        print(i)"
   ]
  },
  {
   "cell_type": "code",
   "execution_count": 3,
   "id": "640bd865",
   "metadata": {},
   "outputs": [
    {
     "name": "stdout",
     "output_type": "stream",
     "text": [
      "The numbers divisible by 13 are [39, 26]\n"
     ]
    }
   ],
   "source": [
    "# Using anonymous fuction and filter()------>\n",
    "\n",
    "l = [39,48,26,98,33,67,87]\n",
    "result = list(filter(lambda x : x % 13 == 0,l))\n",
    "print(\"The numbers divisible by 13 are\", result)\n"
   ]
  },
  {
   "cell_type": "markdown",
   "id": "8fd308e9",
   "metadata": {},
   "source": [
    "# 23:-"
   ]
  },
  {
   "cell_type": "code",
   "execution_count": 4,
   "id": "d3697632",
   "metadata": {},
   "outputs": [
    {
     "name": "stdout",
     "output_type": "stream",
     "text": [
      "Enter a number here:12\n",
      "The conversion of decimal number 12 is:\n",
      "0b1100 in binary\n",
      "0o14 in octal\n",
      "0xc in hexadecimal\n"
     ]
    }
   ],
   "source": [
    "# Python program convert Decimal to Binary, Octal, and Hexadecimal.\n",
    "\n",
    "decimal = int(input(\"Enter a number here:\"))\n",
    "print(\"The conversion of decimal number\",decimal,\"is:\")\n",
    "print(bin(decimal),\"in binary\")\n",
    "print(oct(decimal),\"in octal\")\n",
    "print(hex(decimal),\"in hexadecimal\")"
   ]
  },
  {
   "cell_type": "markdown",
   "id": "ba1c7f86",
   "metadata": {},
   "source": [
    "# 24:- ASCII"
   ]
  },
  {
   "cell_type": "code",
   "execution_count": 5,
   "id": "01c05bd6",
   "metadata": {},
   "outputs": [
    {
     "name": "stdout",
     "output_type": "stream",
     "text": [
      "The ASCII value of a is 97\n"
     ]
    }
   ],
   "source": [
    "# Python find ASCII value of character program.\n",
    "\n",
    "char = \"a\"\n",
    "print(\"The ASCII value of\",char,\"is\",ord(char))"
   ]
  },
  {
   "cell_type": "code",
   "execution_count": 6,
   "id": "ca1dc621",
   "metadata": {},
   "outputs": [
    {
     "name": "stdout",
     "output_type": "stream",
     "text": [
      "The ASCII value of A is 65\n"
     ]
    }
   ],
   "source": [
    "char = \"A\"\n",
    "print(\"The ASCII value of\",char,\"is\",ord(char))"
   ]
  },
  {
   "cell_type": "code",
   "execution_count": 7,
   "id": "969d3008",
   "metadata": {},
   "outputs": [
    {
     "name": "stdout",
     "output_type": "stream",
     "text": [
      "The ASCII value of b is 98\n"
     ]
    }
   ],
   "source": [
    "char = \"b\"\n",
    "print(\"The ASCII value of\",char,\"is\",ord(char))"
   ]
  },
  {
   "cell_type": "code",
   "execution_count": 9,
   "id": "b00ea13b",
   "metadata": {},
   "outputs": [
    {
     "name": "stdout",
     "output_type": "stream",
     "text": [
      "The ASCII value of B is 66\n"
     ]
    }
   ],
   "source": [
    "char = \"B\"\n",
    "print(\"The ASCII value of\",char,\"is\",ord(char))"
   ]
  },
  {
   "cell_type": "code",
   "execution_count": 10,
   "id": "1635af4c",
   "metadata": {},
   "outputs": [
    {
     "name": "stdout",
     "output_type": "stream",
     "text": [
      "The ASCII value of z is 122\n"
     ]
    }
   ],
   "source": [
    "char = \"z\"\n",
    "print(\"The ASCII value of\",char,\"is\",ord(char))"
   ]
  },
  {
   "cell_type": "code",
   "execution_count": 11,
   "id": "7f115c6d",
   "metadata": {},
   "outputs": [
    {
     "name": "stdout",
     "output_type": "stream",
     "text": [
      "The ASCII value of Z is 90\n"
     ]
    }
   ],
   "source": [
    "char = \"Z\"\n",
    "print(\"The ASCII value of\",char,\"is\",ord(char))"
   ]
  },
  {
   "cell_type": "markdown",
   "id": "754066b3",
   "metadata": {},
   "source": [
    "# 25:- HCF/GCD"
   ]
  },
  {
   "cell_type": "code",
   "execution_count": 12,
   "id": "fd0bc25d",
   "metadata": {},
   "outputs": [
    {
     "name": "stdout",
     "output_type": "stream",
     "text": [
      "The hcf of the given two numbers is 6\n"
     ]
    }
   ],
   "source": [
    "# HCF/GCD of two numbers python program.\n",
    "# HCF- Higher common factor\n",
    "\n",
    "\n",
    "def findHCF(x,y):\n",
    "    if x > y:\n",
    "        smaller = y\n",
    "    else:\n",
    "        smaller = x\n",
    "    for i in range(1, smaller+1):\n",
    "        if((x % i ==0) and (y % i == 0)):\n",
    "            hcf = i\n",
    "    return hcf\n",
    "print(\"The hcf of the given two numbers is\", findHCF(12,30))"
   ]
  },
  {
   "cell_type": "markdown",
   "id": "ed5da39b",
   "metadata": {},
   "source": [
    "# 26:- Factors of a number"
   ]
  },
  {
   "cell_type": "code",
   "execution_count": 14,
   "id": "8a8778e7",
   "metadata": {},
   "outputs": [
    {
     "name": "stdout",
     "output_type": "stream",
     "text": [
      "Enter the number:12\n",
      "1\n",
      "2\n",
      "3\n",
      "4\n",
      "6\n",
      "12\n"
     ]
    }
   ],
   "source": [
    "# Python program to find the factors of a number.\n",
    "# Using by-\n",
    "# variable as num\n",
    "# loop\n",
    "# conditional statement\n",
    "# operators\n",
    "\n",
    "num = int(input(\"Enter the number:\"))\n",
    "for i in range(1,num+1):\n",
    "    if num % i == 0:\n",
    "        print(i)"
   ]
  },
  {
   "cell_type": "markdown",
   "id": "d281612c",
   "metadata": {},
   "source": [
    "# 27:- Simple calculator"
   ]
  },
  {
   "cell_type": "markdown",
   "id": "7eebc1b0",
   "metadata": {},
   "source": [
    "# Write a program to make a simple calculator.\n",
    "\n",
    "print(\"~~~~~Mini Calculator~~~~~~\")\n",
    "num1 = float(input(\"Enter the 1th number:\"))\n",
    "num2 = float(input(\"Enter the 2th number:\"))\n",
    "\n",
    "print(\"press 1 for addition \\npress 2 for subtraction \\npress 3 for multiplication \\n press 4 for division\")\n",
    "choice = int(input(\"Enter your choice 1-4:\"))\n",
    "\n",
    "if choice == 1:\n",
    "    sum = num1+num2\n",
    "    print(sum)\n",
    "elif choice == 2:\n",
    "    sub = num1-num2\n",
    "    print(sub)\n",
    "elif choice == 3:\n",
    "    mul = num1*num2\n",
    "    print(mul)\n",
    "elif choice == 4:\n",
    "    div = num1/num2\n",
    "    print(div)\n",
    "else:\n",
    "    print(\"press 1-4 number\")\n"
   ]
  },
  {
   "cell_type": "code",
   "execution_count": null,
   "id": "cc7c67a4",
   "metadata": {},
   "outputs": [],
   "source": [
    "print(\"~~~~~Mini Calculator~~~~~~\")\n",
    "num1 = float(input(\"Enter the 1th number:\"))\n",
    "num2 = float(input(\"Enter the 2th number:\"))\n",
    "\n",
    "print(\"press 1 for addition \\npress 2 for subtraction \\npress 3 for multiplication \\n press 4 for division\")\n",
    "choice = int(input(\"Enter your choice 1-4:\"))\n",
    "\n",
    "if choice == 1:\n",
    "    sum = num1+num2\n",
    "    print(sum)\n",
    "elif choice == 2:\n",
    "    sub = num1-num2\n",
    "    print(sub)\n",
    "elif choice == 3:\n",
    "    mul = num1*num2\n",
    "    print(mul)\n",
    "elif choice == 4:\n",
    "    div = num1/num2\n",
    "    print(div)\n",
    "else:\n",
    "    print(\"press 1-4 number\")"
   ]
  },
  {
   "cell_type": "code",
   "execution_count": null,
   "id": "b175dda1",
   "metadata": {},
   "outputs": [],
   "source": []
  }
 ],
 "metadata": {
  "kernelspec": {
   "display_name": "Python 3 (ipykernel)",
   "language": "python",
   "name": "python3"
  },
  "language_info": {
   "codemirror_mode": {
    "name": "ipython",
    "version": 3
   },
   "file_extension": ".py",
   "mimetype": "text/x-python",
   "name": "python",
   "nbconvert_exporter": "python",
   "pygments_lexer": "ipython3",
   "version": "3.11.1"
  }
 },
 "nbformat": 4,
 "nbformat_minor": 5
}
