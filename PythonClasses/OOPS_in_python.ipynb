{
 "cells": [
  {
   "cell_type": "code",
   "execution_count": 1,
   "id": "88388516",
   "metadata": {},
   "outputs": [
    {
     "name": "stdout",
     "output_type": "stream",
     "text": [
      "<__main__.MyClass object at 0x00000166CB507150>\n"
     ]
    }
   ],
   "source": [
    "class MyClass():\n",
    "    x = 6\n",
    "\n",
    "new_myclass = MyClass()\n",
    "print(new_myclass)"
   ]
  },
  {
   "cell_type": "code",
   "execution_count": 2,
   "id": "0fed7b5c",
   "metadata": {},
   "outputs": [
    {
     "name": "stdout",
     "output_type": "stream",
     "text": [
      "10\n"
     ]
    }
   ],
   "source": [
    "class add:\n",
    "    a = 4\n",
    "    b = 6\n",
    "    c = a+b\n",
    "new = add()\n",
    "print(new.c)"
   ]
  },
  {
   "cell_type": "markdown",
   "id": "fcfb118d",
   "metadata": {},
   "source": [
    "# Inheritance"
   ]
  },
  {
   "cell_type": "code",
   "execution_count": 3,
   "id": "81c14e87",
   "metadata": {},
   "outputs": [
    {
     "name": "stdout",
     "output_type": "stream",
     "text": [
      "Name = Brian\n"
     ]
    }
   ],
   "source": [
    "# We define a super class named user:-\n",
    "\n",
    "class User:\n",
    "    name = \"\"\n",
    "    \n",
    "    def __init__(self,name):\n",
    "        self.name = name\n",
    "        \n",
    "    def printName(self):\n",
    "        print(\"Name = \" + self.name)\n",
    "        \n",
    "u = User(\"Brian\")\n",
    "u.printName()"
   ]
  },
  {
   "cell_type": "code",
   "execution_count": 5,
   "id": "a834c7d0",
   "metadata": {},
   "outputs": [
    {
     "name": "stdout",
     "output_type": "stream",
     "text": [
      "Name = Brian\n",
      "Name = Veronica\n",
      "Name = Fridy\n"
     ]
    }
   ],
   "source": [
    "class User:\n",
    "    name = \"\"\n",
    "    \n",
    "    def __init__(self,name):\n",
    "        self.name = name\n",
    "        \n",
    "    def printName(self):\n",
    "        print(\"Name = \" + self.name)\n",
    "        \n",
    "u = User(\"Brian\")\n",
    "u.printName()\n",
    "class Programmer(User):\n",
    "    def __init__(self,name):\n",
    "        self.name = name\n",
    "    def DoPython(self):\n",
    "        print(\"Programming in Python\")\n",
    "        \n",
    "vr = User(\"Veronica\")\n",
    "vr.printName()\n",
    "\n",
    "sb = Programmer(\"Fridy\")\n",
    "sb.printName()"
   ]
  },
  {
   "cell_type": "markdown",
   "id": "65ade927",
   "metadata": {},
   "source": [
    "# Types Of Inheritance"
   ]
  },
  {
   "cell_type": "code",
   "execution_count": 6,
   "id": "1197c5d4",
   "metadata": {},
   "outputs": [
    {
     "name": "stdout",
     "output_type": "stream",
     "text": [
      "Eating---->\n",
      "Barking--->\n"
     ]
    }
   ],
   "source": [
    "# Single Inheritance:----->\n",
    "\n",
    "class Animal:\n",
    "    def eat(self):\n",
    "        print(\"Eating---->\")\n",
    "        \n",
    "class BabyDog(Animal):\n",
    "    def bark(self):\n",
    "        print(\"Barking--->\")\n",
    "q = BabyDog()\n",
    "\n",
    "q.eat()\n",
    "q.bark()"
   ]
  },
  {
   "cell_type": "markdown",
   "id": "d51b068f",
   "metadata": {},
   "source": [
    "# Multi-level Inheritance"
   ]
  },
  {
   "cell_type": "code",
   "execution_count": 7,
   "id": "01941966",
   "metadata": {},
   "outputs": [
    {
     "name": "stdout",
     "output_type": "stream",
     "text": [
      "Weeping--->\n"
     ]
    }
   ],
   "source": [
    "class Animal:\n",
    "    def eat(self):\n",
    "        print(\"Eating-->\")\n",
    "class Dog(Animal):\n",
    "    def bark(self):\n",
    "        print(\"Barking---->\")\n",
    "class BabyDog(Dog):\n",
    "    def weep(self):\n",
    "        print(\"Weeping--->\")\n",
    "b = BabyDog()\n",
    "b.weep()"
   ]
  },
  {
   "cell_type": "code",
   "execution_count": 9,
   "id": "f49b74dd",
   "metadata": {},
   "outputs": [
    {
     "name": "stdout",
     "output_type": "stream",
     "text": [
      "Eating-->\n",
      "Barking---->\n"
     ]
    }
   ],
   "source": [
    "b.eat()\n",
    "b.bark()"
   ]
  },
  {
   "cell_type": "markdown",
   "id": "1af2837f",
   "metadata": {},
   "source": [
    "# Multiple Inheritance"
   ]
  },
  {
   "cell_type": "code",
   "execution_count": 12,
   "id": "2932595f",
   "metadata": {},
   "outputs": [
    {
     "data": {
      "text/plain": [
       "'Vivek'"
      ]
     },
     "execution_count": 12,
     "metadata": {},
     "output_type": "execute_result"
    }
   ],
   "source": [
    "class A:\n",
    "    def __init__(self):\n",
    "        self.name = \"Atul\"\n",
    "        self.age = 23\n",
    "        \n",
    "    def getName(self):\n",
    "        return self.name\n",
    "class B(A):\n",
    "    def __init__(self):\n",
    "        self.name = \"Vivek\"\n",
    "        self.id = '83'\n",
    "    def getName(self):\n",
    "        return self.name\n",
    "    \n",
    "x = B()\n",
    "x.getName()\n",
    "x.getName()        "
   ]
  },
  {
   "cell_type": "markdown",
   "id": "c287ef87",
   "metadata": {},
   "source": [
    "# Polymorphism"
   ]
  },
  {
   "cell_type": "code",
   "execution_count": 1,
   "id": "b0bafef7",
   "metadata": {},
   "outputs": [],
   "source": [
    "class p:\n",
    "    def fly(self):\n",
    "        print(\"P\")\n",
    "        \n",
    "    def swim(self):\n",
    "        print(\"s\")"
   ]
  },
  {
   "cell_type": "code",
   "execution_count": 2,
   "id": "d702c038",
   "metadata": {},
   "outputs": [
    {
     "name": "stdout",
     "output_type": "stream",
     "text": [
      "P\n"
     ]
    }
   ],
   "source": [
    "p1 =p()\n",
    "p1.fly()"
   ]
  },
  {
   "cell_type": "code",
   "execution_count": 3,
   "id": "3ef2fc7f",
   "metadata": {},
   "outputs": [
    {
     "name": "stdout",
     "output_type": "stream",
     "text": [
      "s\n"
     ]
    }
   ],
   "source": [
    "p1.swim()"
   ]
  },
  {
   "cell_type": "code",
   "execution_count": 4,
   "id": "917c1e3a",
   "metadata": {},
   "outputs": [
    {
     "data": {
      "text/plain": [
       "10"
      ]
     },
     "execution_count": 4,
     "metadata": {},
     "output_type": "execute_result"
    }
   ],
   "source": [
    "class add:\n",
    "    a = 4\n",
    "    b =6\n",
    "    c = a+b\n",
    "a = add()\n",
    "a.c"
   ]
  },
  {
   "cell_type": "code",
   "execution_count": 12,
   "id": "dc8a13fd",
   "metadata": {},
   "outputs": [],
   "source": [
    "class add:\n",
    "    def sum(self):\n",
    "        return x+y\n",
    "    \n"
   ]
  },
  {
   "cell_type": "code",
   "execution_count": 14,
   "id": "5417056c",
   "metadata": {},
   "outputs": [],
   "source": [
    "# Method Overloading----------->\n",
    "class Parrot:\n",
    "    def fly(self):\n",
    "        print(\"Parrot can fly\")\n",
    "    def swim(self):\n",
    "        print(\"Parrot can not swim\")\n",
    "class Penguin:\n",
    "    def fly(self):\n",
    "        print(\"Penguin can not fly\")\n",
    "    def swim(self):\n",
    "        print(\"Penguin can fly\")\n",
    "def fly_test(bird):\n",
    "    bird.fly\n",
    "    \n",
    "pa = Parrot()\n",
    "pe = Penguin()\n",
    "\n",
    "fly_test(pa)\n",
    "fly_test(pe)"
   ]
  },
  {
   "cell_type": "code",
   "execution_count": 15,
   "id": "a4707896",
   "metadata": {},
   "outputs": [
    {
     "name": "stdout",
     "output_type": "stream",
     "text": [
      "10\n"
     ]
    }
   ],
   "source": [
    "# How to call a class?\n",
    "\n",
    "class MyClass:\n",
    "    a = 10\n",
    "ob = MyClass()\n",
    "print(ob.a)"
   ]
  },
  {
   "cell_type": "code",
   "execution_count": 16,
   "id": "8d9ede90",
   "metadata": {},
   "outputs": [
    {
     "name": "stdout",
     "output_type": "stream",
     "text": [
      "10\n",
      "100\n",
      "Hi\n"
     ]
    }
   ],
   "source": [
    "class MyClass:\n",
    "    x = 10\n",
    "    def new_class(self,new_x):\n",
    "        self.x = new_x\n",
    "        \n",
    "ob = MyClass()\n",
    "\n",
    "print(ob.x)\n",
    "\n",
    "ob.new_class(100)\n",
    "print(ob.x)\n",
    "\n",
    "ob.new_class(\"Hi\")\n",
    "print(ob.x)"
   ]
  },
  {
   "cell_type": "code",
   "execution_count": 18,
   "id": "ecc7a155",
   "metadata": {},
   "outputs": [
    {
     "name": "stdout",
     "output_type": "stream",
     "text": [
      "ayansh.johari@gmail.com\n",
      "sf.df@gmail.com\n"
     ]
    }
   ],
   "source": [
    "# Constructor in python:-------->\n",
    "\n",
    "class employee:\n",
    "    def __init__(self,first,last,sal):\n",
    "        self.first = first\n",
    "        self.last = last\n",
    "        self.sal = sal\n",
    "        self.email = first+ '.'+last+'@gmail.com'\n",
    "        \n",
    "emp = employee('ayansh','johari',35000)\n",
    "emp1 = employee('sf','df',409033)\n",
    "print(emp.email)\n",
    "print(emp1.email)"
   ]
  },
  {
   "cell_type": "markdown",
   "id": "8b4ee20e",
   "metadata": {},
   "source": [
    "# Encapsulation"
   ]
  },
  {
   "cell_type": "code",
   "execution_count": 23,
   "id": "7895f770",
   "metadata": {},
   "outputs": [
    {
     "name": "stdout",
     "output_type": "stream",
     "text": [
      "Maximum speed:120\n"
     ]
    }
   ],
   "source": [
    "class Computer:\n",
    "    def __init__(self):\n",
    "        self.__maxspeed = 120\n",
    "        \n",
    "    def sell(self):\n",
    "        print(\"Maximum speed:{}\".format(self.__maxspeed))\n",
    "        \n",
    "    # setter function\n",
    "    \n",
    "    def setMaxSpeed(self, price):\n",
    "        self.__maxspeed = price\n",
    "c = Computer()\n",
    "c.sell()"
   ]
  },
  {
   "cell_type": "code",
   "execution_count": 21,
   "id": "28a1269d",
   "metadata": {},
   "outputs": [
    {
     "name": "stdout",
     "output_type": "stream",
     "text": [
      "Maximum speed:120\n"
     ]
    }
   ],
   "source": [
    "# change the Speed\n",
    "\n",
    "c.__maxspeed = 150\n",
    "c.sell()"
   ]
  },
  {
   "cell_type": "code",
   "execution_count": 24,
   "id": "581671a3",
   "metadata": {},
   "outputs": [
    {
     "name": "stdout",
     "output_type": "stream",
     "text": [
      "Maximum speed:200\n"
     ]
    }
   ],
   "source": [
    "# using setter function\n",
    "\n",
    "c.setMaxSpeed(200)\n",
    "c.sell()"
   ]
  },
  {
   "cell_type": "code",
   "execution_count": null,
   "id": "3f28f5a3",
   "metadata": {},
   "outputs": [],
   "source": []
  }
 ],
 "metadata": {
  "kernelspec": {
   "display_name": "Python 3 (ipykernel)",
   "language": "python",
   "name": "python3"
  },
  "language_info": {
   "codemirror_mode": {
    "name": "ipython",
    "version": 3
   },
   "file_extension": ".py",
   "mimetype": "text/x-python",
   "name": "python",
   "nbconvert_exporter": "python",
   "pygments_lexer": "ipython3",
   "version": "3.11.1"
  }
 },
 "nbformat": 4,
 "nbformat_minor": 5
}
