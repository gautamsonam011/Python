{
 "cells": [
  {
   "cell_type": "code",
   "execution_count": 1,
   "id": "66d7dd35",
   "metadata": {},
   "outputs": [
    {
     "name": "stdout",
     "output_type": "stream",
     "text": [
      "~~~~~Mini Calculator~~~~~~\n",
      "Enter the 1th number:3\n",
      "Enter the 2th number:4\n",
      "press 1 for addition \n",
      "press 2 for subtraction \n",
      "press 3 for multiplication \n",
      " press 4 for division\n",
      "Enter your choice 1-4:3\n",
      "12.0\n"
     ]
    }
   ],
   "source": [
    "# 27:-\n",
    "\n",
    "print(\"~~~~~Mini Calculator~~~~~~\")\n",
    "num1 = float(input(\"Enter the 1th number:\"))\n",
    "num2 = float(input(\"Enter the 2th number:\"))\n",
    "\n",
    "print(\"press 1 for addition \\npress 2 for subtraction \\npress 3 for multiplication \\n press 4 for division\")\n",
    "choice = int(input(\"Enter your choice 1-4:\"))\n",
    "\n",
    "if choice == 1:\n",
    "    sum = num1+num2\n",
    "    print(sum)\n",
    "elif choice == 2:\n",
    "    sub = num1-num2\n",
    "    print(sub)\n",
    "elif choice == 3:\n",
    "    mul = num1*num2\n",
    "    print(mul)\n",
    "elif choice == 4:\n",
    "    div = num1/num2\n",
    "    print(div)\n",
    "else:\n",
    "    print(\"press valid number\")"
   ]
  },
  {
   "cell_type": "markdown",
   "id": "cc236e3e",
   "metadata": {},
   "source": [
    "# 28:- Shuffle Deck of Cards"
   ]
  },
  {
   "cell_type": "code",
   "execution_count": 5,
   "id": "d242633c",
   "metadata": {},
   "outputs": [
    {
     "name": "stdout",
     "output_type": "stream",
     "text": [
      "[(1, 'Spade'), (1, 'Club'), (1, 'Hearts'), (1, 'Diamond'), (2, 'Spade'), (2, 'Club'), (2, 'Hearts'), (2, 'Diamond'), (3, 'Spade'), (3, 'Club'), (3, 'Hearts'), (3, 'Diamond'), (4, 'Spade'), (4, 'Club'), (4, 'Hearts'), (4, 'Diamond'), (5, 'Spade'), (5, 'Club'), (5, 'Hearts'), (5, 'Diamond'), (6, 'Spade'), (6, 'Club'), (6, 'Hearts'), (6, 'Diamond'), (7, 'Spade'), (7, 'Club'), (7, 'Hearts'), (7, 'Diamond'), (8, 'Spade'), (8, 'Club'), (8, 'Hearts'), (8, 'Diamond'), (9, 'Spade'), (9, 'Club'), (9, 'Hearts'), (9, 'Diamond'), (10, 'Spade'), (10, 'Club'), (10, 'Hearts'), (10, 'Diamond'), (11, 'Spade'), (11, 'Club'), (11, 'Hearts'), (11, 'Diamond'), (12, 'Spade'), (12, 'Club'), (12, 'Hearts'), (12, 'Diamond'), (13, 'Spade'), (13, 'Club'), (13, 'Hearts'), (13, 'Diamond')]\n"
     ]
    }
   ],
   "source": [
    "# python program to Shuffle Deck of cards.\n",
    "\n",
    "import random, itertools\n",
    "\n",
    "deck = list(itertools.product(range(1,14),[\"Spade\",\"Club\",\"Hearts\",\"Diamond\"]))\n",
    "print(deck)"
   ]
  },
  {
   "cell_type": "code",
   "execution_count": 4,
   "id": "ff10f25b",
   "metadata": {},
   "outputs": [
    {
     "name": "stdout",
     "output_type": "stream",
     "text": [
      "[(13, 'Hearts'), (4, 'Club'), (3, 'Hearts'), (1, 'Club'), (6, 'Diamond'), (12, 'Spade'), (3, 'Diamond'), (1, 'Hearts'), (4, 'Spade'), (6, 'Club'), (7, 'Diamond'), (4, 'Hearts'), (5, 'Club'), (8, 'Diamond'), (1, 'Diamond'), (12, 'Club'), (9, 'Hearts'), (10, 'Club'), (3, 'Spade'), (13, 'Diamond'), (8, 'Spade'), (12, 'Hearts'), (8, 'Club'), (11, 'Hearts'), (1, 'Spade'), (10, 'Diamond'), (13, 'Spade'), (4, 'Diamond'), (10, 'Hearts'), (9, 'Club'), (2, 'Diamond'), (2, 'Hearts'), (5, 'Hearts'), (11, 'Spade'), (7, 'Club'), (6, 'Hearts'), (2, 'Club'), (5, 'Spade'), (11, 'Diamond'), (9, 'Spade'), (5, 'Diamond'), (3, 'Club'), (12, 'Diamond'), (11, 'Club'), (7, 'Spade'), (13, 'Club'), (9, 'Diamond'), (7, 'Hearts'), (10, 'Spade'), (2, 'Spade'), (6, 'Spade'), (8, 'Hearts')]\n"
     ]
    }
   ],
   "source": [
    "import random, itertools\n",
    "\n",
    "deck = list(itertools.product(range(1,14),[\"Spade\",\"Club\",\"Hearts\",\"Diamond\"]))\n",
    "\n",
    "\n",
    "random.shuffle(deck)\n",
    "print(deck)"
   ]
  },
  {
   "cell_type": "code",
   "execution_count": 7,
   "id": "b12d1c9e",
   "metadata": {},
   "outputs": [
    {
     "name": "stdout",
     "output_type": "stream",
     "text": [
      "[(5, 'Club'), (10, 'Spade'), (8, 'Spade'), (4, 'Diamond'), (1, 'Club'), (12, 'Spade'), (1, 'Diamond'), (5, 'Spade'), (6, 'Hearts'), (5, 'Hearts'), (3, 'Hearts'), (8, 'Club'), (13, 'Spade'), (9, 'Club'), (1, 'Spade'), (13, 'Club'), (11, 'Club'), (2, 'Spade'), (11, 'Spade'), (4, 'Hearts'), (10, 'Diamond'), (5, 'Diamond'), (7, 'Club'), (4, 'Spade'), (9, 'Spade'), (13, 'Hearts'), (13, 'Diamond'), (6, 'Club'), (6, 'Spade'), (3, 'Club'), (3, 'Spade'), (9, 'Hearts'), (2, 'Diamond'), (6, 'Diamond'), (11, 'Hearts'), (3, 'Diamond'), (10, 'Hearts'), (10, 'Club'), (1, 'Hearts'), (7, 'Diamond'), (4, 'Club'), (12, 'Club'), (7, 'Spade'), (8, 'Hearts'), (2, 'Club'), (11, 'Diamond'), (12, 'Hearts'), (12, 'Diamond'), (7, 'Hearts'), (9, 'Diamond'), (2, 'Hearts'), (8, 'Diamond')]\n",
      "5 of Club\n",
      "10 of Spade\n",
      "8 of Spade\n",
      "4 of Diamond\n",
      "1 of Club\n"
     ]
    }
   ],
   "source": [
    "import random, itertools\n",
    "\n",
    "deck = list(itertools.product(range(1,14),[\"Spade\",\"Club\",\"Hearts\",\"Diamond\"]))\n",
    "\n",
    "random.shuffle(deck)\n",
    "print(deck)\n",
    "for i in range(5):\n",
    "    print(deck[i][0],\"of\", deck[i][1])"
   ]
  },
  {
   "cell_type": "markdown",
   "id": "d01bc3b3",
   "metadata": {},
   "source": [
    "# 29:- Python Calendar"
   ]
  },
  {
   "cell_type": "code",
   "execution_count": 9,
   "id": "d263fe56",
   "metadata": {},
   "outputs": [
    {
     "name": "stdout",
     "output_type": "stream",
     "text": [
      "Enter year:2022\n",
      "Enter month:2\n",
      "   February 2022\n",
      "Mo Tu We Th Fr Sa Su\n",
      "    1  2  3  4  5  6\n",
      " 7  8  9 10 11 12 13\n",
      "14 15 16 17 18 19 20\n",
      "21 22 23 24 25 26 27\n",
      "28\n",
      "\n"
     ]
    }
   ],
   "source": [
    "# Write a program to display calender in python.\n",
    "\n",
    "import calendar\n",
    "\n",
    "year = int(input(\"Enter year:\"))\n",
    "month = int(input(\"Enter month:\"))\n",
    "\n",
    "calendar = calendar.month(year,month)\n",
    "print(calendar)"
   ]
  },
  {
   "cell_type": "markdown",
   "id": "46fafcfe",
   "metadata": {},
   "source": [
    "# 30:- Display fibonacci Sequence Using Recursion"
   ]
  },
  {
   "cell_type": "code",
   "execution_count": 13,
   "id": "dab0544f",
   "metadata": {},
   "outputs": [
    {
     "name": "stdout",
     "output_type": "stream",
     "text": [
      "Enter number here5\n",
      "Fibonacci Sequence\n",
      "0\n",
      "1\n",
      "1\n",
      "2\n",
      "3\n"
     ]
    }
   ],
   "source": [
    "def fibo(n):\n",
    "    if n <= 1:\n",
    "        return n\n",
    "    else:\n",
    "        return fibo(n-1)+fibo(n-2)\n",
    "n = int(input(\"Enter number here\"))\n",
    "if n <= 0:\n",
    "    print(\"Enter a positive number\")\n",
    "else:\n",
    "    print(\"Fibonacci Sequence\")\n",
    "    for i in range(n):\n",
    "        print(fibo(i))"
   ]
  },
  {
   "cell_type": "markdown",
   "id": "d38955f6",
   "metadata": {},
   "source": [
    "# 31:- Sum of Natural Numbers "
   ]
  },
  {
   "cell_type": "code",
   "execution_count": 2,
   "id": "e36a1f0e",
   "metadata": {},
   "outputs": [
    {
     "name": "stdout",
     "output_type": "stream",
     "text": [
      "Enter the number:5\n",
      "The sum of natural upto given number 15\n"
     ]
    }
   ],
   "source": [
    "# Python program to find the sum of natural numbers using recursion.\n",
    "\n",
    "# natural numbers => +ve integers.\n",
    "\n",
    "def nns(n):\n",
    "    if n <= 1:\n",
    "        return n\n",
    "    else:\n",
    "        return (n)+nns(n-1)\n",
    "n = int(input(\"Enter the number:\"))\n",
    "\n",
    "if n <= 0:\n",
    "    print(\"Enter a positive number\")\n",
    "else:\n",
    "    print(\"The sum of natural upto given number\",nns(n))\n",
    "    "
   ]
  },
  {
   "cell_type": "markdown",
   "id": "c2b8f5fc",
   "metadata": {},
   "source": [
    "# 32:- Factorial of number using recursion:-"
   ]
  },
  {
   "cell_type": "code",
   "execution_count": 3,
   "id": "1de4d22e",
   "metadata": {},
   "outputs": [
    {
     "name": "stdout",
     "output_type": "stream",
     "text": [
      "Enter the number:5\n",
      "Factorial of given number is 120\n"
     ]
    }
   ],
   "source": [
    "# Python program to find factorial of number using recursion.\n",
    "\n",
    "def fact(n):\n",
    "    if n == 1:\n",
    "        return 1\n",
    "    else:\n",
    "        return n*fact(n-1)\n",
    "n = int(input(\"Enter the number:\"))\n",
    "\n",
    "if n <= 0:\n",
    "    print(\"Factorial of number less than 1 does not exists\")\n",
    "else:\n",
    "    print(\"Factorial of given number is\", fact(n))"
   ]
  },
  {
   "cell_type": "markdown",
   "id": "bd8fc708",
   "metadata": {},
   "source": [
    "# 33:- Decimal to Binary:-"
   ]
  },
  {
   "cell_type": "code",
   "execution_count": 4,
   "id": "3cf37323",
   "metadata": {},
   "outputs": [
    {
     "name": "stdout",
     "output_type": "stream",
     "text": [
      "The binary of the given number is:\n",
      "1111"
     ]
    }
   ],
   "source": [
    "# Write a program to convert decimal to binary using recursion.\n",
    "\n",
    "def convertBinary(n):\n",
    "    if n > 1:\n",
    "        convertBinary(n//2)\n",
    "    print(n%2,end = \"\")\n",
    "print(\"The binary of the given number is:\")\n",
    "convertBinary(15)"
   ]
  },
  {
   "cell_type": "markdown",
   "id": "5e36998d",
   "metadata": {},
   "source": [
    "# 34:- Matrices"
   ]
  },
  {
   "cell_type": "code",
   "execution_count": 6,
   "id": "9706ef5a",
   "metadata": {},
   "outputs": [
    {
     "name": "stdout",
     "output_type": "stream",
     "text": [
      "[5, 10, 14]\n",
      "[12, 15, 8]\n",
      "[10, 7, 9]\n"
     ]
    }
   ],
   "source": [
    "# Python program to add two matrices.\n",
    "\n",
    "a = [[1,5,8],\n",
    "     [4,6,7],\n",
    "     [7,2,3]]\n",
    "b = [[4,5,6],\n",
    "     [8,9,1],\n",
    "     [3,5,6]]\n",
    "    \n",
    "result = [[0,0,0],\n",
    "          [0,0,0],\n",
    "          [0,0,0]]\n",
    "\n",
    "for i in range(len(a)):\n",
    "    for j in range(len(a[0])):\n",
    "        result[i][j] = a[i][j]+b[i][j]\n",
    "        \n",
    "for r in result:\n",
    "    print(r)"
   ]
  },
  {
   "cell_type": "markdown",
   "id": "415bf1be",
   "metadata": {},
   "source": [
    "# 35:- Matrix"
   ]
  },
  {
   "cell_type": "code",
   "execution_count": 7,
   "id": "07d10daf",
   "metadata": {},
   "outputs": [
    {
     "name": "stdout",
     "output_type": "stream",
     "text": [
      "[1, 4]\n",
      "[2, 5]\n",
      "[3, 6]\n"
     ]
    }
   ],
   "source": [
    "# Write a program to how to Transpose a matrix - Explained\n",
    "\n",
    "# Using for loop---->\n",
    "\n",
    "A = [[1,2,3],\n",
    "    [4,5,6]]\n",
    "T = [[0,0],\n",
    "    [0,0],\n",
    "    [0,0]]\n",
    "\n",
    "for i in range(len(A)):\n",
    "    for j in range(len(A[0])):\n",
    "        T[j][i] = A[i][j]\n",
    "\n",
    "for i in T:\n",
    "    print(i)"
   ]
  },
  {
   "cell_type": "code",
   "execution_count": 10,
   "id": "a6a7b002",
   "metadata": {},
   "outputs": [
    {
     "name": "stdout",
     "output_type": "stream",
     "text": [
      "[1, 4]\n",
      "[2, 5]\n",
      "[3, 6]\n"
     ]
    }
   ],
   "source": [
    "# List Comprehension:-\n",
    "A = [[1,2,3],\n",
    "    [4,5,6]]\n",
    "T = [[A[j][i] for j in range(len(A))] for i in range(len(A[0]))]\n",
    "\n",
    "for i in T:\n",
    "    print(i)"
   ]
  },
  {
   "cell_type": "markdown",
   "id": "06da8299",
   "metadata": {},
   "source": [
    "# 36:- Palindrome:"
   ]
  },
  {
   "cell_type": "code",
   "execution_count": 13,
   "id": "df13624f",
   "metadata": {},
   "outputs": [
    {
     "name": "stdout",
     "output_type": "stream",
     "text": [
      "Enter the string:madam\n",
      "It is a palindrome madam\n"
     ]
    }
   ],
   "source": [
    "# Write a program to check whether a string is Palindrome or Not.\n",
    "\n",
    "a = (input(\"Enter the string:\"))\n",
    "\n",
    "rev = a[::-1]\n",
    "if a == rev:\n",
    "    print(\"It is a palindrome\",a)\n",
    "else:\n",
    "    print(\"It is not palindrome\")\n"
   ]
  },
  {
   "cell_type": "code",
   "execution_count": 16,
   "id": "8590930e",
   "metadata": {},
   "outputs": [
    {
     "name": "stdout",
     "output_type": "stream",
     "text": [
      "Enter the string:nitin\n",
      "It is a palindrome nitin\n"
     ]
    }
   ],
   "source": [
    "a = (input(\"Enter the string:\"))\n",
    "b = ''\n",
    "for i in a:\n",
    "    b = i+b\n",
    "if a == b:\n",
    "    print(\"It is a palindrome\",a)\n",
    "else:\n",
    "    print(\"It is not palindrome\")"
   ]
  },
  {
   "cell_type": "markdown",
   "id": "df79d777",
   "metadata": {},
   "source": [
    "# 37:- Remove Punctuations"
   ]
  },
  {
   "cell_type": "code",
   "execution_count": null,
   "id": "000b0008",
   "metadata": {},
   "outputs": [],
   "source": [
    "# Write a program how to remove punctuations from a string.\n",
    "\n",
    "punc = \"&$@#@!><()]{}][]~hjfsk??!!\"\n",
    "string = input(\"Enter anything here:\")\n",
    "\n",
    "empty_str = \"\"\n",
    "\n",
    "for i in string:\n",
    "    if i not in punc:\n",
    "        empty_str = empty_str + i\n",
    "        \n",
    "print(empty_str)"
   ]
  },
  {
   "cell_type": "code",
   "execution_count": null,
   "id": "d659ccdc",
   "metadata": {},
   "outputs": [],
   "source": []
  },
  {
   "cell_type": "code",
   "execution_count": null,
   "id": "5a7c668d",
   "metadata": {},
   "outputs": [],
   "source": []
  }
 ],
 "metadata": {
  "kernelspec": {
   "display_name": "Python 3 (ipykernel)",
   "language": "python",
   "name": "python3"
  },
  "language_info": {
   "codemirror_mode": {
    "name": "ipython",
    "version": 3
   },
   "file_extension": ".py",
   "mimetype": "text/x-python",
   "name": "python",
   "nbconvert_exporter": "python",
   "pygments_lexer": "ipython3",
   "version": "3.11.1"
  }
 },
 "nbformat": 4,
 "nbformat_minor": 5
}
