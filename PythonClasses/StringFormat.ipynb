{
 "cells": [
  {
   "cell_type": "code",
   "execution_count": 1,
   "id": "84f9adc2",
   "metadata": {},
   "outputs": [
    {
     "name": "stdout",
     "output_type": "stream",
     "text": [
      "Python is the most simple programming language\n"
     ]
    }
   ],
   "source": [
    "print(\"Python is the most {} programming language\".format(\"simple\"))"
   ]
  },
  {
   "cell_type": "code",
   "execution_count": 3,
   "id": "63437d10",
   "metadata": {},
   "outputs": [
    {
     "name": "stdout",
     "output_type": "stream",
     "text": [
      "Simple is batter than complex\n"
     ]
    }
   ],
   "source": [
    "# Single Formatter:-------------->\n",
    "\n",
    "open_string = \"Simple is batter {}\"\n",
    "print(open_string.format(\"than complex\"))"
   ]
  },
  {
   "cell_type": "code",
   "execution_count": 4,
   "id": "e7d1dbfc",
   "metadata": {},
   "outputs": [
    {
     "name": "stdout",
     "output_type": "stream",
     "text": [
      "Python is multi paradgm programming language, it support Object oriented programming and Producer programming\n"
     ]
    }
   ],
   "source": [
    "# Using formatters with multiple placeholders:-------->\n",
    "\n",
    "open_string = \"Python is multi paradgm programming language, it support {} and {}\"\n",
    "print(open_string.format(\"Object oriented programming\",\"Producer programming\"))"
   ]
  },
  {
   "cell_type": "code",
   "execution_count": 5,
   "id": "d918762d",
   "metadata": {},
   "outputs": [
    {
     "name": "stdout",
     "output_type": "stream",
     "text": [
      "Python is multi paradgm programming language, it support Object oriented programming and Producer programming\n"
     ]
    }
   ],
   "source": [
    "# Reordering formatters with positional and keyword arguments\n",
    "\n",
    "open_string = \"Python is multi paradgm programming language, it support {0} and {1}\"\n",
    "print(open_string.format(\"Object oriented programming\",\"Producer programming\"))"
   ]
  },
  {
   "cell_type": "code",
   "execution_count": 6,
   "id": "674369c6",
   "metadata": {},
   "outputs": [
    {
     "name": "stdout",
     "output_type": "stream",
     "text": [
      "Python is multi paradgm programming language, it support Producer programming and Object oriented programming\n"
     ]
    }
   ],
   "source": [
    "open_string = \"Python is multi paradgm programming language, it support {1} and {0}\"\n",
    "print(open_string.format(\"Object oriented programming\",\"Producer programming\"))"
   ]
  },
  {
   "cell_type": "code",
   "execution_count": 8,
   "id": "2ce81592",
   "metadata": {},
   "outputs": [
    {
     "name": "stdout",
     "output_type": "stream",
     "text": [
      "Anil and Sunil are brothers\n"
     ]
    }
   ],
   "source": [
    "a = \"{0} and {1} are brothers\"\n",
    "print(a.format(\"Anil\",\"Sunil\"))"
   ]
  },
  {
   "cell_type": "code",
   "execution_count": 9,
   "id": "1092c5f5",
   "metadata": {},
   "outputs": [
    {
     "name": "stdout",
     "output_type": "stream",
     "text": [
      "Sunil and Anil are brothers\n"
     ]
    }
   ],
   "source": [
    "a = \"{1} and {0} are brothers\"\n",
    "print(a.format(\"Anil\",\"Sunil\"))"
   ]
  },
  {
   "cell_type": "code",
   "execution_count": 10,
   "id": "4f1801f0",
   "metadata": {},
   "outputs": [
    {
     "ename": "IndexError",
     "evalue": "Replacement index 3 out of range for positional args tuple",
     "output_type": "error",
     "traceback": [
      "\u001b[1;31m---------------------------------------------------------------------------\u001b[0m",
      "\u001b[1;31mIndexError\u001b[0m                                Traceback (most recent call last)",
      "Cell \u001b[1;32mIn[10], line 2\u001b[0m\n\u001b[0;32m      1\u001b[0m a \u001b[38;5;241m=\u001b[39m \u001b[38;5;124m\"\u001b[39m\u001b[38;5;132;01m{0}\u001b[39;00m\u001b[38;5;124m and \u001b[39m\u001b[38;5;132;01m{3}\u001b[39;00m\u001b[38;5;124m are brothers\u001b[39m\u001b[38;5;124m\"\u001b[39m\n\u001b[1;32m----> 2\u001b[0m \u001b[38;5;28mprint\u001b[39m(\u001b[43ma\u001b[49m\u001b[38;5;241;43m.\u001b[39;49m\u001b[43mformat\u001b[49m\u001b[43m(\u001b[49m\u001b[38;5;124;43m\"\u001b[39;49m\u001b[38;5;124;43mAnil\u001b[39;49m\u001b[38;5;124;43m\"\u001b[39;49m\u001b[43m,\u001b[49m\u001b[38;5;124;43m\"\u001b[39;49m\u001b[38;5;124;43mSunil\u001b[39;49m\u001b[38;5;124;43m\"\u001b[39;49m\u001b[43m)\u001b[49m)\n",
      "\u001b[1;31mIndexError\u001b[0m: Replacement index 3 out of range for positional args tuple"
     ]
    }
   ],
   "source": [
    "a = \"{0} and {3} are brothers\"\n",
    "print(a.format(\"Anil\",\"Sunil\"))"
   ]
  },
  {
   "cell_type": "code",
   "execution_count": null,
   "id": "9e62a45c",
   "metadata": {},
   "outputs": [],
   "source": []
  }
 ],
 "metadata": {
  "kernelspec": {
   "display_name": "Python 3 (ipykernel)",
   "language": "python",
   "name": "python3"
  },
  "language_info": {
   "codemirror_mode": {
    "name": "ipython",
    "version": 3
   },
   "file_extension": ".py",
   "mimetype": "text/x-python",
   "name": "python",
   "nbconvert_exporter": "python",
   "pygments_lexer": "ipython3",
   "version": "3.11.1"
  }
 },
 "nbformat": 4,
 "nbformat_minor": 5
}
