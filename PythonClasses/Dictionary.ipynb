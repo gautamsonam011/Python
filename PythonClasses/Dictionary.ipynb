{
 "cells": [
  {
   "cell_type": "markdown",
   "id": "30fec217",
   "metadata": {},
   "source": [
    "# Dictionary:-"
   ]
  },
  {
   "cell_type": "code",
   "execution_count": 1,
   "id": "65081090",
   "metadata": {},
   "outputs": [
    {
     "name": "stdout",
     "output_type": "stream",
     "text": [
      "{1: 'apple', 2: 'banana'}\n"
     ]
    }
   ],
   "source": [
    "d = {\n",
    "    1:'apple',\n",
    "    2:'banana'\n",
    "}\n",
    "print(d)"
   ]
  },
  {
   "cell_type": "code",
   "execution_count": 2,
   "id": "d5981a81",
   "metadata": {
    "scrolled": true
   },
   "outputs": [
    {
     "name": "stdout",
     "output_type": "stream",
     "text": [
      "{}\n"
     ]
    }
   ],
   "source": [
    "# Empty dict--->\n",
    "\n",
    "d = {}\n",
    "print(d)"
   ]
  },
  {
   "cell_type": "code",
   "execution_count": 3,
   "id": "e2892b0b",
   "metadata": {},
   "outputs": [
    {
     "name": "stdout",
     "output_type": "stream",
     "text": [
      "{1: 23}\n"
     ]
    }
   ],
   "source": [
    "# Single element dict----->\n",
    "\n",
    "d ={\n",
    "    1:23\n",
    "}\n",
    "print(d)"
   ]
  },
  {
   "cell_type": "code",
   "execution_count": 4,
   "id": "7111aca4",
   "metadata": {},
   "outputs": [
    {
     "name": "stdout",
     "output_type": "stream",
     "text": [
      "{'name': 'Verco', 'mark': 345, 'mobile': 8758}\n"
     ]
    }
   ],
   "source": [
    "d = {\n",
    "    'name':'Verco',\n",
    "    'mark':345,\n",
    "    'mobile':8758\n",
    "}\n",
    "print(d)"
   ]
  },
  {
   "cell_type": "code",
   "execution_count": 5,
   "id": "d4767d45",
   "metadata": {},
   "outputs": [
    {
     "name": "stdout",
     "output_type": "stream",
     "text": [
      "\n"
     ]
    }
   ],
   "source": [
    "print()"
   ]
  },
  {
   "cell_type": "code",
   "execution_count": 6,
   "id": "01d99956",
   "metadata": {},
   "outputs": [
    {
     "name": "stdout",
     "output_type": "stream",
     "text": [
      "345\n"
     ]
    }
   ],
   "source": [
    "print(d[\"mark\"])"
   ]
  },
  {
   "cell_type": "code",
   "execution_count": 7,
   "id": "1f3c2806",
   "metadata": {},
   "outputs": [
    {
     "name": "stdout",
     "output_type": "stream",
     "text": [
      "8758\n"
     ]
    }
   ],
   "source": [
    "print(d['mobile'])"
   ]
  },
  {
   "cell_type": "code",
   "execution_count": 9,
   "id": "26cecf21",
   "metadata": {},
   "outputs": [
    {
     "name": "stdout",
     "output_type": "stream",
     "text": [
      "Verco\n"
     ]
    }
   ],
   "source": [
    "print(d.get('name'))"
   ]
  },
  {
   "cell_type": "code",
   "execution_count": 11,
   "id": "77c3c0bb",
   "metadata": {},
   "outputs": [
    {
     "name": "stdout",
     "output_type": "stream",
     "text": [
      "{'name': 'jdhgj', 'age': 46, 'add': 'jack'}\n"
     ]
    }
   ],
   "source": [
    "# Update Element of Dictionary:---------\n",
    "my_dict = {\n",
    "    'name':'jdhgj',\n",
    "    'age':46\n",
    "}\n",
    "my_dict.update({'add':'jack'})\n",
    "print(my_dict)"
   ]
  },
  {
   "cell_type": "markdown",
   "id": "70fc8258",
   "metadata": {},
   "source": [
    "# Dictionary Methods:-"
   ]
  },
  {
   "cell_type": "code",
   "execution_count": 12,
   "id": "f5052343",
   "metadata": {},
   "outputs": [
    {
     "name": "stdout",
     "output_type": "stream",
     "text": [
      "{}\n"
     ]
    }
   ],
   "source": [
    "# clear()\n",
    "# Syntax:-\n",
    "#     dictionary.clear()\n",
    "\n",
    "d = {\n",
    "    'name':'shiv',\n",
    "    'age':34,\n",
    "    'address':'Delhi'\n",
    "}\n",
    "d.clear()\n",
    "print(d)"
   ]
  },
  {
   "cell_type": "code",
   "execution_count": 13,
   "id": "bef70363",
   "metadata": {},
   "outputs": [
    {
     "name": "stdout",
     "output_type": "stream",
     "text": [
      "dict_items([('name', 'shiv'), ('age', 34), ('address', 'Delhi')])\n"
     ]
    }
   ],
   "source": [
    "# items()------------>\n",
    "# Syntax:-\n",
    "#    d.items()\n",
    "\n",
    "d = {\n",
    "    'name':'shiv',\n",
    "    'age':34,\n",
    "    'address':'Delhi'\n",
    "}\n",
    "print(d.items())"
   ]
  },
  {
   "cell_type": "code",
   "execution_count": 14,
   "id": "5cdca5ec",
   "metadata": {},
   "outputs": [
    {
     "name": "stdout",
     "output_type": "stream",
     "text": [
      "{'name': 'shiv', 'age': 34, 'address': 'Delhi'}\n"
     ]
    }
   ],
   "source": [
    "d = {\n",
    "    'name':'shiv',\n",
    "    'age':34,\n",
    "    'address':'Delhi'\n",
    "}\n",
    "d.items()\n",
    "print(d)"
   ]
  },
  {
   "cell_type": "code",
   "execution_count": 15,
   "id": "824346b0",
   "metadata": {},
   "outputs": [
    {
     "name": "stdout",
     "output_type": "stream",
     "text": [
      "{'n': 'fhg', 1: 857}\n"
     ]
    }
   ],
   "source": [
    "# popitem()------->\n",
    "# Syntax:-\n",
    "#    dictionary.popitem()\n",
    "\n",
    "d = {\n",
    "    'n':'fhg',\n",
    "    1:857,\n",
    "    6:36\n",
    "}\n",
    "d.popitem()\n",
    "print(d)"
   ]
  },
  {
   "cell_type": "code",
   "execution_count": 16,
   "id": "1891b16a",
   "metadata": {},
   "outputs": [
    {
     "name": "stdout",
     "output_type": "stream",
     "text": [
      "{'n': 'fhg', 1: 857, 6: 36}\n"
     ]
    }
   ],
   "source": [
    "# keys()---------->\n",
    "# Syntax:-\n",
    "#    dictionary.keys()\n",
    "\n",
    "d = {\n",
    "    'n':'fhg',\n",
    "    1:857,\n",
    "    6:36\n",
    "}\n",
    "d.keys()\n",
    "print(d)"
   ]
  },
  {
   "cell_type": "code",
   "execution_count": 17,
   "id": "6b6926ac",
   "metadata": {},
   "outputs": [
    {
     "name": "stdout",
     "output_type": "stream",
     "text": [
      "dict_keys(['n', 1, 6])\n"
     ]
    }
   ],
   "source": [
    "d = {\n",
    "    'n':'fhg',\n",
    "    1:857,\n",
    "    6:36\n",
    "}\n",
    "print(d.keys())"
   ]
  },
  {
   "cell_type": "code",
   "execution_count": 18,
   "id": "c01e1ab0",
   "metadata": {},
   "outputs": [
    {
     "name": "stdout",
     "output_type": "stream",
     "text": [
      "{'n': 'fhg', 1: 857, 6: 36, 'hey': 'Guys'}\n"
     ]
    }
   ],
   "source": [
    "# values()----------->\n",
    "# Syntax:-\n",
    "#    dict.values()\n",
    "\n",
    "dict = {\n",
    "    'n':'fhg',\n",
    "    1:857,\n",
    "    6:36,\n",
    "    \"hey\":\"Guys\"\n",
    "}\n",
    "dict.values()\n",
    "print(dict)"
   ]
  },
  {
   "cell_type": "code",
   "execution_count": 19,
   "id": "5c08120b",
   "metadata": {},
   "outputs": [
    {
     "name": "stdout",
     "output_type": "stream",
     "text": [
      "dict_values(['fhg', 857, 36, 'Guys'])\n"
     ]
    }
   ],
   "source": [
    "dict = {\n",
    "    'n':'fhg',\n",
    "    1:857,\n",
    "    6:36,\n",
    "    \"hey\":\"Guys\"\n",
    "}\n",
    "print(dict.values())"
   ]
  },
  {
   "cell_type": "markdown",
   "id": "8a1a5d4f",
   "metadata": {},
   "source": [
    "# Iterating in Dictionary:--------->"
   ]
  },
  {
   "cell_type": "code",
   "execution_count": 20,
   "id": "6779d640",
   "metadata": {},
   "outputs": [
    {
     "name": "stdout",
     "output_type": "stream",
     "text": [
      "{'name': 'atul', 'class': 12, 'subject': 'Science'}\n",
      "name\n",
      "class\n",
      "subject\n"
     ]
    }
   ],
   "source": [
    "my_dict = {\n",
    "    'name':'atul',\n",
    "    'class':12,\n",
    "    'subject':'Science'\n",
    "}\n",
    "print(my_dict)\n",
    "for a in my_dict:\n",
    "    print(a)"
   ]
  },
  {
   "cell_type": "code",
   "execution_count": 21,
   "id": "0100bb57",
   "metadata": {},
   "outputs": [
    {
     "name": "stdout",
     "output_type": "stream",
     "text": [
      "atul\n",
      "12\n",
      "Science\n"
     ]
    }
   ],
   "source": [
    "# Get all the values from dictionary-->\n",
    "\n",
    "for a in my_dict:\n",
    "    print(my_dict[a])\n"
   ]
  },
  {
   "cell_type": "code",
   "execution_count": null,
   "id": "2804513f",
   "metadata": {},
   "outputs": [],
   "source": [
    "# Iterating in Dictionary using items().\n",
    "\n",
    "a = {\n",
    "    1:'one',\n",
    "    2:'two',\n",
    "    3:'three'\n",
    "}\n",
    "\n",
    "for k,v in a.items():\n",
    "    pr"
   ]
  }
 ],
 "metadata": {
  "kernelspec": {
   "display_name": "Python 3 (ipykernel)",
   "language": "python",
   "name": "python3"
  },
  "language_info": {
   "codemirror_mode": {
    "name": "ipython",
    "version": 3
   },
   "file_extension": ".py",
   "mimetype": "text/x-python",
   "name": "python",
   "nbconvert_exporter": "python",
   "pygments_lexer": "ipython3",
   "version": "3.11.1"
  }
 },
 "nbformat": 4,
 "nbformat_minor": 5
}
