{
 "cells": [
  {
   "cell_type": "markdown",
   "id": "9cab9f6e",
   "metadata": {},
   "source": [
    "# 67"
   ]
  },
  {
   "cell_type": "code",
   "execution_count": 1,
   "id": "66535864",
   "metadata": {},
   "outputs": [
    {
     "name": "stdout",
     "output_type": "stream",
     "text": [
      "~~~~~~~~~~~~~Welcome to RPS~~~~~~~~~~~~~~~~~~\n",
      "Enter your name here:sonam\n",
      "\n",
      "    Winning Rules:\n",
      "\n",
      "    1. Paper vs Rock---> Paper\n",
      "    2. Rock vs Scissors---> Rock\n",
      "    3. Scissors vs Paper---> Scissors\n",
      "    \n",
      " Choices are:\n",
      "    1. Rock\n",
      "    2. Paper\n",
      "    3. Scissors\n",
      "    \n",
      "Enter your choice from 1-32\n",
      "\n",
      "The user's choice is Paper\n",
      "Now it is Computer's turn\n",
      "The computer's choice is Rock\n",
      "Paper wins\n",
      "User wins\n",
      "Scores are\n",
      "sonam 's' score is 1\n",
      "computer's score is 0\n",
      "ties are 0\n",
      "Do you want to play again?No\n",
      "Game over!\n",
      "Thanks for play\n"
     ]
    }
   ],
   "source": [
    "# Rock Paper Scissors: Build a Game Using Python Code.\n",
    "\n",
    "import random\n",
    "while True:\n",
    "    print(\"~~~~~~~~~~~~~Welcome to RPS~~~~~~~~~~~~~~~~~~\")\n",
    "\n",
    "    user_score = 0\n",
    "    comp_score = 0\n",
    "    ties = 0\n",
    "    name = input(\"Enter your name here:\")\n",
    "    print(\"\"\"\n",
    "    Winning Rules:\n",
    "\n",
    "    1. Paper vs Rock---> Paper\n",
    "    2. Rock vs Scissors---> Rock\n",
    "    3. Scissors vs Paper---> Scissors\n",
    "    \"\"\")\n",
    "\n",
    "    print(\"\"\" Choices are:\n",
    "    1. Rock\n",
    "    2. Paper\n",
    "    3. Scissors\n",
    "    \"\"\")\n",
    "    choice = int(input(\"Enter your choice from 1-3\"))\n",
    "    print()\n",
    "\n",
    "    while choice >3 or choice <1:\n",
    "        choice = int(input(\"Enter valid input\"))\n",
    "\n",
    "    if choice == 1:\n",
    "        user_choice = \"Rock\"\n",
    "    elif choice == 2:\n",
    "        user_choice = \"Paper\"\n",
    "    elif choice == 3:\n",
    "        user_choice = \"Scissors\"\n",
    "    else:\n",
    "        print(\"Enter valid input\")\n",
    "\n",
    "    print(\"The user's choice is\",user_choice)\n",
    "    print(\"Now it is Computer's turn\")\n",
    "\n",
    "    computer = random.randint(1,3)\n",
    "\n",
    "    if computer == 1:\n",
    "        comp_choice = \"Rock\"\n",
    "    elif computer == 2:\n",
    "        comp_choice = \"Paper\"\n",
    "    else:\n",
    "        comp_choice = \"Scissors\"\n",
    "\n",
    "    print(\"The computer's choice is\", comp_choice)\n",
    "\n",
    "    if ((user_choice == \"Paper\" and comp_choice == \"Rock\" ) or (user_choice == \"Rock\" and comp_choice == \"Paper\")):\n",
    "        print(\"Paper wins\")\n",
    "        result = \"Paper\"\n",
    "    elif ((user_choice == \"Scissors\" and comp_choice == \"Rock\" ) or (user_choice == \"Rock\" and comp_choice == \"Scissors\")):\n",
    "        print(\"Rock wins\")\n",
    "        result = \"Rock\"\n",
    "    elif (user_choice == comp_choice):\n",
    "        print(\"It's a tie\")\n",
    "        result = \"Tie\"\n",
    "    else:\n",
    "        print(\"Scissors wins\")\n",
    "        result = \"Scissors\"\n",
    "\n",
    "    if result == \"Tie\":\n",
    "        ties += 1\n",
    "    elif result == user_choice:\n",
    "        print(\"User wins\")\n",
    "        user_score += 1\n",
    "    else:\n",
    "        print(\"Computer wins\")\n",
    "        comp_score += 1\n",
    "    print(\"Scores are\")\n",
    "    print(name,\"'s' score is\", user_score)\n",
    "    print(\"computer's score is\", comp_score)\n",
    "    print(\"ties are\", ties)\n",
    "    \n",
    "    repeat = input(\"Do you want to play again?\")\n",
    "    if repeat == \"No\" or repeat == \"No\":\n",
    "        break\n",
    "        \n",
    "print(\"Game over!\")\n",
    "print(\"Thanks for play\")"
   ]
  },
  {
   "cell_type": "markdown",
   "id": "a7f3bb42",
   "metadata": {},
   "source": [
    "# 68"
   ]
  },
  {
   "cell_type": "code",
   "execution_count": 2,
   "id": "4661f259",
   "metadata": {},
   "outputs": [
    {
     "name": "stdout",
     "output_type": "stream",
     "text": [
      "ironman\n",
      "~~~~Avengers Jumble Bumble~~~\n",
      "~~~~~~~~~~~~~~~~~~~~~~~~~~~~~~~~~~~~~~~~~~~~~~~~~~~~~~~~~~~~\n",
      "The word is nnmriao\n",
      "Enter your guessed word:ironman\n",
      "Correct Guess!!\n",
      "You won!\n",
      "\n",
      "Thank you for playing \n"
     ]
    }
   ],
   "source": [
    "# Anagrams Game: Build a Scrambled word game using python.\n",
    "\n",
    "import random\n",
    "words = [\"ironman\",\"thor\",\"hawkeye\",\"wanda\",\"vision\"]\n",
    "# f = open(\"word.txt\",\"r\")\n",
    "# a = f.readline()\n",
    "# words = a.split(\",\")\n",
    "\n",
    "word = random.choice(words)\n",
    "print(word)\n",
    "\n",
    "jumble = \"\".join(random.sample(word,len(word)))\n",
    "# print(jumble)\n",
    "\n",
    "chances = 3\n",
    "print(\"~~~~Avengers Jumble Bumble~~~\")\n",
    "print(\"~~\"*30)\n",
    "\n",
    "while chances!=0:\n",
    "    print(\"The word is\",jumble)\n",
    "    \n",
    "    guess = input(\"Enter your guessed word:\").lower()\n",
    "    \n",
    "    if guess == word:\n",
    "        print(\"Correct Guess!!\")\n",
    "        print(\"You won!\")\n",
    "        print()\n",
    "        break\n",
    "    else:\n",
    "        chances -= 1\n",
    "        print(\"Incorrect Guess!!\")\n",
    "        print(\"Remaning chaces are:\", chances)\n",
    "        print()\n",
    "        \n",
    "else:\n",
    "    print(\"All you chances are exhausted\")\n",
    "    print(\"you lose\")\n",
    "    print(\"The correct word is\",word)\n",
    "print(\"Thank you for playing \")\n",
    "        \n"
   ]
  },
  {
   "cell_type": "markdown",
   "id": "54239826",
   "metadata": {},
   "source": [
    "# 69:- Email Automation"
   ]
  },
  {
   "cell_type": "code",
   "execution_count": 5,
   "id": "ff115338",
   "metadata": {
    "scrolled": true
   },
   "outputs": [
    {
     "ename": "ModuleNotFoundError",
     "evalue": "No module named 'speech_reconition'",
     "output_type": "error",
     "traceback": [
      "\u001b[1;31m---------------------------------------------------------------------------\u001b[0m",
      "\u001b[1;31mModuleNotFoundError\u001b[0m                       Traceback (most recent call last)",
      "Cell \u001b[1;32mIn[5], line 4\u001b[0m\n\u001b[0;32m      1\u001b[0m \u001b[38;5;66;03m# pip install secure-smtplib\u001b[39;00m\n\u001b[0;32m      3\u001b[0m \u001b[38;5;28;01mimport\u001b[39;00m \u001b[38;5;21;01msmtplib\u001b[39;00m\n\u001b[1;32m----> 4\u001b[0m \u001b[38;5;28;01mimport\u001b[39;00m \u001b[38;5;21;01mspeech_reconition\u001b[39;00m \u001b[38;5;28;01mas\u001b[39;00m \u001b[38;5;21;01msr\u001b[39;00m\n\u001b[0;32m      5\u001b[0m \u001b[38;5;28;01mfrom\u001b[39;00m \u001b[38;5;21;01memail\u001b[39;00m\u001b[38;5;21;01m.\u001b[39;00m\u001b[38;5;21;01mmessage\u001b[39;00m \u001b[38;5;28;01mimport\u001b[39;00m EmailMessage\n\u001b[0;32m      6\u001b[0m \u001b[38;5;28;01mimport\u001b[39;00m \u001b[38;5;21;01mpyttsx3\u001b[39;00m\n",
      "\u001b[1;31mModuleNotFoundError\u001b[0m: No module named 'speech_reconition'"
     ]
    }
   ],
   "source": [
    "# pip install secure-smtplib\n",
    "\n",
    "import smtplib\n",
    "import speech_reconition as sr\n",
    "from email.message import EmailMessage\n",
    "import pyttsx3\n",
    "\n",
    "listenser = sr.Recognizer()\n",
    "tts = pyttsx3.Engine()\n",
    "\n",
    "def talking_tom(text):\n",
    "    tts.say(text)\n",
    "    tts.runAndWait()\n",
    "    \n",
    "def mic():\n",
    "    with sr.Microphone as source:\n",
    "        print(\"program is listening-->\")\n",
    "        voice = listenser.listen(source)\n",
    "        data = listenser.recognize_google(voice)\n",
    "        print(data)\n",
    "        return data.lower()\n",
    "    \n",
    "dict = {\"jojo\":\"gautamsonam011@gmail.com\"} \n",
    "\n",
    "def send_mail(receiver,subject,body):\n",
    "    server = smtplib.SMTP(\"smtp.gmail.com\",578)\n",
    "    server.stattls()\n",
    "    server.login(\"gautamsonam011@gmail.com\",\"sonam\")\n",
    "    #server.sendmail(\"gautamsonam011@gmail.com\",\"jo1233.jo@gmail.com\",\"hey there\")\n",
    "    email = EmailMessage()\n",
    "    email['From'] = 'gautamsonam011@gmail.com'\n",
    "    email['To'] = receiver\n",
    "    email[\"Subject\"] = subject\n",
    "    email.set_content(body)\n",
    "    server.send_message(email)\n",
    "    \n",
    "def main_poc():\n",
    "    talking_tom(\"To whom do you want to send this email\")\n",
    "    name = mic()\n",
    "    receiver = dict[name]\n",
    "    talking_tom(\"Speak the subject of the email\")\n",
    "    subject = mic()\n",
    "    talking_tom(\"Speak the subject of the email\")\n",
    "    body = mic()\n",
    "    send_mail(receiver,subject,body)\n",
    "    print(\"Send Email\")\n",
    "    \n",
    "main_poc()\n"
   ]
  },
  {
   "cell_type": "markdown",
   "id": "cd473e1e",
   "metadata": {},
   "source": [
    "# 70"
   ]
  },
  {
   "cell_type": "code",
   "execution_count": 8,
   "id": "852e176d",
   "metadata": {},
   "outputs": [
    {
     "name": "stdout",
     "output_type": "stream",
     "text": [
      "Enter three value here:4,6,7\n",
      "The value of a is 4\n",
      "The value of b is 6\n",
      "The value of c is 7\n"
     ]
    }
   ],
   "source": [
    "# How to Take multiple inputs from the user using python.\n",
    "\n",
    "#a = input(\"Enter a number here:\")\n",
    "#b = input(\"Enter a number here:\")\n",
    "#c = input(\"Enter a number here:\")\n",
    "\n",
    "a,b,c = input(\"Enter three value here:\").split(\",\")\n",
    "\n",
    "print(\"The value of a is\",a)\n",
    "print(\"The value of b is\",b)\n",
    "print(\"The value of c is\",c)\n"
   ]
  },
  {
   "cell_type": "code",
   "execution_count": 9,
   "id": "f8bd8730",
   "metadata": {},
   "outputs": [
    {
     "name": "stdout",
     "output_type": "stream",
     "text": [
      "Enter three value here:shiv,diya,joe\n",
      "The value of a is shiv\n",
      "The value of b is diya\n",
      "The value of c is joe\n"
     ]
    }
   ],
   "source": [
    "a,b,c = input(\"Enter three value here:\").split(\",\")\n",
    "\n",
    "print(\"The value of a is\",a)\n",
    "print(\"The value of b is\",b)\n",
    "print(\"The value of c is\",c)\n"
   ]
  },
  {
   "cell_type": "code",
   "execution_count": 10,
   "id": "7ec34018",
   "metadata": {},
   "outputs": [
    {
     "name": "stdout",
     "output_type": "stream",
     "text": [
      "Enter three value here:5,6,7\n",
      "The addition of the given numbers is:\n",
      "18\n"
     ]
    }
   ],
   "source": [
    "a,b,c = input(\"Enter three value here:\").split(\",\")\n",
    "\n",
    "print(\"The addition of the given numbers is:\")\n",
    "print(int(a)+int(b)+int(c))\n"
   ]
  },
  {
   "cell_type": "code",
   "execution_count": 11,
   "id": "e2349356",
   "metadata": {},
   "outputs": [
    {
     "name": "stdout",
     "output_type": "stream",
     "text": [
      "Enter three values4,5,7\n",
      "The addition of the given numbers is:\n",
      "16\n"
     ]
    }
   ],
   "source": [
    "a,b,c = [int(x) for x in input(\"Enter three values\").split(\",\")] # spilt() can not use for int user input\n",
    "print(\"The addition of the given numbers is:\")\n",
    "print(int(a)+int(b)+int(c))"
   ]
  },
  {
   "cell_type": "markdown",
   "id": "c7dc6584",
   "metadata": {},
   "source": [
    "# 71"
   ]
  },
  {
   "cell_type": "code",
   "execution_count": 15,
   "id": "df1af57c",
   "metadata": {},
   "outputs": [
    {
     "name": "stdout",
     "output_type": "stream",
     "text": [
      "<generator object my_gen at 0x0000022FDC95CF60>\n"
     ]
    }
   ],
   "source": [
    "# Generators in python------->\n",
    "\n",
    "def my_gen():\n",
    "    yield 1\n",
    "    yield 2\n",
    "    yield 3\n",
    "\n",
    "x = my_gen()\n",
    "print(x)"
   ]
  },
  {
   "cell_type": "code",
   "execution_count": 16,
   "id": "9c57627b",
   "metadata": {},
   "outputs": [
    {
     "name": "stdout",
     "output_type": "stream",
     "text": [
      "1\n"
     ]
    }
   ],
   "source": [
    "print(x.__next__())"
   ]
  },
  {
   "cell_type": "code",
   "execution_count": 17,
   "id": "3eb93ec5",
   "metadata": {},
   "outputs": [
    {
     "name": "stdout",
     "output_type": "stream",
     "text": [
      "2\n"
     ]
    }
   ],
   "source": [
    "print(x.__next__())"
   ]
  },
  {
   "cell_type": "code",
   "execution_count": 18,
   "id": "d9236d2a",
   "metadata": {},
   "outputs": [
    {
     "name": "stdout",
     "output_type": "stream",
     "text": [
      "3\n"
     ]
    }
   ],
   "source": [
    "print(x.__next__())"
   ]
  },
  {
   "cell_type": "code",
   "execution_count": 20,
   "id": "2c97cb0f",
   "metadata": {},
   "outputs": [
    {
     "name": "stdout",
     "output_type": "stream",
     "text": [
      "0\n",
      "2\n",
      "4\n",
      "6\n",
      "8\n",
      "10\n",
      "12\n",
      "14\n"
     ]
    }
   ],
   "source": [
    "def my_gene(n):\n",
    "    a = 0\n",
    "    while a < n:\n",
    "        if a % 2 == 0:\n",
    "            yield a\n",
    "        a += 1\n",
    "        \n",
    "x = my_gene(15)\n",
    "print(x.__next__())\n",
    "\n",
    "for i in x:\n",
    "    print(i)"
   ]
  },
  {
   "cell_type": "code",
   "execution_count": 26,
   "id": "9c8319e7",
   "metadata": {},
   "outputs": [
    {
     "name": "stdout",
     "output_type": "stream",
     "text": [
      "0\n",
      "1\n",
      "1\n",
      "2\n",
      "3\n",
      "5\n",
      "8\n"
     ]
    }
   ],
   "source": [
    "def fibo(n):\n",
    "    a,b = 0,1\n",
    "    \n",
    "    while a < n:\n",
    "        yield a\n",
    "        a,b = b, b+a\n",
    "x = fibo(10)\n",
    "print(x.__next__())\n",
    "print(x.__next__())\n",
    "print(x.__next__())\n",
    "print(x.__next__())\n",
    "print(x.__next__())\n",
    "print(x.__next__())\n",
    "for i in x:\n",
    "    print(i)"
   ]
  },
  {
   "cell_type": "code",
   "execution_count": 22,
   "id": "cb950277",
   "metadata": {},
   "outputs": [
    {
     "name": "stdout",
     "output_type": "stream",
     "text": [
      "1\n",
      "2\n",
      "3\n",
      "5\n",
      "8\n"
     ]
    }
   ],
   "source": [
    "for i in x:\n",
    "    print(i)"
   ]
  },
  {
   "cell_type": "markdown",
   "id": "71737899",
   "metadata": {},
   "source": [
    "# 72:- Build your own currency converter app u"
   ]
  }
 ],
 "metadata": {
  "kernelspec": {
   "display_name": "Python 3 (ipykernel)",
   "language": "python",
   "name": "python3"
  },
  "language_info": {
   "codemirror_mode": {
    "name": "ipython",
    "version": 3
   },
   "file_extension": ".py",
   "mimetype": "text/x-python",
   "name": "python",
   "nbconvert_exporter": "python",
   "pygments_lexer": "ipython3",
   "version": "3.11.1"
  }
 },
 "nbformat": 4,
 "nbformat_minor": 5
}
