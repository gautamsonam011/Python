{
 "cells": [
  {
   "cell_type": "markdown",
   "id": "3bbdaed9",
   "metadata": {},
   "source": [
    "# DataTypes:-"
   ]
  },
  {
   "cell_type": "code",
   "execution_count": 1,
   "id": "b0d981e0",
   "metadata": {},
   "outputs": [
    {
     "name": "stdout",
     "output_type": "stream",
     "text": [
      "10\n"
     ]
    }
   ],
   "source": [
    "a = 10\n",
    "print(a)"
   ]
  },
  {
   "cell_type": "code",
   "execution_count": 2,
   "id": "450c6d9a",
   "metadata": {},
   "outputs": [
    {
     "data": {
      "text/plain": [
       "int"
      ]
     },
     "execution_count": 2,
     "metadata": {},
     "output_type": "execute_result"
    }
   ],
   "source": [
    "type(a)"
   ]
  },
  {
   "cell_type": "code",
   "execution_count": null,
   "id": "25be62fa",
   "metadata": {},
   "outputs": [],
   "source": [
    "#DataTypes----------------->Primitive DataTypes\n",
    "#1. Integer\n",
    "#2. Float\n",
    "#3. String\n",
    "#4. Boolean \n",
    "#5. Complex\n",
    "# variable is a container that contains value."
   ]
  },
  {
   "cell_type": "code",
   "execution_count": 3,
   "id": "a58bb87c",
   "metadata": {},
   "outputs": [
    {
     "name": "stdout",
     "output_type": "stream",
     "text": [
      "10\n"
     ]
    },
    {
     "data": {
      "text/plain": [
       "str"
      ]
     },
     "execution_count": 3,
     "metadata": {},
     "output_type": "execute_result"
    }
   ],
   "source": [
    "a = \"10\"\n",
    "print(a)\n",
    "type(a)\n",
    "\n",
    "# a is a variable and 10 is value"
   ]
  },
  {
   "cell_type": "code",
   "execution_count": 4,
   "id": "b807daa1",
   "metadata": {},
   "outputs": [
    {
     "name": "stdout",
     "output_type": "stream",
     "text": [
      "a\n"
     ]
    }
   ],
   "source": [
    "print('a')"
   ]
  },
  {
   "cell_type": "code",
   "execution_count": 5,
   "id": "af6a610c",
   "metadata": {},
   "outputs": [
    {
     "ename": "NameError",
     "evalue": "name 'b' is not defined",
     "output_type": "error",
     "traceback": [
      "\u001b[1;31m---------------------------------------------------------------------------\u001b[0m",
      "\u001b[1;31mNameError\u001b[0m                                 Traceback (most recent call last)",
      "Cell \u001b[1;32mIn[5], line 1\u001b[0m\n\u001b[1;32m----> 1\u001b[0m \u001b[38;5;28mprint\u001b[39m(\u001b[43mb\u001b[49m)\n",
      "\u001b[1;31mNameError\u001b[0m: name 'b' is not defined"
     ]
    }
   ],
   "source": [
    "print(b)\n"
   ]
  },
  {
   "cell_type": "code",
   "execution_count": 6,
   "id": "7f59fa4e",
   "metadata": {},
   "outputs": [
    {
     "name": "stdout",
     "output_type": "stream",
     "text": [
      "b\n"
     ]
    }
   ],
   "source": [
    "print('b')"
   ]
  },
  {
   "cell_type": "code",
   "execution_count": 7,
   "id": "24f931a9",
   "metadata": {},
   "outputs": [
    {
     "name": "stdout",
     "output_type": "stream",
     "text": [
      "Hello Jii !!\n"
     ]
    },
    {
     "data": {
      "text/plain": [
       "str"
      ]
     },
     "execution_count": 7,
     "metadata": {},
     "output_type": "execute_result"
    }
   ],
   "source": [
    "c = \"Hello Jii !!\"\n",
    "print(c)\n",
    "type(c)"
   ]
  },
  {
   "cell_type": "code",
   "execution_count": 8,
   "id": "5419ac53",
   "metadata": {},
   "outputs": [
    {
     "name": "stdout",
     "output_type": "stream",
     "text": [
      "8935\n"
     ]
    },
    {
     "data": {
      "text/plain": [
       "int"
      ]
     },
     "execution_count": 8,
     "metadata": {},
     "output_type": "execute_result"
    }
   ],
   "source": [
    "x = 8935\n",
    "print(x)\n",
    "type(x)"
   ]
  },
  {
   "cell_type": "code",
   "execution_count": 9,
   "id": "4d5e2ec5",
   "metadata": {},
   "outputs": [
    {
     "name": "stdout",
     "output_type": "stream",
     "text": [
      "485.9483\n"
     ]
    },
    {
     "data": {
      "text/plain": [
       "float"
      ]
     },
     "execution_count": 9,
     "metadata": {},
     "output_type": "execute_result"
    }
   ],
   "source": [
    "x = 485.9483\n",
    "print(x)\n",
    "type(x)"
   ]
  },
  {
   "cell_type": "code",
   "execution_count": 10,
   "id": "56a6aa62",
   "metadata": {},
   "outputs": [
    {
     "name": "stdout",
     "output_type": "stream",
     "text": [
      "jdgjgb\n"
     ]
    },
    {
     "data": {
      "text/plain": [
       "str"
      ]
     },
     "execution_count": 10,
     "metadata": {},
     "output_type": "execute_result"
    }
   ],
   "source": [
    "#String ---------------->\n",
    "\n",
    "x = \"jdgjgb\"\n",
    "print(x)\n",
    "type(x)"
   ]
  },
  {
   "cell_type": "code",
   "execution_count": 11,
   "id": "74091251",
   "metadata": {},
   "outputs": [
    {
     "name": "stdout",
     "output_type": "stream",
     "text": [
      "True\n"
     ]
    },
    {
     "data": {
      "text/plain": [
       "bool"
      ]
     },
     "execution_count": 11,
     "metadata": {},
     "output_type": "execute_result"
    }
   ],
   "source": [
    "# Boolean ------------------>True/False\n",
    "x = True\n",
    "print(x)\n",
    "type(x)"
   ]
  },
  {
   "cell_type": "code",
   "execution_count": 12,
   "id": "0bf01161",
   "metadata": {},
   "outputs": [
    {
     "name": "stdout",
     "output_type": "stream",
     "text": [
      "False\n",
      "<class 'bool'>\n"
     ]
    }
   ],
   "source": [
    "x = False\n",
    "print(x)\n",
    "print(type(x))"
   ]
  },
  {
   "cell_type": "code",
   "execution_count": 13,
   "id": "9661946f",
   "metadata": {},
   "outputs": [
    {
     "ename": "NameError",
     "evalue": "name 'true' is not defined",
     "output_type": "error",
     "traceback": [
      "\u001b[1;31m---------------------------------------------------------------------------\u001b[0m",
      "\u001b[1;31mNameError\u001b[0m                                 Traceback (most recent call last)",
      "Cell \u001b[1;32mIn[13], line 1\u001b[0m\n\u001b[1;32m----> 1\u001b[0m x \u001b[38;5;241m=\u001b[39m \u001b[43mtrue\u001b[49m\n\u001b[0;32m      2\u001b[0m y \u001b[38;5;241m=\u001b[39m false\n\u001b[0;32m      3\u001b[0m \u001b[38;5;28mprint\u001b[39m(x)\n",
      "\u001b[1;31mNameError\u001b[0m: name 'true' is not defined"
     ]
    }
   ],
   "source": [
    "x = true\n",
    "y = false\n",
    "print(x)\n",
    "print(y)\n",
    "type(x)\n",
    "type(y)"
   ]
  },
  {
   "cell_type": "code",
   "execution_count": 14,
   "id": "94c48cbf",
   "metadata": {},
   "outputs": [
    {
     "name": "stdout",
     "output_type": "stream",
     "text": [
      "True\n"
     ]
    },
    {
     "data": {
      "text/plain": [
       "str"
      ]
     },
     "execution_count": 14,
     "metadata": {},
     "output_type": "execute_result"
    }
   ],
   "source": [
    "x = 'True'\n",
    "print(x)\n",
    "type(x)"
   ]
  },
  {
   "cell_type": "code",
   "execution_count": 15,
   "id": "1a3bbc19",
   "metadata": {},
   "outputs": [
    {
     "ename": "SyntaxError",
     "evalue": "invalid decimal literal (1751533144.py, line 3)",
     "output_type": "error",
     "traceback": [
      "\u001b[1;36m  Cell \u001b[1;32mIn[15], line 3\u001b[1;36m\u001b[0m\n\u001b[1;33m    x = 2+7i\u001b[0m\n\u001b[1;37m          ^\u001b[0m\n\u001b[1;31mSyntaxError\u001b[0m\u001b[1;31m:\u001b[0m invalid decimal literal\n"
     ]
    }
   ],
   "source": [
    "# complex------------>complex numbers!!\n",
    "# 2+4i\n",
    "x = 2+7i\n",
    "print(x)\n",
    "type(x)"
   ]
  },
  {
   "cell_type": "code",
   "execution_count": 16,
   "id": "1d4bca18",
   "metadata": {},
   "outputs": [
    {
     "name": "stdout",
     "output_type": "stream",
     "text": [
      "(2+5j)\n"
     ]
    },
    {
     "data": {
      "text/plain": [
       "complex"
      ]
     },
     "execution_count": 16,
     "metadata": {},
     "output_type": "execute_result"
    }
   ],
   "source": [
    "# i replace with j in python\n",
    "\n",
    "x = 2+5j\n",
    "print(x)\n",
    "type(x)"
   ]
  },
  {
   "cell_type": "code",
   "execution_count": 17,
   "id": "ac1a8d95",
   "metadata": {},
   "outputs": [
    {
     "name": "stdout",
     "output_type": "stream",
     "text": [
      "7\n"
     ]
    }
   ],
   "source": [
    "# write a program to add 2 numbers!.\n",
    "a = 2\n",
    "b = 5\n",
    "c = a+b\n",
    "print(c)"
   ]
  },
  {
   "cell_type": "code",
   "execution_count": 18,
   "id": "ca8ee222",
   "metadata": {},
   "outputs": [
    {
     "name": "stdout",
     "output_type": "stream",
     "text": [
      "Before Swapping----------> 4 7\n",
      "After Swapping---------> 7 4\n"
     ]
    }
   ],
   "source": [
    "# write a program to swap two numbers-->\n",
    "# 1. with the help of third variable\n",
    "# 2. without using third variable\n",
    "\n",
    "a = 4\n",
    "b = 7\n",
    "\n",
    "print(\"Before Swapping---------->\",a,b)\n",
    "c = a\n",
    "a = b\n",
    "b = c\n",
    "print(\"After Swapping--------->\",a,b)"
   ]
  },
  {
   "cell_type": "code",
   "execution_count": 21,
   "id": "11f4299e",
   "metadata": {},
   "outputs": [
    {
     "name": "stdout",
     "output_type": "stream",
     "text": [
      "4\n"
     ]
    }
   ],
   "source": [
    "print(a)"
   ]
  },
  {
   "cell_type": "code",
   "execution_count": 22,
   "id": "22d854c1",
   "metadata": {},
   "outputs": [
    {
     "name": "stdout",
     "output_type": "stream",
     "text": [
      "8\n"
     ]
    }
   ],
   "source": [
    "print(b)"
   ]
  },
  {
   "cell_type": "code",
   "execution_count": 20,
   "id": "a0e16e2d",
   "metadata": {},
   "outputs": [
    {
     "name": "stdout",
     "output_type": "stream",
     "text": [
      "4 8\n"
     ]
    }
   ],
   "source": [
    "a = 8\n",
    "b = 4\n",
    "a,b = b,a\n",
    "print(a,b)"
   ]
  },
  {
   "cell_type": "markdown",
   "id": "99a830f2",
   "metadata": {},
   "source": [
    "# User Input---------->"
   ]
  },
  {
   "cell_type": "code",
   "execution_count": 23,
   "id": "3fa5fdf3",
   "metadata": {},
   "outputs": [
    {
     "name": "stdout",
     "output_type": "stream",
     "text": [
      "Enter the something:jdfsvbcnb\n",
      "jdfsvbcnb\n"
     ]
    }
   ],
   "source": [
    "# user input-------------------->>Python allows for user input.\n",
    "# That means we are able to ask the user for input.\n",
    "\n",
    "x = input(\"Enter the something:\")\n",
    "print(x)\n"
   ]
  },
  {
   "cell_type": "code",
   "execution_count": 24,
   "id": "e4cc6716",
   "metadata": {},
   "outputs": [
    {
     "name": "stdout",
     "output_type": "stream",
     "text": [
      "Enter the first number:3\n",
      "Enter the second number:5\n",
      "8\n"
     ]
    }
   ],
   "source": [
    "# write a program to add two number with help user input.\n",
    "\n",
    "a = int(input(\"Enter the first number:\"))\n",
    "b = int(input(\"Enter the second number:\"))\n",
    "c = a+b\n",
    "print(c)"
   ]
  },
  {
   "cell_type": "code",
   "execution_count": 27,
   "id": "3cbd3931",
   "metadata": {},
   "outputs": [
    {
     "name": "stdout",
     "output_type": "stream",
     "text": [
      "Enter the first number:5\n",
      "Enter the second number:8\n",
      "58\n"
     ]
    },
    {
     "data": {
      "text/plain": [
       "str"
      ]
     },
     "execution_count": 27,
     "metadata": {},
     "output_type": "execute_result"
    }
   ],
   "source": [
    "# concatenation-------->\n",
    "\n",
    "a = (input(\"Enter the first number:\"))\n",
    "b = (input(\"Enter the second number:\"))\n",
    "c = a+b\n",
    "print(c)\n",
    "type(c)"
   ]
  },
  {
   "cell_type": "code",
   "execution_count": 26,
   "id": "2691f7a2",
   "metadata": {},
   "outputs": [
    {
     "name": "stdout",
     "output_type": "stream",
     "text": [
      "93\n"
     ]
    }
   ],
   "source": [
    "# input---------> o/p str\n",
    "a = '9'\n",
    "b = '3'\n",
    "c =a+b\n",
    "print(c)"
   ]
  },
  {
   "cell_type": "code",
   "execution_count": 28,
   "id": "f3405afa",
   "metadata": {},
   "outputs": [
    {
     "name": "stdout",
     "output_type": "stream",
     "text": [
      "Enter the first number:3\n",
      "Enter the second number:7\n",
      "10\n"
     ]
    }
   ],
   "source": [
    "# typecasting/type conversion/data type casting------>\n",
    "\n",
    "a = int(input(\"Enter the first number:\"))\n",
    "b = int(input(\"Enter the second number:\"))\n",
    "c = a+b\n",
    "print(c)"
   ]
  },
  {
   "cell_type": "code",
   "execution_count": 30,
   "id": "1925e1da",
   "metadata": {},
   "outputs": [
    {
     "name": "stdout",
     "output_type": "stream",
     "text": [
      "Enter the first number:2\n",
      "Enter the second number:8\n",
      "10.0\n"
     ]
    },
    {
     "data": {
      "text/plain": [
       "float"
      ]
     },
     "execution_count": 30,
     "metadata": {},
     "output_type": "execute_result"
    }
   ],
   "source": [
    "\n",
    "a = int(input(\"Enter the first number:\"))\n",
    "b = float(input(\"Enter the second number:\"))\n",
    "c = a+b\n",
    "print(c)\n",
    "type(c)"
   ]
  },
  {
   "cell_type": "code",
   "execution_count": 31,
   "id": "45f46079",
   "metadata": {},
   "outputs": [
    {
     "name": "stdout",
     "output_type": "stream",
     "text": [
      "Enter the first number:8\n",
      "Enter the second number:9\n"
     ]
    },
    {
     "ename": "TypeError",
     "evalue": "unsupported operand type(s) for +: 'int' and 'str'",
     "output_type": "error",
     "traceback": [
      "\u001b[1;31m---------------------------------------------------------------------------\u001b[0m",
      "\u001b[1;31mTypeError\u001b[0m                                 Traceback (most recent call last)",
      "Cell \u001b[1;32mIn[31], line 3\u001b[0m\n\u001b[0;32m      1\u001b[0m a \u001b[38;5;241m=\u001b[39m \u001b[38;5;28mint\u001b[39m(\u001b[38;5;28minput\u001b[39m(\u001b[38;5;124m\"\u001b[39m\u001b[38;5;124mEnter the first number:\u001b[39m\u001b[38;5;124m\"\u001b[39m))\n\u001b[0;32m      2\u001b[0m b \u001b[38;5;241m=\u001b[39m \u001b[38;5;28mstr\u001b[39m(\u001b[38;5;28minput\u001b[39m(\u001b[38;5;124m\"\u001b[39m\u001b[38;5;124mEnter the second number:\u001b[39m\u001b[38;5;124m\"\u001b[39m))\n\u001b[1;32m----> 3\u001b[0m c \u001b[38;5;241m=\u001b[39m \u001b[43ma\u001b[49m\u001b[38;5;241;43m+\u001b[39;49m\u001b[43mb\u001b[49m\n\u001b[0;32m      4\u001b[0m \u001b[38;5;28mprint\u001b[39m(c)\n",
      "\u001b[1;31mTypeError\u001b[0m: unsupported operand type(s) for +: 'int' and 'str'"
     ]
    }
   ],
   "source": [
    "\n",
    "a = int(input(\"Enter the first number:\"))\n",
    "b = str(input(\"Enter the second number:\"))\n",
    "c = a+b\n",
    "print(c)"
   ]
  },
  {
   "cell_type": "markdown",
   "id": "c87ff466",
   "metadata": {},
   "source": [
    "# Condition:-"
   ]
  },
  {
   "cell_type": "code",
   "execution_count": null,
   "id": "0e297807",
   "metadata": {},
   "outputs": [],
   "source": [
    "#age --------->18+---> you can vote\n",
    "# age 18 --------> you can not vote.\n",
    "\n",
    "# syntax---->\n",
    "\n",
    "if condition:\n",
    "    print the msg\n",
    "else:\n",
    "    print the msg"
   ]
  },
  {
   "cell_type": "code",
   "execution_count": 33,
   "id": "e7511aab",
   "metadata": {},
   "outputs": [
    {
     "name": "stdout",
     "output_type": "stream",
     "text": [
      "You can vote\n"
     ]
    }
   ],
   "source": [
    "age = 28\n",
    "if age > 18:\n",
    "    print(\"You can vote\")\n",
    "else:\n",
    "    print(\"You can not vote\")\n",
    "    "
   ]
  },
  {
   "cell_type": "code",
   "execution_count": 36,
   "id": "509f41df",
   "metadata": {},
   "outputs": [
    {
     "name": "stdout",
     "output_type": "stream",
     "text": [
      "Enter the age:34\n",
      "You can vote\n"
     ]
    }
   ],
   "source": [
    "age = int(input(\"Enter the age:\"))\n",
    "if age > 18:\n",
    "    print(\"You can vote\")\n",
    "elif age == 18:\n",
    "    print(\"You can vote\")\n",
    "else:\n",
    "    print(\"You can not vote\")"
   ]
  },
  {
   "cell_type": "code",
   "execution_count": 37,
   "id": "78c49498",
   "metadata": {},
   "outputs": [
    {
     "ename": "SyntaxError",
     "evalue": "invalid syntax (498239324.py, line 4)",
     "output_type": "error",
     "traceback": [
      "\u001b[1;36m  Cell \u001b[1;32mIn[37], line 4\u001b[1;36m\u001b[0m\n\u001b[1;33m    else:\u001b[0m\n\u001b[1;37m    ^\u001b[0m\n\u001b[1;31mSyntaxError\u001b[0m\u001b[1;31m:\u001b[0m invalid syntax\n"
     ]
    }
   ],
   "source": [
    "age = 12\n",
    "if age > 18:\n",
    "    print(\"You can vote\")\n",
    "    else:\n",
    "        print(\"You can not vote\")"
   ]
  },
  {
   "cell_type": "code",
   "execution_count": 38,
   "id": "cfd151a5",
   "metadata": {},
   "outputs": [
    {
     "ename": "IndentationError",
     "evalue": "expected an indented block after 'else' statement on line 4 (3687814019.py, line 5)",
     "output_type": "error",
     "traceback": [
      "\u001b[1;36m  Cell \u001b[1;32mIn[38], line 5\u001b[1;36m\u001b[0m\n\u001b[1;33m    print(\"You can not vote\")\u001b[0m\n\u001b[1;37m    ^\u001b[0m\n\u001b[1;31mIndentationError\u001b[0m\u001b[1;31m:\u001b[0m expected an indented block after 'else' statement on line 4\n"
     ]
    }
   ],
   "source": [
    "age = 12\n",
    "if age > 18:\n",
    "    print(\"You can vote\")\n",
    "else:\n",
    "print(\"You can not vote\")"
   ]
  },
  {
   "cell_type": "code",
   "execution_count": 39,
   "id": "df532611",
   "metadata": {},
   "outputs": [
    {
     "name": "stdout",
     "output_type": "stream",
     "text": [
      "You can not vote\n"
     ]
    }
   ],
   "source": [
    "age = 12\n",
    "if age > 18:\n",
    "    print(\"You can vote\")\n",
    "else:\n",
    "    print(\"You can not vote\")"
   ]
  },
  {
   "cell_type": "code",
   "execution_count": 42,
   "id": "d84b08a7",
   "metadata": {},
   "outputs": [
    {
     "name": "stdout",
     "output_type": "stream",
     "text": [
      "Even number: 6\n"
     ]
    }
   ],
   "source": [
    "# write a program to find a number is even or odd\n",
    "# Find the max of two numbers.\n",
    "# Find the max of three numbers.\n",
    "\n",
    "x = 6\n",
    "if x%2 == 0:\n",
    "    print(\"Even number:\",x)\n",
    "else:\n",
    "    print(\"Odd number:\",x)"
   ]
  },
  {
   "cell_type": "code",
   "execution_count": 43,
   "id": "a3eec47b",
   "metadata": {},
   "outputs": [
    {
     "name": "stdout",
     "output_type": "stream",
     "text": [
      "Odd number: 7\n"
     ]
    }
   ],
   "source": [
    "x = 7\n",
    "if x%2 == 0:\n",
    "    print(\"Even number:\",x)\n",
    "else:\n",
    "    print(\"Odd number:\",x)"
   ]
  },
  {
   "cell_type": "code",
   "execution_count": 45,
   "id": "bfbe73bd",
   "metadata": {},
   "outputs": [
    {
     "name": "stdout",
     "output_type": "stream",
     "text": [
      "Enter the number:51\n",
      "Odd number: 51\n"
     ]
    }
   ],
   "source": [
    "x = int(input(\"Enter the number:\"))\n",
    "if x%2 == 0:\n",
    "    print(\"Even number:\",x)\n",
    "else:\n",
    "    print(\"Odd number:\",x)"
   ]
  },
  {
   "cell_type": "code",
   "execution_count": 46,
   "id": "fe281cc0",
   "metadata": {},
   "outputs": [
    {
     "name": "stdout",
     "output_type": "stream",
     "text": [
      "Y is greater than X 7\n"
     ]
    }
   ],
   "source": [
    "x = 5\n",
    "y = 7\n",
    "if x>y:\n",
    "    print(\"X is greater than Y\",x)\n",
    "else:\n",
    "    print(\"Y is greater than X\",y)"
   ]
  },
  {
   "cell_type": "code",
   "execution_count": 48,
   "id": "1615629a",
   "metadata": {},
   "outputs": [
    {
     "name": "stdout",
     "output_type": "stream",
     "text": [
      "Enter the number:4\n",
      "Enter the number:8\n",
      "Y is greater than  8\n"
     ]
    }
   ],
   "source": [
    "x = int(input(\"Enter the number:\"))\n",
    "y = int(input(\"Enter the number:\"))\n",
    "if x>y:\n",
    "    print(\"X is greater than Y\",x)\n",
    "else:\n",
    "    print(\"Y is greater than X\",y)"
   ]
  },
  {
   "cell_type": "code",
   "execution_count": 51,
   "id": "7b923f1d",
   "metadata": {},
   "outputs": [
    {
     "name": "stdout",
     "output_type": "stream",
     "text": [
      "Enter the number:8\n",
      "Enter the number:5\n",
      "Enter the number:3\n",
      "X is greater Y,Z 8\n"
     ]
    }
   ],
   "source": [
    "x = int(input(\"Enter the number:\"))\n",
    "y = int(input(\"Enter the number:\"))\n",
    "z = int(input(\"Enter the number:\"))\n",
    "\n",
    "if (x>y) and (x>z):\n",
    "    print(\"X is greater Y,Z\",x)\n",
    "elif (y>x) and (y>z):\n",
    "    print(\"Y is greater X,Z\",y)\n",
    "else:\n",
    "    print(\"Z is greater X,Y\",z)\n",
    "    "
   ]
  },
  {
   "cell_type": "code",
   "execution_count": 54,
   "id": "bfa5a7e4",
   "metadata": {},
   "outputs": [
    {
     "name": "stdout",
     "output_type": "stream",
     "text": [
      "Bonus 500.0\n",
      "Total salary: 10500.0\n"
     ]
    }
   ],
   "source": [
    "# A company decided to give bonus of 5% to employee\n",
    "# if his/her year of service is more than 5 years \n",
    "# and year of service and print the net bonus amount.\n",
    "\n",
    "yos = 7\n",
    "salary = 10000\n",
    "if yos>5:\n",
    "    bonus = (salary*5)/100\n",
    "    total_salary = salary+bonus\n",
    "    print(\"Bonus\",bonus)\n",
    "    print(\"Total salary:\" ,total_salary)\n",
    "else:\n",
    "    print(\"not bonus\")"
   ]
  }
 ],
 "metadata": {
  "kernelspec": {
   "display_name": "Python 3 (ipykernel)",
   "language": "python",
   "name": "python3"
  },
  "language_info": {
   "codemirror_mode": {
    "name": "ipython",
    "version": 3
   },
   "file_extension": ".py",
   "mimetype": "text/x-python",
   "name": "python",
   "nbconvert_exporter": "python",
   "pygments_lexer": "ipython3",
   "version": "3.11.1"
  }
 },
 "nbformat": 4,
 "nbformat_minor": 5
}
