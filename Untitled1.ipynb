{
 "cells": [
  {
   "cell_type": "markdown",
   "id": "b1475962",
   "metadata": {},
   "source": [
    "# Advance Function:-"
   ]
  },
  {
   "cell_type": "code",
   "execution_count": null,
   "id": "f9ce8399",
   "metadata": {},
   "outputs": [],
   "source": [
    "# 1:- Lambda function/(anonymous function/one liner function)\n",
    "# 2:- Filter Function\n",
    "# 3:- Map Function\n",
    "# 4:- Reduce Function"
   ]
  },
  {
   "cell_type": "code",
   "execution_count": null,
   "id": "ddde5cf5",
   "metadata": {},
   "outputs": [],
   "source": [
    "# pass n number of arguments\n",
    "# perform only one operation at a time\n",
    "# not support loop"
   ]
  },
  {
   "cell_type": "markdown",
   "id": "fefa8609",
   "metadata": {},
   "source": [
    "# Lambda Function:-"
   ]
  },
  {
   "cell_type": "code",
   "execution_count": 4,
   "id": "1d1355c1",
   "metadata": {},
   "outputs": [
    {
     "data": {
      "text/plain": [
       "5"
      ]
     },
     "execution_count": 4,
     "metadata": {},
     "output_type": "execute_result"
    }
   ],
   "source": [
    "# Lambda Function--------------------------->\n",
    "\n",
    "a= lambda x,y:x+y\n",
    "a(3,2)"
   ]
  },
  {
   "cell_type": "code",
   "execution_count": 5,
   "id": "5dc2622c",
   "metadata": {},
   "outputs": [
    {
     "data": {
      "text/plain": [
       "10"
      ]
     },
     "execution_count": 5,
     "metadata": {},
     "output_type": "execute_result"
    }
   ],
   "source": [
    "x = lambda a,b,c,d:a+b+c+d\n",
    "x(1,2,3,4)"
   ]
  },
  {
   "cell_type": "code",
   "execution_count": 6,
   "id": "bf89af24",
   "metadata": {},
   "outputs": [
    {
     "ename": "TypeError",
     "evalue": "unsupported operand type(s) for -: 'function' and 'list'",
     "output_type": "error",
     "traceback": [
      "\u001b[1;31m---------------------------------------------------------------------------\u001b[0m",
      "\u001b[1;31mTypeError\u001b[0m                                 Traceback (most recent call last)",
      "Cell \u001b[1;32mIn[6], line 1\u001b[0m\n\u001b[1;32m----> 1\u001b[0m a \u001b[38;5;241m=\u001b[39m \u001b[38;5;28;01mlambda\u001b[39;00m x,y:x\u001b[38;5;241m+\u001b[39my,\u001b[43mx\u001b[49m\u001b[38;5;241;43m-\u001b[39;49m\u001b[43my\u001b[49m\n\u001b[0;32m      2\u001b[0m a(\u001b[38;5;241m3\u001b[39m,\u001b[38;5;241m5\u001b[39m)\n",
      "\u001b[1;31mTypeError\u001b[0m: unsupported operand type(s) for -: 'function' and 'list'"
     ]
    }
   ],
   "source": [
    "a = lambda x,y:x+y,x-y\n",
    "a(3,5)"
   ]
  },
  {
   "cell_type": "code",
   "execution_count": 7,
   "id": "9925a1c8",
   "metadata": {},
   "outputs": [],
   "source": [
    "# wap to find odd & even number with the help of lambda function\n",
    "b = lambda a:True if a%2 == 0 else False"
   ]
  },
  {
   "cell_type": "code",
   "execution_count": 8,
   "id": "079563a5",
   "metadata": {},
   "outputs": [
    {
     "data": {
      "text/plain": [
       "True"
      ]
     },
     "execution_count": 8,
     "metadata": {},
     "output_type": "execute_result"
    }
   ],
   "source": [
    "b(46)"
   ]
  },
  {
   "cell_type": "code",
   "execution_count": 9,
   "id": "be255b41",
   "metadata": {},
   "outputs": [
    {
     "data": {
      "text/plain": [
       "False"
      ]
     },
     "execution_count": 9,
     "metadata": {},
     "output_type": "execute_result"
    }
   ],
   "source": [
    "b(77)"
   ]
  },
  {
   "cell_type": "code",
   "execution_count": 10,
   "id": "5c880e1d",
   "metadata": {},
   "outputs": [],
   "source": [
    "b = lambda a:\"Even\" if a%2 == 0 else \"Odd\""
   ]
  },
  {
   "cell_type": "code",
   "execution_count": 11,
   "id": "a7a20d2a",
   "metadata": {},
   "outputs": [
    {
     "data": {
      "text/plain": [
       "'Even'"
      ]
     },
     "execution_count": 11,
     "metadata": {},
     "output_type": "execute_result"
    }
   ],
   "source": [
    "b(90)"
   ]
  },
  {
   "cell_type": "code",
   "execution_count": 12,
   "id": "5b13e358",
   "metadata": {},
   "outputs": [
    {
     "data": {
      "text/plain": [
       "'Odd'"
      ]
     },
     "execution_count": 12,
     "metadata": {},
     "output_type": "execute_result"
    }
   ],
   "source": [
    "b(7)"
   ]
  },
  {
   "cell_type": "markdown",
   "id": "72a55fab",
   "metadata": {},
   "source": [
    "# Filter Function:-"
   ]
  },
  {
   "cell_type": "code",
   "execution_count": 13,
   "id": "fcf289fb",
   "metadata": {},
   "outputs": [
    {
     "name": "stdout",
     "output_type": "stream",
     "text": [
      "78\n",
      "90\n",
      "67\n",
      "78\n"
     ]
    }
   ],
   "source": [
    "# Filter Function------------------>\n",
    "# data read------> data quality increase\n",
    "\n",
    "# list/tuple------------>\n",
    "\n",
    "x = [34,78,90,45,23,-12,45,67,45,35,78]\n",
    "\n",
    "for i in x:\n",
    "    if i>65:\n",
    "        print(i)\n",
    "#    else:\n",
    "#       print(False)"
   ]
  },
  {
   "cell_type": "code",
   "execution_count": 14,
   "id": "7feda874",
   "metadata": {},
   "outputs": [
    {
     "ename": "TypeError",
     "evalue": "'>' not supported between instances of 'list' and 'int'",
     "output_type": "error",
     "traceback": [
      "\u001b[1;31m---------------------------------------------------------------------------\u001b[0m",
      "\u001b[1;31mTypeError\u001b[0m                                 Traceback (most recent call last)",
      "Cell \u001b[1;32mIn[14], line 4\u001b[0m\n\u001b[0;32m      2\u001b[0m x \u001b[38;5;241m=\u001b[39m [\u001b[38;5;241m34\u001b[39m,\u001b[38;5;241m78\u001b[39m,\u001b[38;5;241m90\u001b[39m,\u001b[38;5;241m45\u001b[39m,\u001b[38;5;241m23\u001b[39m,\u001b[38;5;241m-\u001b[39m\u001b[38;5;241m12\u001b[39m,\u001b[38;5;241m45\u001b[39m,\u001b[38;5;241m67\u001b[39m,\u001b[38;5;241m45\u001b[39m,\u001b[38;5;241m35\u001b[39m,\u001b[38;5;241m78\u001b[39m]\n\u001b[0;32m      3\u001b[0m a \u001b[38;5;241m=\u001b[39m \u001b[38;5;28;01mlambda\u001b[39;00m x:\u001b[38;5;28;01mTrue\u001b[39;00m \u001b[38;5;28;01mif\u001b[39;00m x\u001b[38;5;241m>\u001b[39m\u001b[38;5;241m65\u001b[39m \u001b[38;5;28;01melse\u001b[39;00m \u001b[38;5;28;01mFalse\u001b[39;00m\n\u001b[1;32m----> 4\u001b[0m \u001b[43ma\u001b[49m\u001b[43m(\u001b[49m\u001b[43mx\u001b[49m\u001b[43m)\u001b[49m\n",
      "Cell \u001b[1;32mIn[14], line 3\u001b[0m, in \u001b[0;36m<lambda>\u001b[1;34m(x)\u001b[0m\n\u001b[0;32m      1\u001b[0m \u001b[38;5;66;03m# Filter function--------->\u001b[39;00m\n\u001b[0;32m      2\u001b[0m x \u001b[38;5;241m=\u001b[39m [\u001b[38;5;241m34\u001b[39m,\u001b[38;5;241m78\u001b[39m,\u001b[38;5;241m90\u001b[39m,\u001b[38;5;241m45\u001b[39m,\u001b[38;5;241m23\u001b[39m,\u001b[38;5;241m-\u001b[39m\u001b[38;5;241m12\u001b[39m,\u001b[38;5;241m45\u001b[39m,\u001b[38;5;241m67\u001b[39m,\u001b[38;5;241m45\u001b[39m,\u001b[38;5;241m35\u001b[39m,\u001b[38;5;241m78\u001b[39m]\n\u001b[1;32m----> 3\u001b[0m a \u001b[38;5;241m=\u001b[39m \u001b[38;5;28;01mlambda\u001b[39;00m x:\u001b[38;5;28;01mTrue\u001b[39;00m \u001b[38;5;28;01mif\u001b[39;00m \u001b[43mx\u001b[49m\u001b[38;5;241;43m>\u001b[39;49m\u001b[38;5;241;43m65\u001b[39;49m \u001b[38;5;28;01melse\u001b[39;00m \u001b[38;5;28;01mFalse\u001b[39;00m\n\u001b[0;32m      4\u001b[0m a(x)\n",
      "\u001b[1;31mTypeError\u001b[0m: '>' not supported between instances of 'list' and 'int'"
     ]
    }
   ],
   "source": [
    "# Filter function--------->\n",
    "x = [34,78,90,45,23,-12,45,67,45,35,78]\n",
    "a = lambda x:True if x>65 else False\n",
    "a(x)"
   ]
  },
  {
   "cell_type": "code",
   "execution_count": 15,
   "id": "dccdb03b",
   "metadata": {},
   "outputs": [
    {
     "data": {
      "text/plain": [
       "[78, 90, 67, 78]"
      ]
     },
     "execution_count": 15,
     "metadata": {},
     "output_type": "execute_result"
    }
   ],
   "source": [
    "x = [34,78,90,45,23,-12,45,67,45,35,78]\n",
    "list(filter(lambda x:True if x>65 else False,x))"
   ]
  },
  {
   "cell_type": "code",
   "execution_count": 16,
   "id": "37dceccc",
   "metadata": {},
   "outputs": [
    {
     "data": {
      "text/plain": [
       "(78, 90, 67, 78)"
      ]
     },
     "execution_count": 16,
     "metadata": {},
     "output_type": "execute_result"
    }
   ],
   "source": [
    "x = [34,78,90,45,23,-12,45,67,45,35,78]\n",
    "tuple(filter(lambda x:True if x>60 else False, x))"
   ]
  },
  {
   "cell_type": "code",
   "execution_count": 17,
   "id": "954042cb",
   "metadata": {},
   "outputs": [
    {
     "name": "stdout",
     "output_type": "stream",
     "text": [
      "78\n",
      "90\n",
      "67\n",
      "78\n"
     ]
    }
   ],
   "source": [
    "x = [34,78,90,45,23,-12,45,67,45,35,78]\n",
    "def filter(x):\n",
    "    for i in x:\n",
    "        if i>60:\n",
    "            print(i)\n",
    "#        else:\n",
    "#            print(False)\n",
    "filter(x)"
   ]
  },
  {
   "cell_type": "code",
   "execution_count": 3,
   "id": "7987f22b",
   "metadata": {},
   "outputs": [
    {
     "data": {
      "text/plain": [
       "[78, 90, 67, 78]"
      ]
     },
     "execution_count": 3,
     "metadata": {},
     "output_type": "execute_result"
    }
   ],
   "source": [
    "x = [34,78,90,45,23,-12,45,67,45,35,78]\n",
    "y=[]\n",
    "\n",
    "def senior():\n",
    "    for i in x:\n",
    "        if i>60:\n",
    "            y.append(i)\n",
    "list(filter(senior(),y))"
   ]
  },
  {
   "cell_type": "code",
   "execution_count": 2,
   "id": "75725338",
   "metadata": {},
   "outputs": [
    {
     "data": {
      "text/plain": [
       "[67, 78, 87]"
      ]
     },
     "execution_count": 2,
     "metadata": {},
     "output_type": "execute_result"
    }
   ],
   "source": [
    "x = [47,67,24,78,54,87]\n",
    "def fun(x):\n",
    "    if x >60:\n",
    "        return True\n",
    "    else:\n",
    "        return False\n",
    "list(filter(fun,x))"
   ]
  },
  {
   "cell_type": "markdown",
   "id": "50c319c8",
   "metadata": {},
   "source": [
    "# Map Function:-"
   ]
  },
  {
   "cell_type": "code",
   "execution_count": 18,
   "id": "8d09e219",
   "metadata": {},
   "outputs": [
    {
     "data": {
      "text/plain": [
       "[1, 4, 9, 16, 25]"
      ]
     },
     "execution_count": 18,
     "metadata": {},
     "output_type": "execute_result"
    }
   ],
   "source": [
    "# Map Function-------------->\n",
    "\n",
    "a = [1,2,3,4,5]\n",
    "list(map(lambda a:a**2,a))"
   ]
  },
  {
   "cell_type": "code",
   "execution_count": 19,
   "id": "de22f06d",
   "metadata": {},
   "outputs": [
    {
     "data": {
      "text/plain": [
       "[1, 4, 9, 16]"
      ]
     },
     "execution_count": 19,
     "metadata": {},
     "output_type": "execute_result"
    }
   ],
   "source": [
    "a = [1,2,3,4]\n",
    "def fun(i):\n",
    "    return i**2\n",
    "list(map(fun,a))"
   ]
  },
  {
   "cell_type": "code",
   "execution_count": 47,
   "id": "231b49bb",
   "metadata": {},
   "outputs": [
    {
     "name": "stdout",
     "output_type": "stream",
     "text": [
      "[12, 15, 18]\n"
     ]
    }
   ],
   "source": [
    "# wap to add three given lists using Python map and lambda.\n",
    "nums1 = [1, 2, 3] \n",
    "nums2 = [4, 5, 6] \n",
    "nums3 = [7, 8, 9] \n",
    "result = map(lambda x, y, z: x + y + z, nums1, nums2, nums3) \n",
    "print(list(result))"
   ]
  },
  {
   "cell_type": "code",
   "execution_count": 24,
   "id": "49b39d85",
   "metadata": {},
   "outputs": [
    {
     "data": {
      "text/plain": [
       "[9, 16, 36, 49, 64]"
      ]
     },
     "execution_count": 24,
     "metadata": {},
     "output_type": "execute_result"
    }
   ],
   "source": [
    "# Write a python program to square the elements of list using map() function.\n",
    "l = [3,4,6,7,8]\n",
    "def fun1(i):\n",
    "    return i**2\n",
    "list(map(fun1,l))"
   ]
  },
  {
   "cell_type": "code",
   "execution_count": 26,
   "id": "d87b52d3",
   "metadata": {},
   "outputs": [
    {
     "data": {
      "text/plain": [
       "6.0"
      ]
     },
     "execution_count": 26,
     "metadata": {},
     "output_type": "execute_result"
    }
   ],
   "source": [
    "# Write a program to find average of 5 numbers using lambda function.\n",
    "a=lambda a,b,c :(a+b+c)/2\n",
    "a(2,4,6)"
   ]
  },
  {
   "cell_type": "code",
   "execution_count": 29,
   "id": "c4908dee",
   "metadata": {},
   "outputs": [
    {
     "data": {
      "text/plain": [
       "5.75"
      ]
     },
     "execution_count": 29,
     "metadata": {},
     "output_type": "execute_result"
    }
   ],
   "source": [
    "# Write a function to find the max and min of 3 numbers and find their average with the help of lambda function.\n",
    "from functools import reduce\n",
    "a = [4,5,7]\n",
    "reduce(lambda x,y:(x+y)/2,a)"
   ]
  },
  {
   "cell_type": "code",
   "execution_count": 42,
   "id": "418d1722",
   "metadata": {},
   "outputs": [
    {
     "data": {
      "text/plain": [
       "3"
      ]
     },
     "execution_count": 42,
     "metadata": {},
     "output_type": "execute_result"
    }
   ],
   "source": [
    "from functools import reduce\n",
    "x = [4,3,6]\n",
    "reduce(lambda a, b : min(a,b),x)"
   ]
  },
  {
   "cell_type": "code",
   "execution_count": 43,
   "id": "f663d3d7",
   "metadata": {},
   "outputs": [
    {
     "data": {
      "text/plain": [
       "6"
      ]
     },
     "execution_count": 43,
     "metadata": {},
     "output_type": "execute_result"
    }
   ],
   "source": [
    "from functools import reduce\n",
    "x = [4,3,6]\n",
    "reduce(lambda a, b : max(a,b),x)"
   ]
  },
  {
   "cell_type": "markdown",
   "id": "2fd6df87",
   "metadata": {},
   "source": [
    "# Reduce Function:-"
   ]
  },
  {
   "cell_type": "code",
   "execution_count": 27,
   "id": "d42bad66",
   "metadata": {},
   "outputs": [],
   "source": [
    "from functools import reduce"
   ]
  },
  {
   "cell_type": "code",
   "execution_count": 28,
   "id": "b37db697",
   "metadata": {},
   "outputs": [
    {
     "data": {
      "text/plain": [
       "10"
      ]
     },
     "execution_count": 28,
     "metadata": {},
     "output_type": "execute_result"
    }
   ],
   "source": [
    "a = [1,2,3,4]\n",
    "reduce(lambda x,y:x+y,a)"
   ]
  },
  {
   "cell_type": "code",
   "execution_count": 51,
   "id": "6fa7c58c",
   "metadata": {},
   "outputs": [
    {
     "data": {
      "text/plain": [
       "22"
      ]
     },
     "execution_count": 51,
     "metadata": {},
     "output_type": "execute_result"
    }
   ],
   "source": [
    "from functools import reduce\n",
    "lis = [1, 3, 4, 10, 4]\n",
    "reduce(lambda x, y: x+y,lis)"
   ]
  },
  {
   "cell_type": "code",
   "execution_count": null,
   "id": "b51eab87",
   "metadata": {},
   "outputs": [],
   "source": []
  }
 ],
 "metadata": {
  "kernelspec": {
   "display_name": "Python 3 (ipykernel)",
   "language": "python",
   "name": "python3"
  },
  "language_info": {
   "codemirror_mode": {
    "name": "ipython",
    "version": 3
   },
   "file_extension": ".py",
   "mimetype": "text/x-python",
   "name": "python",
   "nbconvert_exporter": "python",
   "pygments_lexer": "ipython3",
   "version": "3.11.1"
  }
 },
 "nbformat": 4,
 "nbformat_minor": 5
}
