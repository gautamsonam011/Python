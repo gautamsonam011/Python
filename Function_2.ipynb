{
 "cells": [
  {
   "cell_type": "code",
   "execution_count": null,
   "id": "47db131e",
   "metadata": {},
   "outputs": [],
   "source": [
    "# syntax\n",
    "# define the function \n",
    "#function_name():\n",
    "#    print the msg"
   ]
  },
  {
   "cell_type": "code",
   "execution_count": 1,
   "id": "602ec599",
   "metadata": {},
   "outputs": [
    {
     "name": "stdout",
     "output_type": "stream",
     "text": [
      "Good Morning!!\n"
     ]
    }
   ],
   "source": [
    "def hello():\n",
    "    print(\"Good Morning!!\")\n",
    "hello()"
   ]
  },
  {
   "cell_type": "code",
   "execution_count": 2,
   "id": "8ad4b033",
   "metadata": {},
   "outputs": [
    {
     "name": "stdout",
     "output_type": "stream",
     "text": [
      "Good Morning!!\n"
     ]
    }
   ],
   "source": [
    "hello()"
   ]
  },
  {
   "cell_type": "markdown",
   "id": "54be97f6",
   "metadata": {},
   "source": [
    "# Type Of Functions:-"
   ]
  },
  {
   "cell_type": "code",
   "execution_count": null,
   "id": "863c29a3",
   "metadata": {},
   "outputs": [],
   "source": [
    "# No arg No return\n",
    "# No arg with return\n",
    "# with arg with return\n",
    "# with arg No return"
   ]
  },
  {
   "cell_type": "code",
   "execution_count": 3,
   "id": "b10065cb",
   "metadata": {},
   "outputs": [
    {
     "name": "stdout",
     "output_type": "stream",
     "text": [
      "7\n"
     ]
    }
   ],
   "source": [
    "# Write a program to add two numbers with the help of function.\n",
    "\n",
    "# No arg no return------------->\n",
    "\n",
    "def add():\n",
    "    a = 3\n",
    "    b = 4\n",
    "    c = a+b\n",
    "    print(c)\n",
    "add()"
   ]
  },
  {
   "cell_type": "code",
   "execution_count": 4,
   "id": "15272404",
   "metadata": {},
   "outputs": [
    {
     "name": "stdout",
     "output_type": "stream",
     "text": [
      "14\n"
     ]
    }
   ],
   "source": [
    "# with arg no return----------->\n",
    "def sum(x,y):\n",
    "    z = x+y\n",
    "    print(z)\n",
    "    \n",
    "sum(6,8)"
   ]
  },
  {
   "cell_type": "code",
   "execution_count": 5,
   "id": "9ce35fc9",
   "metadata": {},
   "outputs": [
    {
     "ename": "TypeError",
     "evalue": "sum() missing 2 required positional arguments: 'x' and 'y'",
     "output_type": "error",
     "traceback": [
      "\u001b[1;31m---------------------------------------------------------------------------\u001b[0m",
      "\u001b[1;31mTypeError\u001b[0m                                 Traceback (most recent call last)",
      "Cell \u001b[1;32mIn[5], line 5\u001b[0m\n\u001b[0;32m      2\u001b[0m     z \u001b[38;5;241m=\u001b[39m x\u001b[38;5;241m+\u001b[39my\n\u001b[0;32m      3\u001b[0m     \u001b[38;5;28mprint\u001b[39m(z)\n\u001b[1;32m----> 5\u001b[0m \u001b[38;5;28;43msum\u001b[39;49m\u001b[43m(\u001b[49m\u001b[43m)\u001b[49m\n",
      "\u001b[1;31mTypeError\u001b[0m: sum() missing 2 required positional arguments: 'x' and 'y'"
     ]
    }
   ],
   "source": [
    "def sum(x,y):\n",
    "    z = x+y\n",
    "    print(z)\n",
    "    \n",
    "sum()"
   ]
  },
  {
   "cell_type": "code",
   "execution_count": 12,
   "id": "8383c06a",
   "metadata": {},
   "outputs": [
    {
     "ename": "UnboundLocalError",
     "evalue": "cannot access local variable 's' where it is not associated with a value",
     "output_type": "error",
     "traceback": [
      "\u001b[1;31m---------------------------------------------------------------------------\u001b[0m",
      "\u001b[1;31mUnboundLocalError\u001b[0m                         Traceback (most recent call last)",
      "Cell \u001b[1;32mIn[12], line 9\u001b[0m\n\u001b[0;32m      7\u001b[0m         s \u001b[38;5;241m=\u001b[39m s\u001b[38;5;241m+\u001b[39mi\n\u001b[0;32m      8\u001b[0m         \u001b[38;5;28mprint\u001b[39m(\u001b[38;5;28msum\u001b[39m)\n\u001b[1;32m----> 9\u001b[0m \u001b[38;5;28;43msum\u001b[39;49m\u001b[43m(\u001b[49m\u001b[38;5;241;43m10\u001b[39;49m\u001b[43m)\u001b[49m\n",
      "Cell \u001b[1;32mIn[12], line 7\u001b[0m, in \u001b[0;36msum\u001b[1;34m(n)\u001b[0m\n\u001b[0;32m      5\u001b[0m \u001b[38;5;28;01mdef\u001b[39;00m \u001b[38;5;21msum\u001b[39m(n):\n\u001b[0;32m      6\u001b[0m     \u001b[38;5;28;01mfor\u001b[39;00m i \u001b[38;5;129;01min\u001b[39;00m \u001b[38;5;28mrange\u001b[39m(\u001b[38;5;241m0\u001b[39m,n):\n\u001b[1;32m----> 7\u001b[0m         s \u001b[38;5;241m=\u001b[39m \u001b[43ms\u001b[49m\u001b[38;5;241m+\u001b[39mi\n\u001b[0;32m      8\u001b[0m         \u001b[38;5;28mprint\u001b[39m(\u001b[38;5;28msum\u001b[39m)\n",
      "\u001b[1;31mUnboundLocalError\u001b[0m: cannot access local variable 's' where it is not associated with a value"
     ]
    }
   ],
   "source": [
    "# with arg with return--------------------->\n",
    "\n",
    "# Write a program to calculate the sum of first 10 numbers using function.\n",
    "s = 0\n",
    "def sum(n):\n",
    "    for i in range(0,n):\n",
    "        s = s+i\n",
    "        print(sum)\n",
    "sum(10)"
   ]
  },
  {
   "cell_type": "code",
   "execution_count": 16,
   "id": "eca9eb9c",
   "metadata": {},
   "outputs": [
    {
     "name": "stdout",
     "output_type": "stream",
     "text": [
      "55\n"
     ]
    }
   ],
   "source": [
    "\n",
    "s = 0\n",
    "def sum(s):\n",
    "    for i in range(11):\n",
    "        s = s+i\n",
    "    print(s)\n",
    "sum(0)"
   ]
  },
  {
   "cell_type": "code",
   "execution_count": 17,
   "id": "c9bb1351",
   "metadata": {},
   "outputs": [
    {
     "data": {
      "text/plain": [
       "11"
      ]
     },
     "execution_count": 17,
     "metadata": {},
     "output_type": "execute_result"
    }
   ],
   "source": [
    "# with arg with return----------------->\n",
    "def add(x,y):\n",
    "    return x+y\n",
    "add(4,7)"
   ]
  },
  {
   "cell_type": "code",
   "execution_count": 18,
   "id": "07d5fdab",
   "metadata": {},
   "outputs": [
    {
     "data": {
      "text/plain": [
       "20"
      ]
     },
     "execution_count": 18,
     "metadata": {},
     "output_type": "execute_result"
    }
   ],
   "source": [
    "def mult(x,y):\n",
    "    z = x*y\n",
    "    return z\n",
    "mult(4,5)"
   ]
  },
  {
   "cell_type": "code",
   "execution_count": 19,
   "id": "9d4b448b",
   "metadata": {},
   "outputs": [
    {
     "data": {
      "text/plain": [
       "22"
      ]
     },
     "execution_count": 19,
     "metadata": {},
     "output_type": "execute_result"
    }
   ],
   "source": [
    "# no arg with return---------------->\n",
    "def sum():\n",
    "    x = 12\n",
    "    y = 10\n",
    "    z = x+y\n",
    "    return z\n",
    "sum()"
   ]
  },
  {
   "cell_type": "code",
   "execution_count": 20,
   "id": "b91eb199",
   "metadata": {},
   "outputs": [
    {
     "ename": "TypeError",
     "evalue": "sum() takes 0 positional arguments but 2 were given",
     "output_type": "error",
     "traceback": [
      "\u001b[1;31m---------------------------------------------------------------------------\u001b[0m",
      "\u001b[1;31mTypeError\u001b[0m                                 Traceback (most recent call last)",
      "Cell \u001b[1;32mIn[20], line 1\u001b[0m\n\u001b[1;32m----> 1\u001b[0m \u001b[38;5;28;43msum\u001b[39;49m\u001b[43m(\u001b[49m\u001b[38;5;241;43m2\u001b[39;49m\u001b[43m,\u001b[49m\u001b[38;5;241;43m7\u001b[39;49m\u001b[43m)\u001b[49m\n",
      "\u001b[1;31mTypeError\u001b[0m: sum() takes 0 positional arguments but 2 were given"
     ]
    }
   ],
   "source": [
    "sum(2,7)"
   ]
  },
  {
   "cell_type": "code",
   "execution_count": 21,
   "id": "48378c8c",
   "metadata": {},
   "outputs": [
    {
     "data": {
      "text/plain": [
       "'Hey Guys!!'"
      ]
     },
     "execution_count": 21,
     "metadata": {},
     "output_type": "execute_result"
    }
   ],
   "source": [
    "def hello():\n",
    "    s = \"Hey Guys!!\"\n",
    "    return s\n",
    "hello()"
   ]
  },
  {
   "cell_type": "code",
   "execution_count": 22,
   "id": "eb0daa9d",
   "metadata": {},
   "outputs": [
    {
     "data": {
      "text/plain": [
       "'Hey Guys!!'"
      ]
     },
     "execution_count": 22,
     "metadata": {},
     "output_type": "execute_result"
    }
   ],
   "source": [
    "hello()"
   ]
  },
  {
   "cell_type": "code",
   "execution_count": 23,
   "id": "930876d9",
   "metadata": {},
   "outputs": [
    {
     "name": "stdout",
     "output_type": "stream",
     "text": [
      "Python\n"
     ]
    }
   ],
   "source": [
    "#Difference between print & return------->\n",
    "# 1:-\n",
    "print(\"Python\")"
   ]
  },
  {
   "cell_type": "code",
   "execution_count": 24,
   "id": "e2ede0ff",
   "metadata": {},
   "outputs": [
    {
     "ename": "SyntaxError",
     "evalue": "'return' outside function (2063274775.py, line 1)",
     "output_type": "error",
     "traceback": [
      "\u001b[1;36m  Cell \u001b[1;32mIn[24], line 1\u001b[1;36m\u001b[0m\n\u001b[1;33m    return ('python')\u001b[0m\n\u001b[1;37m    ^\u001b[0m\n\u001b[1;31mSyntaxError\u001b[0m\u001b[1;31m:\u001b[0m 'return' outside function\n"
     ]
    }
   ],
   "source": [
    "return ('python')"
   ]
  },
  {
   "cell_type": "code",
   "execution_count": 25,
   "id": "f8fc5aa0",
   "metadata": {},
   "outputs": [
    {
     "ename": "SyntaxError",
     "evalue": "'return' outside function (17469328.py, line 1)",
     "output_type": "error",
     "traceback": [
      "\u001b[1;36m  Cell \u001b[1;32mIn[25], line 1\u001b[1;36m\u001b[0m\n\u001b[1;33m    return python\u001b[0m\n\u001b[1;37m    ^\u001b[0m\n\u001b[1;31mSyntaxError\u001b[0m\u001b[1;31m:\u001b[0m 'return' outside function\n"
     ]
    }
   ],
   "source": [
    "return python"
   ]
  },
  {
   "cell_type": "code",
   "execution_count": null,
   "id": "e54de59e",
   "metadata": {},
   "outputs": [],
   "source": [
    "# 2:- cursor switch out of function in return case and print switch new line in the function"
   ]
  },
  {
   "cell_type": "code",
   "execution_count": null,
   "id": "10c2f4bb",
   "metadata": {},
   "outputs": [],
   "source": [
    "# Function is a concept, not a coding language or programming language."
   ]
  },
  {
   "cell_type": "code",
   "execution_count": 26,
   "id": "c6e0526b",
   "metadata": {},
   "outputs": [
    {
     "name": "stdout",
     "output_type": "stream",
     "text": [
      "C 8\n"
     ]
    }
   ],
   "source": [
    "# Write a program to find max no. from three numbers using function.\n",
    "def max(a,b,c):\n",
    "    if (a>b) and (a>c):\n",
    "        print(\"A\",a)\n",
    "    elif (b>a) and (b>c):\n",
    "        print(\"B\",b)\n",
    "    else:\n",
    "        print(\"C\",c)\n",
    "        \n",
    "max(5,4,8)"
   ]
  },
  {
   "cell_type": "code",
   "execution_count": 28,
   "id": "8261fe6a",
   "metadata": {},
   "outputs": [
    {
     "name": "stdout",
     "output_type": "stream",
     "text": [
      "Min is B: 4\n"
     ]
    }
   ],
   "source": [
    "# Write a program to find min no. from three numbers using function.\n",
    "def min(a,b,c):\n",
    "    if (a<b) and (a<c):\n",
    "        print(\"Min is A:\",a)\n",
    "    elif (b<a) and (b<c):\n",
    "        print(\"Min is B:\",b)\n",
    "    else:\n",
    "        print(\"Min is C:\",c)\n",
    "        \n",
    "min(5,4,8)\n"
   ]
  },
  {
   "cell_type": "code",
   "execution_count": 32,
   "id": "285965c9",
   "metadata": {},
   "outputs": [
    {
     "name": "stdout",
     "output_type": "stream",
     "text": [
      "120\n"
     ]
    }
   ],
   "source": [
    "# Write a program to sum all number present in a list.\n",
    "l = [4,7,8,23,12,9,57]\n",
    "s = 0\n",
    "for i in l:\n",
    "    s =s+i\n",
    "print(s)\n",
    "        "
   ]
  },
  {
   "cell_type": "code",
   "execution_count": 34,
   "id": "c9b93718",
   "metadata": {},
   "outputs": [
    {
     "name": "stdout",
     "output_type": "stream",
     "text": [
      "120\n"
     ]
    }
   ],
   "source": [
    "def list_sum():\n",
    "    l = [4,7,8,23,12,9,57]\n",
    "    s = 0\n",
    "    for i in l:\n",
    "        s =s+i\n",
    "    print(s)\n",
    "list_sum()"
   ]
  },
  {
   "cell_type": "code",
   "execution_count": 36,
   "id": "8b91ec05",
   "metadata": {},
   "outputs": [
    {
     "name": "stdout",
     "output_type": "stream",
     "text": [
      "olleh\n"
     ]
    }
   ],
   "source": [
    "# Write a program to check a string is reversed or not?\n",
    "x = \"hello\"\n",
    "y = ''\n",
    "for i in x:\n",
    "    y = i+y\n",
    "print(y)"
   ]
  },
  {
   "cell_type": "code",
   "execution_count": 37,
   "id": "0b4221b4",
   "metadata": {},
   "outputs": [
    {
     "name": "stdout",
     "output_type": "stream",
     "text": [
      "olleh\n"
     ]
    }
   ],
   "source": [
    "def reversed(x):\n",
    "    y = ''\n",
    "    for i in x:\n",
    "        y = i+y\n",
    "    print(y)\n",
    "reversed(\"hello\")"
   ]
  },
  {
   "cell_type": "code",
   "execution_count": 38,
   "id": "408289c8",
   "metadata": {},
   "outputs": [
    {
     "name": "stdout",
     "output_type": "stream",
     "text": [
      "hfbdsh\n"
     ]
    }
   ],
   "source": [
    "reversed(\"hsdbfh\")"
   ]
  },
  {
   "cell_type": "code",
   "execution_count": 48,
   "id": "87bf21c3",
   "metadata": {},
   "outputs": [
    {
     "name": "stdout",
     "output_type": "stream",
     "text": [
      "Odd 11\n"
     ]
    }
   ],
   "source": [
    "# Write a program to find odd number using function.\n",
    "\n",
    "def odd(x):\n",
    "    if x%2!=0:\n",
    "        print(\"Odd\",x)\n",
    "    else:\n",
    "        print(\"Not Odd\",x)\n",
    "odd(11)"
   ]
  },
  {
   "cell_type": "code",
   "execution_count": 40,
   "id": "f6262501",
   "metadata": {},
   "outputs": [
    {
     "name": "stdout",
     "output_type": "stream",
     "text": [
      "Odd 7\n"
     ]
    }
   ],
   "source": [
    "odd(7)"
   ]
  },
  {
   "cell_type": "code",
   "execution_count": 49,
   "id": "a527af46",
   "metadata": {},
   "outputs": [
    {
     "name": "stdout",
     "output_type": "stream",
     "text": [
      "Not Odd 8\n"
     ]
    }
   ],
   "source": [
    "odd(8)"
   ]
  },
  {
   "cell_type": "code",
   "execution_count": 46,
   "id": "b696e95c",
   "metadata": {},
   "outputs": [
    {
     "name": "stdout",
     "output_type": "stream",
     "text": [
      "Not Even Number: 11\n"
     ]
    }
   ],
   "source": [
    "# Write a program to find even number using function.\n",
    "def even_num(x):\n",
    "    if x%2==0:\n",
    "        print(\"Even Number:\",x)\n",
    "    else:\n",
    "        print(\"Not Even Number:\",x)\n",
    "even_num(11)"
   ]
  },
  {
   "cell_type": "code",
   "execution_count": 47,
   "id": "b958e7ed",
   "metadata": {},
   "outputs": [
    {
     "name": "stdout",
     "output_type": "stream",
     "text": [
      "Even Number: 44\n"
     ]
    }
   ],
   "source": [
    "even_num(44)"
   ]
  },
  {
   "cell_type": "code",
   "execution_count": 53,
   "id": "114a6b03",
   "metadata": {},
   "outputs": [
    {
     "name": "stdout",
     "output_type": "stream",
     "text": [
      "Not Palindrome\n"
     ]
    }
   ],
   "source": [
    "# Write a function to check a string is palindrome or not.\n",
    "\n",
    "def palindrome(x):\n",
    "    y = \" \"\n",
    "    for i in x:\n",
    "        y = i+y\n",
    "        \n",
    "    if x == y:\n",
    "        print(\"Palindrome:\",x)\n",
    "    else:\n",
    "        print(\"Not Palindrome\")\n",
    "palindrome(\"nitin\")"
   ]
  },
  {
   "cell_type": "code",
   "execution_count": 61,
   "id": "41b95a44",
   "metadata": {},
   "outputs": [
    {
     "name": "stdout",
     "output_type": "stream",
     "text": [
      "Not Palindrome\n"
     ]
    }
   ],
   "source": [
    "x = \"nitin\"\n",
    "y = ' '\n",
    "for i in x:\n",
    "    y = i+y\n",
    "if y==x:\n",
    "    print(\"Palindrome\")\n",
    "else:\n",
    "    print(\"Not Palindrome\")"
   ]
  },
  {
   "cell_type": "code",
   "execution_count": 66,
   "id": "7175e089",
   "metadata": {},
   "outputs": [
    {
     "name": "stdout",
     "output_type": "stream",
     "text": [
      "1\n",
      "3\n",
      "6\n",
      "10\n",
      "15\n",
      "21\n",
      "28\n",
      "36\n",
      "45\n",
      "55\n"
     ]
    }
   ],
   "source": [
    "# Write a program to sum the first 10 natural numbers using function?\n",
    "\n",
    "def sum_of_natural(n):\n",
    "    s = 0\n",
    "    for i in range(1,n):\n",
    "        s = s+i\n",
    "        print(s)\n",
    "sum_of_natural(11)       "
   ]
  },
  {
   "cell_type": "code",
   "execution_count": null,
   "id": "256c1afe",
   "metadata": {},
   "outputs": [],
   "source": [
    "# Write a program to calculate the percentage of 5 students??\n",
    "\n"
   ]
  },
  {
   "cell_type": "code",
   "execution_count": null,
   "id": "169032a4",
   "metadata": {},
   "outputs": [],
   "source": [
    "# How to reverse a string in python using indexing.Explain with example.\n"
   ]
  }
 ],
 "metadata": {
  "kernelspec": {
   "display_name": "Python 3 (ipykernel)",
   "language": "python",
   "name": "python3"
  },
  "language_info": {
   "codemirror_mode": {
    "name": "ipython",
    "version": 3
   },
   "file_extension": ".py",
   "mimetype": "text/x-python",
   "name": "python",
   "nbconvert_exporter": "python",
   "pygments_lexer": "ipython3",
   "version": "3.11.1"
  }
 },
 "nbformat": 4,
 "nbformat_minor": 5
}
