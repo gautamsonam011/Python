{
 "cells": [
  {
   "cell_type": "markdown",
   "id": "90a89b68",
   "metadata": {},
   "source": [
    "# Function:-"
   ]
  },
  {
   "cell_type": "code",
   "execution_count": 1,
   "id": "802fbf49",
   "metadata": {},
   "outputs": [],
   "source": [
    "#1:- A function is a block of code which only runs when it is called.\n",
    "#2:- You can pass data, known as parameters, into a function.\n",
    "#3:- A function can return data as a result.\n",
    "#4:- In Python a function is defined using the def keyword:\n",
    "\n",
    "def func():\n",
    "    print(\"Hello World\")"
   ]
  },
  {
   "cell_type": "code",
   "execution_count": 2,
   "id": "ee3f5902",
   "metadata": {},
   "outputs": [
    {
     "name": "stdout",
     "output_type": "stream",
     "text": [
      "Hello World\n"
     ]
    }
   ],
   "source": [
    "func()"
   ]
  },
  {
   "cell_type": "code",
   "execution_count": 4,
   "id": "bf759f44",
   "metadata": {},
   "outputs": [
    {
     "name": "stdout",
     "output_type": "stream",
     "text": [
      "Hello World\n"
     ]
    }
   ],
   "source": [
    "func()"
   ]
  },
  {
   "cell_type": "markdown",
   "id": "542483cf",
   "metadata": {},
   "source": [
    "# Arguments:-"
   ]
  },
  {
   "cell_type": "code",
   "execution_count": 8,
   "id": "ceaf6279",
   "metadata": {},
   "outputs": [
    {
     "name": "stdout",
     "output_type": "stream",
     "text": [
      "SonaGi\n"
     ]
    }
   ],
   "source": [
    "# 1:- Information can be passed into functions as arguments.\n",
    "# 2:- Arguments are specified after the function name, inside the parentheses. \n",
    "# 3:- You can add as many arguments as you want, just separate them with a comma (,).\n",
    "\n",
    "def fun(name):\n",
    "    print(name  +  \"Gi\")\n",
    "    \n",
    "fun(\"Sona\")\n",
    "\n",
    "# name is a argument"
   ]
  },
  {
   "cell_type": "markdown",
   "id": "9bae3bd6",
   "metadata": {},
   "source": [
    "# Number of Arguments:-"
   ]
  },
  {
   "cell_type": "code",
   "execution_count": 11,
   "id": "a8990cc6",
   "metadata": {},
   "outputs": [
    {
     "name": "stdout",
     "output_type": "stream",
     "text": [
      "Sona Gi\n"
     ]
    }
   ],
   "source": [
    "# We have to call the function with 2 arguments, not more, and not less.\n",
    "\n",
    "def fun(fname,lname):\n",
    "    print(fname + \" \" +lname)\n",
    "    \n",
    "fun(\"Sona\",\"Gi\")"
   ]
  },
  {
   "cell_type": "code",
   "execution_count": 10,
   "id": "af023b2a",
   "metadata": {},
   "outputs": [
    {
     "name": "stdout",
     "output_type": "stream",
     "text": [
      "Sdm Gi\n"
     ]
    }
   ],
   "source": [
    "def my_func(fname, lname):\n",
    "  print(fname + \" \" + lname)\n",
    "\n",
    "my_func(\"Sdm\", \"Gi\")\n"
   ]
  },
  {
   "cell_type": "code",
   "execution_count": 12,
   "id": "c4cba925",
   "metadata": {},
   "outputs": [
    {
     "ename": "TypeError",
     "evalue": "fullname() missing 1 required positional argument: 'lname'",
     "output_type": "error",
     "traceback": [
      "\u001b[1;31m---------------------------------------------------------------------------\u001b[0m",
      "\u001b[1;31mTypeError\u001b[0m                                 Traceback (most recent call last)",
      "Cell \u001b[1;32mIn[12], line 4\u001b[0m\n\u001b[0;32m      1\u001b[0m \u001b[38;5;28;01mdef\u001b[39;00m \u001b[38;5;21mfullname\u001b[39m(fname,lname):\n\u001b[0;32m      2\u001b[0m     \u001b[38;5;28mprint\u001b[39m(fname \u001b[38;5;241m+\u001b[39m \u001b[38;5;124m\"\u001b[39m\u001b[38;5;124m \u001b[39m\u001b[38;5;124m\"\u001b[39m\u001b[38;5;241m+\u001b[39mlname)\n\u001b[1;32m----> 4\u001b[0m \u001b[43mfullname\u001b[49m\u001b[43m(\u001b[49m\u001b[38;5;124;43m\"\u001b[39;49m\u001b[38;5;124;43msdn\u001b[39;49m\u001b[38;5;124;43m\"\u001b[39;49m\u001b[43m)\u001b[49m\n",
      "\u001b[1;31mTypeError\u001b[0m: fullname() missing 1 required positional argument: 'lname'"
     ]
    }
   ],
   "source": [
    "def fullname(fname,lname):\n",
    "    print(fname + \" \"+lname)\n",
    "    \n",
    "fullname(\"sdn\")\n",
    " \n",
    "# If you try to call the function with 1 or 3 arguments, you will get an error:    "
   ]
  },
  {
   "cell_type": "markdown",
   "id": "ea1c3988",
   "metadata": {},
   "source": [
    "# Arbitrary Arguments, *args:-\n",
    "If you do not know how many arguments that will be passed into your function, add a * before the parameter name in the function definition.\n",
    "\n",
    "This way the function will receive a tuple of arguments, and can access the items accordingly:"
   ]
  },
  {
   "cell_type": "code",
   "execution_count": 15,
   "id": "deca771b",
   "metadata": {},
   "outputs": [
    {
     "name": "stdout",
     "output_type": "stream",
     "text": [
      "The youngest child is Ansh\n"
     ]
    }
   ],
   "source": [
    "def kids_fun(*kids):\n",
    "    print(\"The youngest child is\" +\" \"+ kids[2])\n",
    "kids_fun(\"Sdm\",\"Gnn\",\"Ansh\")"
   ]
  },
  {
   "cell_type": "code",
   "execution_count": 16,
   "id": "15d78150",
   "metadata": {},
   "outputs": [
    {
     "name": "stdout",
     "output_type": "stream",
     "text": [
      "The youngest child is Sdm\n"
     ]
    }
   ],
   "source": [
    "def kids_fun1(*kids):\n",
    "    print(\"The youngest child is\" +\" \"+ kids[0])\n",
    "kids_fun1(\"Sdm\",\"Gnn\",\"Ansh\")"
   ]
  },
  {
   "cell_type": "markdown",
   "id": "da0e2508",
   "metadata": {},
   "source": [
    "# Keyword Arguments:-\n",
    "1:- You can also send arguments with the key = value syntax.\n",
    "2:- This way the order of the arguments does not matter."
   ]
  },
  {
   "cell_type": "code",
   "execution_count": 18,
   "id": "b3aa7877",
   "metadata": {},
   "outputs": [
    {
     "name": "stdout",
     "output_type": "stream",
     "text": [
      "The youngest child is Gnn\n"
     ]
    }
   ],
   "source": [
    "def child_fun(ch1,ch2,ch3,ch4):\n",
    "    print(\"The youngest child is\"+ \" \" +ch2)\n",
    "child_fun(ch1 = \"Sdm\",ch2 = \"Gnn\",ch3 = \"Ansh\", ch4 = \"Linus\")"
   ]
  },
  {
   "cell_type": "markdown",
   "id": "460c61dd",
   "metadata": {},
   "source": [
    "# Arbitrary Keyword Arguments, **kwargs:-\n",
    "If you do not know how many keyword arguments that will be passed into your function, add two asterisk: ** before the parameter name in the function definition."
   ]
  },
  {
   "cell_type": "code",
   "execution_count": 19,
   "id": "abac0f3d",
   "metadata": {},
   "outputs": [
    {
     "name": "stdout",
     "output_type": "stream",
     "text": [
      "His last name is Raj\n"
     ]
    }
   ],
   "source": [
    "def my_func(**kid):\n",
    "    print(\"His last name is\" + \" \"+kid[\"lname\"])\n",
    "my_func(fname = \"Sdm\", lname = \"Raj\")"
   ]
  },
  {
   "cell_type": "code",
   "execution_count": 20,
   "id": "f9431942",
   "metadata": {},
   "outputs": [
    {
     "name": "stdout",
     "output_type": "stream",
     "text": [
      "His last name is Sdm\n"
     ]
    }
   ],
   "source": [
    "def my_func(**kid):\n",
    "    print(\"His last name is\" + \" \"+kid[\"fname\"])\n",
    "my_func(fname = \"Sdm\", lname = \"Raj\")"
   ]
  },
  {
   "cell_type": "code",
   "execution_count": 23,
   "id": "e2415b42",
   "metadata": {},
   "outputs": [
    {
     "name": "stdout",
     "output_type": "stream",
     "text": [
      "Get detail Delhi\n"
     ]
    }
   ],
   "source": [
    "def my_detail(**detail):\n",
    "    print(\"Get detail\"+\" \"+detail[\"address\"])\n",
    "my_detail(fname = \"Sdm\",address = \"Delhi\")"
   ]
  },
  {
   "cell_type": "markdown",
   "id": "a7869c87",
   "metadata": {},
   "source": [
    "# Default Parameter Value:-\n",
    "1:- The following example shows how to use a default parameter value.\n",
    "2:- If we call the function without argument, it uses the default value:"
   ]
  },
  {
   "cell_type": "code",
   "execution_count": 25,
   "id": "406b81da",
   "metadata": {},
   "outputs": [
    {
     "name": "stdout",
     "output_type": "stream",
     "text": [
      "I am from Delhi\n"
     ]
    }
   ],
   "source": [
    "def my_para(city = \"Delhi\"):\n",
    "    print(\"I am from\"+\" \" +city)\n",
    "my_para()"
   ]
  },
  {
   "cell_type": "code",
   "execution_count": 26,
   "id": "54337427",
   "metadata": {},
   "outputs": [
    {
     "name": "stdout",
     "output_type": "stream",
     "text": [
      "I am from Lucknow\n"
     ]
    }
   ],
   "source": [
    "my_para(\"Lucknow\")"
   ]
  },
  {
   "cell_type": "code",
   "execution_count": 27,
   "id": "10aa9959",
   "metadata": {},
   "outputs": [
    {
     "name": "stdout",
     "output_type": "stream",
     "text": [
      "I am from Noida\n"
     ]
    }
   ],
   "source": [
    "my_para(\"Noida\")"
   ]
  },
  {
   "cell_type": "markdown",
   "id": "527cc255",
   "metadata": {},
   "source": [
    "# Passing a List as an Argument:-\n",
    "You can send any data types of argument to a function (string, number, list, dictionary etc.), and it will be treated as the same data type inside the function."
   ]
  },
  {
   "cell_type": "code",
   "execution_count": 33,
   "id": "4f3f63ad",
   "metadata": {},
   "outputs": [
    {
     "name": "stdout",
     "output_type": "stream",
     "text": [
      "apple\n",
      "banana\n",
      "orang\n"
     ]
    }
   ],
   "source": [
    "x = [\"Grapes\",\"cherry\"]\n",
    "def my_fruits(fruit):\n",
    "    for x in fruit:\n",
    "        print(x)\n",
    "fruits = [\"apple\",\"banana\",\"orang\"]\n",
    "my_fruits(fruits)"
   ]
  },
  {
   "cell_type": "code",
   "execution_count": 34,
   "id": "9b0f6ae0",
   "metadata": {},
   "outputs": [
    {
     "name": "stdout",
     "output_type": "stream",
     "text": [
      "Grapes\n",
      "cherry\n"
     ]
    }
   ],
   "source": [
    "my_fruits(x)"
   ]
  },
  {
   "cell_type": "code",
   "execution_count": 35,
   "id": "5b79a0e9",
   "metadata": {},
   "outputs": [
    {
     "name": "stdout",
     "output_type": "stream",
     "text": [
      "30\n"
     ]
    }
   ],
   "source": [
    "# Return Values:--------------->\n",
    "x = 5\n",
    "def my_values(x):\n",
    "    return 5*x\n",
    "print(my_values(6))"
   ]
  },
  {
   "cell_type": "code",
   "execution_count": 36,
   "id": "46a7ea95",
   "metadata": {},
   "outputs": [
    {
     "name": "stdout",
     "output_type": "stream",
     "text": [
      "10\n"
     ]
    }
   ],
   "source": [
    "print(my_values(2))"
   ]
  },
  {
   "cell_type": "code",
   "execution_count": 37,
   "id": "d14de0d2",
   "metadata": {},
   "outputs": [
    {
     "data": {
      "text/plain": [
       "15"
      ]
     },
     "execution_count": 37,
     "metadata": {},
     "output_type": "execute_result"
    }
   ],
   "source": [
    "my_values(3)"
   ]
  },
  {
   "cell_type": "raw",
   "id": "2402f18e",
   "metadata": {},
   "source": [
    "# The pass Statement:-\n",
    "\"function\" definitions cannot be empty, but if you for some reason have a function definition with no content, put in the pass statement to avoid getting an error."
   ]
  },
  {
   "cell_type": "code",
   "execution_count": 38,
   "id": "7c336973",
   "metadata": {},
   "outputs": [],
   "source": [
    "def myfunc():\n",
    "    pass"
   ]
  },
  {
   "cell_type": "code",
   "execution_count": 39,
   "id": "34c5eb9f",
   "metadata": {},
   "outputs": [],
   "source": [
    "myfunc()"
   ]
  },
  {
   "cell_type": "markdown",
   "id": "4756b8db",
   "metadata": {},
   "source": [
    "# Recursion:-\n",
    "1:- Python also accepts function recursion, which means a defined function can call itself.\n",
    "2:- This has the benefit of meaning that you can loop through data to reach a result."
   ]
  },
  {
   "cell_type": "code",
   "execution_count": 43,
   "id": "36129d83",
   "metadata": {},
   "outputs": [
    {
     "name": "stdout",
     "output_type": "stream",
     "text": [
      "\n",
      "\n",
      "Recursion Results\n",
      "1\n",
      "3\n",
      "6\n",
      "10\n",
      "15\n",
      "21\n"
     ]
    },
    {
     "data": {
      "text/plain": [
       "21"
      ]
     },
     "execution_count": 43,
     "metadata": {},
     "output_type": "execute_result"
    }
   ],
   "source": [
    "\n",
    "def recursion(k):\n",
    "    if(k > 0):\n",
    "        res = k+recursion(k - 1)\n",
    "        print(res)\n",
    "    else:\n",
    "        res = 0\n",
    "    return res\n",
    "print(\"\\n\\nRecursion Results\")\n",
    "recursion(6)"
   ]
  },
  {
   "cell_type": "code",
   "execution_count": 44,
   "id": "995004f7",
   "metadata": {},
   "outputs": [
    {
     "ename": "NameError",
     "evalue": "name 'recurnsion' is not defined",
     "output_type": "error",
     "traceback": [
      "\u001b[1;31m---------------------------------------------------------------------------\u001b[0m",
      "\u001b[1;31mNameError\u001b[0m                                 Traceback (most recent call last)",
      "Cell \u001b[1;32mIn[44], line 1\u001b[0m\n\u001b[1;32m----> 1\u001b[0m \u001b[43mrecurnsion\u001b[49m(\u001b[38;5;241m10\u001b[39m)\n",
      "\u001b[1;31mNameError\u001b[0m: name 'recurnsion' is not defined"
     ]
    }
   ],
   "source": [
    "recurnsion(10)"
   ]
  }
 ],
 "metadata": {
  "kernelspec": {
   "display_name": "Python 3 (ipykernel)",
   "language": "python",
   "name": "python3"
  },
  "language_info": {
   "codemirror_mode": {
    "name": "ipython",
    "version": 3
   },
   "file_extension": ".py",
   "mimetype": "text/x-python",
   "name": "python",
   "nbconvert_exporter": "python",
   "pygments_lexer": "ipython3",
   "version": "3.11.1"
  }
 },
 "nbformat": 4,
 "nbformat_minor": 5
}
