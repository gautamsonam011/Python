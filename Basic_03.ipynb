{
 "cells": [
  {
   "cell_type": "markdown",
   "id": "759f08a4",
   "metadata": {},
   "source": [
    "# Condition:-"
   ]
  },
  {
   "cell_type": "code",
   "execution_count": 5,
   "id": "a5ff2659",
   "metadata": {},
   "outputs": [
    {
     "name": "stdout",
     "output_type": "stream",
     "text": [
      "Enter the unit:3400\n",
      "your bill is 34000\n"
     ]
    }
   ],
   "source": [
    "# Write a program to calculate the electricity bill \n",
    "# (accept number of unit from user) according to the following criteria\n",
    "#  Unit                              Price\n",
    "# First 100 units                  no charge\n",
    "# Next 100 units                   Rs 5 per unit\n",
    "# After 200 units                  Rs 10 per unit\n",
    "\n",
    "unit = int(input(\"Enter the unit:\"))\n",
    "if unit>0 and unit<=100:\n",
    "    print(\"your bill is zero\")\n",
    "elif unit>100 and unit <=200:\n",
    "    unit1 = unit*5\n",
    "    print(\"your bill is\",unit1)\n",
    "elif unit>200:\n",
    "    unit2 = unit*10\n",
    "    print(\"your bill is\",unit2)\n",
    "else:\n",
    "    print(\"Invalid input\")"
   ]
  },
  {
   "cell_type": "code",
   "execution_count": 7,
   "id": "c43b748d",
   "metadata": {},
   "outputs": [
    {
     "name": "stdout",
     "output_type": "stream",
     "text": [
      "Enter the unit:108\n",
      "your bill is 40\n"
     ]
    }
   ],
   "source": [
    "unit = int(input(\"Enter the unit:\"))\n",
    "if unit>0 and unit<=100:\n",
    "    print(\"your bill is zero\")\n",
    "elif unit>100 and unit <=200:\n",
    "    unit1 = (unit-100)*5\n",
    "    print(\"your bill is\",unit1)\n",
    "elif unit>200:\n",
    "    unit2 = unit*10\n",
    "    print(\"your bill is\",unit2)\n",
    "else:\n",
    "    print(\"Invalid input\")"
   ]
  },
  {
   "cell_type": "code",
   "execution_count": null,
   "id": "b55a5987",
   "metadata": {},
   "outputs": [],
   "source": []
  }
 ],
 "metadata": {
  "kernelspec": {
   "display_name": "Python 3 (ipykernel)",
   "language": "python",
   "name": "python3"
  },
  "language_info": {
   "codemirror_mode": {
    "name": "ipython",
    "version": 3
   },
   "file_extension": ".py",
   "mimetype": "text/x-python",
   "name": "python",
   "nbconvert_exporter": "python",
   "pygments_lexer": "ipython3",
   "version": "3.11.1"
  }
 },
 "nbformat": 4,
 "nbformat_minor": 5
}
