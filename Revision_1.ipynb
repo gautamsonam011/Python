{
 "cells": [
  {
   "cell_type": "code",
   "execution_count": 1,
   "id": "87137f24",
   "metadata": {},
   "outputs": [
    {
     "data": {
      "text/plain": [
       "2"
      ]
     },
     "execution_count": 1,
     "metadata": {},
     "output_type": "execute_result"
    }
   ],
   "source": [
    "# Write a python program to create a tuple with numbers and print one item.\n",
    "t = (3,4,5,2,12,7)\n",
    "t[3]"
   ]
  },
  {
   "cell_type": "code",
   "execution_count": 3,
   "id": "0d0ca4bf",
   "metadata": {},
   "outputs": [
    {
     "name": "stdout",
     "output_type": "stream",
     "text": [
      "(100, 78, 12, 34, 89)\n"
     ]
    },
    {
     "data": {
      "text/plain": [
       "tuple"
      ]
     },
     "execution_count": 3,
     "metadata": {},
     "output_type": "execute_result"
    }
   ],
   "source": [
    "# Write a python program to add an item in a tuple.\n",
    "t = (54,78,12,34,89)\n",
    "l = list(t)\n",
    "l[0] = 100\n",
    "z = tuple(l)\n",
    "print(z)\n",
    "type(z)"
   ]
  },
  {
   "cell_type": "code",
   "execution_count": null,
   "id": "f8fbead1",
   "metadata": {},
   "outputs": [],
   "source": [
    "# Write a python program to convert a tuple to a string."
   ]
  },
  {
   "cell_type": "code",
   "execution_count": 6,
   "id": "a30c0093",
   "metadata": {},
   "outputs": [
    {
     "name": "stdout",
     "output_type": "stream",
     "text": [
      "(34, 23, 12, 56, 76, 'python', True)\n"
     ]
    },
    {
     "data": {
      "text/plain": [
       "tuple"
      ]
     },
     "execution_count": 6,
     "metadata": {},
     "output_type": "execute_result"
    }
   ],
   "source": [
    "# Write a Python program to convert a list to a tuple.\n",
    "l = [34,23,12,56,76,'python',True]\n",
    "t = tuple(l)\n",
    "print(t)\n",
    "type(t)"
   ]
  },
  {
   "cell_type": "code",
   "execution_count": 8,
   "id": "193a9ea6",
   "metadata": {},
   "outputs": [
    {
     "name": "stdout",
     "output_type": "stream",
     "text": [
      "(5, 4, 67, 23, 12, 7, 'Python', True, -8, 45.7)\n"
     ]
    },
    {
     "data": {
      "text/plain": [
       "tuple"
      ]
     },
     "execution_count": 8,
     "metadata": {},
     "output_type": "execute_result"
    }
   ],
   "source": [
    "# Write a python program to remove an item from a tuple.\n",
    "t = (5,4,67,23,12,7,'Python',False,True,-8,45.7)\n",
    "l = list(t)\n",
    "l.remove(False)\n",
    "z = tuple(l)\n",
    "print(z)\n",
    "type(z)"
   ]
  },
  {
   "cell_type": "code",
   "execution_count": 10,
   "id": "5db12969",
   "metadata": {},
   "outputs": [
    {
     "data": {
      "text/plain": [
       "3"
      ]
     },
     "execution_count": 10,
     "metadata": {},
     "output_type": "execute_result"
    }
   ],
   "source": [
    "# Write a python program to find the index of an item of a tuple.\n",
    "t = (54,34,23,61,58,'python','ml',True)\n",
    "t.index(61)"
   ]
  },
  {
   "cell_type": "code",
   "execution_count": 12,
   "id": "6fd602ae",
   "metadata": {},
   "outputs": [
    {
     "ename": "AttributeError",
     "evalue": "'tuple' object has no attribute 'reverse'",
     "output_type": "error",
     "traceback": [
      "\u001b[1;31m---------------------------------------------------------------------------\u001b[0m",
      "\u001b[1;31mAttributeError\u001b[0m                            Traceback (most recent call last)",
      "Cell \u001b[1;32mIn[12], line 3\u001b[0m\n\u001b[0;32m      1\u001b[0m \u001b[38;5;66;03m# Write a Python program to reverse a tuple.\u001b[39;00m\n\u001b[0;32m      2\u001b[0m t \u001b[38;5;241m=\u001b[39m (\u001b[38;5;241m54\u001b[39m,\u001b[38;5;241m34\u001b[39m,\u001b[38;5;241m23\u001b[39m,\u001b[38;5;241m61\u001b[39m,\u001b[38;5;241m58\u001b[39m,\u001b[38;5;124m'\u001b[39m\u001b[38;5;124mpython\u001b[39m\u001b[38;5;124m'\u001b[39m,\u001b[38;5;124m'\u001b[39m\u001b[38;5;124mml\u001b[39m\u001b[38;5;124m'\u001b[39m,\u001b[38;5;28;01mTrue\u001b[39;00m)\n\u001b[1;32m----> 3\u001b[0m \u001b[43mt\u001b[49m\u001b[38;5;241;43m.\u001b[39;49m\u001b[43mreverse\u001b[49m()\n\u001b[0;32m      4\u001b[0m \u001b[38;5;28mprint\u001b[39m(t)\n",
      "\u001b[1;31mAttributeError\u001b[0m: 'tuple' object has no attribute 'reverse'"
     ]
    }
   ],
   "source": [
    "# Write a Python program to reverse a tuple.\n",
    "t = (54,34,23,61,58,'python','ml',True)\n",
    "t.reverse()\n",
    "print(t)"
   ]
  },
  {
   "cell_type": "code",
   "execution_count": 13,
   "id": "842c8fe7",
   "metadata": {},
   "outputs": [
    {
     "name": "stdout",
     "output_type": "stream",
     "text": [
      "(True, 'ml', 'python', 58, 61, 23, 34, 54)\n"
     ]
    },
    {
     "data": {
      "text/plain": [
       "tuple"
      ]
     },
     "execution_count": 13,
     "metadata": {},
     "output_type": "execute_result"
    }
   ],
   "source": [
    "t = (54,34,23,61,58,'python','ml',True)\n",
    "l = list(t)\n",
    "l.reverse()\n",
    "z = tuple(l)\n",
    "print(z)\n",
    "type(z)"
   ]
  },
  {
   "cell_type": "code",
   "execution_count": 15,
   "id": "1963fb9f",
   "metadata": {},
   "outputs": [
    {
     "name": "stdout",
     "output_type": "stream",
     "text": [
      "-3456\n"
     ]
    }
   ],
   "source": [
    "# Write a python program calculate the product,\n",
    "# multiplying all the numbers of a given tuple.\n",
    "# Original Tuple:(4,3,2,2,-1,18)\n",
    "t = (4,3,2,2,-1,18)\n",
    "k = 4\n",
    "for i in t:\n",
    "    k = i*k\n",
    "print(k)"
   ]
  },
  {
   "cell_type": "code",
   "execution_count": 17,
   "id": "4126d0ef",
   "metadata": {},
   "outputs": [
    {
     "name": "stdout",
     "output_type": "stream",
     "text": [
      "[34, 56, 78, 23, 90, 34, 23, 78, 96]\n"
     ]
    }
   ],
   "source": [
    "# Python- Adding Tuple to list and vice-versa.\n",
    "t = (34,56,78,23,90)\n",
    "l = [34,23,78,96]\n",
    "l1 = list(t)\n",
    "l3 = l1+l\n",
    "print(l3)"
   ]
  },
  {
   "cell_type": "code",
   "execution_count": 21,
   "id": "97a8eef9",
   "metadata": {},
   "outputs": [
    {
     "name": "stdout",
     "output_type": "stream",
     "text": [
      "Div\n",
      "Div\n",
      "Div\n",
      "Div\n",
      "Not Div\n"
     ]
    }
   ],
   "source": [
    "# Python program to find tuples which have all elements\n",
    "# devisible by k from a list of tuples.\n",
    "\n",
    "\n",
    "x = [(45,90,75,60,7)]\n",
    "k = 5\n",
    "for i in x:\n",
    "    for j in i:\n",
    "        if j%k == 0:\n",
    "            print(\"Div\")\n",
    "        else:\n",
    "            print(\"Not Div\")"
   ]
  },
  {
   "cell_type": "code",
   "execution_count": 31,
   "id": "f0f75420",
   "metadata": {},
   "outputs": [
    {
     "name": "stdout",
     "output_type": "stream",
     "text": [
      "The original tuple is : (1, 3, 5, 2, 3, 5, 1, 1, 3)\n",
      "The tuple after removing duplicates : (1, 2, 3, 5)\n"
     ]
    }
   ],
   "source": [
    "# Python - Removing duplicates from tuple.\n",
    "t = (1, 3, 5, 2, 3, 5, 1, 1, 3)\n",
    "print(\"The original tuple is : \" + str(t))\n",
    " \n",
    "# Removing duplicates from tuple\n",
    "res = tuple(set(t))\n",
    "print(\"The tuple after removing duplicates : \" + str(res))"
   ]
  },
  {
   "cell_type": "code",
   "execution_count": null,
   "id": "d0567310",
   "metadata": {},
   "outputs": [],
   "source": [
    "t = (5,3,3,2,4,5,6,4,4,3,2)\n"
   ]
  },
  {
   "cell_type": "code",
   "execution_count": 26,
   "id": "9a622461",
   "metadata": {},
   "outputs": [
    {
     "name": "stdout",
     "output_type": "stream",
     "text": [
      "Common Element: 2\n"
     ]
    }
   ],
   "source": [
    "# Find the common element from the list:-\n",
    "# l1 = [1,2,3,4]\n",
    "# l2 = [45,78,2,90]\n",
    "\n",
    "l1 = [1,2,3,4]\n",
    "l2 = [45,78,2,90]\n",
    "for i in l1:\n",
    "    for j in l2:\n",
    "        if i == j:\n",
    "            print(\"Common Element:\",i)\n",
    "#        else:\n",
    "#         print(\"Not Common\")\n"
   ]
  }
 ],
 "metadata": {
  "kernelspec": {
   "display_name": "Python 3 (ipykernel)",
   "language": "python",
   "name": "python3"
  },
  "language_info": {
   "codemirror_mode": {
    "name": "ipython",
    "version": 3
   },
   "file_extension": ".py",
   "mimetype": "text/x-python",
   "name": "python",
   "nbconvert_exporter": "python",
   "pygments_lexer": "ipython3",
   "version": "3.11.1"
  }
 },
 "nbformat": 4,
 "nbformat_minor": 5
}
