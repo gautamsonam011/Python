{
 "cells": [
  {
   "cell_type": "code",
   "execution_count": 1,
   "id": "4b325808",
   "metadata": {},
   "outputs": [
    {
     "name": "stdout",
     "output_type": "stream",
     "text": [
      "Enter a number here:143\n",
      "It is not an armstrong number\n"
     ]
    }
   ],
   "source": [
    "# Write a program to check if the number is armstrong or not.\n",
    "\n",
    "#153 = (1*1*1)+(5*5*5)+(3*3*3)\n",
    "#    = 1+125+27\n",
    "#    = 153\n",
    "# user input = 153\n",
    "# sum = 0\n",
    "# temp = num\n",
    "# digit = temp% 10 = 3\n",
    "# cube = digit ** 3\n",
    "# sum = sum+cube\n",
    "# floatDivision = temp//10\n",
    "\n",
    "num = int(input(\"Enter a number here:\"))\n",
    "\n",
    "sum = 0\n",
    "temp = num\n",
    "\n",
    "while temp > 0:\n",
    "    digit = temp%10\n",
    "    cube = digit**3\n",
    "    sum = sum + cube\n",
    "    temp //=10\n",
    "    \n",
    "    \n",
    "if sum == num:\n",
    "    print(\"It is an armstrong number\")\n",
    "else:\n",
    "    print(\"It is not an armstrong number\")\n",
    "        "
   ]
  },
  {
   "cell_type": "code",
   "execution_count": 2,
   "id": "d51f1234",
   "metadata": {},
   "outputs": [
    {
     "name": "stdout",
     "output_type": "stream",
     "text": [
      "Enter a number here:153\n",
      "It is an armstrong number\n"
     ]
    }
   ],
   "source": [
    "num = int(input(\"Enter a number here:\"))\n",
    "\n",
    "sum = 0\n",
    "temp = num\n",
    "\n",
    "while temp > 0:\n",
    "    digit = temp%10\n",
    "    cube = digit**3\n",
    "    sum = sum + cube\n",
    "    temp //=10\n",
    "    \n",
    "    \n",
    "if sum == num:\n",
    "    print(\"It is an armstrong number\")\n",
    "else:\n",
    "    print(\"It is not an armstrong number\")"
   ]
  },
  {
   "cell_type": "code",
   "execution_count": 7,
   "id": "0bddb4d2",
   "metadata": {},
   "outputs": [
    {
     "name": "stdout",
     "output_type": "stream",
     "text": [
      "Enter a number here:1634\n",
      "It is an armstrong number\n"
     ]
    }
   ],
   "source": [
    "num = int(input(\"Enter a number here:\"))\n",
    "order = len(str(num))\n",
    "sum = 0\n",
    "temp = num\n",
    "\n",
    "while temp > 0:\n",
    "    digit = temp%10\n",
    "    sum+= digit**order\n",
    "    temp //=10\n",
    "    \n",
    "    \n",
    "if sum == num:\n",
    "    print(\"It is an armstrong number\")\n",
    "else:\n",
    "    print(\"It is not an armstrong number\")"
   ]
  },
  {
   "cell_type": "code",
   "execution_count": 8,
   "id": "ed94832a",
   "metadata": {},
   "outputs": [
    {
     "name": "stdout",
     "output_type": "stream",
     "text": [
      "Enter the lower limit:100\n",
      "Enter the upper limit:1000\n",
      "153\n",
      "370\n",
      "371\n",
      "407\n"
     ]
    }
   ],
   "source": [
    "# 19 Write a program to find Armstrong number in an interval.\n",
    "# Armstrong number in an Interval \n",
    "#num = 407, sum = 0\n",
    "# temp = num\n",
    "# digit = temp%10\n",
    "# order = len(str(num)) = 3\n",
    "# sum += digit**order\n",
    "# temp //= 10\n",
    "lower = int(input(\"Enter the lower limit:\"))\n",
    "upper = int(input(\"Enter the upper limit:\"))\n",
    "\n",
    "\n",
    "for num in range(lower, upper+1):\n",
    "    order = len(str(num))\n",
    "    sum = 0\n",
    "    temp = num\n",
    "    while temp > 0:\n",
    "        digit = temp % 10\n",
    "        sum += digit ** order\n",
    "        temp //= 10\n",
    "    if num == sum:\n",
    "        print(num)\n",
    "        \n",
    "    \n"
   ]
  },
  {
   "cell_type": "markdown",
   "id": "292a4e6c",
   "metadata": {},
   "source": [
    "# 20:- Sum of Natural numbers"
   ]
  },
  {
   "cell_type": "code",
   "execution_count": 9,
   "id": "dc192a08",
   "metadata": {},
   "outputs": [
    {
     "name": "stdout",
     "output_type": "stream",
     "text": [
      "Enter a number here:5\n",
      "15\n"
     ]
    }
   ],
   "source": [
    "# write a program to find the sum of natural numbers using the python program.\n",
    "\n",
    "num = int(input(\"Enter a number here:\"))\n",
    "if num < 0:\n",
    "    print(\"please enter positive number\")\n",
    "else:\n",
    "    sum = 0\n",
    "    while num > 0:\n",
    "        sum += num\n",
    "        num -= 1\n",
    "    print(sum)"
   ]
  },
  {
   "cell_type": "markdown",
   "id": "44111996",
   "metadata": {},
   "source": [
    "# 21:- Anonymous Function"
   ]
  },
  {
   "cell_type": "code",
   "execution_count": null,
   "id": "22c86e82",
   "metadata": {},
   "outputs": [],
   "source": [
    "# python program to display powers of 2 using anonymous function.\n",
    "\n",
    "nterms = int(input(\"Enter number of terms here:\"))\n",
    "\n",
    "result = list(map(lambda x : 2**x,range(nterms+1)))\n",
    "print(result)\n",
    "\n",
    "for i in range(nterms+1):\n",
    "    print(\"The value of 2 raised to power\",i,\"is\",result[i])"
   ]
  },
  {
   "cell_type": "markdown",
   "id": "53d5ec5f",
   "metadata": {},
   "source": [
    "# for loop and function"
   ]
  },
  {
   "cell_type": "code",
   "execution_count": null,
   "id": "edeb4977",
   "metadata": {},
   "outputs": [],
   "source": [
    "# Python program to find numbers divisible by another number.\n",
    "\n",
    "# using loop\n",
    "\n",
    "print(\"Ther numbers divisible by 13 are:\")\n",
    "for i in range(1,100):\n",
    "    if i % 13 == 0:\n",
    "        print(i)"
   ]
  },
  {
   "cell_type": "code",
   "execution_count": null,
   "id": "fa8b0884",
   "metadata": {},
   "outputs": [],
   "source": [
    "print(\"~~~~~Mini Calculator~~~~~~\")\n",
    "num1 = float(input(\"Enter the 1th number:\"))\n",
    "num2 = float(input(\"Enter the 2th number:\"))\n",
    "\n",
    "print(\"press 1 for addition \\npress 2 for subtraction \\npress 3 for multiplication \\n press 4 for division\")\n",
    "choice = int(input(\"Enter your choice 1-4:\"))\n",
    "\n",
    "if choice == 1:\n",
    "    sum = num1+num2\n",
    "    print(sum)\n",
    "elif choice == 2:\n",
    "    sub = num1-num2\n",
    "    print(sub)\n",
    "elif choice == 3:\n",
    "    mul = num1*num2\n",
    "    print(mul)\n",
    "elif choice == 4:\n",
    "    div = num1/num2\n",
    "    print(div)\n",
    "else:\n",
    "    print(\"press 1-4 number\")"
   ]
  },
  {
   "cell_type": "code",
   "execution_count": null,
   "id": "cbdef169",
   "metadata": {},
   "outputs": [],
   "source": []
  }
 ],
 "metadata": {
  "kernelspec": {
   "display_name": "Python 3 (ipykernel)",
   "language": "python",
   "name": "python3"
  },
  "language_info": {
   "codemirror_mode": {
    "name": "ipython",
    "version": 3
   },
   "file_extension": ".py",
   "mimetype": "text/x-python",
   "name": "python",
   "nbconvert_exporter": "python",
   "pygments_lexer": "ipython3",
   "version": "3.11.1"
  }
 },
 "nbformat": 4,
 "nbformat_minor": 5
}
