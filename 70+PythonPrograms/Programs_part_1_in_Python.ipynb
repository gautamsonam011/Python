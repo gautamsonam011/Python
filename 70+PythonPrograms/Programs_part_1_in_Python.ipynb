{
 "cells": [
  {
   "cell_type": "code",
   "execution_count": 1,
   "id": "c66942bf",
   "metadata": {},
   "outputs": [
    {
     "name": "stdout",
     "output_type": "stream",
     "text": [
      "The sum of given two number is 72\n"
     ]
    }
   ],
   "source": [
    "# wap to add two numbers.\n",
    "\n",
    "num1 = 38\n",
    "num2 = 34\n",
    "print(\"The sum of given two number is\",num1+num2)\n"
   ]
  },
  {
   "cell_type": "code",
   "execution_count": 2,
   "id": "7c9ef7c2",
   "metadata": {},
   "outputs": [
    {
     "name": "stdout",
     "output_type": "stream",
     "text": [
      "The sum of given two number is 102\n"
     ]
    }
   ],
   "source": [
    "num1 = 35\n",
    "num2 = 67\n",
    "sum = num1+num2\n",
    "print(\"The sum of given two number is\",sum)"
   ]
  },
  {
   "cell_type": "code",
   "execution_count": 3,
   "id": "d75b46e0",
   "metadata": {},
   "outputs": [
    {
     "name": "stdout",
     "output_type": "stream",
     "text": [
      "Enter the number1:4\n",
      "Enter the number2:6\n",
      "The sum of two numbers: 10.0\n"
     ]
    }
   ],
   "source": [
    "num1 = float(input(\"Enter the number1:\"))\n",
    "num2 = float(input(\"Enter the number2:\"))\n",
    "sum = num1+num2\n",
    "print(\"The sum of two numbers:\",sum)"
   ]
  },
  {
   "cell_type": "code",
   "execution_count": 4,
   "id": "151b6791",
   "metadata": {},
   "outputs": [
    {
     "name": "stdout",
     "output_type": "stream",
     "text": [
      "Enter the number1:6\n",
      "Enter the number2:8\n",
      "The sum of two numbers: 14\n"
     ]
    }
   ],
   "source": [
    "num1 = int(input(\"Enter the number1:\"))\n",
    "num2 = int(input(\"Enter the number2:\"))\n",
    "sum = num1+num2\n",
    "print(\"The sum of two numbers:\",sum)"
   ]
  },
  {
   "cell_type": "code",
   "execution_count": 5,
   "id": "8d7943ab",
   "metadata": {},
   "outputs": [
    {
     "name": "stdout",
     "output_type": "stream",
     "text": [
      "Enter the number1:7\n",
      "Enter the number2:5\n",
      "The sum of two numbers: 12.0\n"
     ]
    }
   ],
   "source": [
    "num1 = int(input(\"Enter the number1:\"))\n",
    "num2 = float(input(\"Enter the number2:\"))\n",
    "sum = num1+num2\n",
    "print(\"The sum of two numbers:\",sum)"
   ]
  },
  {
   "cell_type": "code",
   "execution_count": 6,
   "id": "2c3bc36a",
   "metadata": {},
   "outputs": [
    {
     "name": "stdout",
     "output_type": "stream",
     "text": [
      "Enter the number1:fg\n",
      "Enter the number2:6\n"
     ]
    },
    {
     "ename": "TypeError",
     "evalue": "can only concatenate str (not \"float\") to str",
     "output_type": "error",
     "traceback": [
      "\u001b[1;31m---------------------------------------------------------------------------\u001b[0m",
      "\u001b[1;31mTypeError\u001b[0m                                 Traceback (most recent call last)",
      "Cell \u001b[1;32mIn[6], line 3\u001b[0m\n\u001b[0;32m      1\u001b[0m num1 \u001b[38;5;241m=\u001b[39m \u001b[38;5;28mstr\u001b[39m(\u001b[38;5;28minput\u001b[39m(\u001b[38;5;124m\"\u001b[39m\u001b[38;5;124mEnter the number1:\u001b[39m\u001b[38;5;124m\"\u001b[39m))\n\u001b[0;32m      2\u001b[0m num2 \u001b[38;5;241m=\u001b[39m \u001b[38;5;28mfloat\u001b[39m(\u001b[38;5;28minput\u001b[39m(\u001b[38;5;124m\"\u001b[39m\u001b[38;5;124mEnter the number2:\u001b[39m\u001b[38;5;124m\"\u001b[39m))\n\u001b[1;32m----> 3\u001b[0m \u001b[38;5;28msum\u001b[39m \u001b[38;5;241m=\u001b[39m \u001b[43mnum1\u001b[49m\u001b[38;5;241;43m+\u001b[39;49m\u001b[43mnum2\u001b[49m\n\u001b[0;32m      4\u001b[0m \u001b[38;5;28mprint\u001b[39m(\u001b[38;5;124m\"\u001b[39m\u001b[38;5;124mThe sum of two numbers:\u001b[39m\u001b[38;5;124m\"\u001b[39m,\u001b[38;5;28msum\u001b[39m)\n",
      "\u001b[1;31mTypeError\u001b[0m: can only concatenate str (not \"float\") to str"
     ]
    }
   ],
   "source": [
    "num1 = str(input(\"Enter the number1:\"))\n",
    "num2 = float(input(\"Enter the number2:\"))\n",
    "sum = num1+num2\n",
    "print(\"The sum of two numbers:\",sum)"
   ]
  },
  {
   "cell_type": "code",
   "execution_count": 7,
   "id": "5ee717a5",
   "metadata": {},
   "outputs": [
    {
     "name": "stdout",
     "output_type": "stream",
     "text": [
      "Enter the number1:4r\n",
      "Enter the number2:g\n",
      "The sum of two numbers: 4rg\n"
     ]
    }
   ],
   "source": [
    "num1 = str(input(\"Enter the number1:\"))\n",
    "num2 = str(input(\"Enter the number2:\"))\n",
    "sum = num1+num2\n",
    "print(\"The sum of two numbers:\",sum)"
   ]
  },
  {
   "cell_type": "code",
   "execution_count": 8,
   "id": "8dd26f8b",
   "metadata": {},
   "outputs": [
    {
     "name": "stdout",
     "output_type": "stream",
     "text": [
      "Hello World\n"
     ]
    }
   ],
   "source": [
    "# wap to print Hello World.\n",
    "\n",
    "print(\"Hello World\")"
   ]
  },
  {
   "cell_type": "code",
   "execution_count": 9,
   "id": "6a410058",
   "metadata": {},
   "outputs": [
    {
     "name": "stdout",
     "output_type": "stream",
     "text": [
      "Hello World\n"
     ]
    }
   ],
   "source": [
    "x = \"Hello World\"\n",
    "print(x)"
   ]
  },
  {
   "cell_type": "code",
   "execution_count": 10,
   "id": "79f4eb8e",
   "metadata": {},
   "outputs": [
    {
     "data": {
      "text/plain": [
       "str"
      ]
     },
     "execution_count": 10,
     "metadata": {},
     "output_type": "execute_result"
    }
   ],
   "source": [
    "type(x)"
   ]
  },
  {
   "cell_type": "markdown",
   "id": "6ae46705",
   "metadata": {},
   "source": [
    "# Find and Calculate Square Root Program"
   ]
  },
  {
   "cell_type": "code",
   "execution_count": 11,
   "id": "fdfe9e36",
   "metadata": {},
   "outputs": [
    {
     "name": "stdout",
     "output_type": "stream",
     "text": [
      "Enter a number here:4\n",
      "The square root of the given number is: 7.937253933193772\n"
     ]
    }
   ],
   "source": [
    "# Using Exponentialtion--------->\n",
    "#1. Method:-\n",
    "\n",
    "num = 63\n",
    "num1 = int(input(\"Enter a number here:\"))\n",
    "sr = num**(1/2)\n",
    "print(\"The square root of the given number is:\",sr)"
   ]
  },
  {
   "cell_type": "code",
   "execution_count": 12,
   "id": "69b95696",
   "metadata": {},
   "outputs": [
    {
     "name": "stdout",
     "output_type": "stream",
     "text": [
      "Enter a number here:56\n",
      "The squre root of the given number is 7.483314773547883\n"
     ]
    }
   ],
   "source": [
    "# 2. method:-\n",
    "\n",
    "# Using Math Module---------->\n",
    "\n",
    "import math\n",
    "num = int(input(\"Enter a number here:\"))\n",
    "sr = math.sqrt(num)\n",
    "print(\"The squre root of the given number is\", sr)"
   ]
  },
  {
   "cell_type": "markdown",
   "id": "9dca9873",
   "metadata": {},
   "source": [
    "# How to Calculate Area of Triangle"
   ]
  },
  {
   "cell_type": "code",
   "execution_count": 14,
   "id": "c4ba703e",
   "metadata": {},
   "outputs": [
    {
     "name": "stdout",
     "output_type": "stream",
     "text": [
      "Enter the hieght of the triangle:4\n",
      "Enter the base of the triangle:4\n",
      "The area of triangle is 8.0\n"
     ]
    }
   ],
   "source": [
    "height = float(input(\"Enter the hieght of the triangle:\"))\n",
    "base = float(input(\"Enter the base of the triangle:\"))\n",
    "\n",
    "area = (0.5)*base*height\n",
    "print(\"The area of triangle is\",area)"
   ]
  },
  {
   "cell_type": "markdown",
   "id": "ec8c992b",
   "metadata": {},
   "source": [
    "# Swap Two Variable"
   ]
  },
  {
   "cell_type": "code",
   "execution_count": 15,
   "id": "f146f392",
   "metadata": {},
   "outputs": [
    {
     "name": "stdout",
     "output_type": "stream",
     "text": [
      "Before swapping 12 56\n",
      "After swapping 56 12\n"
     ]
    }
   ],
   "source": [
    "x = 12\n",
    "y = 56\n",
    "print(\"Before swapping\",x,y)\n",
    "temp = x\n",
    "x = y\n",
    "y = temp\n",
    "print(\"After swapping\",x,y)\n"
   ]
  },
  {
   "cell_type": "code",
   "execution_count": 16,
   "id": "f385d73b",
   "metadata": {},
   "outputs": [
    {
     "name": "stdout",
     "output_type": "stream",
     "text": [
      "The value of temp variable is 2\n",
      "The value of x is  4\n",
      "The value of y is 2\n"
     ]
    }
   ],
   "source": [
    "x = 2\n",
    "y = 4\n",
    "temp = x\n",
    "print(\"The value of temp variable is\", temp)\n",
    "\n",
    "x = y\n",
    "print(\"The value of x is \", x)\n",
    "\n",
    "y = temp\n",
    "print(\"The value of y is\", y)"
   ]
  },
  {
   "cell_type": "code",
   "execution_count": 17,
   "id": "aa66683c",
   "metadata": {},
   "outputs": [
    {
     "name": "stdout",
     "output_type": "stream",
     "text": [
      "Before swapping 5 7\n",
      "After swapping 7 5\n"
     ]
    }
   ],
   "source": [
    "x = 5\n",
    "y = 7\n",
    "print(\"Before swapping\",x,y)\n",
    "x,y = y,x\n",
    "print(\"After swapping\",x,y)"
   ]
  },
  {
   "cell_type": "markdown",
   "id": "a243f27b",
   "metadata": {},
   "source": [
    "# Convert Kilometers to Miles"
   ]
  },
  {
   "cell_type": "code",
   "execution_count": 18,
   "id": "c629cdff",
   "metadata": {},
   "outputs": [
    {
     "name": "stdout",
     "output_type": "stream",
     "text": [
      "Enter your value in kms:5\n",
      "5.0 km in miles will be  3.106855 Miles\n"
     ]
    }
   ],
   "source": [
    "km = float(input(\"Enter your value in kms:\"))\n",
    "miles = (0.621371)*km\n",
    "print(km,\"km in miles will be \", miles,\"Miles\")"
   ]
  },
  {
   "cell_type": "code",
   "execution_count": 19,
   "id": "5bafdd76",
   "metadata": {},
   "outputs": [
    {
     "name": "stdout",
     "output_type": "stream",
     "text": [
      "Enter your value in kms:45\n",
      "45 km in miles will be  27.961695 Miles\n"
     ]
    }
   ],
   "source": [
    "km = int(input(\"Enter your value in kms:\"))\n",
    "miles = (0.621371)*km\n",
    "print(km,\"km in miles will be \", miles,\"Miles\")"
   ]
  },
  {
   "cell_type": "markdown",
   "id": "bbf8ab8b",
   "metadata": {},
   "source": [
    "# Number Positive, Negative Or Zero"
   ]
  },
  {
   "cell_type": "code",
   "execution_count": 20,
   "id": "3eb1bb2d",
   "metadata": {},
   "outputs": [
    {
     "name": "stdout",
     "output_type": "stream",
     "text": [
      "This is a positive number 8\n"
     ]
    }
   ],
   "source": [
    "# write a python prgram to check if a number is positive , negative or 0.\n",
    "\n",
    "num = 8\n",
    "if num>0:\n",
    "    print(\"This is a positive number\",num)\n",
    "elif num<0:\n",
    "    print(\"This is a negative number\",num)\n",
    "else:\n",
    "    print(\"This is a zero\")"
   ]
  },
  {
   "cell_type": "code",
   "execution_count": 21,
   "id": "596627c0",
   "metadata": {},
   "outputs": [
    {
     "name": "stdout",
     "output_type": "stream",
     "text": [
      "This is a negative number -8\n"
     ]
    }
   ],
   "source": [
    "num = -8\n",
    "if num>0:\n",
    "    print(\"This is a positive number\",num)\n",
    "elif num<0:\n",
    "    print(\"This is a negative number\",num)\n",
    "else:\n",
    "    print(\"This is a zero\")"
   ]
  },
  {
   "cell_type": "code",
   "execution_count": 22,
   "id": "1b16fd35",
   "metadata": {},
   "outputs": [
    {
     "name": "stdout",
     "output_type": "stream",
     "text": [
      "This is a zero\n"
     ]
    }
   ],
   "source": [
    "num = 0\n",
    "if num>0:\n",
    "    print(\"This is a positive number\",num)\n",
    "elif num<0:\n",
    "    print(\"This is a negative number\",num)\n",
    "else:\n",
    "    print(\"This is a zero\")"
   ]
  },
  {
   "cell_type": "markdown",
   "id": "ed8bb333",
   "metadata": {},
   "source": [
    "# Number Odd or Even"
   ]
  },
  {
   "cell_type": "code",
   "execution_count": 24,
   "id": "4a7403ca",
   "metadata": {},
   "outputs": [
    {
     "name": "stdout",
     "output_type": "stream",
     "text": [
      "Enter the the number7\n",
      "This is a odd number 7\n"
     ]
    }
   ],
   "source": [
    "# wap to print odd number or even number.\n",
    "\n",
    "num = int(input(\"Enter the the number\"))\n",
    "if num%2==0:\n",
    "    print(\"This is a even number\",num)\n",
    "else:\n",
    "    print(\"This is a odd number\",num)"
   ]
  },
  {
   "cell_type": "markdown",
   "id": "9d556590",
   "metadata": {},
   "source": [
    "# Check Leap Year"
   ]
  },
  {
   "cell_type": "code",
   "execution_count": 27,
   "id": "17f2123a",
   "metadata": {},
   "outputs": [
    {
     "name": "stdout",
     "output_type": "stream",
     "text": [
      "Enter a year:1996\n",
      "1996 is a leap year\n"
     ]
    }
   ],
   "source": [
    "# wap to check leap year.\n",
    "# year = 365 days\n",
    "# leap year = 366 days  once in 4 year\n",
    "\n",
    "# 1st conditions\n",
    "\n",
    "# 1996 % 400 == 0\n",
    "# 1996 % 100 == 0\n",
    "\n",
    "# 2nd condition\n",
    "\n",
    "# 1996 % 4 == 0\n",
    "# 1996 % 100 != 0\n",
    "\n",
    "year = int(input(\"Enter a year:\"))\n",
    "\n",
    "if (year % 4 == 0) and (year % 100 == 0):\n",
    "    print(year,\"is a leap year\")\n",
    "elif (year % 4 == 0) and (year % 100 != 0):\n",
    "    print(year, \"is a leap year\")\n",
    "else:\n",
    "    print(\"It is not a leap year\")"
   ]
  },
  {
   "cell_type": "markdown",
   "id": "33c4ee2f",
   "metadata": {},
   "source": [
    "# Find the Largest among three numbers"
   ]
  },
  {
   "cell_type": "code",
   "execution_count": 28,
   "id": "5843477a",
   "metadata": {},
   "outputs": [
    {
     "name": "stdout",
     "output_type": "stream",
     "text": [
      "45 Z is grater than X and Y\n"
     ]
    }
   ],
   "source": [
    "x = 21\n",
    "y = 2\n",
    "z = 45\n",
    "\n",
    "if (x>y) and (x>z):\n",
    "    print(x,\"X is grater than Y and Z \")\n",
    "elif (y>x) and (y>z):\n",
    "    print(y,\"Y is grater than x and Z \")\n",
    "else:\n",
    "    print(z,\"Z is grater than X and Y\")"
   ]
  },
  {
   "cell_type": "markdown",
   "id": "f31222c7",
   "metadata": {},
   "source": [
    "# 11:- Prime Number"
   ]
  },
  {
   "cell_type": "code",
   "execution_count": 4,
   "id": "93a8b010",
   "metadata": {},
   "outputs": [
    {
     "name": "stdout",
     "output_type": "stream",
     "text": [
      "Enter the number:10\n",
      "This is not prime number\n"
     ]
    }
   ],
   "source": [
    "# wap to check prime number or not.\n",
    "\n",
    "num = int(input(\"Enter the number:\"))\n",
    "if num == 1:\n",
    "    print(\"It is not a prime number\")\n",
    "if num>1:\n",
    "    \n",
    "    for i in range(2,num):\n",
    "        if num%i == 0:\n",
    "            print(\"This is not prime number\")\n",
    "            break\n",
    "    else:\n",
    "        print(\"It is a prime number\",num)\n",
    "        "
   ]
  },
  {
   "cell_type": "markdown",
   "id": "be59e404",
   "metadata": {},
   "source": [
    "# 12:-Generate a Random Number"
   ]
  },
  {
   "cell_type": "code",
   "execution_count": 17,
   "id": "c2d43a7a",
   "metadata": {},
   "outputs": [
    {
     "name": "stdout",
     "output_type": "stream",
     "text": [
      "6\n"
     ]
    }
   ],
   "source": [
    "# wap to generate a random number in python.\n",
    "\n",
    "import random\n",
    "num = random.randint(0,10)\n",
    "print(num)\n"
   ]
  },
  {
   "cell_type": "code",
   "execution_count": 19,
   "id": "f667239a",
   "metadata": {},
   "outputs": [
    {
     "name": "stdout",
     "output_type": "stream",
     "text": [
      "Entr lower limit here:2\n",
      "Enter upper limit here:20\n",
      "2\n",
      "3\n",
      "5\n",
      "7\n",
      "11\n",
      "13\n",
      "17\n",
      "19\n"
     ]
    }
   ],
   "source": [
    "# 13:- write a program to print all prime numbers in an Interval in python.\n",
    "\n",
    "lower = int(input(\"Entr lower limit here:\"))\n",
    "upper = int(input(\"Enter upper limit here:\"))\n",
    "\n",
    "for num in range(lower, upper+1):\n",
    "    if num > 1:\n",
    "        for i in range(2, num):\n",
    "            if num%i == 0:\n",
    "                break\n",
    "        else:\n",
    "            print(num)"
   ]
  },
  {
   "cell_type": "markdown",
   "id": "14a3c06f",
   "metadata": {},
   "source": [
    "# 14:- Convert Celsius to Fahrenheit"
   ]
  },
  {
   "cell_type": "code",
   "execution_count": 21,
   "id": "a3588720",
   "metadata": {},
   "outputs": [
    {
     "name": "stdout",
     "output_type": "stream",
     "text": [
      "Enter temperature in celsius:20\n",
      "The converted value is 68.0 Fahrenheit\n"
     ]
    }
   ],
   "source": [
    "# wap to convert celsius to fahrenheit in python.\n",
    "\n",
    "# 0' celsius = 32 Fahrenheit\n",
    "# 40'C (c*9/5)+32 = F\n",
    "# 1.8\n",
    "celsius = int(input(\"Enter temperature in celsius:\"))\n",
    "fahrenheit = (celsius*(9/5))+32\n",
    "print(\"The converted value is\", fahrenheit,\"Fahrenheit\")\n"
   ]
  },
  {
   "cell_type": "markdown",
   "id": "5b2c5b47",
   "metadata": {},
   "source": [
    "# 15:- Factorial Of a Number"
   ]
  },
  {
   "cell_type": "code",
   "execution_count": 23,
   "id": "eeffe4e0",
   "metadata": {},
   "outputs": [
    {
     "name": "stdout",
     "output_type": "stream",
     "text": [
      "Enter the number:5\n",
      "The factorial of num 120\n"
     ]
    }
   ],
   "source": [
    "# Write a program to find the factorial of a number in python.\n",
    "\n",
    "# 5! = 5*4*3*2*1 = 120\n",
    "# 4! = 4*3*2*1   = 24\n",
    "\n",
    "# Conditions \n",
    "# 1. num < 0  not fact\n",
    "# 2. num == 1  one fact\n",
    "\n",
    "# using for loop\n",
    "\n",
    "num = int(input(\"Enter the number:\"))\n",
    "\n",
    "fact = 1\n",
    "if num < 0:\n",
    "    print(\"Factorial of 0 does not exist\")\n",
    "if num == 0:\n",
    "    print(\"Factorial of 0 is\",1)\n",
    "if num > 0:\n",
    "    for i in range(1,num+1):\n",
    "        fact = fact*i\n",
    "    print(\"The factorial of num\",fact)\n",
    "        \n"
   ]
  },
  {
   "cell_type": "code",
   "execution_count": 26,
   "id": "aeb76cd3",
   "metadata": {},
   "outputs": [
    {
     "name": "stdout",
     "output_type": "stream",
     "text": [
      "Enter the number here:10\n",
      "The factorial of the given number 3628800\n"
     ]
    }
   ],
   "source": [
    "# Using Recursion :- \n",
    "# 5! = 5*4*3*2*1\n",
    "# 5! = 5*4!\n",
    "# 4! = 4*3!\n",
    "\n",
    "def fact(a):\n",
    "    if a == 0:\n",
    "        return 1\n",
    "    else:\n",
    "        return ((a)*fact(a-1))\n",
    "num = int(input(\"Enter the number here:\"))\n",
    "result = fact(num)\n",
    "print(\"The factorial of the given number\", result)"
   ]
  },
  {
   "cell_type": "markdown",
   "id": "b4e6f8f3",
   "metadata": {},
   "source": [
    "# 16:- To display the multiplication table"
   ]
  },
  {
   "cell_type": "code",
   "execution_count": 28,
   "id": "26e500be",
   "metadata": {},
   "outputs": [
    {
     "name": "stdout",
     "output_type": "stream",
     "text": [
      "Enter the number:5\n",
      "5 X 1 = 5\n",
      "5 X 2 = 10\n",
      "5 X 3 = 15\n",
      "5 X 4 = 20\n",
      "5 X 5 = 25\n",
      "5 X 6 = 30\n",
      "5 X 7 = 35\n",
      "5 X 8 = 40\n",
      "5 X 9 = 45\n",
      "5 X 10 = 50\n"
     ]
    }
   ],
   "source": [
    "# Write a program to display the multiplication table in python.\n",
    "\n",
    "# with for loop:-\n",
    "\n",
    "n = int(input(\"Enter the number:\"))\n",
    "\n",
    "for i in range(1,11):\n",
    "    print(n,\"X\",i, \"=\", n*i)"
   ]
  },
  {
   "cell_type": "code",
   "execution_count": null,
   "id": "c868b6f2",
   "metadata": {},
   "outputs": [],
   "source": [
    "# with while loop:--\n",
    "# you can itrate the loop untill given condition true\n",
    "\n",
    "n = 7\n",
    "\n",
    "while i <10:\n",
    "    print(n,\"X\",i,\"=\",n*i)"
   ]
  },
  {
   "cell_type": "code",
   "execution_count": null,
   "id": "f022d036",
   "metadata": {},
   "outputs": [],
   "source": []
  }
 ],
 "metadata": {
  "kernelspec": {
   "display_name": "Python 3 (ipykernel)",
   "language": "python",
   "name": "python3"
  },
  "language_info": {
   "codemirror_mode": {
    "name": "ipython",
    "version": 3
   },
   "file_extension": ".py",
   "mimetype": "text/x-python",
   "name": "python",
   "nbconvert_exporter": "python",
   "pygments_lexer": "ipython3",
   "version": "3.11.1"
  }
 },
 "nbformat": 4,
 "nbformat_minor": 5
}
