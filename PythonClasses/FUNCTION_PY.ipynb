{
 "cells": [
  {
   "cell_type": "code",
   "execution_count": 1,
   "id": "370c3937",
   "metadata": {},
   "outputs": [
    {
     "name": "stdout",
     "output_type": "stream",
     "text": [
      "Hello! Welcome to you\n"
     ]
    }
   ],
   "source": [
    "def hello():\n",
    "    print(\"Hello! Welcome to you\")\n",
    "hello()"
   ]
  },
  {
   "cell_type": "markdown",
   "id": "b7c63853",
   "metadata": {},
   "source": [
    "# Return Statement"
   ]
  },
  {
   "cell_type": "code",
   "execution_count": 4,
   "id": "30238810",
   "metadata": {},
   "outputs": [
    {
     "name": "stdout",
     "output_type": "stream",
     "text": [
      "HelloSnmGWelcome\n"
     ]
    }
   ],
   "source": [
    "# How to call a function:------>\n",
    "\n",
    "def hey(name):\n",
    "    print(\"Hello\" + name + \"Welcome\")\n",
    "    \n",
    "hey(\"SnmG\")"
   ]
  },
  {
   "cell_type": "code",
   "execution_count": 7,
   "id": "fb31aa82",
   "metadata": {},
   "outputs": [
    {
     "data": {
      "text/plain": [
       "'Hello Fredy come Here'"
      ]
     },
     "execution_count": 7,
     "metadata": {},
     "output_type": "execute_result"
    }
   ],
   "source": [
    "# Return Statement----> The return statement is used to exit a function and go back to the place from where it was called.\n",
    "\n",
    "def func(name):\n",
    "    return \"Hello \" + name + \" come Here\"\n",
    "func(\"Fredy\")"
   ]
  },
  {
   "cell_type": "code",
   "execution_count": 8,
   "id": "54b621c8",
   "metadata": {},
   "outputs": [
    {
     "name": "stdout",
     "output_type": "stream",
     "text": [
      "Hello Sona come Here\n"
     ]
    }
   ],
   "source": [
    "print(func(\"Sona\"))"
   ]
  },
  {
   "cell_type": "code",
   "execution_count": 9,
   "id": "e41116f4",
   "metadata": {},
   "outputs": [
    {
     "name": "stdout",
     "output_type": "stream",
     "text": [
      "Hello Joe come Here\n"
     ]
    }
   ],
   "source": [
    "a = func(\"Joe\")\n",
    "print(a)"
   ]
  },
  {
   "cell_type": "markdown",
   "id": "acce3752",
   "metadata": {},
   "source": [
    "# Global Variable"
   ]
  },
  {
   "cell_type": "code",
   "execution_count": 10,
   "id": "346acf8b",
   "metadata": {},
   "outputs": [
    {
     "name": "stdout",
     "output_type": "stream",
     "text": [
      "X in side function global\n",
      "X is outside function global\n"
     ]
    }
   ],
   "source": [
    "x = \"global\"\n",
    "def hi():\n",
    "    print(\"X in side function\",x)\n",
    "hi()\n",
    "print(\"X is outside function\",x)"
   ]
  },
  {
   "cell_type": "markdown",
   "id": "277d6ee5",
   "metadata": {},
   "source": [
    "# Local Variable"
   ]
  },
  {
   "cell_type": "code",
   "execution_count": 12,
   "id": "93211fdb",
   "metadata": {},
   "outputs": [
    {
     "name": "stdout",
     "output_type": "stream",
     "text": [
      "local\n",
      "\n"
     ]
    },
    {
     "ename": "NameError",
     "evalue": "name 'y' is not defined",
     "output_type": "error",
     "traceback": [
      "\u001b[1;31m---------------------------------------------------------------------------\u001b[0m",
      "\u001b[1;31mNameError\u001b[0m                                 Traceback (most recent call last)",
      "Cell \u001b[1;32mIn[12], line 6\u001b[0m\n\u001b[0;32m      4\u001b[0m hi()\n\u001b[0;32m      5\u001b[0m \u001b[38;5;28mprint\u001b[39m()\n\u001b[1;32m----> 6\u001b[0m \u001b[38;5;28mprint\u001b[39m(\u001b[43my\u001b[49m)\n",
      "\u001b[1;31mNameError\u001b[0m: name 'y' is not defined"
     ]
    }
   ],
   "source": [
    "def hi():\n",
    "    y = \"local\"\n",
    "    print(y)\n",
    "hi()\n",
    "print()\n",
    "print(y)"
   ]
  },
  {
   "cell_type": "code",
   "execution_count": 13,
   "id": "46f908f8",
   "metadata": {},
   "outputs": [
    {
     "name": "stdout",
     "output_type": "stream",
     "text": [
      "local x: 10\n",
      "global x: 5\n"
     ]
    }
   ],
   "source": [
    "# Global variable and Local variable with same name:-->\n",
    "\n",
    "x = 5\n",
    "def same():\n",
    "    x = 10\n",
    "    print(\"local x:\",x)\n",
    "same()\n",
    "print(\"global x:\",x)"
   ]
  },
  {
   "cell_type": "code",
   "execution_count": 14,
   "id": "a05d5366",
   "metadata": {},
   "outputs": [
    {
     "name": "stdout",
     "output_type": "stream",
     "text": [
      "This is a Global Variable\n",
      "local y: 10\n",
      "global y: 50\n",
      "This is a Global Variable\n"
     ]
    }
   ],
   "source": [
    "y = 50\n",
    "def same():\n",
    "    y = 10\n",
    "    global a\n",
    "    a = \"This is a Global Variable\"\n",
    "    print(a)\n",
    "    print(\"local y:\",y)\n",
    "same()\n",
    "print(\"global y:\",y)\n",
    "print(a)"
   ]
  },
  {
   "cell_type": "code",
   "execution_count": 16,
   "id": "ac8373ca",
   "metadata": {},
   "outputs": [
    {
     "ename": "ModuleNotFoundError",
     "evalue": "No module named 'addition'",
     "output_type": "error",
     "traceback": [
      "\u001b[1;31m---------------------------------------------------------------------------\u001b[0m",
      "\u001b[1;31mModuleNotFoundError\u001b[0m                       Traceback (most recent call last)",
      "Cell \u001b[1;32mIn[16], line 1\u001b[0m\n\u001b[1;32m----> 1\u001b[0m \u001b[38;5;28;01mimport\u001b[39;00m \u001b[38;5;21;01maddition\u001b[39;00m\n\u001b[0;32m      3\u001b[0m addition\u001b[38;5;241m.\u001b[39madd(\u001b[38;5;241m12\u001b[39m,\u001b[38;5;241m23\u001b[39m)\n",
      "\u001b[1;31mModuleNotFoundError\u001b[0m: No module named 'addition'"
     ]
    }
   ],
   "source": [
    "import addition\n",
    "\n",
    "addition.add(12,23)\n"
   ]
  },
  {
   "cell_type": "code",
   "execution_count": 17,
   "id": "ae463d96",
   "metadata": {},
   "outputs": [
    {
     "ename": "ModuleNotFoundError",
     "evalue": "No module named 'addition'",
     "output_type": "error",
     "traceback": [
      "\u001b[1;31m---------------------------------------------------------------------------\u001b[0m",
      "\u001b[1;31mModuleNotFoundError\u001b[0m                       Traceback (most recent call last)",
      "Cell \u001b[1;32mIn[17], line 3\u001b[0m\n\u001b[0;32m      1\u001b[0m \u001b[38;5;66;03m# Naming Module\u001b[39;00m\n\u001b[1;32m----> 3\u001b[0m \u001b[38;5;28;01mimport\u001b[39;00m \u001b[38;5;21;01maddition\u001b[39;00m \u001b[38;5;28;01mas\u001b[39;00m \u001b[38;5;21;01mnum\u001b[39;00m\n\u001b[0;32m      5\u001b[0m num\u001b[38;5;241m.\u001b[39madd(\u001b[38;5;241m34\u001b[39m,\u001b[38;5;241m78\u001b[39m)\n",
      "\u001b[1;31mModuleNotFoundError\u001b[0m: No module named 'addition'"
     ]
    }
   ],
   "source": [
    "# Naming Module\n",
    "\n",
    "import addition as num\n",
    "\n",
    "num.add(34,78)"
   ]
  },
  {
   "cell_type": "code",
   "execution_count": null,
   "id": "a97c3e66",
   "metadata": {},
   "outputs": [],
   "source": [
    "import math\n",
    "\n",
    "x = dir(math)\n",
    "print(x)"
   ]
  },
  {
   "cell_type": "code",
   "execution_count": null,
   "id": "0d84a9d6",
   "metadata": {},
   "outputs": [],
   "source": []
  }
 ],
 "metadata": {
  "kernelspec": {
   "display_name": "Python 3 (ipykernel)",
   "language": "python",
   "name": "python3"
  },
  "language_info": {
   "codemirror_mode": {
    "name": "ipython",
    "version": 3
   },
   "file_extension": ".py",
   "mimetype": "text/x-python",
   "name": "python",
   "nbconvert_exporter": "python",
   "pygments_lexer": "ipython3",
   "version": "3.11.1"
  }
 },
 "nbformat": 4,
 "nbformat_minor": 5
}
