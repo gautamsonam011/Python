{
 "cells": [
  {
   "cell_type": "markdown",
   "id": "386b0e23",
   "metadata": {},
   "source": [
    "# OOPS:-(Object Oriented Programming Structure)"
   ]
  },
  {
   "cell_type": "code",
   "execution_count": null,
   "id": "dbb8594d",
   "metadata": {},
   "outputs": [],
   "source": [
    "# Object Oriented Programming Structure:----------->\n",
    "# Why OOPS?\n",
    "# importance ?\n",
    "# advantage?\n",
    "\n",
    "# 1:- class\n",
    "# 2:- Object\n",
    "# 3:- Inheritance:-\n",
    "            # 1:- Single Inheritance\n",
    "            # 2:- Multiple Inheritance\n",
    "            # 3:- Multilevel Inheritance\n",
    "            # 4:- Hierarchical Inheritance\n",
    "# 4:- Encapsulation\n",
    "# 5:- Polymorphism\n",
    "# 6:- Abstraction"
   ]
  },
  {
   "cell_type": "code",
   "execution_count": 1,
   "id": "903f01f3",
   "metadata": {},
   "outputs": [
    {
     "name": "stdout",
     "output_type": "stream",
     "text": [
      "10\n"
     ]
    }
   ],
   "source": [
    "#Class-------------------> with class keyword\n",
    "class student: # class\n",
    "    a = 10\n",
    "    print(a)"
   ]
  },
  {
   "cell_type": "code",
   "execution_count": 2,
   "id": "54a13a28",
   "metadata": {},
   "outputs": [
    {
     "data": {
      "text/plain": [
       "<__main__.student at 0x1ea0bb28090>"
      ]
     },
     "execution_count": 2,
     "metadata": {},
     "output_type": "execute_result"
    }
   ],
   "source": [
    "# Object --------------------->\n",
    "class student:\n",
    "    a = 10\n",
    "student()"
   ]
  },
  {
   "cell_type": "code",
   "execution_count": 3,
   "id": "7226f9e2",
   "metadata": {},
   "outputs": [
    {
     "data": {
      "text/plain": [
       "10"
      ]
     },
     "execution_count": 3,
     "metadata": {},
     "output_type": "execute_result"
    }
   ],
   "source": [
    "class student:\n",
    "    a = 10\n",
    "s = student() # object\n",
    "s.a           # call object"
   ]
  },
  {
   "cell_type": "code",
   "execution_count": 4,
   "id": "38ce5b22",
   "metadata": {},
   "outputs": [
    {
     "data": {
      "text/plain": [
       "10"
      ]
     },
     "execution_count": 4,
     "metadata": {},
     "output_type": "execute_result"
    }
   ],
   "source": [
    "student().a"
   ]
  },
  {
   "cell_type": "code",
   "execution_count": 5,
   "id": "6bf60a73",
   "metadata": {},
   "outputs": [],
   "source": [
    "class a:\n",
    "    def fun():\n",
    "        print(\"Hello World\")\n",
    "x = a()"
   ]
  },
  {
   "cell_type": "code",
   "execution_count": 6,
   "id": "b93efd86",
   "metadata": {},
   "outputs": [
    {
     "data": {
      "text/plain": [
       "<bound method a.fun of <__main__.a object at 0x000001EA0A5D8310>>"
      ]
     },
     "execution_count": 6,
     "metadata": {},
     "output_type": "execute_result"
    }
   ],
   "source": [
    "x.fun"
   ]
  },
  {
   "cell_type": "code",
   "execution_count": 7,
   "id": "94216d0b",
   "metadata": {},
   "outputs": [
    {
     "ename": "TypeError",
     "evalue": "a.fun() takes 0 positional arguments but 1 was given",
     "output_type": "error",
     "traceback": [
      "\u001b[1;31m---------------------------------------------------------------------------\u001b[0m",
      "\u001b[1;31mTypeError\u001b[0m                                 Traceback (most recent call last)",
      "Cell \u001b[1;32mIn[7], line 1\u001b[0m\n\u001b[1;32m----> 1\u001b[0m \u001b[43mx\u001b[49m\u001b[38;5;241;43m.\u001b[39;49m\u001b[43mfun\u001b[49m\u001b[43m(\u001b[49m\u001b[43m)\u001b[49m\n",
      "\u001b[1;31mTypeError\u001b[0m: a.fun() takes 0 positional arguments but 1 was given"
     ]
    }
   ],
   "source": [
    "x.fun()"
   ]
  },
  {
   "cell_type": "code",
   "execution_count": 8,
   "id": "6dc491f9",
   "metadata": {},
   "outputs": [
    {
     "ename": "TypeError",
     "evalue": "a.fun() takes 0 positional arguments but 2 were given",
     "output_type": "error",
     "traceback": [
      "\u001b[1;31m---------------------------------------------------------------------------\u001b[0m",
      "\u001b[1;31mTypeError\u001b[0m                                 Traceback (most recent call last)",
      "Cell \u001b[1;32mIn[8], line 1\u001b[0m\n\u001b[1;32m----> 1\u001b[0m \u001b[43mx\u001b[49m\u001b[38;5;241;43m.\u001b[39;49m\u001b[43mfun\u001b[49m\u001b[43m(\u001b[49m\u001b[38;5;124;43m\"\u001b[39;49m\u001b[38;5;124;43mHey\u001b[39;49m\u001b[38;5;124;43m\"\u001b[39;49m\u001b[43m)\u001b[49m\n",
      "\u001b[1;31mTypeError\u001b[0m: a.fun() takes 0 positional arguments but 2 were given"
     ]
    }
   ],
   "source": [
    "x.fun(\"Hey\")"
   ]
  },
  {
   "cell_type": "code",
   "execution_count": 9,
   "id": "8e4d4958",
   "metadata": {},
   "outputs": [
    {
     "data": {
      "text/plain": [
       "30"
      ]
     },
     "execution_count": 9,
     "metadata": {},
     "output_type": "execute_result"
    }
   ],
   "source": [
    "# Write a program to make a variable inside a opps and try to get the output.\n",
    "\n",
    "class var:\n",
    "    a = 30\n",
    "v = var()\n",
    "v.a"
   ]
  },
  {
   "cell_type": "code",
   "execution_count": 11,
   "id": "157f538e",
   "metadata": {},
   "outputs": [
    {
     "name": "stdout",
     "output_type": "stream",
     "text": [
      "Emp_name\n"
     ]
    }
   ],
   "source": [
    "# Write a program  and make a function inside a oops try to get the output.\n",
    "\n",
    "class emp:\n",
    "    def func(self):\n",
    "        print(\"Emp_name\")\n",
    "e = emp()\n",
    "e.func()"
   ]
  },
  {
   "cell_type": "code",
   "execution_count": 12,
   "id": "26803565",
   "metadata": {},
   "outputs": [
    {
     "name": "stdout",
     "output_type": "stream",
     "text": [
      "Snc Dfn\n"
     ]
    }
   ],
   "source": [
    "class emp:\n",
    "    def func(self):\n",
    "        fname = \"Snc\"\n",
    "        lname = \"Dfn\"\n",
    "        print(fname + \" \" +lname)\n",
    "e = emp()\n",
    "e.func()"
   ]
  },
  {
   "cell_type": "code",
   "execution_count": 13,
   "id": "2dfae8e4",
   "metadata": {},
   "outputs": [
    {
     "name": "stdout",
     "output_type": "stream",
     "text": [
      "Snc Dfn\n"
     ]
    }
   ],
   "source": [
    "e.func()"
   ]
  },
  {
   "cell_type": "code",
   "execution_count": 15,
   "id": "f3abc6c8",
   "metadata": {},
   "outputs": [
    {
     "data": {
      "text/plain": [
       "11"
      ]
     },
     "execution_count": 15,
     "metadata": {},
     "output_type": "execute_result"
    }
   ],
   "source": [
    "class sum:\n",
    "    def fun(snm,x,y): # we can use anyword instead of self\n",
    "        res = x+y\n",
    "        return res\n",
    "s = sum()\n",
    "s.fun(3,8)"
   ]
  },
  {
   "cell_type": "code",
   "execution_count": 20,
   "id": "50fbd054",
   "metadata": {},
   "outputs": [
    {
     "data": {
      "text/plain": [
       "14"
      ]
     },
     "execution_count": 20,
     "metadata": {},
     "output_type": "execute_result"
    }
   ],
   "source": [
    "# Write a program to make a variable & a function inside oops and try to get the output.\n",
    "class sum:\n",
    "    a = 5\n",
    "    b = 9\n",
    "    def fun(self,a,b):\n",
    "        return a+b\n",
    "s = sum()\n",
    "s.fun(6,8)"
   ]
  },
  {
   "cell_type": "code",
   "execution_count": 18,
   "id": "63b59ed0",
   "metadata": {},
   "outputs": [
    {
     "data": {
      "text/plain": [
       "5"
      ]
     },
     "execution_count": 18,
     "metadata": {},
     "output_type": "execute_result"
    }
   ],
   "source": [
    "s.a"
   ]
  },
  {
   "cell_type": "code",
   "execution_count": 21,
   "id": "7fbff48c",
   "metadata": {},
   "outputs": [
    {
     "data": {
      "text/plain": [
       "9"
      ]
     },
     "execution_count": 21,
     "metadata": {},
     "output_type": "execute_result"
    }
   ],
   "source": [
    "s.b"
   ]
  },
  {
   "cell_type": "code",
   "execution_count": 22,
   "id": "3c0bb460",
   "metadata": {},
   "outputs": [
    {
     "data": {
      "text/plain": [
       "'Somm'"
      ]
     },
     "execution_count": 22,
     "metadata": {},
     "output_type": "execute_result"
    }
   ],
   "source": [
    "# Function-------------------->Optimized\n",
    "# Constructor --------------> to escape from function\n",
    "# Like function but-----------> no need to call the constructor.\n",
    "\n",
    "class emp:\n",
    "    def __init__(self,name,salary):   # __init__ is a constructor it means initializer\n",
    "        self.name = name\n",
    "        self.salary = salary\n",
    "e = emp('Somm',56000)\n",
    "e.name"
   ]
  },
  {
   "cell_type": "code",
   "execution_count": 23,
   "id": "259a5e6f",
   "metadata": {},
   "outputs": [
    {
     "data": {
      "text/plain": [
       "56000"
      ]
     },
     "execution_count": 23,
     "metadata": {},
     "output_type": "execute_result"
    }
   ],
   "source": [
    "e.salary"
   ]
  },
  {
   "cell_type": "code",
   "execution_count": 24,
   "id": "668eddbc",
   "metadata": {},
   "outputs": [
    {
     "data": {
      "text/plain": [
       "'A'"
      ]
     },
     "execution_count": 24,
     "metadata": {},
     "output_type": "execute_result"
    }
   ],
   "source": [
    "emp(\"A\",48457).name"
   ]
  },
  {
   "cell_type": "markdown",
   "id": "ba6a195d",
   "metadata": {},
   "source": [
    "# Pillar Of OOPS:-"
   ]
  },
  {
   "cell_type": "code",
   "execution_count": null,
   "id": "ccd0b3c0",
   "metadata": {},
   "outputs": [],
   "source": [
    "# 1:- Inheritance\n",
    "# 2:- Encapsulation\n",
    "# 3:- Polymorphism\n",
    "# 4:- Abstraction"
   ]
  },
  {
   "cell_type": "markdown",
   "id": "ef2ce369",
   "metadata": {},
   "source": [
    "# Inheritance:-\n",
    "#1:-Inheritance allows us to define a class that inherits all the methods and properties from another class. \n",
    "#2:-Parent class is the class being inherited from, also called base class. \n",
    "#3:-Child class is the class that inherits from another class, also called derived class."
   ]
  },
  {
   "cell_type": "code",
   "execution_count": 25,
   "id": "22fad97f",
   "metadata": {},
   "outputs": [
    {
     "data": {
      "text/plain": [
       "'A'"
      ]
     },
     "execution_count": 25,
     "metadata": {},
     "output_type": "execute_result"
    }
   ],
   "source": [
    "class parent:\n",
    "    def __init__(self, name,age):\n",
    "        self.name = name\n",
    "        self.age = age\n",
    "        \n",
    "        \n",
    "class child(parent):\n",
    "    def __init__(self,name,age,address):\n",
    "        parent.__init__(self,name,age)\n",
    "        self.address = address\n",
    "        \n",
    "c = child(\"A\",34,\"Delhi\")\n",
    "c.name"
   ]
  },
  {
   "cell_type": "code",
   "execution_count": 26,
   "id": "60ba02e3",
   "metadata": {},
   "outputs": [
    {
     "data": {
      "text/plain": [
       "34"
      ]
     },
     "execution_count": 26,
     "metadata": {},
     "output_type": "execute_result"
    }
   ],
   "source": [
    "c.age"
   ]
  },
  {
   "cell_type": "code",
   "execution_count": 27,
   "id": "a6b8768e",
   "metadata": {},
   "outputs": [
    {
     "data": {
      "text/plain": [
       "'Delhi'"
      ]
     },
     "execution_count": 27,
     "metadata": {},
     "output_type": "execute_result"
    }
   ],
   "source": [
    "c.address"
   ]
  },
  {
   "cell_type": "code",
   "execution_count": 28,
   "id": "53b10cbe",
   "metadata": {},
   "outputs": [
    {
     "name": "stdout",
     "output_type": "stream",
     "text": [
      "A 34 Delhi\n"
     ]
    }
   ],
   "source": [
    "print(c.name,c.age,c.address)"
   ]
  },
  {
   "cell_type": "code",
   "execution_count": 29,
   "id": "8b503c86",
   "metadata": {},
   "outputs": [
    {
     "data": {
      "text/plain": [
       "('A', 34, 'Delhi')"
      ]
     },
     "execution_count": 29,
     "metadata": {},
     "output_type": "execute_result"
    }
   ],
   "source": [
    "c.name,c.age,c.address"
   ]
  },
  {
   "cell_type": "code",
   "execution_count": 30,
   "id": "0442545f",
   "metadata": {},
   "outputs": [
    {
     "data": {
      "text/plain": [
       "'A'"
      ]
     },
     "execution_count": 30,
     "metadata": {},
     "output_type": "execute_result"
    }
   ],
   "source": [
    "# super_method--------------------->\n",
    "class parent:\n",
    "    def __init__(self, name,age):\n",
    "        self.name = name\n",
    "        self.age = age\n",
    "        \n",
    "        \n",
    "class child(parent):\n",
    "    def __init__(self,name,age,address):\n",
    "        super().__init__(name,age)\n",
    "        self.address = address\n",
    "        \n",
    "c = child(\"A\",34,\"Delhi\")\n",
    "c.name"
   ]
  },
  {
   "cell_type": "code",
   "execution_count": 31,
   "id": "a0378ce6",
   "metadata": {},
   "outputs": [
    {
     "data": {
      "text/plain": [
       "34"
      ]
     },
     "execution_count": 31,
     "metadata": {},
     "output_type": "execute_result"
    }
   ],
   "source": [
    "c.age"
   ]
  },
  {
   "cell_type": "code",
   "execution_count": 32,
   "id": "8a91e1f3",
   "metadata": {},
   "outputs": [
    {
     "data": {
      "text/plain": [
       "'Delhi'"
      ]
     },
     "execution_count": 32,
     "metadata": {},
     "output_type": "execute_result"
    }
   ],
   "source": [
    "c.address"
   ]
  },
  {
   "cell_type": "code",
   "execution_count": 34,
   "id": "a78ee89d",
   "metadata": {},
   "outputs": [
    {
     "data": {
      "text/plain": [
       "'S'"
      ]
     },
     "execution_count": 34,
     "metadata": {},
     "output_type": "execute_result"
    }
   ],
   "source": [
    "class parent:\n",
    "    def __init__(self,name,age):\n",
    "        self.name = name\n",
    "        self.age = age\n",
    "        \n",
    "class child(parent):\n",
    "    def __init__(self,name,age,salary):\n",
    "        super().__init__(name,age)\n",
    "        self.salary = salary\n",
    "c = child(\"S\",24,90000)\n",
    "c.name"
   ]
  },
  {
   "cell_type": "code",
   "execution_count": 35,
   "id": "5a29c661",
   "metadata": {},
   "outputs": [
    {
     "data": {
      "text/plain": [
       "24"
      ]
     },
     "execution_count": 35,
     "metadata": {},
     "output_type": "execute_result"
    }
   ],
   "source": [
    "c.age"
   ]
  },
  {
   "cell_type": "code",
   "execution_count": 36,
   "id": "0b7d1060",
   "metadata": {},
   "outputs": [
    {
     "data": {
      "text/plain": [
       "90000"
      ]
     },
     "execution_count": 36,
     "metadata": {},
     "output_type": "execute_result"
    }
   ],
   "source": [
    "c.salary"
   ]
  },
  {
   "cell_type": "code",
   "execution_count": 55,
   "id": "ac890d07",
   "metadata": {},
   "outputs": [
    {
     "data": {
      "text/plain": [
       "'TATA'"
      ]
     },
     "execution_count": 55,
     "metadata": {},
     "output_type": "execute_result"
    }
   ],
   "source": [
    "# Write a program to inherit a class car from automobile and try to find the output of the car class attribute.\n",
    "\n",
    "class automobile:\n",
    "    def __init__(self,brand):\n",
    "        self.brand = brand\n",
    "        \n",
    "class car(automobile):\n",
    "    def __init__(self,brand, model,color,price):\n",
    "        super().__init__(brand)\n",
    "        self.model = model\n",
    "        self.color = color\n",
    "        self.price = price\n",
    "        \n",
    "c = car(\"TATA\",\"Tiago\",\"Black\",4000000)\n",
    "c.brand      "
   ]
  },
  {
   "cell_type": "code",
   "execution_count": 51,
   "id": "3614be58",
   "metadata": {},
   "outputs": [
    {
     "data": {
      "text/plain": [
       "'Tiago'"
      ]
     },
     "execution_count": 51,
     "metadata": {},
     "output_type": "execute_result"
    }
   ],
   "source": [
    "c.model"
   ]
  },
  {
   "cell_type": "code",
   "execution_count": 52,
   "id": "2bd76338",
   "metadata": {},
   "outputs": [
    {
     "data": {
      "text/plain": [
       "'Black'"
      ]
     },
     "execution_count": 52,
     "metadata": {},
     "output_type": "execute_result"
    }
   ],
   "source": [
    "c.color"
   ]
  },
  {
   "cell_type": "code",
   "execution_count": 54,
   "id": "f183a9cd",
   "metadata": {},
   "outputs": [
    {
     "data": {
      "text/plain": [
       "400000"
      ]
     },
     "execution_count": 54,
     "metadata": {},
     "output_type": "execute_result"
    }
   ],
   "source": [
    "c.price"
   ]
  },
  {
   "cell_type": "code",
   "execution_count": 56,
   "id": "c4555bae",
   "metadata": {},
   "outputs": [
    {
     "data": {
      "text/plain": [
       "('TATA', 'Tiago', 'Black', 4000000)"
      ]
     },
     "execution_count": 56,
     "metadata": {},
     "output_type": "execute_result"
    }
   ],
   "source": [
    "c.brand,c.model,c.color,c.price"
   ]
  },
  {
   "cell_type": "code",
   "execution_count": 17,
   "id": "79ac11cd",
   "metadata": {},
   "outputs": [
    {
     "name": "stdout",
     "output_type": "stream",
     "text": [
      "Enter the leaves for doc as Sunday!!Sunday\n",
      "Enter the leaves!!5\n"
     ]
    },
    {
     "data": {
      "text/plain": [
       "12000.0"
      ]
     },
     "execution_count": 17,
     "metadata": {},
     "output_type": "execute_result"
    }
   ],
   "source": [
    "# wap to find the salary of the engineer and a doctor but there is a \n",
    "# simple condition for their salaries conditions are \n",
    "# if a engineer take holidays more than 12 in a year then there will be\n",
    "# a deduction of 12% of salary and if doc takes same amount of holiday\n",
    "# there is no deduction at all.\n",
    "# but a doc salary is deducted by 2% if he takes holiday on sundays\n",
    "# now the salary of engineer is 5 lpa while salary f doc is 6lpa\n",
    "# find the salary after deduction using oops concept.\n",
    "\n",
    "class doc:\n",
    "    def __init__(self,sal_d = 600000):\n",
    "        self.sal_d = sal_d\n",
    "        self.leaves_d = (input(\"Enter the leaves for doc as Sunday!!\"))\n",
    "    \n",
    "    \n",
    "class eng(doc):\n",
    "    def __init__(self,sal_e = 500000):\n",
    "        super().__init__()\n",
    "        self.sal_e = sal_e\n",
    "        self.leaves_e = int(input(\"Enter the leaves!!\"))\n",
    "        \n",
    "    def deduction(self):\n",
    "        if self.leaves_e > 12:\n",
    "            ded = (self.sal*12)/100\n",
    "            return ded\n",
    "        elif self.leaves_d == 'Sunday':\n",
    "            ded_d = (self.sal_d*2)/100\n",
    "            return ded_d\n",
    "        else:\n",
    "            return \"No deduction\"\n",
    "        \n",
    "e = eng()\n",
    "e.deduction()"
   ]
  },
  {
   "cell_type": "code",
   "execution_count": 18,
   "id": "e4c2dbbd",
   "metadata": {},
   "outputs": [
    {
     "name": "stdout",
     "output_type": "stream",
     "text": [
      "Enter the leaves for doc as Sunday!!Sunday\n",
      "Enter the leaves!!0\n"
     ]
    },
    {
     "data": {
      "text/plain": [
       "12000.0"
      ]
     },
     "execution_count": 18,
     "metadata": {},
     "output_type": "execute_result"
    }
   ],
   "source": [
    "e = eng()\n",
    "e.deduction()"
   ]
  },
  {
   "cell_type": "code",
   "execution_count": 20,
   "id": "44384ac4",
   "metadata": {},
   "outputs": [],
   "source": [
    "#wap to make a empty class.\n",
    "class emp:\n",
    "    pass\n",
    "e = emp()"
   ]
  },
  {
   "cell_type": "code",
   "execution_count": 21,
   "id": "86a9e351",
   "metadata": {},
   "outputs": [
    {
     "data": {
      "text/plain": [
       "<__main__.emp at 0x229666c77d0>"
      ]
     },
     "execution_count": 21,
     "metadata": {},
     "output_type": "execute_result"
    }
   ],
   "source": [
    "e"
   ]
  },
  {
   "cell_type": "markdown",
   "id": "5ec193aa",
   "metadata": {},
   "source": [
    "# MultiLevel Inheritance:-"
   ]
  },
  {
   "cell_type": "code",
   "execution_count": 23,
   "id": "844aa494",
   "metadata": {},
   "outputs": [
    {
     "data": {
      "text/plain": [
       "'hd'"
      ]
     },
     "execution_count": 23,
     "metadata": {},
     "output_type": "execute_result"
    }
   ],
   "source": [
    "# Multi-level inheritance with combination of n number of single level of inheritance.\n",
    "# c1->c2->c3\n",
    "\n",
    "# gp to p--------------->\n",
    "\n",
    "class gp:\n",
    "    def __init__(self,emp_name):\n",
    "        self.emp_name = emp_name\n",
    "    \n",
    "    \n",
    "class p(gp):\n",
    "    def __init__(self,emp_name,age):\n",
    "        self.age = age\n",
    "        super().__init__(emp_name)\n",
    "        \n",
    "    \n",
    "class c(p):\n",
    "    def __init__(self,sal):\n",
    "        self.sal = sal\n",
    "p = p('hd',75)\n",
    "p.emp_name"
   ]
  },
  {
   "cell_type": "code",
   "execution_count": 24,
   "id": "fc3ac2d2",
   "metadata": {},
   "outputs": [
    {
     "data": {
      "text/plain": [
       "75"
      ]
     },
     "execution_count": 24,
     "metadata": {},
     "output_type": "execute_result"
    }
   ],
   "source": [
    "p.age"
   ]
  },
  {
   "cell_type": "code",
   "execution_count": 25,
   "id": "4627541c",
   "metadata": {},
   "outputs": [
    {
     "data": {
      "text/plain": [
       "34"
      ]
     },
     "execution_count": 25,
     "metadata": {},
     "output_type": "execute_result"
    }
   ],
   "source": [
    "# parent to child-------------------->\n",
    "\n",
    "class gp:\n",
    "    def __init__(self,emp_name):\n",
    "        self.emp_name = emp_name\n",
    "    \n",
    "    \n",
    "class p(gp):\n",
    "    def __init__(self,age):\n",
    "        self.age = age\n",
    "        \n",
    "class c(p):\n",
    "    def __init__(self,age,sal):\n",
    "        self.sal = sal\n",
    "        super().__init__(age)\n",
    "        \n",
    "cc = c(34,7500)\n",
    "cc.age"
   ]
  },
  {
   "cell_type": "code",
   "execution_count": 26,
   "id": "7819db49",
   "metadata": {},
   "outputs": [
    {
     "data": {
      "text/plain": [
       "7500"
      ]
     },
     "execution_count": 26,
     "metadata": {},
     "output_type": "execute_result"
    }
   ],
   "source": [
    "cc.sal"
   ]
  },
  {
   "cell_type": "code",
   "execution_count": 27,
   "id": "bb48cfa0",
   "metadata": {},
   "outputs": [
    {
     "data": {
      "text/plain": [
       "54000"
      ]
     },
     "execution_count": 27,
     "metadata": {},
     "output_type": "execute_result"
    }
   ],
   "source": [
    "# gp to c-------------->\n",
    "class gp:\n",
    "    def __init__(self,emp_name):\n",
    "        self.emp_name = emp_name\n",
    "    \n",
    "    \n",
    "#class p(gp):\n",
    "#     def __init__(self,age):\n",
    "#        self.age = age\n",
    "        #super().__init__(emp_name)\n",
    "        \n",
    "    \n",
    "class c(gp):\n",
    "    def __init__(self,emp_name,sal):\n",
    "        self.sal = sal\n",
    "        super().__init__(emp_name)\n",
    "        \n",
    "c1 = c('hd',54000)\n",
    "c1.sal"
   ]
  },
  {
   "cell_type": "code",
   "execution_count": 28,
   "id": "5c2bf3dc",
   "metadata": {},
   "outputs": [
    {
     "data": {
      "text/plain": [
       "'hd'"
      ]
     },
     "execution_count": 28,
     "metadata": {},
     "output_type": "execute_result"
    }
   ],
   "source": [
    "c1.emp_name"
   ]
  },
  {
   "cell_type": "code",
   "execution_count": 29,
   "id": "6b56dd2b",
   "metadata": {},
   "outputs": [
    {
     "data": {
      "text/plain": [
       "54000"
      ]
     },
     "execution_count": 29,
     "metadata": {},
     "output_type": "execute_result"
    }
   ],
   "source": [
    "# gp to p to child-------------------->\n",
    "\n",
    "class gp:\n",
    "    def __init__(self,emp_name):\n",
    "        self.emp_name = emp_name\n",
    "    \n",
    "    \n",
    "class p(gp):\n",
    "    def __init__(self,emp_name,age):\n",
    "        self.age = age\n",
    "        super().__init__(emp_name)\n",
    "        \n",
    "    \n",
    "class c(p):\n",
    "    def __init__(self,emp_name,age,sal):\n",
    "        self.sal = sal\n",
    "        super().__init__(emp_name,age)\n",
    "        \n",
    "c1 = c('hd',75,54000)\n",
    "c1.sal"
   ]
  },
  {
   "cell_type": "code",
   "execution_count": 30,
   "id": "05bd88e8",
   "metadata": {},
   "outputs": [
    {
     "data": {
      "text/plain": [
       "'hd'"
      ]
     },
     "execution_count": 30,
     "metadata": {},
     "output_type": "execute_result"
    }
   ],
   "source": [
    "c1.emp_name"
   ]
  },
  {
   "cell_type": "code",
   "execution_count": 31,
   "id": "c58a01f0",
   "metadata": {},
   "outputs": [
    {
     "data": {
      "text/plain": [
       "75"
      ]
     },
     "execution_count": 31,
     "metadata": {},
     "output_type": "execute_result"
    }
   ],
   "source": [
    "c1.age"
   ]
  },
  {
   "cell_type": "markdown",
   "id": "b8035d7a",
   "metadata": {},
   "source": [
    "# Multiple Inheritance:-"
   ]
  },
  {
   "cell_type": "code",
   "execution_count": 38,
   "id": "7b3a8a26",
   "metadata": {},
   "outputs": [
    {
     "name": "stdout",
     "output_type": "stream",
     "text": [
      "Employee Name: Khush\n",
      "Salary: 10000\n",
      "Designation: Test Engineer\n"
     ]
    }
   ],
   "source": [
    "# Employees and salary in Designation\n",
    "\n",
    "class Employees(): \n",
    " \n",
    "   def Name(self): \n",
    "        print(\"Employee Name: Khush\")\n",
    "    \n",
    "class salary():\n",
    "    def Salary(self):\n",
    "        print(\"Salary: 10000\")\n",
    "class Designation(Employees, salary):\n",
    "    def desig(self):\n",
    "        print(\"Designation: Test Engineer\")\n",
    "        \n",
    "call = Designation()\n",
    "call.Name()\n",
    "call.Salary()\n",
    "call.desig()"
   ]
  },
  {
   "cell_type": "code",
   "execution_count": 40,
   "id": "b0d023cb",
   "metadata": {},
   "outputs": [
    {
     "name": "stdout",
     "output_type": "stream",
     "text": [
      "Employee Name: Khush\n",
      "Salary: 10000\n"
     ]
    }
   ],
   "source": [
    "# Employess and Designation inheritance in salary class\n",
    "\n",
    "class Employees(): \n",
    " \n",
    "   def Name(self): \n",
    "        print(\"Employee Name: Khush\")\n",
    "    \n",
    "class salary(Employees,Designation):\n",
    "    def Salary(self):\n",
    "        print(\"Salary: 10000\")\n",
    "class Designation():\n",
    "    def desig(self):\n",
    "        print(\"Designation: Test Engineer\")\n",
    "        \n",
    "call = salary()\n",
    "call.Name()\n",
    "call.Salary()\n",
    "#call.desig()"
   ]
  }
 ],
 "metadata": {
  "kernelspec": {
   "display_name": "Python 3 (ipykernel)",
   "language": "python",
   "name": "python3"
  },
  "language_info": {
   "codemirror_mode": {
    "name": "ipython",
    "version": 3
   },
   "file_extension": ".py",
   "mimetype": "text/x-python",
   "name": "python",
   "nbconvert_exporter": "python",
   "pygments_lexer": "ipython3",
   "version": "3.11.1"
  }
 },
 "nbformat": 4,
 "nbformat_minor": 5
}
