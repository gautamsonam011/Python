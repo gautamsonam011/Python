{
 "cells": [
  {
   "cell_type": "markdown",
   "id": "386b0e23",
   "metadata": {},
   "source": [
    "# OOPS:-(Object Oriented Programming Structure)"
   ]
  },
  {
   "cell_type": "code",
   "execution_count": null,
   "id": "dbb8594d",
   "metadata": {},
   "outputs": [],
   "source": [
    "# Object Oriented Programming Structure:----------->\n",
    "# Why OOPS?\n",
    "# importance ?\n",
    "# advantage?\n",
    "\n",
    "# 1:- class\n",
    "# 2:- Object\n",
    "# 3:- Inheritance:-\n",
    "            # 1:- Single Inheritance\n",
    "            # 2:- Multiple Inheritance\n",
    "            # 3:- Multilevel Inheritance\n",
    "            # 4:- Hierarchical Inheritance\n",
    "# 4:- Encapsulation\n",
    "# 5:- Polymorphism\n",
    "# 6:- Abstraction"
   ]
  },
  {
   "cell_type": "code",
   "execution_count": 1,
   "id": "903f01f3",
   "metadata": {},
   "outputs": [
    {
     "name": "stdout",
     "output_type": "stream",
     "text": [
      "10\n"
     ]
    }
   ],
   "source": [
    "#Class-------------------> with class keyword\n",
    "class student: # class\n",
    "    a = 10\n",
    "    print(a)"
   ]
  },
  {
   "cell_type": "code",
   "execution_count": 2,
   "id": "54a13a28",
   "metadata": {},
   "outputs": [
    {
     "data": {
      "text/plain": [
       "<__main__.student at 0x1ea0bb28090>"
      ]
     },
     "execution_count": 2,
     "metadata": {},
     "output_type": "execute_result"
    }
   ],
   "source": [
    "# Object --------------------->\n",
    "class student:\n",
    "    a = 10\n",
    "student()"
   ]
  },
  {
   "cell_type": "code",
   "execution_count": 3,
   "id": "7226f9e2",
   "metadata": {},
   "outputs": [
    {
     "data": {
      "text/plain": [
       "10"
      ]
     },
     "execution_count": 3,
     "metadata": {},
     "output_type": "execute_result"
    }
   ],
   "source": [
    "class student:\n",
    "    a = 10\n",
    "s = student() # object\n",
    "s.a           # call object"
   ]
  },
  {
   "cell_type": "code",
   "execution_count": 4,
   "id": "38ce5b22",
   "metadata": {},
   "outputs": [
    {
     "data": {
      "text/plain": [
       "10"
      ]
     },
     "execution_count": 4,
     "metadata": {},
     "output_type": "execute_result"
    }
   ],
   "source": [
    "student().a"
   ]
  },
  {
   "cell_type": "code",
   "execution_count": 5,
   "id": "6bf60a73",
   "metadata": {},
   "outputs": [],
   "source": [
    "class a:\n",
    "    def fun():\n",
    "        print(\"Hello World\")\n",
    "x = a()"
   ]
  },
  {
   "cell_type": "code",
   "execution_count": 6,
   "id": "b93efd86",
   "metadata": {},
   "outputs": [
    {
     "data": {
      "text/plain": [
       "<bound method a.fun of <__main__.a object at 0x000001EA0A5D8310>>"
      ]
     },
     "execution_count": 6,
     "metadata": {},
     "output_type": "execute_result"
    }
   ],
   "source": [
    "x.fun"
   ]
  },
  {
   "cell_type": "code",
   "execution_count": 7,
   "id": "94216d0b",
   "metadata": {},
   "outputs": [
    {
     "ename": "TypeError",
     "evalue": "a.fun() takes 0 positional arguments but 1 was given",
     "output_type": "error",
     "traceback": [
      "\u001b[1;31m---------------------------------------------------------------------------\u001b[0m",
      "\u001b[1;31mTypeError\u001b[0m                                 Traceback (most recent call last)",
      "Cell \u001b[1;32mIn[7], line 1\u001b[0m\n\u001b[1;32m----> 1\u001b[0m \u001b[43mx\u001b[49m\u001b[38;5;241;43m.\u001b[39;49m\u001b[43mfun\u001b[49m\u001b[43m(\u001b[49m\u001b[43m)\u001b[49m\n",
      "\u001b[1;31mTypeError\u001b[0m: a.fun() takes 0 positional arguments but 1 was given"
     ]
    }
   ],
   "source": [
    "x.fun()"
   ]
  },
  {
   "cell_type": "code",
   "execution_count": 8,
   "id": "6dc491f9",
   "metadata": {},
   "outputs": [
    {
     "ename": "TypeError",
     "evalue": "a.fun() takes 0 positional arguments but 2 were given",
     "output_type": "error",
     "traceback": [
      "\u001b[1;31m---------------------------------------------------------------------------\u001b[0m",
      "\u001b[1;31mTypeError\u001b[0m                                 Traceback (most recent call last)",
      "Cell \u001b[1;32mIn[8], line 1\u001b[0m\n\u001b[1;32m----> 1\u001b[0m \u001b[43mx\u001b[49m\u001b[38;5;241;43m.\u001b[39;49m\u001b[43mfun\u001b[49m\u001b[43m(\u001b[49m\u001b[38;5;124;43m\"\u001b[39;49m\u001b[38;5;124;43mHey\u001b[39;49m\u001b[38;5;124;43m\"\u001b[39;49m\u001b[43m)\u001b[49m\n",
      "\u001b[1;31mTypeError\u001b[0m: a.fun() takes 0 positional arguments but 2 were given"
     ]
    }
   ],
   "source": [
    "x.fun(\"Hey\")"
   ]
  },
  {
   "cell_type": "code",
   "execution_count": 9,
   "id": "8e4d4958",
   "metadata": {},
   "outputs": [
    {
     "data": {
      "text/plain": [
       "30"
      ]
     },
     "execution_count": 9,
     "metadata": {},
     "output_type": "execute_result"
    }
   ],
   "source": [
    "# Write a program to make a variable inside a opps and try to get the output.\n",
    "\n",
    "class var:\n",
    "    a = 30\n",
    "v = var()\n",
    "v.a"
   ]
  },
  {
   "cell_type": "code",
   "execution_count": 11,
   "id": "157f538e",
   "metadata": {},
   "outputs": [
    {
     "name": "stdout",
     "output_type": "stream",
     "text": [
      "Emp_name\n"
     ]
    }
   ],
   "source": [
    "# Write a program  and make a function inside a oops try to get the output.\n",
    "\n",
    "class emp:\n",
    "    def func(self):\n",
    "        print(\"Emp_name\")\n",
    "e = emp()\n",
    "e.func()"
   ]
  },
  {
   "cell_type": "code",
   "execution_count": 12,
   "id": "26803565",
   "metadata": {},
   "outputs": [
    {
     "name": "stdout",
     "output_type": "stream",
     "text": [
      "Snc Dfn\n"
     ]
    }
   ],
   "source": [
    "class emp:\n",
    "    def func(self):\n",
    "        fname = \"Snc\"\n",
    "        lname = \"Dfn\"\n",
    "        print(fname + \" \" +lname)\n",
    "e = emp()\n",
    "e.func()"
   ]
  },
  {
   "cell_type": "code",
   "execution_count": 13,
   "id": "2dfae8e4",
   "metadata": {},
   "outputs": [
    {
     "name": "stdout",
     "output_type": "stream",
     "text": [
      "Snc Dfn\n"
     ]
    }
   ],
   "source": [
    "e.func()"
   ]
  },
  {
   "cell_type": "code",
   "execution_count": 15,
   "id": "f3abc6c8",
   "metadata": {},
   "outputs": [
    {
     "data": {
      "text/plain": [
       "11"
      ]
     },
     "execution_count": 15,
     "metadata": {},
     "output_type": "execute_result"
    }
   ],
   "source": [
    "class sum:\n",
    "    def fun(snm,x,y): # we can use anyword instead of self\n",
    "        res = x+y\n",
    "        return res\n",
    "s = sum()\n",
    "s.fun(3,8)"
   ]
  },
  {
   "cell_type": "code",
   "execution_count": 20,
   "id": "50fbd054",
   "metadata": {},
   "outputs": [
    {
     "data": {
      "text/plain": [
       "14"
      ]
     },
     "execution_count": 20,
     "metadata": {},
     "output_type": "execute_result"
    }
   ],
   "source": [
    "# Write a program to make a variable & a function inside oops and try to get the output.\n",
    "class sum:\n",
    "    a = 5\n",
    "    b = 9\n",
    "    def fun(self,a,b):\n",
    "        return a+b\n",
    "s = sum()\n",
    "s.fun(6,8)"
   ]
  },
  {
   "cell_type": "code",
   "execution_count": 18,
   "id": "63b59ed0",
   "metadata": {},
   "outputs": [
    {
     "data": {
      "text/plain": [
       "5"
      ]
     },
     "execution_count": 18,
     "metadata": {},
     "output_type": "execute_result"
    }
   ],
   "source": [
    "s.a"
   ]
  },
  {
   "cell_type": "code",
   "execution_count": 21,
   "id": "7fbff48c",
   "metadata": {},
   "outputs": [
    {
     "data": {
      "text/plain": [
       "9"
      ]
     },
     "execution_count": 21,
     "metadata": {},
     "output_type": "execute_result"
    }
   ],
   "source": [
    "s.b"
   ]
  },
  {
   "cell_type": "code",
   "execution_count": 22,
   "id": "3c0bb460",
   "metadata": {},
   "outputs": [
    {
     "data": {
      "text/plain": [
       "'Somm'"
      ]
     },
     "execution_count": 22,
     "metadata": {},
     "output_type": "execute_result"
    }
   ],
   "source": [
    "# Function-------------------->Optimized\n",
    "# Constructor --------------> to escape from function\n",
    "# Like function but-----------> no need to call the constructor.\n",
    "\n",
    "class emp:\n",
    "    def __init__(self,name,salary):   # __init__ is a constructor it means initializer\n",
    "        self.name = name\n",
    "        self.salary = salary\n",
    "e = emp('Somm',56000)\n",
    "e.name"
   ]
  },
  {
   "cell_type": "code",
   "execution_count": 23,
   "id": "259a5e6f",
   "metadata": {},
   "outputs": [
    {
     "data": {
      "text/plain": [
       "56000"
      ]
     },
     "execution_count": 23,
     "metadata": {},
     "output_type": "execute_result"
    }
   ],
   "source": [
    "e.salary"
   ]
  },
  {
   "cell_type": "code",
   "execution_count": 24,
   "id": "668eddbc",
   "metadata": {},
   "outputs": [
    {
     "data": {
      "text/plain": [
       "'A'"
      ]
     },
     "execution_count": 24,
     "metadata": {},
     "output_type": "execute_result"
    }
   ],
   "source": [
    "emp(\"A\",48457).name"
   ]
  },
  {
   "cell_type": "markdown",
   "id": "ba6a195d",
   "metadata": {},
   "source": [
    "# Pillar Of OOPS:-"
   ]
  },
  {
   "cell_type": "code",
   "execution_count": null,
   "id": "ccd0b3c0",
   "metadata": {},
   "outputs": [],
   "source": [
    "# 1:- Inheritance\n",
    "# 2:- Encapsulation\n",
    "# 3:- Polymorphism\n",
    "# 4:- Abstraction"
   ]
  },
  {
   "cell_type": "markdown",
   "id": "ef2ce369",
   "metadata": {},
   "source": [
    "# Inheritance:-\n",
    "#1:-Inheritance allows us to define a class that inherits all the methods and properties from another class. \n",
    "#2:-Parent class is the class being inherited from, also called base class. \n",
    "#3:-Child class is the class that inherits from another class, also called derived class."
   ]
  },
  {
   "cell_type": "code",
   "execution_count": 25,
   "id": "22fad97f",
   "metadata": {},
   "outputs": [
    {
     "data": {
      "text/plain": [
       "'A'"
      ]
     },
     "execution_count": 25,
     "metadata": {},
     "output_type": "execute_result"
    }
   ],
   "source": [
    "class parent:\n",
    "    def __init__(self, name,age):\n",
    "        self.name = name\n",
    "        self.age = age\n",
    "        \n",
    "        \n",
    "class child(parent):\n",
    "    def __init__(self,name,age,address):\n",
    "        parent.__init__(self,name,age)\n",
    "        self.address = address\n",
    "        \n",
    "c = child(\"A\",34,\"Delhi\")\n",
    "c.name"
   ]
  },
  {
   "cell_type": "code",
   "execution_count": 26,
   "id": "60ba02e3",
   "metadata": {},
   "outputs": [
    {
     "data": {
      "text/plain": [
       "34"
      ]
     },
     "execution_count": 26,
     "metadata": {},
     "output_type": "execute_result"
    }
   ],
   "source": [
    "c.age"
   ]
  },
  {
   "cell_type": "code",
   "execution_count": 27,
   "id": "a6b8768e",
   "metadata": {},
   "outputs": [
    {
     "data": {
      "text/plain": [
       "'Delhi'"
      ]
     },
     "execution_count": 27,
     "metadata": {},
     "output_type": "execute_result"
    }
   ],
   "source": [
    "c.address"
   ]
  },
  {
   "cell_type": "code",
   "execution_count": 28,
   "id": "53b10cbe",
   "metadata": {},
   "outputs": [
    {
     "name": "stdout",
     "output_type": "stream",
     "text": [
      "A 34 Delhi\n"
     ]
    }
   ],
   "source": [
    "print(c.name,c.age,c.address)"
   ]
  },
  {
   "cell_type": "code",
   "execution_count": 29,
   "id": "8b503c86",
   "metadata": {},
   "outputs": [
    {
     "data": {
      "text/plain": [
       "('A', 34, 'Delhi')"
      ]
     },
     "execution_count": 29,
     "metadata": {},
     "output_type": "execute_result"
    }
   ],
   "source": [
    "c.name,c.age,c.address"
   ]
  },
  {
   "cell_type": "code",
   "execution_count": 30,
   "id": "0442545f",
   "metadata": {},
   "outputs": [
    {
     "data": {
      "text/plain": [
       "'A'"
      ]
     },
     "execution_count": 30,
     "metadata": {},
     "output_type": "execute_result"
    }
   ],
   "source": [
    "# super_method--------------------->\n",
    "class parent:\n",
    "    def __init__(self, name,age):\n",
    "        self.name = name\n",
    "        self.age = age\n",
    "        \n",
    "        \n",
    "class child(parent):\n",
    "    def __init__(self,name,age,address):\n",
    "        super().__init__(name,age)\n",
    "        self.address = address\n",
    "        \n",
    "c = child(\"A\",34,\"Delhi\")\n",
    "c.name"
   ]
  },
  {
   "cell_type": "code",
   "execution_count": 31,
   "id": "a0378ce6",
   "metadata": {},
   "outputs": [
    {
     "data": {
      "text/plain": [
       "34"
      ]
     },
     "execution_count": 31,
     "metadata": {},
     "output_type": "execute_result"
    }
   ],
   "source": [
    "c.age"
   ]
  },
  {
   "cell_type": "code",
   "execution_count": 32,
   "id": "8a91e1f3",
   "metadata": {},
   "outputs": [
    {
     "data": {
      "text/plain": [
       "'Delhi'"
      ]
     },
     "execution_count": 32,
     "metadata": {},
     "output_type": "execute_result"
    }
   ],
   "source": [
    "c.address"
   ]
  },
  {
   "cell_type": "code",
   "execution_count": 34,
   "id": "a78ee89d",
   "metadata": {},
   "outputs": [
    {
     "data": {
      "text/plain": [
       "'S'"
      ]
     },
     "execution_count": 34,
     "metadata": {},
     "output_type": "execute_result"
    }
   ],
   "source": [
    "class parent:\n",
    "    def __init__(self,name,age):\n",
    "        self.name = name\n",
    "        self.age = age\n",
    "        \n",
    "class child(parent):\n",
    "    def __init__(self,name,age,salary):\n",
    "        super().__init__(name,age)\n",
    "        self.salary = salary\n",
    "c = child(\"S\",24,90000)\n",
    "c.name"
   ]
  },
  {
   "cell_type": "code",
   "execution_count": 35,
   "id": "5a29c661",
   "metadata": {},
   "outputs": [
    {
     "data": {
      "text/plain": [
       "24"
      ]
     },
     "execution_count": 35,
     "metadata": {},
     "output_type": "execute_result"
    }
   ],
   "source": [
    "c.age"
   ]
  },
  {
   "cell_type": "code",
   "execution_count": 36,
   "id": "0b7d1060",
   "metadata": {},
   "outputs": [
    {
     "data": {
      "text/plain": [
       "90000"
      ]
     },
     "execution_count": 36,
     "metadata": {},
     "output_type": "execute_result"
    }
   ],
   "source": [
    "c.salary"
   ]
  },
  {
   "cell_type": "code",
   "execution_count": 55,
   "id": "ac890d07",
   "metadata": {},
   "outputs": [
    {
     "data": {
      "text/plain": [
       "'TATA'"
      ]
     },
     "execution_count": 55,
     "metadata": {},
     "output_type": "execute_result"
    }
   ],
   "source": [
    "# Write a program to inherit a class car from automobile and try to find the output of the car class attribute.\n",
    "\n",
    "class automobile:\n",
    "    def __init__(self,brand):\n",
    "        self.brand = brand\n",
    "        \n",
    "class car(automobile):\n",
    "    def __init__(self,brand, model,color,price):\n",
    "        super().__init__(brand)\n",
    "        self.model = model\n",
    "        self.color = color\n",
    "        self.price = price\n",
    "        \n",
    "c = car(\"TATA\",\"Tiago\",\"Black\",4000000)\n",
    "c.brand      "
   ]
  },
  {
   "cell_type": "code",
   "execution_count": 51,
   "id": "3614be58",
   "metadata": {},
   "outputs": [
    {
     "data": {
      "text/plain": [
       "'Tiago'"
      ]
     },
     "execution_count": 51,
     "metadata": {},
     "output_type": "execute_result"
    }
   ],
   "source": [
    "c.model"
   ]
  },
  {
   "cell_type": "code",
   "execution_count": 52,
   "id": "2bd76338",
   "metadata": {},
   "outputs": [
    {
     "data": {
      "text/plain": [
       "'Black'"
      ]
     },
     "execution_count": 52,
     "metadata": {},
     "output_type": "execute_result"
    }
   ],
   "source": [
    "c.color"
   ]
  },
  {
   "cell_type": "code",
   "execution_count": 54,
   "id": "f183a9cd",
   "metadata": {},
   "outputs": [
    {
     "data": {
      "text/plain": [
       "400000"
      ]
     },
     "execution_count": 54,
     "metadata": {},
     "output_type": "execute_result"
    }
   ],
   "source": [
    "c.price"
   ]
  },
  {
   "cell_type": "code",
   "execution_count": 56,
   "id": "c4555bae",
   "metadata": {},
   "outputs": [
    {
     "data": {
      "text/plain": [
       "('TATA', 'Tiago', 'Black', 4000000)"
      ]
     },
     "execution_count": 56,
     "metadata": {},
     "output_type": "execute_result"
    }
   ],
   "source": [
    "c.brand,c.model,c.color,c.price"
   ]
  },
  {
   "cell_type": "code",
   "execution_count": null,
   "id": "79ac11cd",
   "metadata": {},
   "outputs": [],
   "source": []
  }
 ],
 "metadata": {
  "kernelspec": {
   "display_name": "Python 3 (ipykernel)",
   "language": "python",
   "name": "python3"
  },
  "language_info": {
   "codemirror_mode": {
    "name": "ipython",
    "version": 3
   },
   "file_extension": ".py",
   "mimetype": "text/x-python",
   "name": "python",
   "nbconvert_exporter": "python",
   "pygments_lexer": "ipython3",
   "version": "3.11.1"
  }
 },
 "nbformat": 4,
 "nbformat_minor": 5
}
